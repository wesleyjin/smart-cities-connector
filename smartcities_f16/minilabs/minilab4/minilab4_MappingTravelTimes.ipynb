{
 "cells": [
  {
   "cell_type": "markdown",
   "metadata": {},
   "source": [
    "# Mini-lab 4 - Mapping TAZ travel times\n",
    "\n",
    "In this lab we will play with some data from the Metropolitan Transportation Commission on travel time from one Traffic Analysis Zone (TAZ) to another. We will use a mapping tool called folium to create a graphical representation of travel times throughout the area.\n"
   ]
  },
  {
   "cell_type": "code",
   "execution_count": null,
   "metadata": {
    "collapsed": false
   },
   "outputs": [],
   "source": [
    "from datascience import *\n",
    "import numpy as np\n",
    "\n",
    "\n",
    "# this is a bug fix! I'll explain why it's needed during the mini-lab. For now just run the code:\n",
    "def _map_copy(self):\n",
    "    my_map =  Map(features=self._features, width=self._width,\n",
    "               height=self._height, **self._attrs)\n",
    "    my_map._folium_map  =self._folium_map\n",
    "    return my_map\n",
    "\n",
    "Map.copy = _map_copy"
   ]
  },
  {
   "cell_type": "markdown",
   "metadata": {},
   "source": [
    "## The datasets\n",
    "### MTC travel skims\n",
    "The Metropolitan Transportation Commission (MTC) is the regional transportation planning organization for the Bay Area. They host a database with average travel time, cost, and distance from each traffic analysis zone (TAZ) to all other TAZs in the Bay Area. The files have data for driving alone, carpooling, walking to transit, driving to transit, walking, and biking. \n",
    "\n",
    "We have pre-processed the data from the morning commute to include only TAZs around San Francisco, Oakland and Berkeley. The files with inter-TAZ travel time, travel cost, and travel distance are saved with the following filepaths 'data/sf_oak_TimeSkims_AM.csv', 'data/sf_oak_CostSkims_AM.csv' and 'data/sf_oak_DistanceSkims_AM.csv'\n",
    "\n",
    "More info on the dataset can be found here - http://analytics.mtc.ca.gov/foswiki/Main/SimpleSkims. \n",
    "The descriptions of the columns in the data set are shown below:\n",
    "\n",
    "|column|description|\n",
    "|---|---|\n",
    "|origin|Origin transportation analysis zone|\n",
    "|destination|Destination transportation analysis zone|\n",
    "|drive alone|Door-to-door time for the drive alone travel mode (i.e. single occupant private automobile)|\n",
    "|shared ride (2 people)|Door-to-door time for the shared ride 2 travel mode (i.e. double occupant private automobile)|\n",
    "|shared ride (3 people)|Door-to-door time for the shared ride 3+ travel mode (i.e. three-or-more occupants traveling in a private vehicle)|\n",
    "|walk|Door-to-door time for walking|\n",
    "|bike|Door-to-door time for bicycling|\n",
    "|walk-transit-walk|Door-to-door time for walk to transit to walk paths|\n",
    "|drive-transit-walk|Door-to-door time for drive to transit to walk paths|\n",
    "| walk-transit-drive|Door-to-door time for walk to transit to drive paths (returning home on a park-and-ride tour)|\n",
    "\n",
    "\n",
    "(The raw data with all Bay Area TAZs can be found at https://mtcdrive.app.box.com/2015-03-116)\n",
    "\n",
    "### Bay Area TAZ geometry data\n",
    "GeoJSON is a format used for encoding a variety of geographic data structures. We have saved a GeoJSON file with the Traffic Analysis Zone (TAZ) polygons for the TAZs in the San Francisco, Oakland, and Berkeley region. We will use a mapping package called folium to map the TAZs.\n",
    "\n",
    "### Read the data\n",
    "First we read in the sf_oak_TimeSkims_AM.csv using the Table.read_table() method"
   ]
  },
  {
   "cell_type": "code",
   "execution_count": null,
   "metadata": {
    "collapsed": false
   },
   "outputs": [],
   "source": [
    "# Read the timeskims datafile\n",
    "travel_time_data = Table.read_table('sf_oak_traveltimes_bymode.csv')\n",
    "travel_time_data"
   ]
  },
  {
   "cell_type": "markdown",
   "metadata": {},
   "source": [
    "**Question:** what is the drive alone travel time from origin TAZ 10 (in downtown SF) to destination TAZ \n",
    "1019 (the TAZ at UC Berkeley) according to this dataset?\n",
    "\n",
    "Hint: use a where() statement to find the answer."
   ]
  },
  {
   "cell_type": "code",
   "execution_count": null,
   "metadata": {
    "collapsed": false
   },
   "outputs": [],
   "source": [
    "# Your code and anwer here:\n"
   ]
  },
  {
   "cell_type": "markdown",
   "metadata": {
    "collapsed": true
   },
   "source": [
    "# Part 2: Use the datascience map tool to map the TAZs\n",
    "\n",
    "As mentioned above, geojson is a standard format for encoding geographic data. 'SF_Oak_TAZs.geojson' is a geojson file that contains the TAZ geometry for TAZs in the San Francisco and Oakland area. We can use the datascience Map tool to map the polygons in the geojson file."
   ]
  },
  {
   "cell_type": "code",
   "execution_count": null,
   "metadata": {
    "collapsed": false
   },
   "outputs": [],
   "source": [
    "base_taz_map = Map.read_geojson('SF_Oak_TAZs.geojson')\n",
    "base_taz_map"
   ]
  },
  {
   "cell_type": "code",
   "execution_count": null,
   "metadata": {
    "collapsed": false
   },
   "outputs": [],
   "source": [
    "print (base_taz_map._folium_map)"
   ]
  },
  {
   "cell_type": "markdown",
   "metadata": {},
   "source": [
    "# Create a table of the map features\n",
    "The geojson contains a few hundred unique polygon features, one for each TAZ. In the cell below we can use the Map objects .map_features property to get a list of the polygon features. Then we can use the Table.from_records() method to convert this to a table.\n",
    "\n",
    "The corresponding table has 5 total columns, 3 corresponding to the properties in the geojson feature:\n",
    "\n",
    "|Column| Description|\n",
    "|---|---|\n",
    "|County_FIP|An id for the county a TAZ is contained in|\n",
    "|TAZ1454| A numeric TAZ id.'TAZ1454' refers to the fact that in total there are 1454 TAZs in the Bay Area, and they are assigned ids from 1 to 1454. Only about 300 are shown in the map above.|\n",
    "|UrbanTAZac|TODO fill this in.|\n",
    "|feature | info on the polygon itself (it is displayed as a map in the table) |\n",
    "| id | a newly assigned Table id, with values from 0 to the length of the table - 1.|\n"
   ]
  },
  {
   "cell_type": "code",
   "execution_count": null,
   "metadata": {
    "collapsed": false
   },
   "outputs": [],
   "source": [
    "taz_table = Table.from_records(base_taz_map.features)\n",
    "\n",
    "# Note - DO NOT use the Table.show() method here - it will likely make your notebook crash!\n",
    "taz_table"
   ]
  },
  {
   "cell_type": "markdown",
   "metadata": {},
   "source": [
    "# Using maps to convey information\n",
    "## Color TAZs based on TAZ id\n",
    "First, we might want to know the general location of the various TAZ ids. We can use the Map.color() method to color the map based on the value in a table. To do this we:\n",
    "\n",
    "1. Create a 2-column table, column 1 should contain the feature ids and column 2 should contain the information used to color the table.\n",
    "2. Use the map.color(values, ids=(), key_on='feature.id', palette='YlOrBr') method to color the map. The inputs to this method are:\n",
    " * values = the 2-column table feature described in #1, \n",
    " * key_on = to the name of the map property to be matched to the ids in the table, in this case 'feature.properties.TAZ1454'. \n",
    " * Optional \n",
    "    * color palette: 'BuGn', 'BuPu', 'GnBu', 'OrRd', 'PuBu', 'PuBuGn', 'PuRd', 'RdPu','YlGn', 'YlGnBu', 'YlOrBr', and 'YlOrRd'\n",
    "    * fill_opacity: 1 for totally opaque, 0 for totally transparent\n",
    "    * threshold_scale (where the color breaks are)."
   ]
  },
  {
   "cell_type": "code",
   "execution_count": null,
   "metadata": {
    "collapsed": false
   },
   "outputs": [],
   "source": [
    "# 1. Create a 2-column table with columns \"ids\" and \"values\". Since we want to color based on \n",
    "# the value of the id, in this case both the value and id column are set to the TAZ1454 values. \n",
    "\n",
    "tocolor_table = Table().with_columns(['ids', taz_table.column('TAZ1454'), \n",
    "                                      'values', taz_table.column('TAZ1454')])\n",
    "tocolor_table"
   ]
  },
  {
   "cell_type": "code",
   "execution_count": null,
   "metadata": {
    "collapsed": false
   },
   "outputs": [],
   "source": [
    "# 2. Use the map.color() function to color the maps based on the values defined in our tocolor_table.\n",
    "base_taz_map.color(values=tocolor_table,key_on='feature.properties.TAZ1454', \n",
    "                   threshold_scale=[100,200,400,1000,1200],palette='YlOrRd',fill_opacity=1.)"
   ]
  },
  {
   "cell_type": "markdown",
   "metadata": {
    "collapsed": true
   },
   "source": [
    "**Question:** From the map above, what city would you guess the TAZ with TAZ1454=27\n",
    "is located in?\n"
   ]
  },
  {
   "cell_type": "code",
   "execution_count": null,
   "metadata": {
    "collapsed": true
   },
   "outputs": [],
   "source": [
    "# Your answer here:"
   ]
  },
  {
   "cell_type": "markdown",
   "metadata": {},
   "source": [
    "# Conveying more interesting information\n",
    "\n",
    "## Color the map based on the 'bike' travel time from one origin TAZ to all other TAZs.\n",
    "In the next few cells we will create a **very cool** data visualization tool to visualize the travel time from an origin TAZ to all destination TAZs.\n",
    "\n",
    "1. Use a where statement to get only the rows of the travel_time_data where the origin == origin_taz_id. Save the result as a new table called tt_from_origin\n",
    "2. Use the Table.select() method to select only the destination column and the column that contains the travel time by 'bike' from the tt_from_origin table. Save this result as tt_from_origin.\n",
    "3. Use taz_map.color() to map the results"
   ]
  },
  {
   "cell_type": "code",
   "execution_count": null,
   "metadata": {
    "collapsed": false
   },
   "outputs": [],
   "source": [
    "origin_taz_id = 10\n",
    "mode = 'bike'\n",
    "\n",
    "threshold_scale = [0,5,10,15,20,25] #sets where the color transitions are\n",
    "\n",
    "# Your task: 1. Use a where statement to get only the rows of the travel_time_data where the \n",
    "# origin == origin_taz_id. Save the result as a new table called tt_from_origin\n",
    "tt_from_orig = #FILL THIS IN\n",
    "\n",
    "\n"
   ]
  },
  {
   "cell_type": "code",
   "execution_count": null,
   "metadata": {
    "collapsed": false
   },
   "outputs": [],
   "source": [
    "# Your task: 2. Use the Table.select() method to select only the destination column \n",
    "# and the column that contains the travel time by 'bike' from the tt_from_origin\n",
    "# table. Save this result as tt_from_origin_mode.\n",
    "tt_from_orig_mode = #FILL THIS IN"
   ]
  },
  {
   "cell_type": "markdown",
   "metadata": {},
   "source": [
    "The results should look something like:\n",
    "\n",
    "|destination|bike|\n",
    "|---|---|\n",
    "|1|7.85|\n",
    "|2|7.55|\n",
    "|3|7.2|\n",
    "|4|\t6.6|\n",
    "|5|\t5.7|\n",
    "|6|\t5.7|\n",
    "|7|\t4.9|\n",
    "|8|\t3.9|\n",
    "|9|\t2.45|\n",
    "|10|1.05|\n",
    "\n",
    "Run the following to see the result:"
   ]
  },
  {
   "cell_type": "code",
   "execution_count": null,
   "metadata": {
    "collapsed": false
   },
   "outputs": [],
   "source": [
    "taz_map = base_taz_map.color(tt_from_orig_mode, key_on='feature.properties.TAZ1454', palette='YlOrRd',\n",
    "                             threshold_scale=threshold_scale, fill_opacity=.8)\n",
    "taz_map"
   ]
  },
  {
   "cell_type": "markdown",
   "metadata": {},
   "source": [
    "# Use the overlay method to color the origin TAZ blue"
   ]
  },
  {
   "cell_type": "markdown",
   "metadata": {},
   "source": [
    "### Example of how Map.overlay() works:"
   ]
  },
  {
   "cell_type": "code",
   "execution_count": null,
   "metadata": {
    "collapsed": false,
    "scrolled": false
   },
   "outputs": [],
   "source": [
    "# finds the taz with TAZ1454 id = origin_taz_id by using the .where() method on the taz_table\n",
    "features = taz_table.where(taz_table['TAZ1454']==origin_taz_id)['feature']\n",
    "\n",
    "# Use the overlay method to color the feature blue\n",
    "taz_map.overlay(features, 'Blue', .9)"
   ]
  },
  {
   "cell_type": "markdown",
   "metadata": {},
   "source": [
    "# Color unreachable TAZs grey\n",
    "For the datasets provided, MTC follows a convention of setting travel time = '-999' in the data table if they have determined that a mode is not feasible to get from an origin TAZ to a destination TAZ. For example, a bike trip from San Francisco to Oakland is not possible because bikes are not allowed accross the Bay Bridge. Similarly some walk distances are determined to be too far to make a trip on foot.\n",
    "Color all TAZs with a travel time of -999 grey. Hint - use a procedure similar to the procedure used to color the origin blue."
   ]
  },
  {
   "cell_type": "code",
   "execution_count": null,
   "metadata": {
    "collapsed": true
   },
   "outputs": [],
   "source": [
    "# Tazs that are unreachable by a certain mode have a travel time of -999\n",
    "# Your task: use the Table.where() method on the tt_from_orig_mode table \n",
    "# to get rows where travel time =-999. \n",
    "\n",
    "unreachable_tazs = #FILL THIS IN\n"
   ]
  },
  {
   "cell_type": "code",
   "execution_count": null,
   "metadata": {
    "collapsed": false
   },
   "outputs": [],
   "source": [
    "# Run the following to get a list taz_ids of all the unreachable tazs:\n",
    "unreachable_taz_ids = unreachable_tazs['destination']\n",
    "\n",
    "# Now we need to select only the features from the taz_table that have TAZ1454 in the\n",
    "# unreachable list. Use the .where function to select these features. You may want to \n",
    "# use the np.in1d() method that returns True if an element is in a list. Once we have a \n",
    "# list of features, use the Map.overlay method to add them to our taz_map\n",
    "\n",
    "# np.in1d example:\n",
    "# np.in1d([3,5,2], [1,2,3])\n",
    "\n",
    "\n",
    "features = taz_table.where(# FILL THIS IN)\n"
   ]
  },
  {
   "cell_type": "code",
   "execution_count": null,
   "metadata": {
    "collapsed": false
   },
   "outputs": [],
   "source": [
    "taz_map.overlay(features, 'Grey', .8)"
   ]
  },
  {
   "cell_type": "markdown",
   "metadata": {},
   "source": [
    "# Put it all in one method\n",
    "\n",
    "Create a function that produces a travel time map. You have all of the components above, just fill them in to the function below."
   ]
  },
  {
   "cell_type": "code",
   "execution_count": null,
   "metadata": {
    "collapsed": true
   },
   "outputs": [],
   "source": [
    "def create_tt_map(data, base_taz_map, origin_taz_id=1, mode='drive alone', color_palette='YlOrRd', \n",
    "                  threshold_scale=[5,10,15,20,25]):\n",
    "\n",
    "    #1. create the map:\n",
    "    tt_from_orig = # FILL THIS IN\n",
    "    tt_from_orig_mode = # FILL THIS IN\n",
    "\n",
    "    taz_map = base_taz_map.color(tt_from_orig_mode, key_on='feature.properties.TAZ1454', palette=color_palette,\n",
    "                            threshold_scale=threshold_scale, fill_opacity=0.8)\n",
    "    \n",
    "    #2. create the taz_table from the map\n",
    "    taz_table = Table.from_records(taz_map.features)\n",
    "    \n",
    "    \n",
    "    #3. color the unreachable tazs grey:\n",
    "    unreachable_tazs = #FILL THIS IN\n",
    "    features = #FILL THIS IN\n",
    "    taz_map.overlay(#fill this in)\n",
    "    \n",
    "    #4. color the origin blue\n",
    "    features = #FILL THIS IN\n",
    "    taz_map.overlay(#fill this in)\n",
    "    \n",
    "    return taz_map"
   ]
  },
  {
   "cell_type": "markdown",
   "metadata": {},
   "source": [
    "# Test your method\n",
    "By running the following code. "
   ]
  },
  {
   "cell_type": "code",
   "execution_count": null,
   "metadata": {
    "collapsed": false
   },
   "outputs": [],
   "source": [
    "create_tt_map(travel_time_data, taz_map, origin_taz_id = 917, mode='bike')"
   ]
  },
  {
   "cell_type": "markdown",
   "metadata": {},
   "source": [
    "# Explore travel times for other modes of transportation:\n",
    "Use the method you created to plot the walk-transit-walk travel times from TAZ 5. Try a different color palette and modify the threshold_scale so the color transitions occur at appropriate levels."
   ]
  },
  {
   "cell_type": "code",
   "execution_count": null,
   "metadata": {
    "collapsed": false
   },
   "outputs": [],
   "source": []
  },
  {
   "cell_type": "markdown",
   "metadata": {},
   "source": [
    "# The relationship between spatial proximity and travel time\n",
    "For each of the following modes: drive, walk to transit, drive to transit, bike, and walk, do you think a straightline distance from one TAZ to another is a good indicator of travel time? Explain why or why not.\n",
    "\n"
   ]
  },
  {
   "cell_type": "code",
   "execution_count": null,
   "metadata": {
    "collapsed": true
   },
   "outputs": [],
   "source": [
    "# Your answer here:\n",
    "\n"
   ]
  },
  {
   "cell_type": "markdown",
   "metadata": {},
   "source": [
    "# Bonus - adding Circle marker labels to the map\n",
    "The following code returns a list of lats, and a list of lons for the centroid of each taz and a list of TAZ labels. Create a Circle marker table as we did in minilab 3. Overlay the circle marker on our TAZ map. "
   ]
  },
  {
   "cell_type": "code",
   "execution_count": null,
   "metadata": {
    "collapsed": false
   },
   "outputs": [],
   "source": [
    "from shapely import geometry\n",
    "import json\n",
    "\n",
    "features = taz_table['feature']\n",
    "lats, lons, labels = [], [], []\n",
    "for i in range(len(taz_table.column('id'))):\n",
    "    ct = geometry.shape(features[i].geojson(0)['geometry']).centroid\n",
    "    lats.append(ct.xy[1][0])\n",
    "    lons.append(ct.xy[0][0])\n",
    "    labels.append('TAZ '+str(taz_table['TAZ1454'][i]))\n",
    "\n",
    "# Your task - create a circle marker table (with columns latitude, longitude, popup, 'color' and 'radius')\n",
    "# as we did in minilab 3\n"
   ]
  },
  {
   "cell_type": "code",
   "execution_count": null,
   "metadata": {
    "collapsed": false
   },
   "outputs": [],
   "source": [
    "# Your task: use the overlay method to add these markers to our TAZ map\n"
   ]
  }
 ],
 "metadata": {
  "kernelspec": {
   "display_name": "Python 3",
   "language": "python",
   "name": "python3"
  },
  "language_info": {
   "codemirror_mode": {
    "name": "ipython",
    "version": 3
   },
   "file_extension": ".py",
   "mimetype": "text/x-python",
   "name": "python",
   "nbconvert_exporter": "python",
   "pygments_lexer": "ipython3",
   "version": "3.5.2"
  }
 },
 "nbformat": 4,
 "nbformat_minor": 0
}
