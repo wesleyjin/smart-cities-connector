{
 "cells": [
  {
   "cell_type": "markdown",
   "metadata": {},
   "source": [
    "# Mini-lab 2  - Looking at Census Data\n",
    "\n",
    "In the following lab we will take a look at some census data. A [census](https://en.wikipedia.org/wiki/Census) is the procedure of systematically acquiring and recording information about the members of a given population. The U.S. is required to take census data every 10 years. Information on the race, ethnicity, age, household size, family size etc. are recorded per [census tract](https://en.wikipedia.org/wiki/Census_tract).\n",
    "\n",
    "In this lab we will look at the distribution of population age for a few Berkeley census tracts."
   ]
  },
  {
   "cell_type": "markdown",
   "metadata": {},
   "source": [
    "### First some imports\n",
    "Click in the box below and press 'Shift'+'Enter' to run the code."
   ]
  },
  {
   "cell_type": "code",
   "execution_count": 1,
   "metadata": {
    "collapsed": false
   },
   "outputs": [],
   "source": [
    "from datascience import *\n",
    "import numpy as np\n",
    "%matplotlib inline"
   ]
  },
  {
   "cell_type": "markdown",
   "metadata": {},
   "source": [
    "### Next, reading the data\n",
    "\n",
    "Sites like http://census.ire.org/ provide a nice interface to allow you to download census data. But we have downloaded the relevant data and cleaned it for you. Read in the csv below to see what the data looks like."
   ]
  },
  {
   "cell_type": "code",
   "execution_count": 2,
   "metadata": {
    "collapsed": false
   },
   "outputs": [
    {
     "data": {
      "text/html": [
       "<table border=\"1\" class=\"dataframe\">\n",
       "    <thead>\n",
       "        <tr>\n",
       "            <th>STATE</th> <th>COUNTY</th> <th>NAME</th> <th>Total Population</th> <th>Male</th> <th>Female</th> <th>Under 5 years</th> <th>5 to 9 years</th> <th>10 to 14 years</th> <th>15 to 19 years</th> <th>20 to 24 years</th> <th>25 to 29 years</th> <th>30 to 34 years</th> <th>35 to 39 years</th> <th>40 to 44 years</th> <th>45 to 49 years</th> <th>50 to 54 years</th> <th>55 to 59 years</th> <th>60 to 64 years</th> <th>65 to 69 years</th> <th>70 to 74 years</th> <th>75 to 79 years</th> <th>80 to 84 years</th> <th>85 years and over</th> <th>ALAND10</th> <th>AWATER10</th> <th>INTPTLAT10</th> <th>INTPTLON10</th>\n",
       "        </tr>\n",
       "    </thead>\n",
       "    <tbody>\n",
       "        <tr>\n",
       "            <td>6    </td> <td>1     </td> <td>Census Tract 4001</td> <td>2937            </td> <td>1461</td> <td>1476  </td> <td>150          </td> <td>122         </td> <td>91            </td> <td>88            </td> <td>85            </td> <td>129           </td> <td>126           </td> <td>163           </td> <td>210           </td> <td>206           </td> <td>281           </td> <td>310           </td> <td>342           </td> <td>238           </td> <td>147           </td> <td>110           </td> <td>75            </td> <td>64               </td> <td>6882245</td> <td>0       </td> <td>37.8676   </td> <td>-122.232  </td>\n",
       "        </tr>\n",
       "    </tbody>\n",
       "        <tr>\n",
       "            <td>6    </td> <td>1     </td> <td>Census Tract 4002</td> <td>1974            </td> <td>971 </td> <td>1003  </td> <td>138          </td> <td>98          </td> <td>64            </td> <td>46            </td> <td>72            </td> <td>184           </td> <td>181           </td> <td>183           </td> <td>174           </td> <td>105           </td> <td>113           </td> <td>128           </td> <td>165           </td> <td>140           </td> <td>84            </td> <td>44            </td> <td>25            </td> <td>30               </td> <td>595106 </td> <td>0       </td> <td>37.8482   </td> <td>-122.25   </td>\n",
       "        </tr>\n",
       "    </tbody>\n",
       "        <tr>\n",
       "            <td>6    </td> <td>1     </td> <td>Census Tract 4003</td> <td>4865            </td> <td>2228</td> <td>2637  </td> <td>320          </td> <td>219         </td> <td>143           </td> <td>174           </td> <td>211           </td> <td>495           </td> <td>526           </td> <td>518           </td> <td>475           </td> <td>339           </td> <td>356           </td> <td>314           </td> <td>282           </td> <td>198           </td> <td>90            </td> <td>78            </td> <td>53            </td> <td>74               </td> <td>1105328</td> <td>0       </td> <td>37.8406   </td> <td>-122.254  </td>\n",
       "        </tr>\n",
       "    </tbody>\n",
       "        <tr>\n",
       "            <td>6    </td> <td>1     </td> <td>Census Tract 4004</td> <td>3703            </td> <td>1711</td> <td>1992  </td> <td>255          </td> <td>168         </td> <td>94            </td> <td>85            </td> <td>234           </td> <td>486           </td> <td>446           </td> <td>398           </td> <td>332           </td> <td>223           </td> <td>213           </td> <td>210           </td> <td>206           </td> <td>132           </td> <td>78            </td> <td>55            </td> <td>42            </td> <td>46               </td> <td>703688 </td> <td>0       </td> <td>37.8482   </td> <td>-122.257  </td>\n",
       "        </tr>\n",
       "    </tbody>\n",
       "        <tr>\n",
       "            <td>6    </td> <td>1     </td> <td>Census Tract 4005</td> <td>3517            </td> <td>1677</td> <td>1840  </td> <td>184          </td> <td>133         </td> <td>86            </td> <td>92            </td> <td>313           </td> <td>495           </td> <td>468           </td> <td>353           </td> <td>261           </td> <td>253           </td> <td>187           </td> <td>179           </td> <td>199           </td> <td>109           </td> <td>67            </td> <td>32            </td> <td>49            </td> <td>57               </td> <td>588111 </td> <td>0       </td> <td>37.8485   </td> <td>-122.265  </td>\n",
       "        </tr>\n",
       "    </tbody>\n",
       "        <tr>\n",
       "            <td>6    </td> <td>1     </td> <td>Census Tract 4006</td> <td>1571            </td> <td>723 </td> <td>848   </td> <td>64           </td> <td>60          </td> <td>59            </td> <td>66            </td> <td>156           </td> <td>199           </td> <td>200           </td> <td>145           </td> <td>107           </td> <td>107           </td> <td>113           </td> <td>96            </td> <td>55            </td> <td>51            </td> <td>20            </td> <td>25            </td> <td>21            </td> <td>27               </td> <td>297855 </td> <td>0       </td> <td>37.842    </td> <td>-122.265  </td>\n",
       "        </tr>\n",
       "    </tbody>\n",
       "        <tr>\n",
       "            <td>6    </td> <td>1     </td> <td>Census Tract 4007</td> <td>4206            </td> <td>1997</td> <td>2209  </td> <td>203          </td> <td>184         </td> <td>152           </td> <td>160           </td> <td>359           </td> <td>448           </td> <td>407           </td> <td>371           </td> <td>328           </td> <td>315           </td> <td>288           </td> <td>249           </td> <td>233           </td> <td>163           </td> <td>88            </td> <td>79            </td> <td>83            </td> <td>96               </td> <td>880513 </td> <td>0       </td> <td>37.8418   </td> <td>-122.272  </td>\n",
       "        </tr>\n",
       "    </tbody>\n",
       "        <tr>\n",
       "            <td>6    </td> <td>1     </td> <td>Census Tract 4008</td> <td>3594            </td> <td>1745</td> <td>1849  </td> <td>193          </td> <td>145         </td> <td>139           </td> <td>179           </td> <td>269           </td> <td>389           </td> <td>421           </td> <td>305           </td> <td>259           </td> <td>225           </td> <td>240           </td> <td>200           </td> <td>188           </td> <td>146           </td> <td>92            </td> <td>73            </td> <td>59            </td> <td>72               </td> <td>695230 </td> <td>0       </td> <td>37.8454   </td> <td>-122.283  </td>\n",
       "        </tr>\n",
       "    </tbody>\n",
       "        <tr>\n",
       "            <td>6    </td> <td>1     </td> <td>Census Tract 4009</td> <td>2302            </td> <td>1127</td> <td>1175  </td> <td>134          </td> <td>116         </td> <td>105           </td> <td>122           </td> <td>191           </td> <td>221           </td> <td>214           </td> <td>188           </td> <td>198           </td> <td>171           </td> <td>173           </td> <td>130           </td> <td>120           </td> <td>64            </td> <td>52            </td> <td>35            </td> <td>30            </td> <td>38               </td> <td>425163 </td> <td>0       </td> <td>37.8395   </td> <td>-122.28   </td>\n",
       "        </tr>\n",
       "    </tbody>\n",
       "        <tr>\n",
       "            <td>6    </td> <td>1     </td> <td>Census Tract 4010</td> <td>5678            </td> <td>2671</td> <td>3007  </td> <td>326          </td> <td>311         </td> <td>328           </td> <td>341           </td> <td>476           </td> <td>580           </td> <td>557           </td> <td>529           </td> <td>381           </td> <td>392           </td> <td>389           </td> <td>344           </td> <td>268           </td> <td>142           </td> <td>86            </td> <td>61            </td> <td>87            </td> <td>80               </td> <td>1154123</td> <td>0       </td> <td>37.8312   </td> <td>-122.272  </td>\n",
       "        </tr>\n",
       "    </tbody>\n",
       "</table>\n",
       "<p>... (1371 rows omitted)</p"
      ],
      "text/plain": [
       "STATE | COUNTY | NAME              | Total Population | Male | Female | Under 5 years | 5 to 9 years | 10 to 14 years | 15 to 19 years | 20 to 24 years | 25 to 29 years | 30 to 34 years | 35 to 39 years | 40 to 44 years | 45 to 49 years | 50 to 54 years | 55 to 59 years | 60 to 64 years | 65 to 69 years | 70 to 74 years | 75 to 79 years | 80 to 84 years | 85 years and over | ALAND10 | AWATER10 | INTPTLAT10 | INTPTLON10\n",
       "6     | 1      | Census Tract 4001 | 2937             | 1461 | 1476   | 150           | 122          | 91             | 88             | 85             | 129            | 126            | 163            | 210            | 206            | 281            | 310            | 342            | 238            | 147            | 110            | 75             | 64                | 6882245 | 0        | 37.8676    | -122.232\n",
       "6     | 1      | Census Tract 4002 | 1974             | 971  | 1003   | 138           | 98           | 64             | 46             | 72             | 184            | 181            | 183            | 174            | 105            | 113            | 128            | 165            | 140            | 84             | 44             | 25             | 30                | 595106  | 0        | 37.8482    | -122.25\n",
       "6     | 1      | Census Tract 4003 | 4865             | 2228 | 2637   | 320           | 219          | 143            | 174            | 211            | 495            | 526            | 518            | 475            | 339            | 356            | 314            | 282            | 198            | 90             | 78             | 53             | 74                | 1105328 | 0        | 37.8406    | -122.254\n",
       "6     | 1      | Census Tract 4004 | 3703             | 1711 | 1992   | 255           | 168          | 94             | 85             | 234            | 486            | 446            | 398            | 332            | 223            | 213            | 210            | 206            | 132            | 78             | 55             | 42             | 46                | 703688  | 0        | 37.8482    | -122.257\n",
       "6     | 1      | Census Tract 4005 | 3517             | 1677 | 1840   | 184           | 133          | 86             | 92             | 313            | 495            | 468            | 353            | 261            | 253            | 187            | 179            | 199            | 109            | 67             | 32             | 49             | 57                | 588111  | 0        | 37.8485    | -122.265\n",
       "6     | 1      | Census Tract 4006 | 1571             | 723  | 848    | 64            | 60           | 59             | 66             | 156            | 199            | 200            | 145            | 107            | 107            | 113            | 96             | 55             | 51             | 20             | 25             | 21             | 27                | 297855  | 0        | 37.842     | -122.265\n",
       "6     | 1      | Census Tract 4007 | 4206             | 1997 | 2209   | 203           | 184          | 152            | 160            | 359            | 448            | 407            | 371            | 328            | 315            | 288            | 249            | 233            | 163            | 88             | 79             | 83             | 96                | 880513  | 0        | 37.8418    | -122.272\n",
       "6     | 1      | Census Tract 4008 | 3594             | 1745 | 1849   | 193           | 145          | 139            | 179            | 269            | 389            | 421            | 305            | 259            | 225            | 240            | 200            | 188            | 146            | 92             | 73             | 59             | 72                | 695230  | 0        | 37.8454    | -122.283\n",
       "6     | 1      | Census Tract 4009 | 2302             | 1127 | 1175   | 134           | 116          | 105            | 122            | 191            | 221            | 214            | 188            | 198            | 171            | 173            | 130            | 120            | 64             | 52             | 35             | 30             | 38                | 425163  | 0        | 37.8395    | -122.28\n",
       "6     | 1      | Census Tract 4010 | 5678             | 2671 | 3007   | 326           | 311          | 328            | 341            | 476            | 580            | 557            | 529            | 381            | 392            | 389            | 344            | 268            | 142            | 86             | 61             | 87             | 80                | 1154123 | 0        | 37.8312    | -122.272\n",
       "... (1371 rows omitted)"
      ]
     },
     "execution_count": 2,
     "metadata": {},
     "output_type": "execute_result"
    }
   ],
   "source": [
    "data = Table.read_table('bay_area_census_age.csv')\n",
    " \n",
    "data"
   ]
  },
  {
   "cell_type": "markdown",
   "metadata": {},
   "source": [
    "### About the data\n",
    "In the table above, we have total population, male population, female population, and population by age group for all the census tracts in the bay area. \n",
    "\n",
    "In addition we have some **geographic properties** of each census tract including the land area, water area, and latitude and longitude coordinates for a point inside the census tract.\n",
    "\n",
    "Below is a map with the Bay Area census tracts highlighted in blue.\n",
    "\n",
    "<img src=\"CA_census_tracts.jpg\", width=\"500\">"
   ]
  },
  {
   "cell_type": "markdown",
   "metadata": {},
   "source": [
    "### Using a function\n",
    "\n",
    "Don't be scared by the code below - we will get into the details later in the course. \n",
    "For now just recognize that the code below is a *function* used to compute the distance between two (latitude, longitude) coordinates. Rotate table is another function we will need later in the lab. Press 'Shift' + 'Enter' to run the code in the box below, we will use these functions shortly.\n",
    "\n",
    "#### Computing the distance on a sphere aka great circle distance\n",
    "For more detail please see https://en.wikipedia.org/wiki/Great-circle_distance\n"
   ]
  },
  {
   "cell_type": "code",
   "execution_count": 3,
   "metadata": {
    "collapsed": true
   },
   "outputs": [],
   "source": [
    "def distance_on_sphere(lat1, long1, lat2, long2):\n",
    "\n",
    "    # Convert latitude and longitude to spherical coordinates in radians.\n",
    "    degrees_to_radians = np.pi/180.0\n",
    "        \n",
    "    # phi = 90 - latitude\n",
    "    phi1 = (90.0 - lat1)*degrees_to_radians\n",
    "    phi2 = (90.0 - lat2)*degrees_to_radians\n",
    "        \n",
    "    # theta = longitude\n",
    "    theta1 = long1*degrees_to_radians\n",
    "    theta2 = long2*degrees_to_radians\n",
    "        \n",
    "    # We can compute spherical distance from spherical coordinates.\n",
    "    cos = (np.sin(phi1)*np.sin(phi2)*np.cos(theta1-theta2)+\n",
    "           np.cos(phi1)*np.cos(phi2))\n",
    "    arc = np.arccos( cos )\n",
    "\n",
    "    # Multiply arc by the radius of the earth to get length.\n",
    "    return 3960.*arc #to get distance in miles\n",
    "\n",
    "def rotate_table(table):\n",
    "    '''transforms a 2 x n table to be an n x 2 table'''\n",
    "    return Table().with_columns(['Columns', list(table.labels),\n",
    "                                 'Values', list(table.to_array()[0])])"
   ]
  },
  {
   "cell_type": "markdown",
   "metadata": {},
   "source": [
    "### Find the census tract closest to the Channing-Bowditch apartments (just South of Campus)\n",
    "Now we will use the distance_on_sphere() function to find the census tract closest to the Channing-Bowditch apartments. From [Google Maps](https://goo.gl/maps/5xudrVbixun) we learn that the apartment is located at 37.867495, -122.257617 (lat, lon). We use the .apply() method to calculate the distance between each census tract and the Channing Bodwitch apartment."
   ]
  },
  {
   "cell_type": "code",
   "execution_count": 4,
   "metadata": {
    "collapsed": false
   },
   "outputs": [
    {
     "data": {
      "text/html": [
       "<table border=\"1\" class=\"dataframe\">\n",
       "    <thead>\n",
       "        <tr>\n",
       "            <th>STATE</th> <th>COUNTY</th> <th>NAME</th> <th>Total Population</th> <th>Male</th> <th>Female</th> <th>Under 5 years</th> <th>5 to 9 years</th> <th>10 to 14 years</th> <th>15 to 19 years</th> <th>20 to 24 years</th> <th>25 to 29 years</th> <th>30 to 34 years</th> <th>35 to 39 years</th> <th>40 to 44 years</th> <th>45 to 49 years</th> <th>50 to 54 years</th> <th>55 to 59 years</th> <th>60 to 64 years</th> <th>65 to 69 years</th> <th>70 to 74 years</th> <th>75 to 79 years</th> <th>80 to 84 years</th> <th>85 years and over</th> <th>ALAND10</th> <th>AWATER10</th> <th>INTPTLAT10</th> <th>INTPTLON10</th> <th>distance to Channing</th>\n",
       "        </tr>\n",
       "    </thead>\n",
       "    <tbody>\n",
       "        <tr>\n",
       "            <td>6    </td> <td>1     </td> <td>Census Tract 4228</td> <td>8368            </td> <td>4131</td> <td>4237  </td> <td>15           </td> <td>11          </td> <td>8             </td> <td>4020          </td> <td>3112          </td> <td>380           </td> <td>196           </td> <td>121           </td> <td>95            </td> <td>83            </td> <td>95            </td> <td>100           </td> <td>62            </td> <td>38            </td> <td>10            </td> <td>11            </td> <td>4             </td> <td>7                </td> <td>408570 </td> <td>0       </td> <td>37.8668   </td> <td>-122.26   </td> <td>0.13784             </td>\n",
       "        </tr>\n",
       "    </tbody>\n",
       "</table>"
      ],
      "text/plain": [
       "STATE | COUNTY | NAME              | Total Population | Male | Female | Under 5 years | 5 to 9 years | 10 to 14 years | 15 to 19 years | 20 to 24 years | 25 to 29 years | 30 to 34 years | 35 to 39 years | 40 to 44 years | 45 to 49 years | 50 to 54 years | 55 to 59 years | 60 to 64 years | 65 to 69 years | 70 to 74 years | 75 to 79 years | 80 to 84 years | 85 years and over | ALAND10 | AWATER10 | INTPTLAT10 | INTPTLON10 | distance to Channing\n",
       "6     | 1      | Census Tract 4228 | 8368             | 4131 | 4237   | 15            | 11           | 8              | 4020           | 3112           | 380            | 196            | 121            | 95             | 83             | 95             | 100            | 62             | 38             | 10             | 11             | 4              | 7                 | 408570  | 0        | 37.8668    | -122.26    | 0.13784"
      ]
     },
     "execution_count": 4,
     "metadata": {},
     "output_type": "execute_result"
    }
   ],
   "source": [
    "#return closest to 37.867495, -122.257617 (Channing-Bowditch apartments): https://goo.gl/maps/5xudrVbixun\n",
    "lat1, lon1 = 37.867495, -122.257617\n",
    "\n",
    "# calculate the distance from the Channing-Bowditch apartments to each tract. Save this in the data table \n",
    "# in a column labeled 'distance to Channing'\n",
    "data['distance to Channing'] = data.apply(lambda lat2, lon2 : distance_on_sphere(lat1, lon1, lat2, lon2), \n",
    "                                          ['INTPTLAT10', 'INTPTLON10'])\n",
    "\n",
    "#select the row where 'distance to Channing' is minimum. \n",
    "# This is the closest census tract to the Channing Apartments\n",
    "channing_tract = data.where(data['distance to Channing'] == min(data['distance to Channing']))\n",
    "\n",
    "#let's take a look at what this looks like.\n",
    "channing_tract"
   ]
  },
  {
   "cell_type": "markdown",
   "metadata": {},
   "source": [
    "### Create a horizontal bar graph of population vs. age group\n",
    "We can use the barh function to create a bar graph. The function needs the data to be oriented in a single column. Right now the data is all oriented in one row. We will use the rotate table function (above) to rotate the table. We will save this table as a variable called tograph."
   ]
  },
  {
   "cell_type": "code",
   "execution_count": null,
   "metadata": {
    "collapsed": false
   },
   "outputs": [],
   "source": [
    "tograph = channing_tract.select(['Under 5 years', '5 to 9 years', '10 to 14 years',\n",
    "                                 '15 to 19 years','20 to 24 years','25 to 29 years',\n",
    "                                 '30 to 34 years','35 to 39 years','40 to 44 years',\n",
    "                                 '45 to 49 years','50 to 54 years','55 to 59 years',\n",
    "                                 '60 to 64 years','65 to 69 years','70 to 74 years',\n",
    "                                 '75 to 79 years','80 to 84 years','85 years and over'])\n",
    "tograph = rotate_table(tograph)\n",
    "tograph"
   ]
  },
  {
   "cell_type": "markdown",
   "metadata": {},
   "source": [
    "### Run the code below to create the bar graph."
   ]
  },
  {
   "cell_type": "code",
   "execution_count": null,
   "metadata": {
    "collapsed": false
   },
   "outputs": [],
   "source": [
    "tograph.relabel('Columns', 'Age group')\n",
    "tograph.relabel('Values', 'Count')\n",
    "tograph.barh('Age group')"
   ]
  },
  {
   "cell_type": "markdown",
   "metadata": {},
   "source": [
    "**Question 1: ** What can we say about the data plotted above? Which age groups have the highest population. Do you think this is representative of the population for the rest of the Bay Area?"
   ]
  },
  {
   "cell_type": "code",
   "execution_count": null,
   "metadata": {
    "collapsed": true
   },
   "outputs": [],
   "source": [
    "# Answer here:\n",
    "\n"
   ]
  },
  {
   "cell_type": "markdown",
   "metadata": {},
   "source": [
    "### Another South Berkeley Location\n",
    "Let's see what the population looks like farther south in Berkeley, near the Oakland-Berkeley border. There's a Whole Foods at the [corner of Ashby and Telegraph](https://goo.gl/maps/xNXp4XgtbN12). Let's repeat the procedure above to find the closest census tract to the Whole Foods and create a bar graph of the population at this location."
   ]
  },
  {
   "cell_type": "code",
   "execution_count": null,
   "metadata": {
    "collapsed": false
   },
   "outputs": [],
   "source": [
    "#Whole Foods at Ashby and Telegraph, 37.858636,-122.2620359 https://goo.gl/maps/xNXp4XgtbN12\n",
    "lat1, lon1 = 37.858636,-122.2620359\n",
    "\n",
    "# calculate the distance from the Whole Foods to each census tract. Save this in the data table \n",
    "# in a column labeled 'distance to Whole Foods'\n",
    "data['distance to Whole Foods'] = data.apply(lambda lat2, lon2 : distance_on_sphere(lat1, lon1, lat2, lon2), \n",
    "                                             ['INTPTLAT10', 'INTPTLON10'])\n",
    "\n",
    "#select the row where 'distance to Channing' is minimum. This is the closest census tract to the Channing Apartments\n",
    "wholefood_tract = data.where(data['distance to Whole Foods'] == min(data['distance to Whole Foods']))\n",
    "\n",
    "# create a bar graph of the population by age.\n",
    "tograph = wholefood_tract.select(['Under 5 years', '5 to 9 years', '10 to 14 years',\n",
    "                                 '15 to 19 years','20 to 24 years','25 to 29 years',\n",
    "                                 '30 to 34 years','35 to 39 years','40 to 44 years',\n",
    "                                 '45 to 49 years','50 to 54 years','55 to 59 years',\n",
    "                                 '60 to 64 years','65 to 69 years','70 to 74 years',\n",
    "                                 '75 to 79 years','80 to 84 years','85 years and over'])\n",
    "\n",
    "tograph = rotate_table(tograph)\n",
    "tograph.relabel('Columns', 'Age group')\n",
    "tograph.relabel('Values', 'Count')\n",
    "tograph.barh('Age group')"
   ]
  },
  {
   "cell_type": "markdown",
   "metadata": {},
   "source": [
    "** Question 2: ** Comment on how the population data for this census tract looks different from the population data from the Channing-Bowditch apartments census tract. What might explain the differences in the age demographics in the two census tracts?"
   ]
  },
  {
   "cell_type": "code",
   "execution_count": null,
   "metadata": {
    "collapsed": true
   },
   "outputs": [],
   "source": [
    "#Answer here\n"
   ]
  },
  {
   "cell_type": "markdown",
   "metadata": {},
   "source": [
    "### What about the Berkeley Hills?\n",
    "Let's look at one more Berkeley census tract. [Remilard Park](https://goo.gl/maps/3kCQkTDHjb32) is located in the Berkeley Hills, Northeast of campus. \n",
    "\n",
    "**Question 3: ** How do you expect the population data in this census tract to compare to the others?"
   ]
  },
  {
   "cell_type": "code",
   "execution_count": null,
   "metadata": {
    "collapsed": true
   },
   "outputs": [],
   "source": [
    "# Answer here\n"
   ]
  },
  {
   "cell_type": "markdown",
   "metadata": {},
   "source": [
    " Run the code below to find out."
   ]
  },
  {
   "cell_type": "code",
   "execution_count": null,
   "metadata": {
    "collapsed": false
   },
   "outputs": [],
   "source": [
    "#Remilard Park Berkeley Hills 37.8892735,-122.2616268 https://goo.gl/maps/3kCQkTDHjb32\n",
    "lat1, lon1 = 37.8892735,-122.2616268\n",
    "\n",
    "data['distance to Berkeley Hills'] = data.apply(lambda lat2, lon2 : distance_on_sphere(lat1, lon1, lat2, lon2), ['INTPTLAT10', 'INTPTLON10'])\n",
    "\n",
    "berkeleyhills_tract = data.where(data['distance to Berkeley Hills'] == min(data['distance to Berkeley Hills']))\n",
    "\n",
    "tograph = berkeleyhills_tract.select(['Under 5 years', '5 to 9 years', '10 to 14 years',\n",
    "                                      '15 to 19 years','20 to 24 years','25 to 29 years',\n",
    "                                      '30 to 34 years','35 to 39 years','40 to 44 years',\n",
    "                                      '45 to 49 years','50 to 54 years','55 to 59 years',\n",
    "                                      '60 to 64 years','65 to 69 years','70 to 74 years',\n",
    "                                      '75 to 79 years','80 to 84 years','85 years and over'])\n",
    "\n",
    "tograph = rotate_table(tograph)\n",
    "tograph.relabel('Columns', 'Age group')\n",
    "tograph.relabel('Values', 'Count')\n",
    "tograph.barh('Age group')"
   ]
  },
  {
   "cell_type": "markdown",
   "metadata": {},
   "source": [
    "** Question 4: ** How does the age distribution in this census tract compare to the age-distribution in the previous two census tracts? Does this conform to your expectations?"
   ]
  },
  {
   "cell_type": "code",
   "execution_count": null,
   "metadata": {
    "collapsed": true
   },
   "outputs": [],
   "source": [
    "# Answer here\n"
   ]
  },
  {
   "cell_type": "markdown",
   "metadata": {},
   "source": [
    "### If time allows\n",
    "Pick another Bay Area location, look up the lat, lon coordinates and see if you can replicate the procedure above to find the closest census tract and plot the population vs. age for this census tract. Comment on your findings."
   ]
  },
  {
   "cell_type": "code",
   "execution_count": null,
   "metadata": {
    "collapsed": true
   },
   "outputs": [],
   "source": [
    "# Your code here\n"
   ]
  }
 ],
 "metadata": {
  "kernelspec": {
   "display_name": "Python 3",
   "language": "python",
   "name": "python3"
  },
  "language_info": {
   "codemirror_mode": {
    "name": "ipython",
    "version": 3
   },
   "file_extension": ".py",
   "mimetype": "text/x-python",
   "name": "python",
   "nbconvert_exporter": "python",
   "pygments_lexer": "ipython3",
   "version": "3.5.2"
  }
 },
 "nbformat": 4,
 "nbformat_minor": 0
}
