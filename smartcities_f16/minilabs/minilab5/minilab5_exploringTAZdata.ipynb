{
 "cells": [
  {
   "cell_type": "markdown",
   "metadata": {},
   "source": [
    "# Mini-lab 5: Exploring TAZ Data\n",
    "In this lab you will further explore the Traffic Analysis Zone (TAZ) data that we began to explore in minilab 4. In part 1 of this lab we will look at some of the population data stored in 'data/taz_data.csv' including employment, age, and income data.\n",
    "\n",
    "In part 2 you will use the Tables join() function to join the populations taz_data with the travel time data that we looked at in minilab 4. You will calculate the effect that a large event in San Francisco (e.g. a Giants Game) can have on the transportation network."
   ]
  },
  {
   "cell_type": "code",
   "execution_count": null,
   "metadata": {
    "collapsed": true
   },
   "outputs": [],
   "source": [
    "from datascience import *\n",
    "import numpy as np\n",
    "%matplotlib inline"
   ]
  },
  {
   "cell_type": "markdown",
   "metadata": {},
   "source": [
    "##  Part 1 - exploring TAZ population data"
   ]
  },
  {
   "cell_type": "code",
   "execution_count": null,
   "metadata": {
    "collapsed": false
   },
   "outputs": [],
   "source": [
    "taz_data = Table.read_table('tazData.csv')\n",
    "taz_data"
   ]
  },
  {
   "cell_type": "markdown",
   "metadata": {},
   "source": [
    "Below is the taz_data dictionary. It contains information on the meaning of each of the column headers. This information comes from http://analytics.mtc.ca.gov/foswiki/Main/taz_data\n",
    "\n",
    "    ZONE\t    Transportation analysis zone\tInteger, 1 to 1454\tOrigins, destinations, shape file\n",
    "    DISTRICT\tSuperdistrict geographic designation\tInteger, 1 to 34\tShape file\n",
    "    SD\t        Superdistrict geographic designation (duplicate)\tInteger, 1 to 34\t \n",
    "    COUNTY\t    County\tInteger, 1 to 9\t\n",
    "                                 1 - San Francisco;\n",
    "                                 2 - San Mateo;\n",
    "                                 3 - Santa Clara;\n",
    "                                 4 - Alameda;\n",
    "                                 5 - Contra Costa;\n",
    "                                 6 - Solano;\n",
    "                                 7 - Napa;\n",
    "                                 8 - Sonoma;\n",
    "                                 9 - Marin\n",
    "    TOTHH\t    Total households\tInteger, 0 and up\t \n",
    "    HHPOP\t    Population living in households (as opposed to group quarters)\tInteger, 0 and up\t \n",
    "    TOTPOP\t    Total population\tInteger, 0 and up\t \n",
    "    EMPRES\t    Employed residents\tInteger, 0 and up\t \n",
    "    SFDU\t    Number of occupied single-family dwelling units\tInteger, 0 and up\t \n",
    "    MFDU\t    Number of occupied multi-family dwelling units\tInteger, 0 and up\t \n",
    "    HHINCQ1\t    Households in the lowest income quartile (less than $25,000 annually in 1989 dollars)\tInteger, 0 and up\t \n",
    "    HHINCQ2\t    Households in the second lowest income quartile (between $25,000 and $45,000 in 1989 dollars)\tInteger, 0 and up\t \n",
    "    HHINCQ3\t    Households in the second highest income quartile (between $45,000 and $75,000 in 1989 dollars)\tInteger, 0 and up\t \n",
    "    HHINCQ4\t    Households in the highest income quartile (more than $75,000 in 1989 dollars)\tInteger, 0 and up\t \n",
    "    TOTACRE\t    Total acres\tFloat, 0.0 and up\t \n",
    "    RESACRE\t    Acres occupied by residential development\tInteger, 0 and up\t \n",
    "    CIACRE\t    Acres occupied by commercial or industrial development\tInteger, 0 and up\t \n",
    "    SHPOP62P\tShare of the population age 62 or older\tFloat, 0.0 to 1.00\t \n",
    "    TOTEMP\t    Total employment\tInteger, 0 and up\t \n",
    "    AGE0004\t    Persons age 0 to 4\tInteger, 0 and up\t \n",
    "    AGE0519\t    Persons age 5 to 19\tInteger, 0 and up\t \n",
    "    AGE2044\t    Persons age 20 to 44\tInteger, 0 and up\t \n",
    "    AGE4564\t    Persons age 45 to 64\tInteger, 0 and up\t \n",
    "    AGE65P\t    Persons age 65 and older\tInteger, 0 and up\t \n",
    "    RETEMPN\t    Retail trade employment (NAICS-based)\tInteger, 0 and up\t \n",
    "    FPSEMPN\t    Financial and professional services employment (NAICS-based)\tInteger, 0 and up\t \n",
    "    HEREEMPN\tHealth, educational and recreational service employment (NAICS-based)\tInteger, 0 and up\t \n",
    "    AGREMPN\t    Agricultural and natural resources employment (NAICS-based)\tInteger, 0 and up\t \n",
    "    MWTEMPN\t    Manufacturing, wholesale trade and transportation employment (NAICS-based)\tInteger, 0 and up\t \n",
    "    OTHEMPN\t    Other employment (NAICS-based)\tInteger, 0 and up\t \n",
    "    PRKCST\t    Hourly parking rate paid by long-term (8-hours) parkers (year 2000 cents)\tFloat, 0.0 and up\t \n",
    "    OPRKCST\t    Hourly parking rate paid by short-term parkers (year 2000 cents)\tFloat, 0.0 and up\t \n",
    "    AREATYPE\tArea type designation\tInteger, 0 - regional core, 1 - central business district, 2 - urban business, 3 - urban, 4 - suburban, 5 - rural\t \n",
    "    HSENROLL\tHigh school students enrolled at schools in this TAZ\tFloat, 0.0 and up\t \n",
    "    COLLFTE\t    College students enrolled full-time at colleges in this TAZ\tFloat, 0.0 and up\t \n",
    "    COLLPTE\t    College students enrolled part-time at colleges in this TAZ\tFloat, 0.0 and up\t \n",
    "    TERMINAL\tAverage time to travel from automobile storage location to origin/destination\tFloat, 0.0 and up\t \n",
    "    TOPOLOGY\tTopology (steepness) indicator\tInteger, 1 - flat, 2 - in between, 3 - steep\t \n",
    "    ZERO\t    Placeholder (always zero)\tInteger, 0\t \n",
    "    HHLDS\t    Repeat of the TOTHH variable with a different name for software compatibility\tInteger, 0 and up\t \n",
    "    SFTAZ\t    Repeat of the ZONE variable with a different name for software compatibility\tInteger, 1 to 1454\t \n",
    "    GQPOP\t    Population living in group quarters rather than households\tInteger, 0 and up\t "
   ]
  },
  {
   "cell_type": "markdown",
   "metadata": {},
   "source": [
    "## Normalizing the data\n",
    "Because the populations vary significantly by TAZ, first we propbably want to <a = href = \"https://en.wikipedia.org/wiki/Normalization_(statistics)\">normalize</a> the data. For example, rather looking at the *count* of people in each income bracket, we may care more about the *percent* of people who fall into each income bracket. Say we wanted to get the percent of population that is employed per TAZ, we divide the number of employed residents by the total population for each TAZ.\n",
    "\n",
    "If we take a close look at the data, we notice that some TAZs do not have any residents. As we know, we get an error if we try to divide by zero, so first let's select only the TAZs where the total population is greater than 0. We create a new table called taz_data_new."
   ]
  },
  {
   "cell_type": "code",
   "execution_count": null,
   "metadata": {
    "collapsed": false
   },
   "outputs": [],
   "source": [
    "taz_data_new = taz_data.where(taz_data.column('TOTPOP') != 0)"
   ]
  },
  {
   "cell_type": "markdown",
   "metadata": {},
   "source": [
    "## Create a table for normalized data\n",
    "Let's create a new table called taz_data_norm, where we store the normalized values"
   ]
  },
  {
   "cell_type": "code",
   "execution_count": null,
   "metadata": {
    "collapsed": true
   },
   "outputs": [],
   "source": [
    "taz_data_norm = Table()"
   ]
  },
  {
   "cell_type": "markdown",
   "metadata": {},
   "source": [
    "## Adding percent employed to taz_data_norm\n",
    "taz_data_norm['PCTEMP']  = taz_data_new['EMPRES']/taz_data_new['TOTPOP']\n",
    "creates a column called 'PCTEMP' in the taz_data_norm Table if it does not already exist and assigns it the values taz_data_new['EMPRES']/taz_data_new['TOTPOP']. \n",
    "\n",
    "taz_data_norm.hist(overlay=False) creates a histogram of the data"
   ]
  },
  {
   "cell_type": "code",
   "execution_count": null,
   "metadata": {
    "collapsed": false
   },
   "outputs": [],
   "source": [
    "taz_data_norm['PCTEMP']=taz_data_new['EMPRES']/taz_data_new['TOTPOP']\n",
    "taz_data_norm.select('PCTEMP').hist(bins = [0,.1,.2,.3,.4,.5,.6,.7,.8,.9,1.], overlay=False, normed=False)"
   ]
  },
  {
   "cell_type": "markdown",
   "metadata": {
    "collapsed": false
   },
   "source": [
    "## Adding other normalized variable\n",
    "**Task - ** Add the following normalized columns to the table. \n",
    "\n",
    "Income: (Note for income, we want to normalize by number of households rather than total population.)\n",
    "* PCTHHINCQ1\n",
    "* PCTHHINCQ2\n",
    "* PCTHHINCQ3 \n",
    "* PCTHHINCQ4\n",
    "\n",
    "Age:\n",
    "* PCTAGE0004\n",
    "* PCTAGE0519\n",
    "* PCTAGE2044\n",
    "* PCTAGE4564\n",
    "* PCTAGE65P"
   ]
  },
  {
   "cell_type": "code",
   "execution_count": null,
   "metadata": {
    "collapsed": false
   },
   "outputs": [],
   "source": [
    "# Your code here\n",
    "\n",
    "#Answer key:\n"
   ]
  },
  {
   "cell_type": "markdown",
   "metadata": {},
   "source": [
    "## Create histograms of the normalized data, from the histograms find the following:\n",
    "**Task - ** Create taz_data_norm histograms and use them to answer the following questions:\n",
    "* About how many TAZs have more than 20% of the population over 65 years old?\n",
    "* About how many TAZs have a median income less than \\$25k in $1989 dollars?\n",
    "* About how many TAZs have a median income greater than \\$75k in 1989 dollars?\n",
    "* About how many TAZ's have more than 50% employment?\n",
    "\n"
   ]
  },
  {
   "cell_type": "code",
   "execution_count": null,
   "metadata": {
    "collapsed": false
   },
   "outputs": [],
   "source": [
    "#Your code here\n"
   ]
  },
  {
   "cell_type": "code",
   "execution_count": 1,
   "metadata": {
    "collapsed": false,
    "scrolled": false
   },
   "outputs": [],
   "source": [
    "#Type your answers here\n",
    "\n",
    "#  About how many TAZs have more than 20% of the population over 65 years old?\n",
    "\n",
    "#  About how many TAZs have a median income less than $25k in 1989 dollars?\n",
    "\n",
    "#  About how many TAZs have a median income greater than $75k in 1989 dollars?\n",
    "\n",
    "# About how many TAZ's have more than 50% employment?\n"
   ]
  },
  {
   "cell_type": "markdown",
   "metadata": {
    "collapsed": true
   },
   "source": [
    "## Part 2 - Giants Game Impact\n",
    "### Joining datatables & calculating VHT\n",
    "Imagine that 5% of the total population of the SF, Oakland, Berkeley, and Mairin area travels to AT&T park (homogeneously, assuming 5% from each TAZ). Compute the **total vehicle hours traveled (VHT)**, assuming every traveller drives alone. You should use the data/sf_oak_traveltimes_bymode.csv from mini-lab 4 to get the expected travel times. \n",
    "\n",
    "You can use the Tables.join() function to [join](http://data8.org/datascience/_autosummary/datascience.tables.Table.join.html?highlight=join#datascience.tables.Table.join) the travel_time_data and taz_data tables.\n",
    "\n",
    "Note that the the Giants stadium is located in TAZ 110, we need to find the travel time from each TAZ to the TAZs with destination = 110."
   ]
  },
  {
   "cell_type": "code",
   "execution_count": null,
   "metadata": {
    "collapsed": false
   },
   "outputs": [],
   "source": [
    "travel_time_data = Table.read_table('../minilab4/sf_oak_traveltimes_bymode.csv')\n",
    "\n",
    "#your code here\n"
   ]
  },
  {
   "cell_type": "code",
   "execution_count": null,
   "metadata": {
    "collapsed": false
   },
   "outputs": [],
   "source": [
    "#Your answer here:\n",
    "# Total VHT = \n"
   ]
  },
  {
   "cell_type": "markdown",
   "metadata": {},
   "source": [
    "### Joining datatables & calculating VMT\n",
    "With the same scenario as above (5% of the total population of the SF, Oakland, Berkeley, and Mairin area travels to AT&T park (homogeneously, assuming 5% from each TAZ)). Compute the **total vehicle miles traveled (VMT)**, to get to AT&T park assuming every traveler drives alone. The file 'sf_oak_traveldists_bymode.csv' contains the drive alone, shared ride, walk, and bike travel distance (in miles) from each TAZ in the SF, Oakland, Berkeley, Mairin area to every other TAZ in the area."
   ]
  },
  {
   "cell_type": "code",
   "execution_count": 2,
   "metadata": {
    "collapsed": false
   },
   "outputs": [
    {
     "data": {
      "text/html": [
       "<table border=\"1\" class=\"dataframe\">\n",
       "    <thead>\n",
       "        <tr>\n",
       "            <th>origin</th> <th>destination</th> <th>drive alone</th> <th>shared ride (2 people)</th> <th>shared ride (3 people)</th> <th>walk</th> <th>bike</th>\n",
       "        </tr>\n",
       "    </thead>\n",
       "    <tbody>\n",
       "        <tr>\n",
       "            <td>1     </td> <td>1          </td> <td>0.12       </td> <td>0.12                  </td> <td>0.12                  </td> <td>0.12</td> <td>0.12</td>\n",
       "        </tr>\n",
       "    </tbody>\n",
       "        <tr>\n",
       "            <td>1     </td> <td>2          </td> <td>0.24       </td> <td>0.24                  </td> <td>0.24                  </td> <td>0.24</td> <td>0.24</td>\n",
       "        </tr>\n",
       "    </tbody>\n",
       "        <tr>\n",
       "            <td>1     </td> <td>3          </td> <td>0.44       </td> <td>0.44                  </td> <td>0.44                  </td> <td>0.44</td> <td>0.44</td>\n",
       "        </tr>\n",
       "    </tbody>\n",
       "        <tr>\n",
       "            <td>1     </td> <td>4          </td> <td>0.41       </td> <td>0.41                  </td> <td>0.41                  </td> <td>0.41</td> <td>0.41</td>\n",
       "        </tr>\n",
       "    </tbody>\n",
       "        <tr>\n",
       "            <td>1     </td> <td>5          </td> <td>0.68       </td> <td>0.68                  </td> <td>0.68                  </td> <td>0.68</td> <td>0.68</td>\n",
       "        </tr>\n",
       "    </tbody>\n",
       "        <tr>\n",
       "            <td>1     </td> <td>6          </td> <td>0.97       </td> <td>0.97                  </td> <td>0.97                  </td> <td>0.97</td> <td>0.97</td>\n",
       "        </tr>\n",
       "    </tbody>\n",
       "        <tr>\n",
       "            <td>1     </td> <td>7          </td> <td>0.98       </td> <td>0.98                  </td> <td>0.98                  </td> <td>0.98</td> <td>0.98</td>\n",
       "        </tr>\n",
       "    </tbody>\n",
       "        <tr>\n",
       "            <td>1     </td> <td>8          </td> <td>1.15       </td> <td>1.15                  </td> <td>1.15                  </td> <td>1.15</td> <td>1.15</td>\n",
       "        </tr>\n",
       "    </tbody>\n",
       "        <tr>\n",
       "            <td>1     </td> <td>9          </td> <td>1.57       </td> <td>1.57                  </td> <td>1.57                  </td> <td>1.56</td> <td>1.56</td>\n",
       "        </tr>\n",
       "    </tbody>\n",
       "        <tr>\n",
       "            <td>1     </td> <td>10         </td> <td>1.59       </td> <td>1.59                  </td> <td>1.59                  </td> <td>1.59</td> <td>1.59</td>\n",
       "        </tr>\n",
       "    </tbody>\n",
       "</table>\n",
       "<p>... (137631 rows omitted)</p"
      ],
      "text/plain": [
       "origin | destination | drive alone | shared ride (2 people) | shared ride (3 people) | walk | bike\n",
       "1      | 1           | 0.12        | 0.12                   | 0.12                   | 0.12 | 0.12\n",
       "1      | 2           | 0.24        | 0.24                   | 0.24                   | 0.24 | 0.24\n",
       "1      | 3           | 0.44        | 0.44                   | 0.44                   | 0.44 | 0.44\n",
       "1      | 4           | 0.41        | 0.41                   | 0.41                   | 0.41 | 0.41\n",
       "1      | 5           | 0.68        | 0.68                   | 0.68                   | 0.68 | 0.68\n",
       "1      | 6           | 0.97        | 0.97                   | 0.97                   | 0.97 | 0.97\n",
       "1      | 7           | 0.98        | 0.98                   | 0.98                   | 0.98 | 0.98\n",
       "1      | 8           | 1.15        | 1.15                   | 1.15                   | 1.15 | 1.15\n",
       "1      | 9           | 1.57        | 1.57                   | 1.57                   | 1.56 | 1.56\n",
       "1      | 10          | 1.59        | 1.59                   | 1.59                   | 1.59 | 1.59\n",
       "... (137631 rows omitted)"
      ]
     },
     "execution_count": 2,
     "metadata": {},
     "output_type": "execute_result"
    }
   ],
   "source": [
    "travel_dist_data = Table.read_table('sf_oak_traveldists_bymode.csv')\n",
    "\n",
    "#your code here\n"
   ]
  },
  {
   "cell_type": "code",
   "execution_count": null,
   "metadata": {
    "collapsed": false
   },
   "outputs": [],
   "source": [
    "#Your answer here:\n",
    "\n",
    "# Total VMT = \n"
   ]
  }
 ],
 "metadata": {
  "kernelspec": {
   "display_name": "Python 3",
   "language": "python",
   "name": "python3"
  },
  "language_info": {
   "codemirror_mode": {
    "name": "ipython",
    "version": 3
   },
   "file_extension": ".py",
   "mimetype": "text/x-python",
   "name": "python",
   "nbconvert_exporter": "python",
   "pygments_lexer": "ipython3",
   "version": "3.5.2"
  }
 },
 "nbformat": 4,
 "nbformat_minor": 0
}
