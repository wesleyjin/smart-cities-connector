{
 "cells": [
  {
   "cell_type": "markdown",
   "metadata": {},
   "source": [
    "# Mini-lab 8: Uncertainty in predictions.\n",
    "\n",
    "As in mini-lab 7/8 we will continue to explore transportation mode choice, but now we will consider uncertainty in predcitions. We will use a technique called **bootstrapping** to make inferences on the expected travel mode distribution. First we will apply bootstrapping to construct **confidence intervals** for the proportion of people who choose one mode of transportation for various sample sizes. Next we will revisit k-nearest neighbors and will consider uncertainty in travel mode predictions.\n"
   ]
  },
  {
   "cell_type": "markdown",
   "metadata": {},
   "source": [
    "### The dataset\n",
    "The dataset is the same as we used in Mini-labs 6 and 7. It contains the actual travel decisions for travelers given various travel alternatives. Below is the detailed dataset description.\n",
    "#### \"The California Department of Transportation (Caltrans) conducts the California Household Travel Survey (CHTS) every ten years to obtain detailed information about the socioeconomic characteristics and travel behavior of households statewide.\" -[Caltrans website](http://www.dot.ca.gov/hq/tpp/offices/omsp/statewide_travel_analysis/chts.html)\n",
    "\n",
    "\n",
    "The modechoice.csv file contains data from the CHTS on trips that people living in the bay area actually took. The dataset contains demographic info on the traveler as well as trip origin taz and destination taz. We have combined this data with the inter TAZ travel time/cost data that we used in mini-labs 4 and 5 to provide information on trip cost, time, and distance for all available travel modes.\n",
    "\n",
    "Note that for some trips/some people, not all modes are available. Some people do not have a drivers license or do not have access to a car. Sometimes biking is infeasible due to bike ownership, trip distance or restrictions on biking across bridges. \n",
    "\n",
    "The data in modechoice.csv is as follows:\n",
    "<table>\n",
    "    <tr>\n",
    "        <td>'observation_id'</td>   <td>int id</td>\n",
    "    </tr><tr>\n",
    "        <td>'choice'        </td>   <td>  string mode chosen <li>'drive_alone' - drive alone,<li>'shared_ride_2' - 2 person shared ride,<li>'shared_ride_3' - 3 person shared ride,<li>'walk_transit_walk' - walk tranit walk,<li>'drive_transit_walk' - drive transit walk,<li>'walk_transit_drive' - walk transit drive,<li>'walk' - walk,<li>'bike' - bike </td>\n",
    "    </tr><tr>\n",
    "    <td> 'availability_drive_alone'</td>   <td>1 if available else 0</td>\n",
    "    </tr><tr>\n",
    "    <td> 'availability_shared_ride_2'</td>   <td>1 if available else 0</td>\n",
    "    </tr><tr>\n",
    "    <td> 'availability_shared_ride_3+'</td>   <td>1 if available else 0</td>\n",
    "    </tr><tr>\n",
    "    <td> 'availability_walk_transit_walk'</td>   <td>1 if available else 0</td>\n",
    "    </tr><tr>\n",
    "    <td> 'availability_drive_transit_walk'</td>   <td>1 if available else 0</td>\n",
    "    </tr><tr>\n",
    "    <td> 'availability_walk_transit_drive'</td>   <td>1 if available else 0</td>\n",
    "    </tr><tr>\n",
    "    <td> 'availability_walk'</td>   <td>1 if available else 0</td>\n",
    "    </tr><tr>\n",
    "    <td> 'availability_bicycle'</td>   <td>1 if available else 0</td>\n",
    "    </tr><tr>\n",
    "    <td> 'household_id'</td>   <td>      int\n",
    "    </tr><tr>\n",
    "    <td> 'person_id'</td>   <td>              int\n",
    "    </tr><tr>\n",
    "    <td> 'tour_id'</td>   <td>                 int\n",
    "    </tr><tr>\n",
    "    <td> 'tour_origin_taz'</td>   <td>                   int taz id\n",
    "    </tr><tr>\n",
    "    <td> 'primary_dest_taz'</td>   <td>    int taz id\n",
    "    </tr><tr>\n",
    "    <td> 'age'</td>   <td>          int age in years\n",
    "    </tr><tr>\n",
    "    <td> 'household_size'</td>   <td>                       int, number of people\n",
    "    </tr><tr>\n",
    "    <td> 'household_income'</td>   <td>    int 1-8, 1 = lowest income bracket, 8=highest\n",
    "    </tr><tr>\n",
    "    <td> 'household_income_values'</td>   <td>         int dollar value household income\n",
    "    </tr><tr>\n",
    "    <td> 'transit_subsidy'</td>   <td>   1 if has subsidy, else 0\n",
    "    </tr><tr>\n",
    "    <td> 'transit_subsidy_amount'</td>   <td>           subsidy dollar amount\n",
    "    </tr><tr>\n",
    "    <td> 'cross_bay'</td>   <td>    1 if trip crosses bay, else 0\n",
    "    </tr><tr>\n",
    "    <td> 'total_travel_time_drive_alone'</td>   <td>    door to door travel time in minutes\n",
    "    </tr><tr>\n",
    "    <td> 'total_travel_time_shared_ride_2'</td>   <td> \n",
    "    </tr><tr>\n",
    "    <td> 'total_travel_time_shared_ride_3+'</td>   <td> \n",
    "    </tr><tr>\n",
    "    <td> 'total_travel_time_walk_transit_walk'</td>   <td> \n",
    "    </tr><tr>\n",
    "    <td> 'total_travel_time_drive_transit_walk'</td>   <td> \n",
    "    </tr><tr>\n",
    "    <td> 'total_travel_time_walk_transit_drive'</td>   <td> \n",
    "    </tr><tr>\n",
    "    <td> 'total_travel_time_walk'</td>   <td> \n",
    "    </tr><tr>\n",
    "    <td> 'total_travel_time_bicycle'</td>   <td> \n",
    "    </tr><tr>\n",
    "    <td> 'total_travel_distance_drive_alone' </td>   <td> travel distance in miles\n",
    "    </tr><tr>\n",
    "    <td> 'total_travel_distance_shared_ride_2'</td>   <td> \n",
    "    </tr><tr>\n",
    "    <td> 'total_travel_distance_shared_ride_3+'</td>   <td> \n",
    "    </tr><tr>\n",
    "    <td> 'total_travel_distance_walk'     </td>   <td> \n",
    "    </tr><tr>\n",
    "    <td> 'total_travel_distance_bicycle'</td>   <td> \n",
    "    </tr><tr>\n",
    "    <td> 'total_travel_cost_drive_alone'</td>   <td> travel cost in dollars\n",
    "    </tr><tr>\n",
    "    <td> 'total_travel_cost_shared_ride_2'</td>   <td> Note driving costs include fixed per mile rate divided evenly among passengers, and tolls. Does not include parking and other car ownership related costs\n",
    "    </tr><tr>\n",
    "    <td> 'total_travel_cost_shared_ride_3+'</td>   <td> \n",
    "    </tr><tr>\n",
    "    <td> 'total_travel_cost_walk_transit_walk'</td>   <td> \n",
    "    </tr><tr>\n",
    "    <td> 'total_travel_cost_drive_transit_walk'</td>   <td> \n",
    "    </tr><tr>\n",
    "    <td> 'total_travel_cost_walk_transit_drive'</td>   <td> \n",
    "    </tr><tr>\n",
    "    <td> 'age_ctgry'         <td>  str age category:\n",
    "                                       <li>'0-04' = 0-4 years old,\n",
    "                                       <li>'05-19' = 5-19 years old, \n",
    "                                       <li>'20-44' = 20-44 years old, \n",
    "                                       <li>'45-64' = 45-64 years old, \n",
    "                                       <li>'65+' = 65+ years old, \n",
    "\n",
    "\n"
   ]
  },
  {
   "cell_type": "code",
   "execution_count": 1,
   "metadata": {
    "collapsed": true
   },
   "outputs": [],
   "source": [
    "from datascience import *\n",
    "import numpy as np\n",
    "import matplotlib.pyplot as plt\n",
    "%matplotlib inline"
   ]
  },
  {
   "cell_type": "code",
   "execution_count": 2,
   "metadata": {
    "collapsed": false
   },
   "outputs": [
    {
     "data": {
      "text/html": [
       "<table border=\"1\" class=\"dataframe\">\n",
       "    <thead>\n",
       "        <tr>\n",
       "            <th>observation_id</th> <th>choice</th> <th>availability_drive_alone</th> <th>availability_shared_ride_2</th> <th>availability_shared_ride_3+</th> <th>availability_walk_transit_walk</th> <th>availability_drive_transit_walk</th> <th>availability_walk_transit_drive</th> <th>availability_walk</th> <th>availability_bicycle</th> <th>household_id</th> <th>person_id</th> <th>tour_id</th> <th>tour_origin_taz</th> <th>primary_dest_taz</th> <th>age</th> <th>household_size</th> <th>household_income</th> <th>household_income_values</th> <th>transit_subsidy</th> <th>transit_subsidy_amount</th> <th>cross_bay</th> <th>total_travel_time_drive_alone</th> <th>total_travel_time_shared_ride_2</th> <th>total_travel_time_shared_ride_3+</th> <th>total_travel_time_walk_transit_walk</th> <th>total_travel_time_drive_transit_walk</th> <th>total_travel_time_walk_transit_drive</th> <th>total_travel_time_walk</th> <th>total_travel_time_bicycle</th> <th>total_travel_distance_drive_alone</th> <th>total_travel_distance_shared_ride_2</th> <th>total_travel_distance_shared_ride_3+</th> <th>total_travel_distance_walk</th> <th>total_travel_distance_bicycle</th> <th>total_travel_cost_drive_alone</th> <th>total_travel_cost_shared_ride_2</th> <th>total_travel_cost_shared_ride_3+</th> <th>total_travel_cost_walk_transit_walk</th> <th>total_travel_cost_drive_transit_walk</th> <th>total_travel_cost_walk_transit_drive</th> <th>age_ctgry</th>\n",
       "        </tr>\n",
       "    </thead>\n",
       "    <tbody>\n",
       "        <tr>\n",
       "            <td>1             </td> <td>drive_alone      </td> <td>1                       </td> <td>1                         </td> <td>1                          </td> <td>1                             </td> <td>1                              </td> <td>1                              </td> <td>1                </td> <td>1                   </td> <td>1043613     </td> <td>1        </td> <td>0      </td> <td>1004           </td> <td>969             </td> <td>53  </td> <td>2             </td> <td>6               </td> <td>87500                  </td> <td>0              </td> <td>-1                    </td> <td>0        </td> <td>20.97                        </td> <td>20.97                          </td> <td>20.97                           </td> <td>83.56                              </td> <td>63.05                               </td> <td>67.29                               </td> <td>167.6                 </td> <td>41.9                     </td> <td>9.1                              </td> <td>9.1                                </td> <td>9.1                                 </td> <td>8.38                      </td> <td>8.38                         </td> <td>1.6817                       </td> <td>0.9609                         </td> <td>0.6726                          </td> <td>5.84                               </td> <td>3.22                                </td> <td>3.02                                </td> <td>45-64    </td>\n",
       "        </tr>\n",
       "    </tbody>\n",
       "        <tr>\n",
       "            <td>2             </td> <td>drive_alone      </td> <td>1                       </td> <td>1                         </td> <td>1                          </td> <td>1                             </td> <td>1                              </td> <td>1                              </td> <td>1                </td> <td>1                   </td> <td>1043613     </td> <td>1        </td> <td>1      </td> <td>1004           </td> <td>969             </td> <td>53  </td> <td>2             </td> <td>6               </td> <td>87500                  </td> <td>0              </td> <td>-1                    </td> <td>0        </td> <td>22.16                        </td> <td>22.16                          </td> <td>22.16                           </td> <td>87.38                              </td> <td>77.79                               </td> <td>58.01                               </td> <td>167.6                 </td> <td>41.9                     </td> <td>9.1                              </td> <td>9.1                                </td> <td>9.1                                 </td> <td>8.38                      </td> <td>8.38                         </td> <td>1.6817                       </td> <td>0.9609                         </td> <td>0.6726                          </td> <td>4.83                               </td> <td>3.22                                </td> <td>3.22                                </td> <td>45-64    </td>\n",
       "        </tr>\n",
       "    </tbody>\n",
       "        <tr>\n",
       "            <td>3             </td> <td>shared_ride_2    </td> <td>1                       </td> <td>1                         </td> <td>1                          </td> <td>1                             </td> <td>1                              </td> <td>1                              </td> <td>0                </td> <td>0                   </td> <td>1045607     </td> <td>1        </td> <td>0      </td> <td>908            </td> <td>116             </td> <td>57  </td> <td>1             </td> <td>4               </td> <td>42500                  </td> <td>0              </td> <td>-1                    </td> <td>1        </td> <td>47.98                        </td> <td>47.98                          </td> <td>47.98                           </td> <td>140.63                             </td> <td>131.49                              </td> <td>137.39                              </td> <td>nan                   </td> <td>nan                      </td> <td>31.94                            </td> <td>31.94                              </td> <td>31.94                               </td> <td>nan                       </td> <td>nan                          </td> <td>9.1125                       </td> <td>5.2071                         </td> <td>3.645                           </td> <td>6.95                               </td> <td>7.75                                </td> <td>5.98                                </td> <td>45-64    </td>\n",
       "        </tr>\n",
       "    </tbody>\n",
       "        <tr>\n",
       "            <td>4             </td> <td>bike             </td> <td>0                       </td> <td>1                         </td> <td>1                          </td> <td>1                             </td> <td>0                              </td> <td>1                              </td> <td>1                </td> <td>1                   </td> <td>1049908     </td> <td>1        </td> <td>0      </td> <td>30             </td> <td>12              </td> <td>50  </td> <td>1             </td> <td>2               </td> <td>17500                  </td> <td>0              </td> <td>-1                    </td> <td>0        </td> <td>nan                          </td> <td>15.05                          </td> <td>15.05                           </td> <td>26.46                              </td> <td>nan                                 </td> <td>16.77                               </td> <td>42.8                  </td> <td>10.7                     </td> <td>nan                              </td> <td>2.23                               </td> <td>2.23                                </td> <td>2.14                      </td> <td>2.14                         </td> <td>nan                          </td> <td>0.2355                         </td> <td>0.1649                          </td> <td>3.22                               </td> <td>nan                                 </td> <td>3.22                                </td> <td>45-64    </td>\n",
       "        </tr>\n",
       "    </tbody>\n",
       "        <tr>\n",
       "            <td>5             </td> <td>walk             </td> <td>0                       </td> <td>1                         </td> <td>1                          </td> <td>1                             </td> <td>0                              </td> <td>1                              </td> <td>1                </td> <td>1                   </td> <td>1049908     </td> <td>1        </td> <td>1      </td> <td>30             </td> <td>9               </td> <td>50  </td> <td>1             </td> <td>2               </td> <td>17500                  </td> <td>0              </td> <td>-1                    </td> <td>0        </td> <td>nan                          </td> <td>11.72                          </td> <td>11.72                           </td> <td>43.86                              </td> <td>nan                                 </td> <td>28.89                               </td> <td>19.2                  </td> <td>4.8                      </td> <td>nan                              </td> <td>0.96                               </td> <td>0.96                                </td> <td>0.96                      </td> <td>0.96                         </td> <td>nan                          </td> <td>0.1014                         </td> <td>0.071                           </td> <td>3.22                               </td> <td>nan                                 </td> <td>3.22                                </td> <td>45-64    </td>\n",
       "        </tr>\n",
       "    </tbody>\n",
       "        <tr>\n",
       "            <td>6             </td> <td>shared_ride_2    </td> <td>1                       </td> <td>1                         </td> <td>1                          </td> <td>1                             </td> <td>1                              </td> <td>1                              </td> <td>1                </td> <td>1                   </td> <td>1051388     </td> <td>2        </td> <td>0      </td> <td>89             </td> <td>4               </td> <td>48  </td> <td>3             </td> <td>7               </td> <td>125000                 </td> <td>0              </td> <td>-1                    </td> <td>0        </td> <td>26.32                        </td> <td>26.32                          </td> <td>26.32                           </td> <td>42.1                               </td> <td>55.48                               </td> <td>58.48                               </td> <td>143.2                 </td> <td>35.8                     </td> <td>7.4                              </td> <td>7.4                                </td> <td>7.4                                 </td> <td>7.16                      </td> <td>7.16                         </td> <td>1.3675                       </td> <td>0.7815                         </td> <td>0.547                           </td> <td>3.22                               </td> <td>3.98                                </td> <td>3.22                                </td> <td>45-64    </td>\n",
       "        </tr>\n",
       "    </tbody>\n",
       "        <tr>\n",
       "            <td>7             </td> <td>drive_alone      </td> <td>1                       </td> <td>1                         </td> <td>1                          </td> <td>1                             </td> <td>1                              </td> <td>1                              </td> <td>1                </td> <td>1                   </td> <td>1051388     </td> <td>2        </td> <td>1      </td> <td>89             </td> <td>23              </td> <td>48  </td> <td>3             </td> <td>7               </td> <td>125000                 </td> <td>0              </td> <td>-1                    </td> <td>0        </td> <td>32.07                        </td> <td>32.07                          </td> <td>32.07                           </td> <td>86.89                              </td> <td>91.7                                </td> <td>83.35                               </td> <td>184.8                 </td> <td>46.2                     </td> <td>9.47                             </td> <td>9.47                               </td> <td>9.47                                </td> <td>9.24                      </td> <td>9.24                         </td> <td>1.7501                       </td> <td>1                              </td> <td>0.7                             </td> <td>3.22                               </td> <td>3.22                                </td> <td>3.22                                </td> <td>45-64    </td>\n",
       "        </tr>\n",
       "    </tbody>\n",
       "        <tr>\n",
       "            <td>8             </td> <td>shared_ride_3    </td> <td>1                       </td> <td>1                         </td> <td>1                          </td> <td>1                             </td> <td>1                              </td> <td>1                              </td> <td>1                </td> <td>1                   </td> <td>1051388     </td> <td>3        </td> <td>0      </td> <td>89             </td> <td>71              </td> <td>10  </td> <td>3             </td> <td>7               </td> <td>125000                 </td> <td>0              </td> <td>-1                    </td> <td>0        </td> <td>16.58                        </td> <td>16.58                          </td> <td>16.58                           </td> <td>53.32                              </td> <td>46.76                               </td> <td>46.77                               </td> <td>94                    </td> <td>23.5                     </td> <td>4.7                              </td> <td>4.7                                </td> <td>4.7                                 </td> <td>4.7                       </td> <td>4.7                          </td> <td>0.8686                       </td> <td>0.4964                         </td> <td>0.3474                          </td> <td>3.22                               </td> <td>3.22                                </td> <td>3.22                                </td> <td>05-19    </td>\n",
       "        </tr>\n",
       "    </tbody>\n",
       "        <tr>\n",
       "            <td>9             </td> <td>walk_transit_walk</td> <td>1                       </td> <td>1                         </td> <td>1                          </td> <td>1                             </td> <td>1                              </td> <td>1                              </td> <td>1                </td> <td>0                   </td> <td>1069723     </td> <td>1        </td> <td>0      </td> <td>86             </td> <td>12              </td> <td>50  </td> <td>2             </td> <td>5               </td> <td>62500                  </td> <td>0              </td> <td>-1                    </td> <td>0        </td> <td>21.93                        </td> <td>21.93                          </td> <td>21.93                           </td> <td>54.13                              </td> <td>42.72                               </td> <td>44.78                               </td> <td>95.6                  </td> <td>nan                      </td> <td>4.87                             </td> <td>4.87                               </td> <td>4.87                                </td> <td>4.78                      </td> <td>nan                          </td> <td>0.9                          </td> <td>0.5143                         </td> <td>0.36                            </td> <td>3.22                               </td> <td>3.22                                </td> <td>3.22                                </td> <td>45-64    </td>\n",
       "        </tr>\n",
       "    </tbody>\n",
       "        <tr>\n",
       "            <td>10            </td> <td>walk             </td> <td>1                       </td> <td>1                         </td> <td>1                          </td> <td>1                             </td> <td>1                              </td> <td>1                              </td> <td>1                </td> <td>1                   </td> <td>1093539     </td> <td>1        </td> <td>0      </td> <td>90             </td> <td>111             </td> <td>56  </td> <td>3             </td> <td>8               </td> <td>175000                 </td> <td>1              </td> <td>999998                </td> <td>0        </td> <td>33.13                        </td> <td>33.13                          </td> <td>33.13                           </td> <td>100.65                             </td> <td>100.39                              </td> <td>100.39                              </td> <td>192.4                 </td> <td>48.1                     </td> <td>9.86                             </td> <td>9.86                               </td> <td>9.86                                </td> <td>9.62                      </td> <td>9.62                         </td> <td>1.8222                       </td> <td>1.0412                         </td> <td>0.7288                          </td> <td>3.22                               </td> <td>3.22                                </td> <td>3.22                                </td> <td>45-64    </td>\n",
       "        </tr>\n",
       "    </tbody>\n",
       "</table>\n",
       "<p>... (1005 rows omitted)</p"
      ],
      "text/plain": [
       "observation_id | choice            | availability_drive_alone | availability_shared_ride_2 | availability_shared_ride_3+ | availability_walk_transit_walk | availability_drive_transit_walk | availability_walk_transit_drive | availability_walk | availability_bicycle | household_id | person_id | tour_id | tour_origin_taz | primary_dest_taz | age  | household_size | household_income | household_income_values | transit_subsidy | transit_subsidy_amount | cross_bay | total_travel_time_drive_alone | total_travel_time_shared_ride_2 | total_travel_time_shared_ride_3+ | total_travel_time_walk_transit_walk | total_travel_time_drive_transit_walk | total_travel_time_walk_transit_drive | total_travel_time_walk | total_travel_time_bicycle | total_travel_distance_drive_alone | total_travel_distance_shared_ride_2 | total_travel_distance_shared_ride_3+ | total_travel_distance_walk | total_travel_distance_bicycle | total_travel_cost_drive_alone | total_travel_cost_shared_ride_2 | total_travel_cost_shared_ride_3+ | total_travel_cost_walk_transit_walk | total_travel_cost_drive_transit_walk | total_travel_cost_walk_transit_drive | age_ctgry\n",
       "1              | drive_alone       | 1                        | 1                          | 1                           | 1                              | 1                               | 1                               | 1                 | 1                    | 1043613      | 1         | 0       | 1004            | 969              | 53   | 2              | 6                | 87500                   | 0               | -1                     | 0         | 20.97                         | 20.97                           | 20.97                            | 83.56                               | 63.05                                | 67.29                                | 167.6                  | 41.9                      | 9.1                               | 9.1                                 | 9.1                                  | 8.38                       | 8.38                          | 1.6817                        | 0.9609                          | 0.6726                           | 5.84                                | 3.22                                 | 3.02                                 | 45-64\n",
       "2              | drive_alone       | 1                        | 1                          | 1                           | 1                              | 1                               | 1                               | 1                 | 1                    | 1043613      | 1         | 1       | 1004            | 969              | 53   | 2              | 6                | 87500                   | 0               | -1                     | 0         | 22.16                         | 22.16                           | 22.16                            | 87.38                               | 77.79                                | 58.01                                | 167.6                  | 41.9                      | 9.1                               | 9.1                                 | 9.1                                  | 8.38                       | 8.38                          | 1.6817                        | 0.9609                          | 0.6726                           | 4.83                                | 3.22                                 | 3.22                                 | 45-64\n",
       "3              | shared_ride_2     | 1                        | 1                          | 1                           | 1                              | 1                               | 1                               | 0                 | 0                    | 1045607      | 1         | 0       | 908             | 116              | 57   | 1              | 4                | 42500                   | 0               | -1                     | 1         | 47.98                         | 47.98                           | 47.98                            | 140.63                              | 131.49                               | 137.39                               | nan                    | nan                       | 31.94                             | 31.94                               | 31.94                                | nan                        | nan                           | 9.1125                        | 5.2071                          | 3.645                            | 6.95                                | 7.75                                 | 5.98                                 | 45-64\n",
       "4              | bike              | 0                        | 1                          | 1                           | 1                              | 0                               | 1                               | 1                 | 1                    | 1049908      | 1         | 0       | 30              | 12               | 50   | 1              | 2                | 17500                   | 0               | -1                     | 0         | nan                           | 15.05                           | 15.05                            | 26.46                               | nan                                  | 16.77                                | 42.8                   | 10.7                      | nan                               | 2.23                                | 2.23                                 | 2.14                       | 2.14                          | nan                           | 0.2355                          | 0.1649                           | 3.22                                | nan                                  | 3.22                                 | 45-64\n",
       "5              | walk              | 0                        | 1                          | 1                           | 1                              | 0                               | 1                               | 1                 | 1                    | 1049908      | 1         | 1       | 30              | 9                | 50   | 1              | 2                | 17500                   | 0               | -1                     | 0         | nan                           | 11.72                           | 11.72                            | 43.86                               | nan                                  | 28.89                                | 19.2                   | 4.8                       | nan                               | 0.96                                | 0.96                                 | 0.96                       | 0.96                          | nan                           | 0.1014                          | 0.071                            | 3.22                                | nan                                  | 3.22                                 | 45-64\n",
       "6              | shared_ride_2     | 1                        | 1                          | 1                           | 1                              | 1                               | 1                               | 1                 | 1                    | 1051388      | 2         | 0       | 89              | 4                | 48   | 3              | 7                | 125000                  | 0               | -1                     | 0         | 26.32                         | 26.32                           | 26.32                            | 42.1                                | 55.48                                | 58.48                                | 143.2                  | 35.8                      | 7.4                               | 7.4                                 | 7.4                                  | 7.16                       | 7.16                          | 1.3675                        | 0.7815                          | 0.547                            | 3.22                                | 3.98                                 | 3.22                                 | 45-64\n",
       "7              | drive_alone       | 1                        | 1                          | 1                           | 1                              | 1                               | 1                               | 1                 | 1                    | 1051388      | 2         | 1       | 89              | 23               | 48   | 3              | 7                | 125000                  | 0               | -1                     | 0         | 32.07                         | 32.07                           | 32.07                            | 86.89                               | 91.7                                 | 83.35                                | 184.8                  | 46.2                      | 9.47                              | 9.47                                | 9.47                                 | 9.24                       | 9.24                          | 1.7501                        | 1                               | 0.7                              | 3.22                                | 3.22                                 | 3.22                                 | 45-64\n",
       "8              | shared_ride_3     | 1                        | 1                          | 1                           | 1                              | 1                               | 1                               | 1                 | 1                    | 1051388      | 3         | 0       | 89              | 71               | 10   | 3              | 7                | 125000                  | 0               | -1                     | 0         | 16.58                         | 16.58                           | 16.58                            | 53.32                               | 46.76                                | 46.77                                | 94                     | 23.5                      | 4.7                               | 4.7                                 | 4.7                                  | 4.7                        | 4.7                           | 0.8686                        | 0.4964                          | 0.3474                           | 3.22                                | 3.22                                 | 3.22                                 | 05-19\n",
       "9              | walk_transit_walk | 1                        | 1                          | 1                           | 1                              | 1                               | 1                               | 1                 | 0                    | 1069723      | 1         | 0       | 86              | 12               | 50   | 2              | 5                | 62500                   | 0               | -1                     | 0         | 21.93                         | 21.93                           | 21.93                            | 54.13                               | 42.72                                | 44.78                                | 95.6                   | nan                       | 4.87                              | 4.87                                | 4.87                                 | 4.78                       | nan                           | 0.9                           | 0.5143                          | 0.36                             | 3.22                                | 3.22                                 | 3.22                                 | 45-64\n",
       "10             | walk              | 1                        | 1                          | 1                           | 1                              | 1                               | 1                               | 1                 | 1                    | 1093539      | 1         | 0       | 90              | 111              | 56   | 3              | 8                | 175000                  | 1               | 999998                 | 0         | 33.13                         | 33.13                           | 33.13                            | 100.65                              | 100.39                               | 100.39                               | 192.4                  | 48.1                      | 9.86                              | 9.86                                | 9.86                                 | 9.62                       | 9.62                          | 1.8222                        | 1.0412                          | 0.7288                           | 3.22                                | 3.22                                 | 3.22                                 | 45-64\n",
       "... (1005 rows omitted)"
      ]
     },
     "execution_count": 2,
     "metadata": {},
     "output_type": "execute_result"
    }
   ],
   "source": [
    "mc = Table.read_table('../minilab6/modechoice.csv')\n",
    "mc"
   ]
  },
  {
   "cell_type": "markdown",
   "metadata": {},
   "source": [
    "# Bootstrapping, Confidence Intervals, and Uncertainty in estimation\n",
    "If the travel survey data in the mc table is a representative sample of trips in the bay area, then we can use the data to make inferences about how other samples from the same population will behave. In the next section we will estimate the proportion of trips to be taken by bike\n",
    "\n",
    "### Point estimate for the observed proportion.\n",
    "If we choose a sample of 50 trips, what proportion of trips would we expect are taken on bike? Without any other information, the observed proportion from the total sample is a good guess for the expected proportions of trips taken on bike. In the cell below, compute the proportion of trips taken on bike in the mc table"
   ]
  },
  {
   "cell_type": "code",
   "execution_count": 3,
   "metadata": {
    "collapsed": false
   },
   "outputs": [],
   "source": [
    "#Your code here:\n"
   ]
  },
  {
   "cell_type": "markdown",
   "metadata": {},
   "source": [
    "### Bootstrapping:\n",
    "Bootstrapping is a technique where we take a random sample with replacement from the observed data as a means to estimate various statistics on the sample. We can use bootstrapping to estimate a sample mean, sample variance, sample proportions, and to construct confidence intervals. Below is some code where we use bootstrapping to simulate the proportion of samples with a given value. Specifically we will estimate the expected proportion of trips taken on bike from a sample of bike trips."
   ]
  },
  {
   "cell_type": "code",
   "execution_count": 4,
   "metadata": {
    "collapsed": false
   },
   "outputs": [],
   "source": [
    "\"\"\"Empirical distribution of proportion of samples with a given value\"\"\"\n",
    "\n",
    "def simulate_sample_proportion(table, label, value, sample_size, repetitions):\n",
    "\n",
    "    bootstrap_estimates = make_array()\n",
    "\n",
    "    for i in range(repetitions):\n",
    "        new_sample = table.sample(sample_size)\n",
    "        new_sample_proportion = new_sample.where(label,value).num_rows/sample_size\n",
    "        bootstrap_estimates = np.append(bootstrap_estimates, new_sample_proportion)\n",
    "\n",
    "    sample_proportions = Table().with_column('Sample Proportions', bootstrap_estimates)\n",
    "    left_end = percentile(2.5, bootstrap_estimates)\n",
    "    right_end = percentile(97.5, bootstrap_estimates)\n",
    "\n",
    "\n",
    "    # Display empirical histogram and print all relevant quantities\n",
    "    sample_proportions.hist(bins=np.arange(0,np.ceil(max(bootstrap_estimates)*2)/2,max(.02,1/sample_size)))\n",
    "    plt.xlabel('Sample Proportions')\n",
    "    plt.title('Sample Size ' + str(sample_size))\n",
    "    print(\"Sample size: \", sample_size)\n",
    "    print(\"Population proportion:\", table.where(label,value).num_rows/table.num_rows)\n",
    "    print(\"Average of proportions: \", np.mean(bootstrap_estimates))\n",
    "    print(\"SD of sample proportions:\", np.std(bootstrap_estimates))\n",
    "    print ('95 percent CI for proportion of samples where %s == %s is (%.2f, %.2f)'%(label, value, left_end, right_end))\n",
    "\n"
   ]
  },
  {
   "cell_type": "code",
   "execution_count": 5,
   "metadata": {
    "collapsed": false
   },
   "outputs": [
    {
     "name": "stdout",
     "output_type": "stream",
     "text": [
      "Sample size:  50\n",
      "Population proportion: 0.08571428571428572\n",
      "Average of proportions:  0.0875\n",
      "SD of sample proportions: 0.0405481195618\n",
      "95 percent CI for proportion of samples where choice == bike is (0.02, 0.18)\n"
     ]
    },
    {
     "data": {
      "image/png": "[encoded data removed]",
      "text/plain": [
       "<matplotlib.figure.Figure at 0x7f594f3a8780>"
      ]
     },
     "metadata": {},
     "output_type": "display_data"
    }
   ],
   "source": [
    "simulate_sample_proportion(mc, 'choice', 'bike', sample_size=50, repetitions=1000)"
   ]
  },
  {
   "cell_type": "markdown",
   "metadata": {},
   "source": [
    "The cell above simulates 1000 repitions of a 50 draw sample size. Copy and paste the above cell to simulate a sample size of 20, 100, and 300. Answer the following questions:\n",
    "\n",
    "\n",
    "### Questions\n",
    "* Describe how the shape of the histogram changes as the sample size increases.\n",
    "* What are the upper and lower bounds of the 95 percent confidence interval for the proportion of trips take on bike for sample size = 20, 50, 100, 300?\n",
    "* What is the average of the sample proportion for sample size = 20, 50, 100, 300? how does this compare to the poin estimate you found above?\n",
    "* What is the standard deviation of the sample proportion for sample size = 20, 50, 100, 300? Does the standard deviation increase of decrease as the sample size increases?"
   ]
  },
  {
   "cell_type": "code",
   "execution_count": 6,
   "metadata": {
    "collapsed": false
   },
   "outputs": [],
   "source": [
    "# Your code here"
   ]
  },
  {
   "cell_type": "code",
   "execution_count": null,
   "metadata": {
    "collapsed": true
   },
   "outputs": [],
   "source": [
    "# Your answers here\n",
    "\n"
   ]
  },
  {
   "cell_type": "markdown",
   "metadata": {},
   "source": [
    "# Uncertainty in predictions\n",
    "## Drive vs. transit travel time comparison\n",
    "\n",
    "As in mini-lab 7 we will use kNN to predict the travel mode, but now we will look at uncertainty in our predictions. First we take trips where both drive and transit are available, we compute the delta_travel_time and delta_travel_cost for trips where choice = transit and where choice = drive. "
   ]
  },
  {
   "cell_type": "code",
   "execution_count": 7,
   "metadata": {
    "collapsed": false
   },
   "outputs": [],
   "source": [
    "# Get rows where both drive and walk to transit are available\n",
    "transit_drive_avail = mc.where('availability_drive_alone',1).where('availability_walk_transit_walk',1)\n",
    "\n",
    "# From transit_drive_avail, store the rows where the mode 'choice' is 'walk_transit_walk'\n",
    "# in a table called took_transit\n",
    "took_transit = transit_drive_avail.where('choice','walk_transit_walk')\n",
    "\n",
    "# from transit_drive_avail, store the rows where the selected mode 'choice' is 'drive_alone'\n",
    "drove = transit_drive_avail.where('choice','drive_alone')\n",
    "\n",
    "\n",
    "# Compute the difference in travel time (the 'total_travel_time_walk_transit_walk' column-\n",
    "# the 'total_travel_time_drive_alone' column) for people who took transit.\n",
    "chose_wtw_tt_delta = (took_transit.column('total_travel_time_walk_transit_walk')-\n",
    "                      took_transit.column('total_travel_time_drive_alone'))\n",
    "\n",
    "# Compute the difference in travel time (the 'total_travel_time_walk_transit_walk' column-\n",
    "# the 'total_travel_time_drive_alone' column) for people who drove.\n",
    "chose_drive_tt_delta = (drove.column('total_travel_time_walk_transit_walk')-\n",
    "                        drove.column('total_travel_time_drive_alone'))\n",
    "\n",
    "# Compute the cost delta for transit cost vs. drive alone cost for people who took tranist\n",
    "chose_wtw_cost_delta = (took_transit.column('total_travel_cost_walk_transit_walk')\n",
    "                        -took_transit.column('total_travel_cost_drive_alone'))\n",
    "\n",
    "# Compute the cost delta for transit cost vs. drive alone cost for people who drove\n",
    "chose_drive_cost_delta = (drove.column('total_travel_cost_walk_transit_walk')\n",
    "                          -drove.column('total_travel_cost_drive_alone'))"
   ]
  },
  {
   "cell_type": "markdown",
   "metadata": {},
   "source": [
    "## Build the input data table\n",
    "As we did in mini-lab 7, we must first build the input table table that contains the response variable (the thing we want to predict - in this case, whether someone will drive or not), and the inputs that will be used to predict the response variable (in this case delta_travel_time and delta_travel_cost). For this min-lab I used the normalized travel cost and travel time."
   ]
  },
  {
   "cell_type": "code",
   "execution_count": 8,
   "metadata": {
    "collapsed": false
   },
   "outputs": [
    {
     "data": {
      "text/html": [
       "<table border=\"1\" class=\"dataframe\">\n",
       "    <thead>\n",
       "        <tr>\n",
       "            <th>transit_time-drive_time</th> <th>transit_cost-drive_cost</th> <th>choice=drive</th> <th>normed_transit_time-drive_time</th> <th>normed_transit_cost-drive_cost</th>\n",
       "        </tr>\n",
       "    </thead>\n",
       "    <tbody>\n",
       "        <tr>\n",
       "            <td>62.59                  </td> <td>4.1583                 </td> <td>1           </td> <td>0.23162                       </td> <td>1.73266                       </td>\n",
       "        </tr>\n",
       "    </tbody>\n",
       "        <tr>\n",
       "            <td>65.22                  </td> <td>3.1483                 </td> <td>1           </td> <td>0.327507                      </td> <td>1.03031                       </td>\n",
       "        </tr>\n",
       "    </tbody>\n",
       "        <tr>\n",
       "            <td>54.82                  </td> <td>1.4699                 </td> <td>1           </td> <td>-0.0516645                    </td> <td>-0.136824                     </td>\n",
       "        </tr>\n",
       "    </tbody>\n",
       "        <tr>\n",
       "            <td>26.79                  </td> <td>2.3866                 </td> <td>1           </td> <td>-1.0736                       </td> <td>0.500638                      </td>\n",
       "        </tr>\n",
       "    </tbody>\n",
       "        <tr>\n",
       "            <td>41.49                  </td> <td>2.5436                 </td> <td>1           </td> <td>-0.53766                      </td> <td>0.609813                      </td>\n",
       "        </tr>\n",
       "    </tbody>\n",
       "        <tr>\n",
       "            <td>57.78                  </td> <td>2.004                  </td> <td>1           </td> <td>0.0562536                     </td> <td>0.234582                      </td>\n",
       "        </tr>\n",
       "    </tbody>\n",
       "        <tr>\n",
       "            <td>94.82                  </td> <td>0.1838                 </td> <td>1           </td> <td>1.40669                       </td> <td>-1.03116                      </td>\n",
       "        </tr>\n",
       "    </tbody>\n",
       "        <tr>\n",
       "            <td>13.38                  </td> <td>2.8282                 </td> <td>1           </td> <td>-1.56252                      </td> <td>0.807721                      </td>\n",
       "        </tr>\n",
       "    </tbody>\n",
       "        <tr>\n",
       "            <td>68.36                  </td> <td>2.394                  </td> <td>1           </td> <td>0.441988                      </td> <td>0.505783                      </td>\n",
       "        </tr>\n",
       "    </tbody>\n",
       "        <tr>\n",
       "            <td>32.56                  </td> <td>2.2979                 </td> <td>1           </td> <td>-0.863237                     </td> <td>0.438957                      </td>\n",
       "        </tr>\n",
       "    </tbody>\n",
       "</table>\n",
       "<p>... (392 rows omitted)</p"
      ],
      "text/plain": [
       "transit_time-drive_time | transit_cost-drive_cost | choice=drive | normed_transit_time-drive_time | normed_transit_cost-drive_cost\n",
       "62.59                   | 4.1583                  | 1            | 0.23162                        | 1.73266\n",
       "65.22                   | 3.1483                  | 1            | 0.327507                       | 1.03031\n",
       "54.82                   | 1.4699                  | 1            | -0.0516645                     | -0.136824\n",
       "26.79                   | 2.3866                  | 1            | -1.0736                        | 0.500638\n",
       "41.49                   | 2.5436                  | 1            | -0.53766                       | 0.609813\n",
       "57.78                   | 2.004                   | 1            | 0.0562536                      | 0.234582\n",
       "94.82                   | 0.1838                  | 1            | 1.40669                        | -1.03116\n",
       "13.38                   | 2.8282                  | 1            | -1.56252                       | 0.807721\n",
       "68.36                   | 2.394                   | 1            | 0.441988                       | 0.505783\n",
       "32.56                   | 2.2979                  | 1            | -0.863237                      | 0.438957\n",
       "... (392 rows omitted)"
      ]
     },
     "execution_count": 8,
     "metadata": {},
     "output_type": "execute_result"
    }
   ],
   "source": [
    "input_table = Table().with_columns('transit_time-drive_time', chose_drive_tt_delta,\n",
    "                                   'transit_cost-drive_cost', chose_drive_cost_delta,\n",
    "                                   'choice=drive',1)\n",
    "\n",
    "transit_input_table = Table().with_columns('transit_time-drive_time', chose_wtw_tt_delta,\n",
    "                                           'transit_cost-drive_cost', chose_wtw_cost_delta,\n",
    "                                           'choice=drive',0)\n",
    "input_table.append(transit_input_table)\n",
    "\n",
    "def norm(data):\n",
    "    x_minus_mean = data - np.mean(data)\n",
    "    x_norm = x_minus_mean/np.std(data)\n",
    "    return x_norm\n",
    "\n",
    "def transform(to_predict, data):\n",
    "    return (to_predict - np.mean(data))/np.std(data)\n",
    "\n",
    "\n",
    "input_table['normed_transit_time-drive_time'] = norm(input_table['transit_time-drive_time'])\n",
    "input_table['normed_transit_cost-drive_cost'] = norm(input_table['transit_cost-drive_cost'])\n",
    "\n",
    "input_table"
   ]
  },
  {
   "cell_type": "markdown",
   "metadata": {},
   "source": [
    "## The kNN class\n",
    "This is the same as mini-lab 7."
   ]
  },
  {
   "cell_type": "code",
   "execution_count": 9,
   "metadata": {
    "collapsed": false
   },
   "outputs": [],
   "source": [
    "def distance(x, y):\n",
    "    return np.sqrt(np.sum((x-y)**2,1))\n",
    "\n",
    "class KNearestNeighbors():\n",
    "    def __init__ (self, n_neighbors=5):\n",
    "        '''\n",
    "        n_neighbors: number of neighbors\n",
    "        '''\n",
    "        self.n_neighbors = n_neighbors\n",
    "    \n",
    "    def fit(self, input_data, response):\n",
    "        '''\n",
    "        input_data: a table, the values of this table will be used to \n",
    "            compute the distance to the neighbors\n",
    "        response: a table with one column, the values in this column \n",
    "            represent the category of the thing we are trying to predict \n",
    "        '''\n",
    "        self.input_data = input_data.values\n",
    "        self.response = response.values.flatten()\n",
    "    \n",
    "    def predict(self, to_predict, return_kneighbor_inds=True):\n",
    "        '''\n",
    "        to_predict: A single input data point. It should contain one value \n",
    "           for each of the columns in the input_data table.\n",
    "        return_kneighbor_inds: boolean. If True, return the indices of the\n",
    "            nearest neighbors from the input table, otherwise, only the \n",
    "            majority category of the k-nearest neighbors is returned.\n",
    "        '''\n",
    "         #get distance input_data to predict\"\n",
    "        dists = distance(to_predict, self.input_data)\n",
    "\n",
    "        #get indices of k nearest points\n",
    "        inds = np.argsort(dists)[0:self.n_neighbors]\n",
    "\n",
    "        #return the most common response among the neighbors\n",
    "        most_common_response = (np.argmax(np.bincount(self.response[inds])))\n",
    "        if return_kneighbor_inds:\n",
    "            return most_common_response, inds\n",
    "        return most_common_response\n",
    "            "
   ]
  },
  {
   "cell_type": "markdown",
   "metadata": {},
   "source": [
    "## Using the classifier\n",
    "As a reminder, this is how we use the classifier"
   ]
  },
  {
   "cell_type": "code",
   "execution_count": 10,
   "metadata": {
    "collapsed": false
   },
   "outputs": [
    {
     "name": "stdout",
     "output_type": "stream",
     "text": [
      "Based on the k nearest neighbors, the predicted travel mode is take transit\n"
     ]
    }
   ],
   "source": [
    "# Use the input_table.select() method to select the columns to be used to determine \n",
    "# the nearest neighbors\n",
    "input_data = input_table.select(['normed_transit_time-drive_time','normed_transit_cost-drive_cost'])\n",
    "\n",
    "# Use the input_table.select() method to select the column with the response variable\n",
    "response = input_table.select(['choice=drive'])\n",
    "\n",
    "# Create an instance of the KNearestNeighbors class, let's set n_neighbors to 5.\n",
    "kNN = KNearestNeighbors(5)\n",
    "\n",
    "# Load in the nearest neighbor candidates using the fit method:\n",
    "kNN.fit(input_data, response)\n",
    "\n",
    "# Set to_predict =[25,1.5] This means we are predicting the travel mode of a trip with \n",
    "# delta_travel_time = 25 min, delta_travel_cost = 1.5\n",
    "to_predict = [25,1.5]\n",
    "\n",
    "#transform the first element of this point to find out how many standard deviations \n",
    "#the delta_travel_time is from the mean. Do the same for delta_travel_cost\n",
    "normed_to_predict = [transform(to_predict[0],input_table['transit_time-drive_time']),\n",
    "                     transform(to_predict[1],input_table['transit_cost-drive_cost'])]\n",
    "\n",
    "\n",
    "prediction, nn_inds = kNN.predict(normed_to_predict, True)\n",
    "predicted_travel_mode = 'drive' if prediction ==1 else 'take transit'\n",
    "\n",
    "print ('Based on the k nearest neighbors, the predicted travel mode is %s' %predicted_travel_mode)"
   ]
  },
  {
   "cell_type": "markdown",
   "metadata": {},
   "source": [
    "### Visualizing uncertainty in predictions\n",
    "In the cell below, we sample 100 data points from the table and find the predicted travel mode over the input-space. We do this 100 times and color the points based on how many times we predict the travel mode is drive and how many times the travel mode is transit. If the travel mode is always transit the mode is bright blue, if the mode is always drive it will be red, otherwise it will be somewhere in between."
   ]
  },
  {
   "cell_type": "code",
   "execution_count": 11,
   "metadata": {
    "collapsed": false
   },
   "outputs": [
    {
     "data": {
      "text/plain": [
       "<matplotlib.text.Text at 0x7f594ca16828>"
      ]
     },
     "execution_count": 11,
     "metadata": {},
     "output_type": "execute_result"
    },
    {
     "data": {
      "image/png": "[encoded data removed]",
      "text/plain": [
       "<matplotlib.figure.Figure at 0x7f594ca0f9e8>"
      ]
     },
     "metadata": {},
     "output_type": "display_data"
    }
   ],
   "source": [
    "from matplotlib.colors import ListedColormap\n",
    "\n",
    "kNN = KNearestNeighbors(n_neighbors=10)\n",
    "\n",
    "Zs = []\n",
    "\n",
    "h=.2\n",
    "X = input_table.select([3,4]).values\n",
    "x_min, x_max = X[:, 0].min() - 1, X[:, 0].max() + 1\n",
    "y_min, y_max = X[:, 1].min() - 1, X[:, 1].max() + 1\n",
    "xx, yy = np.meshgrid(np.arange(x_min, x_max, h),\n",
    "                     np.arange(y_min, y_max, h))\n",
    "\n",
    "def untransform(x, data):\n",
    "    return x*np.std(data)+np.mean(data)\n",
    "for i in range(100):\n",
    "    sampled_data = input_table.sample(100)\n",
    "    input_data = sampled_data.select(['normed_transit_time-drive_time','normed_transit_cost-drive_cost'])\n",
    "    response = sampled_data.select(['choice=drive'])\n",
    "    kNN.fit(input_data, response)\n",
    "\n",
    "    Z= []\n",
    "    for i in range(len(xx.ravel())):\n",
    "        Z.append(kNN.predict(np.c_[xx.ravel()[i], yy.ravel()[i]],False))\n",
    "\n",
    "\n",
    "    Z = np.array(Z).reshape(xx.shape)\n",
    "    Zs.append(Z)\n",
    "\n",
    "\n",
    "cmap=plt.get_cmap('bwr')\n",
    "plt.figure(figsize=(12,8))   \n",
    "plt.pcolormesh(untransform(xx,input_table.select([0]).values), untransform(yy, input_table.select([1]).values), \n",
    "               np.sum(np.array(Zs),0), cmap=cmap)\n",
    "\n",
    "cmap_bold = ListedColormap(['#0000FF','#FF0000']) \n",
    "\n",
    "plt.scatter(untransform(X[:,0],input_table.select([0]).values), \n",
    "            untransform(X[:,1],input_table.select([1]).values), \n",
    "            c=input_table['choice=drive'], facecolors='none',\n",
    "            cmap=cmap_bold,\n",
    "            alpha = 0.7)\n",
    "\n",
    "plt.xlim(-15,170)\n",
    "plt.ylim(-5,10)\n",
    "\n",
    "plt.xlabel('delta travel time (min)')\n",
    "plt.ylabel('delta travel cost ($)')\n"
   ]
  },
  {
   "cell_type": "markdown",
   "metadata": {},
   "source": [
    "### Questions: \n",
    "* Describe the plot above, what regions of the plot are we certain about our predictions - in what regions are the predictions less certain?"
   ]
  },
  {
   "cell_type": "code",
   "execution_count": null,
   "metadata": {
    "collapsed": true
   },
   "outputs": [],
   "source": [
    "# Your answer here"
   ]
  }
 ],
 "metadata": {
  "kernelspec": {
   "display_name": "Python 3",
   "language": "python",
   "name": "python3"
  },
  "language_info": {
   "codemirror_mode": {
    "name": "ipython",
    "version": 3
   },
   "file_extension": ".py",
   "mimetype": "text/x-python",
   "name": "python",
   "nbconvert_exporter": "python",
   "pygments_lexer": "ipython3",
   "version": "3.5.2"
  }
 },
 "nbformat": 4,
 "nbformat_minor": 0
}
