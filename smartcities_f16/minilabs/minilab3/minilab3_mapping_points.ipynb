{
 "cells": [
  {
   "cell_type": "markdown",
   "metadata": {
    "collapsed": true
   },
   "source": [
    "# Mini-lab 3 - Geocoding, Maps, and Markers"
   ]
  },
  {
   "cell_type": "code",
   "execution_count": 1,
   "metadata": {
    "collapsed": false
   },
   "outputs": [],
   "source": [
    "from datascience import *\n",
    "import numpy as np\n",
    "from geopy.geocoders import Nominatim"
   ]
  },
  {
   "cell_type": "markdown",
   "metadata": {},
   "source": [
    "### Geocoding\n",
    "Geocoding is the process of converting locations (such as address or points of interest) into geographic coordinates (such as lat, lon coordinates). The geopy.geocoders package gives us access to several geolocation API's (like google maps, Nominatim - open street maps API, bing maps API, etc.). The documentations for the geocoding package can be found here: https://geopy.readthedocs.io/en/1.10.0/. \n",
    "\n",
    "\n",
    "#### Geocoding example\n",
    "Below is an example of how the geocoding service works:"
   ]
  },
  {
   "cell_type": "code",
   "execution_count": 2,
   "metadata": {
    "collapsed": false
   },
   "outputs": [
    {
     "data": {
      "text/plain": [
       "Location(Flatiron Building, 175, 5th Avenue, Flatiron, Manhattan, New York County, NYC, New York, 10010, United States of America, (40.7410861, -73.9896297241625, 0.0))"
      ]
     },
     "execution_count": 2,
     "metadata": {},
     "output_type": "execute_result"
    }
   ],
   "source": [
    "geolocator = Nominatim()\n",
    "location = geolocator.geocode(\"175 5th Avenue NYC\")\n",
    "location\n"
   ]
  },
  {
   "cell_type": "markdown",
   "metadata": {},
   "source": [
    "#### location properties\n",
    "The geolocator.geocode() returns a Location object. The location objects have the following properites:"
   ]
  },
  {
   "cell_type": "code",
   "execution_count": 3,
   "metadata": {
    "collapsed": false
   },
   "outputs": [
    {
     "name": "stdout",
     "output_type": "stream",
     "text": [
      "40.7410861\n",
      "-73.9896297241625\n",
      "0.0\n",
      "Flatiron Building, 175, 5th Avenue, Flatiron, Manhattan, New York County, NYC, New York, 10010, United States of America\n"
     ]
    }
   ],
   "source": [
    "print (location.latitude)\n",
    "print (location.longitude)\n",
    "print (location.altitude) \n",
    "print (location.address)"
   ]
  },
  {
   "cell_type": "markdown",
   "metadata": {},
   "source": [
    "#### Use the geolocater to find the lat, lon coordinates for the Statue of Liberty"
   ]
  },
  {
   "cell_type": "code",
   "execution_count": 4,
   "metadata": {
    "collapsed": false
   },
   "outputs": [],
   "source": [
    "# Your code here\n"
   ]
  },
  {
   "cell_type": "markdown",
   "metadata": {},
   "source": [
    "# Creating maps\n",
    "If we generate a table with columns 'latitude', 'longitude', 'popup', and 'color', then we can generate maps with  markers from the table using the maps.Marker.map_table() method. See the example below. Click on the marker and the popup text should appear. "
   ]
  },
  {
   "cell_type": "code",
   "execution_count": 5,
   "metadata": {
    "collapsed": false
   },
   "outputs": [
    {
     "data": {
      "text/html": [
       "<table border=\"1\" class=\"dataframe\">\n",
       "    <thead>\n",
       "        <tr>\n",
       "            <th>latitude</th> <th>longitude</th> <th>popup</th> <th>color</th>\n",
       "        </tr>\n",
       "    </thead>\n",
       "    <tbody>\n",
       "        <tr>\n",
       "            <td>40.7411 </td> <td>-73.9896 </td> <td>Flatiron Building, 175, 5th Avenue, Flatiron, Manhattan, ...</td> <td>red  </td>\n",
       "        </tr>\n",
       "    </tbody>\n",
       "</table>"
      ],
      "text/plain": [
       "latitude | longitude | popup                                                        | color\n",
       "40.7411  | -73.9896  | Flatiron Building, 175, 5th Avenue, Flatiron, Manhattan, ... | red"
      ]
     },
     "execution_count": 5,
     "metadata": {},
     "output_type": "execute_result"
    }
   ],
   "source": [
    "location = geolocator.geocode(\"175 5th Avenue NYC\")\n",
    "table = Table().with_columns(['latitude', [location.latitude],\n",
    "                              'longitude', [location.longitude],\n",
    "                              'popup', [location.address],\n",
    "                              'color', ['red']])\n",
    "table"
   ]
  },
  {
   "cell_type": "code",
   "execution_count": null,
   "metadata": {
    "collapsed": false
   },
   "outputs": [],
   "source": [
    "maps.Marker.map_table(table)"
   ]
  },
  {
   "cell_type": "markdown",
   "metadata": {},
   "source": [
    "### Add a row to the map table for the Statue of Liberty. Make the color 'green'.\n",
    "The [Table.append()](http://data8.org/datascience/_autosummary/datascience.tables.Table.append.html?highlight=append#datascience.tables.Table.append) method may come in handy for adding a row."
   ]
  },
  {
   "cell_type": "code",
   "execution_count": null,
   "metadata": {
    "collapsed": false
   },
   "outputs": [],
   "source": [
    "# Your code here\n",
    "\n"
   ]
  },
  {
   "cell_type": "code",
   "execution_count": null,
   "metadata": {
    "collapsed": false,
    "scrolled": false
   },
   "outputs": [],
   "source": [
    "# after you have added the row, use the following to map the table\n",
    "maps.Marker.map_table(table)"
   ]
  },
  {
   "cell_type": "markdown",
   "metadata": {},
   "source": [
    "### Variations in map style:\n",
    "If we add a radius column to our table, we can use circle markers instead of info markers. See the example below"
   ]
  },
  {
   "cell_type": "code",
   "execution_count": null,
   "metadata": {
    "collapsed": false,
    "scrolled": true
   },
   "outputs": [],
   "source": [
    "table['radius'] = 200\n",
    "maps.Circle.map_table(table)"
   ]
  },
  {
   "cell_type": "markdown",
   "metadata": {},
   "source": [
    "### Mapping utilities and services in San Francisco\n",
    "Mapping can be an important tool for visualizing spatial data. In the rest of this lab we will become more familiar with the mapping tools.\n",
    "\n",
    "#### Firestations in SF\n",
    "'firestations.csv' contains a list of addresses of firestations in San Francisco. "
   ]
  },
  {
   "cell_type": "code",
   "execution_count": null,
   "metadata": {
    "collapsed": false
   },
   "outputs": [],
   "source": [
    "firestations = Table.read_table('firestations.csv')\n",
    "firestations"
   ]
  },
  {
   "cell_type": "markdown",
   "metadata": {},
   "source": [
    "**Your tasks:** \n",
    "1. Get the first address from the firestation table. Add \", San Francisco, CA\" to this address.\n",
    "1. Use the geolocater to find the lat, lon coordinates of this address.\n"
   ]
  },
  {
   "cell_type": "code",
   "execution_count": null,
   "metadata": {
    "collapsed": true
   },
   "outputs": [],
   "source": [
    "# Your code here\n",
    "\n"
   ]
  },
  {
   "cell_type": "markdown",
   "metadata": {},
   "source": [
    "### Mapping all firestations\n",
    "1. Use a **for loop** to iterate through all addresses in the dataframe. Add \", San Francisco, CA\" to each address, then use the geolocater to find the lat, lon coordinates of the address,  \n",
    "1. Append the latitude and longitude info to the firestations_map_table. Set the popup text = the Station # (from the firestation table), make the color \"black\" and the radius 200. \n",
    "1. Map the firestation_map_table using \"maps.Circle.map_table()\" method\n"
   ]
  },
  {
   "cell_type": "code",
   "execution_count": null,
   "metadata": {
    "collapsed": false
   },
   "outputs": [],
   "source": [
    "#Your code here\n",
    "fire_stations_map_table = Table(['latitude', 'longitude', 'popup', 'color', 'radius'])\n",
    "fire_stations_map_table\n"
   ]
  },
  {
   "cell_type": "markdown",
   "metadata": {},
   "source": [
    "### Bonus problem: There's a fire at City Hall!\n",
    "If you want an extra challenge:\n",
    "\n",
    "There's a fire at City Hall! We need to send firetrucks from the closest 3 firestations ASAP! Find City Hall, then find the 3 closest firestations and update your map by coloring these firestations red.\n",
    "1. Add a large blue marker to the firestaion_map_table for the city hall.\n",
    "1. Locate the closest 3 firestations to SF city hall \n",
    "1. Change the color of these firestation to red in your firestations_map_table."
   ]
  },
  {
   "cell_type": "code",
   "execution_count": null,
   "metadata": {
    "collapsed": true
   },
   "outputs": [],
   "source": [
    "# Your code here\n"
   ]
  }
 ],
 "metadata": {
  "kernelspec": {
   "display_name": "Python 3",
   "language": "python",
   "name": "python3"
  },
  "language_info": {
   "codemirror_mode": {
    "name": "ipython",
    "version": 3
   },
   "file_extension": ".py",
   "mimetype": "text/x-python",
   "name": "python",
   "nbconvert_exporter": "python",
   "pygments_lexer": "ipython3",
   "version": "3.5.2"
  }
 },
 "nbformat": 4,
 "nbformat_minor": 0
}
