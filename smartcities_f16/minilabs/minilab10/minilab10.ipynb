{
 "cells": [
  {
   "cell_type": "markdown",
   "metadata": {},
   "source": [
    "# Mini-lab 10 - SF Taxi data part 2\n",
    "\n",
    "In last week's minilab we saw how we could use [linear regression](https://en.wikipedia.org/wiki/Linear_regression) to predict taxi fare data. This week we will take the analysis a bit deeper.\n",
    "\n",
    "As a reminder, the dataset is San Francisco Taxi data from 9/1/2012 to 9/17/2012. The dataset consists of 50,000 taxi trips taken in the Bay Area during that time period. For each trip we are given the departure time, arrival time, passenger fare, departure lat/lon coordinates, arrival lat/lon coordinates, departure taz and arrival taz. "
   ]
  },
  {
   "cell_type": "code",
   "execution_count": null,
   "metadata": {
    "collapsed": true
   },
   "outputs": [],
   "source": [
    "from datascience import *\n",
    "import datetime\n",
    "import matplotlib.pyplot as plt\n",
    "import numpy as np\n",
    "import warnings\n",
    "%matplotlib inline\n",
    "warnings.filterwarnings(\"ignore\")"
   ]
  },
  {
   "cell_type": "code",
   "execution_count": null,
   "metadata": {
    "collapsed": false
   },
   "outputs": [],
   "source": [
    "sf_taxi = Table.read_table('../minilab9/SF_taxi_data.csv')\n",
    "sf_taxi"
   ]
  },
  {
   "cell_type": "markdown",
   "metadata": {},
   "source": [
    "# Part 1 (from mini-lab 9)\n",
    "## Adding meaningful columns to our data table\n",
    "The data table is rich, but the inputs are not as useful as they could be. For example we have date/time strings for arrival and departure. We may like to have information on trip duration, rather than a list of start and end times."
   ]
  },
  {
   "cell_type": "markdown",
   "metadata": {},
   "source": [
    "### Computing Trip Duration\n",
    "We can write our own methods to help process the data. For example we can create a method to compute trip duration. First we have to convert the departure time and arrival time into a timestamp, then we can compute the difference. Finally we convert it to minutes. I have written the get_dur() function below.\n",
    "\n",
    "Use the [.apply](http://data8.org/datascience/_autosummary/datascience.tables.Table.apply.html#datascience.tables.Table.apply) method to create a 'duration (min)' column, a trip 'start hour' column, a trip 'date' column, and a trip 'day of week' column in the sf_taxi table."
   ]
  },
  {
   "cell_type": "code",
   "execution_count": null,
   "metadata": {
    "collapsed": true
   },
   "outputs": [],
   "source": [
    "def get_hour(s): \n",
    "    return datetime.datetime.strptime(s, \"%m/%d/%y %H:%M\").hour\n",
    "\n",
    "def get_date(s): \n",
    "    return datetime.datetime.strptime(s, \"%m/%d/%y %H:%M\").date()\n",
    "\n",
    "def get_weekday(s): # 0 = Monday - 6= Sunday\n",
    "    return datetime.datetime.strptime(s, \"%m/%d/%y %H:%M\").date().weekday()\n",
    "\n",
    "def get_dur(start,finish): \n",
    "    start_time = datetime.datetime.strptime(start, \"%m/%d/%y %H:%M\")\n",
    "    end_time = datetime.datetime.strptime(finish, \"%m/%d/%y %H:%M\")\n",
    "    return (end_time-start_time).seconds/60."
   ]
  },
  {
   "cell_type": "code",
   "execution_count": null,
   "metadata": {
    "collapsed": true
   },
   "outputs": [],
   "source": [
    "# Answer key\n",
    "sf_taxi[\"duration (min)\"] = sf_taxi.apply(lambda start, finish: get_dur(start, finish), [\"departure time\", \"arrival time\"])\n",
    "sf_taxi['start hour'] = sf_taxi.apply(get_hour, \"departure time\")\n",
    "sf_taxi['date'] = sf_taxi.apply(get_date, \"departure time\")\n",
    "sf_taxi['day of week'] = sf_taxi.apply(get_weekday, \"departure time\")"
   ]
  },
  {
   "cell_type": "markdown",
   "metadata": {},
   "source": [
    "## Trip fares exploration\n",
    "SFMTA fare calculation table states that the fare for a trip of x miles will be at least 3.5 + 0.55 * (5x-1). Let us first explore the fare variable by plotting a histogram, and let's create a function to compute this base fare."
   ]
  },
  {
   "cell_type": "code",
   "execution_count": null,
   "metadata": {
    "collapsed": false
   },
   "outputs": [],
   "source": [
    "def base_fare(d):\n",
    "    # 3.5 + 0.55*(5*d - 1), considering only completed 1/5-th miles (hence np.modf()[1])\n",
    "    return ( 3.5 + 0.55* (np.modf(5*d)[1] - 1) )\n",
    "\n",
    "# the histogram of trip fares\n",
    "sf_taxi.select('fare ($)').hist(bins=np.arange(0,10,0.275))"
   ]
  },
  {
   "cell_type": "markdown",
   "metadata": {},
   "source": [
    "### Most popular taxi trips\n",
    "Turns out the TAZ that contains SFO is the TAZ that generates the most trips. \n",
    "\n",
    "In the cell below, find the most popular \"deptaz\" from the sf_taxi data - save the taz id as sfo_taz. The data science [group](http://data8.org/datascience/_autosummary/datascience.tables.Table.group.html?highlight=group) funtion might be helpful for this taks."
   ]
  },
  {
   "cell_type": "code",
   "execution_count": null,
   "metadata": {
    "collapsed": false
   },
   "outputs": [],
   "source": [
    "# Your code here:\n",
    "# Answer key:\n",
    "taz_counts = sf_taxi.group(\"deptaz\")\n",
    "print(taz_counts.where(\"count\", max(taz_counts[\"count\"])))\n",
    "sfo_taz = taz_counts.where(\"count\", max(taz_counts[\"count\"]))[\"deptaz\"][0]\n",
    "taz_counts"
   ]
  },
  {
   "cell_type": "markdown",
   "metadata": {},
   "source": [
    "### Visualize fares data\n",
    "We are going to explore the dependence between the fare variable for the single-pax trips and the distance travelled. We will see how the actual fare paid relate to the base fare computed with a formula. Finally, we will highlight the trips from/to SFO with a different color. \n",
    "\n",
    "* Get trips where the number of passengers == 1 and remove fares <3.5, since base fare=3.5, these are likely to be errors. Save the result as sf_taxi. i.e. save over the previous table.\n",
    "* Create a table called sfo where the deptaz or arrtaz is equal to the sfo_taz\n",
    "* On the same scatter plot that has all trips, plot fares for trips from SFO in blue."
   ]
  },
  {
   "cell_type": "code",
   "execution_count": null,
   "metadata": {
    "collapsed": false
   },
   "outputs": [],
   "source": [
    "# Task 3 - your code here:\n",
    "\n",
    "#Answer key:\n",
    "sf_taxi = sf_taxi.where(sf_taxi[\"num\"]==1)\n",
    "sf_taxi = sf_taxi.where(sf_taxi[\"fare ($)\"]>3.5)\n",
    "\n",
    "#Create a scatter plot of the results:\n",
    "plt.figure(figsize = (12,8))\n",
    "\n",
    "# plot fares for all trips\n",
    "x, y =  sf_taxi.column(\"dist (miles)\"), sf_taxi.column(\"fare ($)\")\n",
    "plt.scatter(x,y,color='grey', alpha =.5, label='All trips')\n",
    "\n",
    "\n",
    "# Task 4 - your code here:\n",
    "# Answer key:\n",
    "sfo = sf_taxi.where((sf_taxi.column(\"deptaz\")==sfo_taz)|\n",
    "                    (sf_taxi.column(\"arrtaz\")==sfo_taz))\n",
    "\n",
    "\n",
    "# Task 5 - your code here:\n",
    "#Answer key:\n",
    "x, y =  sfo.column(\"dist (miles)\"), sfo.column(\"fare ($)\")\n",
    "plt.scatter(x,y,color='blue', alpha = .5, label='Trips from SFO')\n",
    "\n",
    "\n",
    "# plot the lower bound of the fare, i.e. the official formula\n",
    "plt.plot([0, 40], [base_fare(0), base_fare(40)], 'red', label='Base fare')\n",
    "\n",
    "plt.title('Fare vs. distance')\n",
    "plt.xlabel('Distance, miles')\n",
    "plt.ylabel('Fare, $')\n",
    "plt.ylim([0,200])\n",
    "plt.xlim([0,40])\n",
    "plt.legend()"
   ]
  },
  {
   "cell_type": "markdown",
   "metadata": {},
   "source": [
    "## Non-SFO trips within 15 miles\n",
    "\n",
    "Let us narrow it down to the non-SFO trips of 0.1<d<15 miles.\n",
    "* Create a table called nsfo_taxi that contains all trips where \"deptaz\" and \"arrtaz\" are not equal to sfo_taz. Keep only the rows where 0.01<\"dist (miles)\"<15"
   ]
  },
  {
   "cell_type": "code",
   "execution_count": null,
   "metadata": {
    "collapsed": false
   },
   "outputs": [],
   "source": [
    "# Your code here:\n",
    "#Answer key\n",
    "nsfo_taxi = sf_taxi.where((sf_taxi[\"deptaz\"]!=sfo_taz) & (sf_taxi[\"arrtaz\"]!=sfo_taz))\n",
    "nsfo_taxi = nsfo_taxi.where(nsfo_taxi[\"dist (miles)\"] < 15)\n",
    "nsfo_taxi = nsfo_taxi.where(nsfo_taxi[\"dist (miles)\"] > 0.1)"
   ]
  },
  {
   "cell_type": "markdown",
   "metadata": {},
   "source": [
    "## Extra fare\n",
    "In most trips, the actual fare was way higher than the base one. The reason for the extra fare paid by pax is traffic delays (and also drivers taking longer trips than necessary, sometimes due to congestion). Let's see if this extra surcharge is related to the length and duration of the trip. This will help us predict it before a trip started."
   ]
  },
  {
   "cell_type": "code",
   "execution_count": null,
   "metadata": {
    "collapsed": false
   },
   "outputs": [],
   "source": [
    "# Compute an extra fare paid by passengers\n",
    "nsfo_taxi[\"extra\"] = nsfo_taxi[\"fare ($)\"] - base_fare(nsfo_taxi[\"dist (miles)\"])\n"
   ]
  },
  {
   "cell_type": "markdown",
   "metadata": {},
   "source": [
    "## Linear regression:\n",
    "The functions below are introduced in data8 'correlation' and 'prediction' topics. See examples in http://data8.org/fa16/lectures/lec29.pdf"
   ]
  },
  {
   "cell_type": "code",
   "execution_count": null,
   "metadata": {
    "collapsed": true
   },
   "outputs": [],
   "source": [
    "def standard_units(any_numbers):\n",
    "    \"Convert any array of numbers to standard units.\"\n",
    "    return (any_numbers - np.mean(any_numbers))/np.std(any_numbers)  \n",
    "\n",
    "def correlation(t, x, y):\n",
    "    \"Compute r.\"\n",
    "    return np.mean(standard_units(t.column(x))*standard_units(t.column(y)))\n",
    "\n",
    "def slope(table, x, y):\n",
    "    r = correlation(table, x, y)\n",
    "    return r * np.std(table.column(y))/np.std(table.column(x))\n",
    "\n",
    "def intercept(table, x, y):\n",
    "    a = slope(table, x, y)\n",
    "    return np.mean(table.column(y)) - a * np.mean(table.column(x))\n",
    "\n",
    "def predict(x, slope, intercept):\n",
    "    y = x*slope+intercept\n",
    "    return y"
   ]
  },
  {
   "cell_type": "markdown",
   "metadata": {},
   "source": [
    "## Using the linear regression equations\n",
    "In the cell below: \n",
    "\n",
    "* Find the slope of regression line that correspond to the \"extra\" cost (y) as a function of \"dist (miles)\", (x).\n",
    "* Find the intercept of regression line that relates the \"extra\" cost (y) as a function of \"dist (miles)\", (x).\n",
    "* Predict the 'extra' cost (above the base fare) for a 5 mile trip"
   ]
  },
  {
   "cell_type": "code",
   "execution_count": null,
   "metadata": {
    "collapsed": false
   },
   "outputs": [],
   "source": [
    "# Your code here:\n",
    "\n",
    "#answer key\n",
    "extra_dist_slope = slope(nsfo_taxi,'dist (miles)','extra')\n",
    "extra_dist_intercept = intercept(nsfo_taxi,'dist (miles)','extra')\n",
    "extra_dist_5mi = predict(5,extra_dist_slope, extra_dist_intercept)\n",
    "print ('The equation for the best fit regression line is: Extra = %.2f * dist + %.2f'\n",
    "       %(extra_dist_slope, extra_dist_intercept))\n",
    "print ('The expected extra cost for a 5 mile trip is $%.2f' %extra_dist_5mi)"
   ]
  },
  {
   "cell_type": "markdown",
   "metadata": {},
   "source": [
    "### Extra Fare vs Trip Length\n",
    "In the cell below, we construct a scatter plot of the travel distance vs. extra cost (above the base fare). We overlay the best-fit regression line on the plot."
   ]
  },
  {
   "cell_type": "code",
   "execution_count": null,
   "metadata": {
    "collapsed": false
   },
   "outputs": [],
   "source": [
    "# for convenience, create x, t, extra variables\n",
    "x, t, extra = nsfo_taxi.column(\"dist (miles)\"), nsfo_taxi.column(\"duration (min)\"), nsfo_taxi.column(\"extra\")\n",
    "\n",
    "plt.figure(figsize = (8,6))\n",
    "plt.scatter(x, extra, color='blue', alpha = .02, label='Distance surcharge')\n",
    "\n",
    "dist_slope = slope(nsfo_taxi,'dist (miles)','extra')\n",
    "dist_intercept = intercept(nsfo_taxi,'dist (miles)','extra')\n",
    "plt.plot(x, predict(x,dist_slope,dist_intercept), color='red',\n",
    "         label='Extra = %.2f * dist + %.2f'%(dist_slope, dist_intercept))\n",
    "\n",
    "plt.ylim([-5,15])\n",
    "plt.xlim([0,10])\n",
    "plt.xlabel(\"Trip distance (miles)\")\n",
    "plt.ylabel(\"Extra fare ($)\")\n",
    "plt.legend()"
   ]
  },
  {
   "cell_type": "markdown",
   "metadata": {},
   "source": [
    "## Extra Fare vs Trip Duration\n",
    "In the cell below, we construct a scatter plot of the travel time vs. extra cost (above the base fare). We overlay the best-fit regression line on the plot."
   ]
  },
  {
   "cell_type": "code",
   "execution_count": null,
   "metadata": {
    "collapsed": false
   },
   "outputs": [],
   "source": [
    "plt.figure(figsize = (8,6))\n",
    "plt.scatter(t, extra, color='blue', alpha = .02, label='Delay surcharge')\n",
    "\n",
    "time_slope = slope(nsfo_taxi,'duration (min)','extra')\n",
    "time_intercept = intercept(nsfo_taxi,'duration (min)','extra')\n",
    "\n",
    "plt.plot(t, predict(t,time_slope,time_intercept), color='red',\n",
    "        label='Extra = %.2f * duration + (%.2f)'%(time_slope, time_intercept))\n",
    "plt.ylim([-5,30])\n",
    "plt.xlim([0,30])\n",
    "plt.xlabel(\"Trip duration (min)\")\n",
    "plt.ylabel(\"Extra fare ($)\")\n",
    "plt.legend()"
   ]
  },
  {
   "cell_type": "markdown",
   "metadata": {},
   "source": [
    "## Trip Length or Trip Duration ?\n",
    "Both length and duration of a trip seem to have an association with extra fares. Longer trips are more expensive. We can characterize this with a correlation coefficient. \n",
    "* **Question** From looking at the scatter plots which measure seems to be more indicative of the expected extra cost of a trip?"
   ]
  },
  {
   "cell_type": "code",
   "execution_count": null,
   "metadata": {
    "collapsed": true
   },
   "outputs": [],
   "source": [
    "# Your answer here:\n",
    "# The extra fare vs. duration plot seems to be a better fit than extra fare vs.\n",
    "# distance. The data points are closer to the regression line."
   ]
  },
  {
   "cell_type": "markdown",
   "metadata": {},
   "source": [
    "We will use the correation function to compare two variables. In the cell below find \n",
    "\n",
    "* the correlation between the \"dist (miles)\" and \"extra\".\n",
    "* the correlation between the \"duration (min)\" and \"extra\"\n",
    "\n",
    "**Question** Based on these results, does trip length or duration seem to be a better predictor of the extra travel fare?"
   ]
  },
  {
   "cell_type": "code",
   "execution_count": null,
   "metadata": {
    "collapsed": false
   },
   "outputs": [],
   "source": [
    "# Your code here:\n",
    "#Answer key:\n",
    "dist_extra_correlation = correlation(nsfo_taxi, 'dist (miles)', 'extra')\n",
    "time_extra_correlation = correlation(nsfo_taxi, 'duration (min)', 'extra')\n",
    "\n",
    "print('Trip length and extra fare, r=%.3f' % dist_extra_correlation)\n",
    "print('Trip duration and extra fare, r=%.3f' % time_extra_correlation)"
   ]
  },
  {
   "cell_type": "code",
   "execution_count": null,
   "metadata": {
    "collapsed": true
   },
   "outputs": [],
   "source": [
    "#Your answer here:\n",
    "# The trip duration and extra fare relationship has a much higher \n",
    "# correlation coefficient, so is a better predictor of the extra \n",
    "# fare."
   ]
  },
  {
   "cell_type": "markdown",
   "metadata": {},
   "source": [
    "# Part 2: Predictions with linear regression\n",
    "From the previous mini-lab we found that the travel time is a better indicator of the extra fare (fare above the base fare) than travel distance. Let's make a predict_fare_dist(dist, tt) method to estimate the fare for a given trip."
   ]
  },
  {
   "cell_type": "code",
   "execution_count": null,
   "metadata": {
    "collapsed": true
   },
   "outputs": [],
   "source": [
    "def predict_fare_dist(table, dist):\n",
    "    # compute parameters of a linear regression for the 'extra', as a function of duration\n",
    "    dist_slope = slope(table,'dist (miles)','extra')\n",
    "    dist_intercept = intercept(table,'dist (miles)','extra')\n",
    "    \n",
    "    predicted_extra = predict(dist,dist_slope,dist_intercept)\n",
    "    \n",
    "    # add base fare and compute predicted 'extra'\n",
    "    return base_fare(dist) + predicted_extra\n",
    "\n",
    "def predict_fare_time(table, dist, tt):\n",
    "    \n",
    "    # compute parameters of a linear regression for the 'extra', as a function of duration\n",
    "    tt_slope = slope(table,'duration (min)','extra')\n",
    "    tt_intercept = intercept(table,'duration (min)','extra')\n",
    "    \n",
    "    predicted_extra = predict(tt,tt_slope,tt_intercept)\n",
    "    \n",
    "    # add base fare and compute predicted 'extra'\n",
    "    return base_fare(dist) + predicted_extra"
   ]
  },
  {
   "cell_type": "markdown",
   "metadata": {},
   "source": [
    "### Using these functions:"
   ]
  },
  {
   "cell_type": "code",
   "execution_count": null,
   "metadata": {
    "collapsed": false
   },
   "outputs": [],
   "source": [
    "d = 12.1\n",
    "tt = 46.0\n",
    "\n",
    "print('Base fare for a %.1f miles trip is: $%.1f' % (d, base_fare(d)))\n",
    "print('Predicted actual fare for a %.1f miles trip is: $%.1f' % (d, predict_fare_dist(nsfo_taxi, d)))\n",
    "print('Predicted actual fare for a %.1f miles trip that takes %.1f minutes is: $%.1f' \n",
    "          % (d, tt, predict_fare_time(nsfo_taxi, d, tt)))"
   ]
  },
  {
   "cell_type": "markdown",
   "metadata": {},
   "source": [
    "## Computing predictions for a table\n",
    "We can write similar functions to predict fares for a whole table. Instead of passing the length and duration arguments, we will pass the whole table_q to the prediction function. It can be the same table that is used to estimate parameters, or a different table containing the trips for which fares are unknown and has to be predicted."
   ]
  },
  {
   "cell_type": "code",
   "execution_count": null,
   "metadata": {
    "collapsed": true
   },
   "outputs": [],
   "source": [
    "def predict_fare_table_dist(table, table_q):\n",
    "    \n",
    "    # compute parameters of a linear regression for the 'extra', as a function of distance\n",
    "    dist_slope = slope(table,'dist (miles)','extra')\n",
    "    dist_intercept = intercept(table,'dist (miles)','extra')\n",
    "     \n",
    "    predicted_extra = predict(table_q.column(\"dist (miles)\"),dist_slope,dist_intercept)\n",
    "    \n",
    "    # add base fare and compute predicted 'extra'    \n",
    "    return base_fare(table_q[\"dist (miles)\"]) + predicted_extra\n",
    "\n",
    "def predict_fare_table_time(table, table_q):\n",
    "    \n",
    "    # compute parameters of a linear regression for the 'extra', as a function of duration\n",
    "    tt_slope = slope(table,'duration (min)','extra')\n",
    "    tt_intercept = intercept(table,'duration (min)','extra')\n",
    "    \n",
    "    predicted_extra = predict(table_q.column(\"duration (min)\"),tt_slope,tt_intercept)\n",
    "    \n",
    "    # add base fare and compute predicted 'extra'    \n",
    "    return base_fare(table_q[\"dist (miles)\"]) + predicted_extra"
   ]
  },
  {
   "cell_type": "markdown",
   "metadata": {},
   "source": [
    "## Does it work? \n",
    "\n",
    "Let's see if our method produces accurate predictions. We are going to give it only a part of the trips (for example, first 10000) to estimate parameters, and then see if we can predict the fares for the rest of the dataset.\n",
    "\n",
    "We will call these subset training and testing tables. "
   ]
  },
  {
   "cell_type": "code",
   "execution_count": null,
   "metadata": {
    "collapsed": false
   },
   "outputs": [],
   "source": [
    "# training and testing data tables\n",
    "train_table = nsfo_taxi.where(nsfo_taxi[\"id\"]<10000)\n",
    "test_table = nsfo_taxi.where(nsfo_taxi[\"id\"]>10000)\n",
    "\n",
    "# compute predictions\n",
    "pred = predict_fare_table_dist(train_table, test_table)\n",
    "pred_time = predict_fare_table_time(train_table, test_table)"
   ]
  },
  {
   "cell_type": "markdown",
   "metadata": {},
   "source": [
    "### How accurate are our predictions?\n",
    "We can compare our predictions with the right answers (we know them in this case sinse we partitioned the data ourselves). Let's do it with a *predicted vs observed* scatterplot."
   ]
  },
  {
   "cell_type": "code",
   "execution_count": null,
   "metadata": {
    "collapsed": false
   },
   "outputs": [],
   "source": [
    "# plot predictions vs known (for both methods)\n",
    "plt.figure(figsize = (10,10))\n",
    "plt.scatter( test_table[\"fare ($)\"], pred, c='g', alpha=0.15, \n",
    "            label=\"(base-fare)+distance-based \\nfare predictions\")\n",
    "plt.scatter( test_table[\"fare ($)\"], pred_time, c='b', alpha=0.15, \n",
    "            label=\"(base-fare)+duration-based \\nfare predictions\")\n",
    "plt.plot([0, 60], [0, 60], 'red')\n",
    "plt.ylim([0,60])\n",
    "plt.xlim([0,60])\n",
    "plt.xlabel('actual fare ($)')\n",
    "plt.ylabel('predicted fare ($)')\n",
    "plt.legend()"
   ]
  },
  {
   "cell_type": "markdown",
   "metadata": {
    "collapsed": true
   },
   "source": [
    "* **Question 1**: What does the red line represent in the plot above?\n",
    "* **Question 2**: Which gives better predictions - the distance-based method, or the duration based method? How do you know?\n"
   ]
  },
  {
   "cell_type": "code",
   "execution_count": null,
   "metadata": {
    "collapsed": true
   },
   "outputs": [],
   "source": [
    "# Your answers here:\n"
   ]
  },
  {
   "cell_type": "markdown",
   "metadata": {},
   "source": [
    "### Root Mean Square Error\n",
    "\n",
    "Let's quantify how much better one method is than the other. We will use an RMSE to characterize how well our predictions match the observed data. "
   ]
  },
  {
   "cell_type": "code",
   "execution_count": null,
   "metadata": {
    "collapsed": false
   },
   "outputs": [],
   "source": [
    "def RMSE(y,yp):\n",
    "    \n",
    "    return np.sqrt(np.sum( (y-yp)*(y-yp) ) / len(y))\n",
    "\n",
    "print(\"With distance only:\", RMSE(test_table[\"fare ($)\"], pred))\n",
    "print(\"With distance & TT:\", RMSE(test_table[\"fare ($)\"], pred_time))"
   ]
  },
  {
   "cell_type": "markdown",
   "metadata": {},
   "source": [
    "## Wait, but trip duration is not known before the trip is taken...!\n",
    "\n",
    "Indeed, both scatterplot and RMSE show that knowing trip duration helps a lot in predicting the fares. The problem is that it is not known before the trip is taken. One could use a routing service to get an estimated trip duration from a trustful third party.\n",
    "\n",
    "Or... we can predict it from data too! \n",
    "\n",
    "Travel time within city limits will depends on the day of the week and the time of the day. Therefore our predictions will be made for each given time of day / day of week. "
   ]
  },
  {
   "cell_type": "code",
   "execution_count": null,
   "metadata": {
    "collapsed": false
   },
   "outputs": [],
   "source": [
    "# this function returns the parameters\n",
    "def get_TT_params(table, day, hour):\n",
    "    \n",
    "    tb = table.where(table['day of week']==day)\n",
    "    tb = tb.where(tb['start hour']==hour)\n",
    "    \n",
    "    dist_slope = slope(tb,'dist (miles)','duration (min)')\n",
    "    dist_intercept = intercept(tb,'dist (miles)','duration (min)')\n",
    "     \n",
    "    return dist_slope, dist_intercept\n",
    "\n",
    "# this fucntion returns the predictions\n",
    "def predict_TT(table, dist, day, hour):\n",
    "    \n",
    "    tb = table.where(table['day of week']==day)\n",
    "    tb = tb.where(tb['start hour']==hour)\n",
    "    \n",
    "    dist_slope = slope(tb,'dist (miles)','duration (min)')\n",
    "    dist_intercept = intercept(tb,'dist (miles)','duration (min)')\n",
    "     \n",
    "    return dist_slope*dist+dist_intercept"
   ]
  },
  {
   "cell_type": "markdown",
   "metadata": {},
   "source": [
    "## Explore model parameters.\n",
    "Let us explore if this approch makes sense. We can look if model parameters vary throught the day/week. We are going to loop over days/hours within a week, estimate model paramaters and save them in a form of the average speed [mph]."
   ]
  },
  {
   "cell_type": "code",
   "execution_count": null,
   "metadata": {
    "collapsed": false
   },
   "outputs": [],
   "source": [
    "inverse_slopes = [] # we will store results here\n",
    "intercepts = []\n",
    "\n",
    "ind = np.arange(7*24)\n",
    "\n",
    "hours = np.arange(0,24) # 24 hours\n",
    "wdays = np.arange(0,7) # 7 days\n",
    "\n",
    "#Your task\n",
    "# 1. do an outer loop through the weekdays\n",
    "# 2.  do an inner loop through the hours\n",
    "# 3.   find the linear relationship between travel time and distance \n",
    "#      for the given weekday and hour. You can use the get_TT_parameters\n",
    "#      method above to help you out! \n",
    "#      Append 60/a to the inverse_slopes list.\n",
    "#      Append b to the intercepts list\n",
    "\n",
    "#Your code here:\n"
   ]
  },
  {
   "cell_type": "code",
   "execution_count": null,
   "metadata": {
    "collapsed": false
   },
   "outputs": [],
   "source": [
    "fig = plt.figure(figsize=(12,4))                                                               \n",
    "ax = fig.add_subplot(1,1,1)  \n",
    "\n",
    "# major ticks every 12, minor ticks every 1 hour                                      \n",
    "major_ticks = np.arange(0, 24*7, 12)                                              \n",
    "minor_ticks = np.arange(0, 24*7, 1)                                               \n",
    "\n",
    "ax.set_xticks(major_ticks)                                                       \n",
    "ax.set_xticks(minor_ticks, minor=True)                                           \n",
    "\n",
    "# and a corresponding grid                                                       \n",
    "\n",
    "ax.grid(which='both')                                                            \n",
    "\n",
    "# or if you want differnet settings for the grids:                               \n",
    "ax.grid(which='minor', alpha=0.2)                                                \n",
    "ax.grid(which='major', alpha=0.75) \n",
    "\n",
    "ax.set_xlabel('hour')\n",
    "# ax.set_ylabel('average travel speed')\n",
    "\n",
    "ax.plot(ind, inverse_slopes, label='60/slope')\n",
    "ax.plot(ind, intercepts, label='intercept')\n",
    "ax.legend()"
   ]
  },
  {
   "cell_type": "markdown",
   "metadata": {},
   "source": [
    "** Question**: How can we interpret the inverse_slopes and intercept parameters?"
   ]
  },
  {
   "cell_type": "code",
   "execution_count": null,
   "metadata": {
    "collapsed": true
   },
   "outputs": [],
   "source": [
    "# Your answer here\n"
   ]
  },
  {
   "cell_type": "markdown",
   "metadata": {},
   "source": [
    "### Predictions assuming trip duration is known\n",
    "(same as above)"
   ]
  },
  {
   "cell_type": "code",
   "execution_count": null,
   "metadata": {
    "collapsed": false
   },
   "outputs": [],
   "source": [
    "d = 12.1\n",
    "tt = 46.0\n",
    "\n",
    "print('Base fare for a %.1f miles trip is: $%.1f' % (d, base_fare(d)))\n",
    "print('Predicted actual fare for a %.1f miles trip is: $%.1f' % (d, predict_fare_dist(nsfo_taxi, d)))\n",
    "print('Predicted actual fare for a %.1f miles trip that takes %.1f minutes is: $%.1f' \n",
    "          % (d, tt, predict_fare_time(nsfo_taxi, d, tt)))"
   ]
  },
  {
   "cell_type": "markdown",
   "metadata": {},
   "source": [
    "### Predictions of fare based on predicted trip duration\n",
    "\n",
    "First, we predict trip duration for a given length, if it start on a given day at a given hour.\n",
    "\n",
    "Then, we use this travel time to predict the fare."
   ]
  },
  {
   "cell_type": "code",
   "execution_count": null,
   "metadata": {
    "collapsed": false
   },
   "outputs": [],
   "source": [
    "day = 1\n",
    "hour = 9\n",
    "d = 12.1\n",
    "\n",
    "TT = predict_TT(nsfo_taxi, d, day, hour)\n",
    "print('Precited travel time for a %.1f miles trip on day %d at hour %d is: %.1f minutes.' % (d, day, hour, TT))\n",
    "\n",
    "print('Predicted actual fare for this trip is: $%.1f' \n",
    "          % predict_fare_time(nsfo_taxi, d, TT))"
   ]
  },
  {
   "cell_type": "markdown",
   "metadata": {},
   "source": [
    "## Do predicted fares vary throughout a week?\n",
    "\n",
    "Let's check, for a trip of given length."
   ]
  },
  {
   "cell_type": "code",
   "execution_count": null,
   "metadata": {
    "collapsed": true
   },
   "outputs": [],
   "source": [
    "dist = 12.0 \n",
    "\n",
    "dfares = [] # we will store results here\n",
    "\n",
    "ind = np.arange(7*24)\n",
    "\n",
    "hours = np.arange(0,24) # 24 hours\n",
    "wdays = np.arange(0,7) # 7 days\n",
    "\n",
    "for wday in wdays:\n",
    "    for h in hours: \n",
    "    \n",
    "        TT = predict_TT(nsfo_taxi, dist, wday, h)\n",
    "        ff = predict_fare_time(nsfo_taxi, dist, TT)\n",
    "        \n",
    "        dfares.append( ff ) "
   ]
  },
  {
   "cell_type": "code",
   "execution_count": null,
   "metadata": {
    "collapsed": false
   },
   "outputs": [],
   "source": [
    "fig = plt.figure(figsize=(12,4))                                                               \n",
    "ax = fig.add_subplot(1,1,1)  \n",
    "\n",
    "# major ticks every 12, minor ticks every 1 hour                                      \n",
    "major_ticks = np.arange(0, 24*7, 12)                                              \n",
    "minor_ticks = np.arange(0, 24*7, 1)                                               \n",
    "\n",
    "ax.set_xticks(major_ticks)                                                       \n",
    "ax.set_xticks(minor_ticks, minor=True)                                           \n",
    "\n",
    "# and a corresponding grid                                                       \n",
    "\n",
    "ax.grid(which='both')                                                            \n",
    "\n",
    "# or if you want differnet settings for the grids:                               \n",
    "ax.grid(which='minor', alpha=0.2)                                                \n",
    "ax.grid(which='major', alpha=0.75) \n",
    "\n",
    "ax.set_xlabel('hour')\n",
    "ax.set_ylabel('predicted travel fare ($)')\n",
    "ax.set_title('predicted travel fare for a 12 mile trip')\n",
    "\n",
    "ax.plot(ind, dfares, 'k')"
   ]
  },
  {
   "cell_type": "markdown",
   "metadata": {},
   "source": [
    "# How accurate is our final method?\n",
    "In the cell below we predict the travel time for the whole table and use it to estimate the travel fare for the sf_taxi table. How does the RMSE compare to the RMSE for the distance only fare predictor, and the known-distance fare predictor."
   ]
  },
  {
   "cell_type": "code",
   "execution_count": null,
   "metadata": {
    "collapsed": false
   },
   "outputs": [],
   "source": [
    "# Predict tt for the whole table:\n",
    "\n",
    "# this takes a while to run!\n",
    "predicted_tt = nsfo_taxi.apply(lambda dist, day, hour: predict_TT(nsfo_taxi, dist, day, hour), \n",
    "                               ['dist (miles)', 'day of week', 'start hour'])\n",
    "\n",
    "#add predicted tt to the table:\n",
    "nsfo_taxi = nsfo_taxi.with_column('predicted_tt', predicted_tt)\n",
    "\n",
    "# create a method to predict using the predicted tt column\n",
    "def predict_fare_table_predictedtt(table, table_q):\n",
    "    # compute parameters of a linear regression for the 'extra', as a function of duration\n",
    "    tt_slope = slope(table,'duration (min)','extra')\n",
    "    tt_intercept = intercept(table,'duration (min)','extra')\n",
    "    \n",
    "    predicted_extra = predict(table_q.column(\"predicted_tt\"),tt_slope,tt_intercept)\n",
    "    # add base fare and compute predicted 'extra'    \n",
    "    return base_fare(table_q[\"dist (miles)\"]) + predicted_extra\n",
    "\n",
    "#separate train and test data:\n",
    "train_table = nsfo_taxi.where(nsfo_taxi[\"id\"]<10000)\n",
    "test_table = nsfo_taxi.where(nsfo_taxi[\"id\"]>10000)\n",
    "\n",
    "# compute predictions\n",
    "pred = predict_fare_table_dist(train_table, test_table)\n",
    "pred_predtt = predict_fare_table_predictedtt(train_table, test_table)"
   ]
  },
  {
   "cell_type": "code",
   "execution_count": null,
   "metadata": {
    "collapsed": false
   },
   "outputs": [],
   "source": [
    "nsfo_taxi"
   ]
  },
  {
   "cell_type": "code",
   "execution_count": null,
   "metadata": {
    "collapsed": false
   },
   "outputs": [],
   "source": [
    "# plot predictions vs known (for both methods)\n",
    "plt.figure(figsize = (10,10))\n",
    "plt.scatter( test_table[\"fare ($)\"], pred, c='g', alpha=0.25)\n",
    "plt.scatter( test_table[\"fare ($)\"], pred_predtt, c='b', alpha=0.25)\n",
    "plt.plot([0, 60], [0, 60], 'red')\n",
    "plt.ylim([0,60])\n",
    "plt.xlim([0,60])\n",
    "plt.xlabel('actual fare ($)')\n",
    "plt.ylabel('predicted fare ($)')"
   ]
  },
  {
   "cell_type": "code",
   "execution_count": null,
   "metadata": {
    "collapsed": false
   },
   "outputs": [],
   "source": [
    "print(\"With distance only:\", RMSE(test_table[\"fare ($)\"], pred))\n",
    "print(\"With distance & TT:\", RMSE(test_table[\"fare ($)\"], pred_time))\n",
    "print(\"With distance & predicted TT:\", RMSE(test_table[\"fare ($)\"], pred_predtt))"
   ]
  }
 ],
 "metadata": {
  "kernelspec": {
   "display_name": "Python 3",
   "language": "python",
   "name": "python3"
  },
  "language_info": {
   "codemirror_mode": {
    "name": "ipython",
    "version": 3
   },
   "file_extension": ".py",
   "mimetype": "text/x-python",
   "name": "python",
   "nbconvert_exporter": "python",
   "pygments_lexer": "ipython3",
   "version": "3.5.2"
  }
 },
 "nbformat": 4,
 "nbformat_minor": 0
}
