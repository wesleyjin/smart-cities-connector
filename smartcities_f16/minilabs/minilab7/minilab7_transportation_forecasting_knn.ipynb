{
 "cells": [
  {
   "cell_type": "markdown",
   "metadata": {},
   "source": [
    "# Mini-lab 7: Transportation forecasting with kNN\n",
    "\n",
    "As in mini-lab 6 we will analyze mode choice as a function of delta_travel_time, and delta_travel_cost, the difference in travel time and cost between the transit travel option and the driving travel option. In this mini-lab we will build a method to predict the travel mode for a trip based on the travel mode of the \"nearest neighbors\". \n",
    "\n",
    "### k nearest neighbors algorithm:\n",
    "The [k-nearest neighbors algorithm](https://en.wikipedia.org/wiki/K-nearest_neighbors_algorithm) is a popular classification technique in computer science. In this mini-lab we will build a classifier that predicts the travel mode for unobserved trips based on the travel mode of the nearest neighbors. Here, the nearest neighbors are the observation with the most similar delta_travel_time and delta_travel_cost."
   ]
  },
  {
   "cell_type": "markdown",
   "metadata": {},
   "source": [
    "### The dataset\n",
    "The dataset is the same as we used in Mini-lab 6. It contains the actual travel decisions for travelers given various travel alternatives. Below is the detailed dataset description.\n",
    "#### \"The California Department of Transportation (Caltrans) conducts the California Household Travel Survey (CHTS) every ten years to obtain detailed information about the socioeconomic characteristics and travel behavior of households statewide.\" -[Caltrans website](http://www.dot.ca.gov/hq/tpp/offices/omsp/statewide_travel_analysis/chts.html)\n",
    "\n",
    "\n",
    "The modechoice.csv file contains data from the CHTS on trips that people living in the bay area actually took. The dataset contains demographic info on the traveler as well as trip origin taz and destination taz. We have combined this data with the inter TAZ travel time/cost data that we used in mini-labs 4 and 5 to provide information on trip cost, time, and distance for all available travel modes.\n",
    "\n",
    "Note that for some trips/some people, not all modes are available. Some people do not have a drivers license or do not have access to a car. Sometimes biking is infeasible due to bike ownership, trip distance or restrictions on biking across bridges. \n",
    "\n",
    "The data in modechoice.csv is as follows:\n",
    "<table>\n",
    "    <tr>\n",
    "        <td>'observation_id'</td>   <td>int id</td>\n",
    "    </tr><tr>\n",
    "        <td>'choice'        </td>   <td>  string mode chosen <li>'drive_alone' - drive alone,<li>'shared_ride_2' - 2 person shared ride,<li>'shared_ride_3' - 3 person shared ride,<li>'walk_transit_walk' - walk tranit walk,<li>'drive_transit_walk' - drive transit walk,<li>'walk_transit_drive' - walk transit drive,<li>'walk' - walk,<li>'bike' - bike </td>\n",
    "    </tr><tr>\n",
    "    <td> 'availability_drive_alone'</td>   <td>1 if available else 0</td>\n",
    "    </tr><tr>\n",
    "    <td> 'availability_shared_ride_2'</td>   <td>1 if available else 0</td>\n",
    "    </tr><tr>\n",
    "    <td> 'availability_shared_ride_3+'</td>   <td>1 if available else 0</td>\n",
    "    </tr><tr>\n",
    "    <td> 'availability_walk_transit_walk'</td>   <td>1 if available else 0</td>\n",
    "    </tr><tr>\n",
    "    <td> 'availability_drive_transit_walk'</td>   <td>1 if available else 0</td>\n",
    "    </tr><tr>\n",
    "    <td> 'availability_walk_transit_drive'</td>   <td>1 if available else 0</td>\n",
    "    </tr><tr>\n",
    "    <td> 'availability_walk'</td>   <td>1 if available else 0</td>\n",
    "    </tr><tr>\n",
    "    <td> 'availability_bicycle'</td>   <td>1 if available else 0</td>\n",
    "    </tr><tr>\n",
    "    <td> 'household_id'</td>   <td>      int\n",
    "    </tr><tr>\n",
    "    <td> 'person_id'</td>   <td>              int\n",
    "    </tr><tr>\n",
    "    <td> 'tour_id'</td>   <td>                 int\n",
    "    </tr><tr>\n",
    "    <td> 'tour_origin_taz'</td>   <td>                   int taz id\n",
    "    </tr><tr>\n",
    "    <td> 'primary_dest_taz'</td>   <td>    int taz id\n",
    "    </tr><tr>\n",
    "    <td> 'age'</td>   <td>          int age in years\n",
    "    </tr><tr>\n",
    "    <td> 'household_size'</td>   <td>                       int, number of people\n",
    "    </tr><tr>\n",
    "    <td> 'household_income'</td>   <td>    int 1-8, 1 = lowest income bracket, 8=highest\n",
    "    </tr><tr>\n",
    "    <td> 'household_income_values'</td>   <td>         int dollar value household income\n",
    "    </tr><tr>\n",
    "    <td> 'transit_subsidy'</td>   <td>   1 if has subsidy, else 0\n",
    "    </tr><tr>\n",
    "    <td> 'transit_subsidy_amount'</td>   <td>           subsidy dollar amount\n",
    "    </tr><tr>\n",
    "    <td> 'cross_bay'</td>   <td>    1 if trip crosses bay, else 0\n",
    "    </tr><tr>\n",
    "    <td> 'total_travel_time_drive_alone'</td>   <td>    door to door travel time in minutes\n",
    "    </tr><tr>\n",
    "    <td> 'total_travel_time_shared_ride_2'</td>   <td> \n",
    "    </tr><tr>\n",
    "    <td> 'total_travel_time_shared_ride_3+'</td>   <td> \n",
    "    </tr><tr>\n",
    "    <td> 'total_travel_time_walk_transit_walk'</td>   <td> \n",
    "    </tr><tr>\n",
    "    <td> 'total_travel_time_drive_transit_walk'</td>   <td> \n",
    "    </tr><tr>\n",
    "    <td> 'total_travel_time_walk_transit_drive'</td>   <td> \n",
    "    </tr><tr>\n",
    "    <td> 'total_travel_time_walk'</td>   <td> \n",
    "    </tr><tr>\n",
    "    <td> 'total_travel_time_bicycle'</td>   <td> \n",
    "    </tr><tr>\n",
    "    <td> 'total_travel_distance_drive_alone' </td>   <td> travel distance in miles\n",
    "    </tr><tr>\n",
    "    <td> 'total_travel_distance_shared_ride_2'</td>   <td> \n",
    "    </tr><tr>\n",
    "    <td> 'total_travel_distance_shared_ride_3+'</td>   <td> \n",
    "    </tr><tr>\n",
    "    <td> 'total_travel_distance_walk'     </td>   <td> \n",
    "    </tr><tr>\n",
    "    <td> 'total_travel_distance_bicycle'</td>   <td> \n",
    "    </tr><tr>\n",
    "    <td> 'total_travel_cost_drive_alone'</td>   <td> travel cost in dollars\n",
    "    </tr><tr>\n",
    "    <td> 'total_travel_cost_shared_ride_2'</td>   <td> Note driving costs include fixed per mile rate divided evenly among passengers, and tolls. Does not include parking and other car ownership related costs\n",
    "    </tr><tr>\n",
    "    <td> 'total_travel_cost_shared_ride_3+'</td>   <td> \n",
    "    </tr><tr>\n",
    "    <td> 'total_travel_cost_walk_transit_walk'</td>   <td> \n",
    "    </tr><tr>\n",
    "    <td> 'total_travel_cost_drive_transit_walk'</td>   <td> \n",
    "    </tr><tr>\n",
    "    <td> 'total_travel_cost_walk_transit_drive'</td>   <td> \n",
    "    </tr><tr>\n",
    "    <td> 'age_ctgry'         <td>  str age category:\n",
    "                                       <li>'0-04' = 0-4 years old,\n",
    "                                       <li>'05-19' = 5-19 years old, \n",
    "                                       <li>'20-44' = 20-44 years old, \n",
    "                                       <li>'45-64' = 45-64 years old, \n",
    "                                       <li>'65+' = 65+ years old, \n",
    "\n",
    "\n"
   ]
  },
  {
   "cell_type": "code",
   "execution_count": null,
   "metadata": {
    "collapsed": true
   },
   "outputs": [],
   "source": [
    "from datascience import *\n",
    "import numpy as np\n",
    "import matplotlib.pyplot as plt\n",
    "%matplotlib inline"
   ]
  },
  {
   "cell_type": "code",
   "execution_count": null,
   "metadata": {
    "collapsed": false
   },
   "outputs": [],
   "source": [
    "mc = Table.read_table('../minilab6/modechoice.csv')\n",
    "mc"
   ]
  },
  {
   "cell_type": "markdown",
   "metadata": {},
   "source": [
    "## Drive vs. transit travel time comparison\n",
    "\n",
    "As in mini-lab 6: first we take trips where both drive and transit are available, we compute the delta_travel_time and delta_travel_cost for trips where choice = transit and where choice = drive. These steps should have been completed in mini-lab 6, but the code to do this is copied below:"
   ]
  },
  {
   "cell_type": "code",
   "execution_count": null,
   "metadata": {
    "collapsed": false
   },
   "outputs": [],
   "source": [
    "# Get rows where both drive and walk to transit are available\n",
    "transit_drive_avail = mc.where('availability_drive_alone',1).where('availability_walk_transit_walk',1)\n",
    "\n",
    "# From transit_drive_avail, store the rows where the mode 'choice' is 'walk_transit_walk'\n",
    "# in a table called took_transit\n",
    "took_transit = transit_drive_avail.where('choice','walk_transit_walk')\n",
    "\n",
    "# from transit_drive_avail, store the rows where the selected mode 'choice' is 'drive_alone'\n",
    "drove = transit_drive_avail.where('choice','drive_alone')\n",
    "\n",
    "\n",
    "# Compute the difference in travel time (the 'total_travel_time_walk_transit_walk' column-\n",
    "# the 'total_travel_time_drive_alone' column) for people who took transit.\n",
    "chose_wtw_tt_delta = (took_transit.column('total_travel_time_walk_transit_walk')-\n",
    "                      took_transit.column('total_travel_time_drive_alone'))\n",
    "\n",
    "# Compute the difference in travel time (the 'total_travel_time_walk_transit_walk' column-\n",
    "# the 'total_travel_time_drive_alone' column) for people who drove.\n",
    "chose_drive_tt_delta = (drove.column('total_travel_time_walk_transit_walk')-\n",
    "                        drove.column('total_travel_time_drive_alone'))\n",
    "\n",
    "# Compute the cost delta for transit cost vs. drive alone cost for people who took tranist\n",
    "chose_wtw_cost_delta = (took_transit.column('total_travel_cost_walk_transit_walk')\n",
    "                        -took_transit.column('total_travel_cost_drive_alone'))\n",
    "\n",
    "# Compute the cost delta for transit cost vs. drive alone cost for people who drove\n",
    "chose_drive_cost_delta = (drove.column('total_travel_cost_walk_transit_walk')\n",
    "                          -drove.column('total_travel_cost_drive_alone'))"
   ]
  },
  {
   "cell_type": "markdown",
   "metadata": {},
   "source": [
    "# Building a classifier\n",
    "## 0. Visualizing the data\n",
    "The first step when we start building a predictive model is to visualize the data. We already created this scatter plot in mini-lab 6, but I am including it here to remind us of what the data set looks like."
   ]
  },
  {
   "cell_type": "code",
   "execution_count": null,
   "metadata": {
    "collapsed": false
   },
   "outputs": [],
   "source": [
    "plt.figure(figsize=(12,8))\n",
    "\n",
    "plt.scatter(chose_wtw_tt_delta, chose_wtw_cost_delta, color='blue', \n",
    "            alpha=.5, label = 'took transit')\n",
    "\n",
    "plt.scatter(chose_drive_tt_delta, chose_drive_cost_delta, color='green', alpha=.5, label = 'drove')\n",
    "\n",
    "plt.xlabel('delta travel time (min)')\n",
    "plt.ylabel('delta travel cost ($)')\n",
    "plt.legend(shadow=True)\n"
   ]
  },
  {
   "cell_type": "markdown",
   "metadata": {},
   "source": [
    "## 1. Build the input data table\n",
    "First we need to build a table that contains the response variable (the thing we want to predict - in this case, whether someone will drive or not), and the inputs that will be used to predict the response variable (in this case delta_travel_time and delta_travel_cost). "
   ]
  },
  {
   "cell_type": "code",
   "execution_count": null,
   "metadata": {
    "collapsed": false
   },
   "outputs": [],
   "source": [
    "input_table = Table().with_columns('transit_time-drive_time', chose_drive_tt_delta,\n",
    "                                   'transit_cost-drive_cost', chose_drive_cost_delta,\n",
    "                                   'choice=drive',1)\n",
    "\n",
    "transit_input_table = Table().with_columns('transit_time-drive_time', chose_wtw_tt_delta,\n",
    "                                           'transit_cost-drive_cost', chose_wtw_cost_delta,\n",
    "                                           'choice=drive',0)\n",
    "input_table.append(transit_input_table)"
   ]
  },
  {
   "cell_type": "markdown",
   "metadata": {},
   "source": [
    "## 2. Normalize the data.\n",
    "If the input data columns are all in the same units, then we're good to go, but if they are in different units, i.e one column contains travel time in minutes and another column contains travel cost in dollars, a distance measure doesn't make a lot of sense. Instead we normalize the data and for every column. The \"units\" of the normalized data is how many standard deviations the data point is from the mean. I have built a norm() helper function to normalize the data. Later we will use the transform function to modify a new point that we want to predict in the same that we have modified the other points."
   ]
  },
  {
   "cell_type": "code",
   "execution_count": null,
   "metadata": {
    "collapsed": false,
    "scrolled": false
   },
   "outputs": [],
   "source": [
    "def norm(data):\n",
    "    x_minus_mean = data - np.mean(data)\n",
    "    x_norm = x_minus_mean/np.std(data)\n",
    "    return x_norm\n",
    "\n",
    "def transform(to_predict, data):\n",
    "    return (to_predict - np.mean(data))/np.std(data)\n",
    "\n",
    "\n",
    "# Your task: Create two new columns in the table, one called 'normed_transit_time-drive_time', \n",
    "# another called 'normed_transit_cost-drive_cost'. The values in these two columns should be\n",
    "# the normalized values of 'transit_time-drive_time' and 'transit_cost-drive_cost'. Use the\n",
    "# norm function above to help you out:\n",
    "\n"
   ]
  },
  {
   "cell_type": "markdown",
   "metadata": {},
   "source": [
    "## 3. Build a classifier\n",
    "### 3a. We have decided to use k-Nearest Neighbor (kNN) algorithm. \n",
    "Below I have built a basic kNN class with two methods, a fit method where we load in the nearest neighbor candidates, and a predict method, where we identify the nearest neighbors and return the most common response category among the nearest neighbors.\n",
    "\n",
    "\n",
    "### 3b. Determine a distance function\n",
    "Since we need to identify the nearest neighbors, we first need to choose a distance function. In this case we will use a euclidean distance function.\n",
    "\n"
   ]
  },
  {
   "cell_type": "code",
   "execution_count": null,
   "metadata": {
    "collapsed": false
   },
   "outputs": [],
   "source": [
    "def distance(x, y):\n",
    "    return np.sqrt(np.sum((x-y)**2,1))\n",
    "\n",
    "class KNearestNeighbors():\n",
    "    def __init__ (self, n_neighbors=5):\n",
    "        '''\n",
    "        n_neighbors: number of neighbors\n",
    "        '''\n",
    "        self.n_neighbors = n_neighbors\n",
    "    \n",
    "    def fit(self, input_data, response):\n",
    "        '''\n",
    "        input_data: a table, the values of this table will be used to \n",
    "            compute the distance to the neighbors\n",
    "        response: a table with one column, the values in this column \n",
    "            represent the category of the thing we are trying to predict \n",
    "        '''\n",
    "        self.input_data = input_data.values\n",
    "        self.response = response.values.flatten()\n",
    "    \n",
    "    def predict(self, to_predict, return_kneighbor_inds=True):\n",
    "        '''\n",
    "        to_predict: A single input data point. It should contain one value \n",
    "           for each of the columns in the input_data table.\n",
    "        return_kneighbor_inds: boolean. If True, return the indices of the\n",
    "            nearest neighbors from the input table, otherwise, only the \n",
    "            majority category of the k-nearest neighbors is returned.\n",
    "        '''\n",
    "         #get distance input_data to predict\"\n",
    "        dists = distance(to_predict, self.input_data)\n",
    "\n",
    "        #get indices of k nearest points\n",
    "        inds = np.argsort(dists)[0:self.n_neighbors]\n",
    "\n",
    "        #return the most common response among the neighbors\n",
    "        most_common_response = (np.argmax(np.bincount(self.response[inds])))\n",
    "        if return_kneighbor_inds:\n",
    "            return most_common_response, inds\n",
    "        return most_common_response\n",
    "            "
   ]
  },
  {
   "cell_type": "markdown",
   "metadata": {},
   "source": [
    "## 4. Using the classifier"
   ]
  },
  {
   "cell_type": "code",
   "execution_count": null,
   "metadata": {
    "collapsed": false
   },
   "outputs": [],
   "source": [
    "# Your task: Use the input_table.select() method to select only the columns \n",
    "# to be used to determine the nearest neighbors\n",
    "\n",
    "\n",
    "\n",
    "# Your task: Use the input_table.select() method to select the column with the response variable\n",
    "\n",
    "\n",
    "\n",
    "# Your task: Create an instance of the KNearestNeighbors class, let's set n_neighbors to 5.\n",
    "\n",
    "\n",
    "\n",
    "# Your task: Load in the nearest neighbor candidates using the fit method:\n",
    "\n",
    "\n",
    "\n",
    "# Set to_predict =[25,1.5] This means we are predicting the travel mode of a trip with \n",
    "# delta_travel_time = 25 min, delta_travel_cost = 1.5\n",
    "to_predict = [25,1.5]\n",
    "\n",
    "#transform the first element of this point to find out how many standard deviations \n",
    "#the delta_travel_time is from the mean. Do the same for delta_travel_cost\n",
    "normed_to_predict = [transform(to_predict[0],input_table['transit_time-drive_time']),\n",
    "                     transform(to_predict[1],input_table['transit_cost-drive_cost'])]\n",
    "\n",
    "\n",
    "prediction, nn_inds = kNN.predict(normed_to_predict, True)\n",
    "predicted_travel_mode = 'drive' if prediction ==1 else 'take transit'\n",
    "\n",
    "print ('Based on the k nearest neighbors, the predicted travel mode is %s' %predicted_travel_mode)"
   ]
  },
  {
   "cell_type": "markdown",
   "metadata": {},
   "source": [
    "## Verify results\n",
    "Make sure we are actually locating the nearest neighbors. In the cell below we use the Table take() method to see which rows have been identied as nearest neighbors. Take a look at the values and confirm that they are similar to the values of the to_predict point. "
   ]
  },
  {
   "cell_type": "code",
   "execution_count": null,
   "metadata": {
    "collapsed": false
   },
   "outputs": [],
   "source": [
    "input_table.take[nn_inds]"
   ]
  },
  {
   "cell_type": "markdown",
   "metadata": {},
   "source": [
    "### Visualize the nearest neighbors\n",
    "Below is the same scatter poing that we plotted above, but now we have added a black dot for the to_predict point, and added red circles to identify the nearest neighbors to the observed point."
   ]
  },
  {
   "cell_type": "code",
   "execution_count": null,
   "metadata": {
    "collapsed": false
   },
   "outputs": [],
   "source": [
    "plt.figure(figsize=(12,8))\n",
    "nn_to_plot = input_table.take[nn_inds]\n",
    "\n",
    "plt.scatter(chose_wtw_tt_delta, chose_wtw_cost_delta, color='blue', \n",
    "            alpha=.5, label = 'took transit')\n",
    "\n",
    "plt.scatter(chose_drive_tt_delta, chose_drive_cost_delta, color='green', \n",
    "            alpha=.5, label = 'drove')\n",
    "\n",
    "\n",
    "plt.scatter(nn_to_plot['transit_time-drive_time'], nn_to_plot['transit_cost-drive_cost'], \n",
    "            facecolors='none', edgecolors='red', label = 'nearest neighbors')\n",
    "\n",
    "plt.scatter([to_predict[0]],[to_predict[1]], color='black', label = 'to_predict')\n",
    "\n",
    "plt.xlabel('delta travel time (min)')\n",
    "plt.ylabel('delta travel cost ($)')\n",
    "plt.legend(shadow=True)\n"
   ]
  },
  {
   "cell_type": "markdown",
   "metadata": {},
   "source": [
    "### Questions:\n",
    "* What is the kNN predicted travel mode when delta_travel_time = 50, delta_travel_cost = 1.5 when we use... \n",
    " - 1 nearest neighbors to predict travel mode? \n",
    " - 3 nearest neighbors to predict travel mode? \n",
    " - 5 nearest neighbors to predict travel mode? \n",
    " - 10 nearest neighbors to predict travel mode? \n",
    " - 50 nearest neighbors to predict travel mode?\n",
    "\n",
    "\n",
    "\n",
    "* Describe in words the decision rule (how we decide the travel mode) for k-nearest neighbors when k=1?\n",
    "\n",
    "\n",
    "* Describe in words the decision rule (how we decide the travel mode) for k-nearest neighbors when k=10?\n",
    "\n",
    "\n",
    "* For the task of classifying travel mode, do you think it makes more sense to use k=1 or k=10? Why?"
   ]
  },
  {
   "cell_type": "code",
   "execution_count": null,
   "metadata": {
    "collapsed": true
   },
   "outputs": [],
   "source": [
    "# Your answers here\n"
   ]
  }
 ],
 "metadata": {
  "kernelspec": {
   "display_name": "Python 3",
   "language": "python",
   "name": "python3"
  },
  "language_info": {
   "codemirror_mode": {
    "name": "ipython",
    "version": 3
   },
   "file_extension": ".py",
   "mimetype": "text/x-python",
   "name": "python",
   "nbconvert_exporter": "python",
   "pygments_lexer": "ipython3",
   "version": "3.5.2"
  }
 },
 "nbformat": 4,
 "nbformat_minor": 0
}
