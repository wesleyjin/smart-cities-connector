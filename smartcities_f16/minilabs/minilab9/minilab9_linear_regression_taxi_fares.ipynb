{
 "cells": [
  {
   "cell_type": "markdown",
   "metadata": {},
   "source": [
    "# Minilab 9 - SF Taxi data\n",
    "\n",
    "In this minilab we will begin to use [linear regression](https://en.wikipedia.org/wiki/Linear_regression) to further look at trends in datasets. We will explore how we can use linear regression to make predictions of taxi fares given the trip distance and trip duration.\n",
    "\n",
    "\n",
    "The dataset is San Francisco Taxi data from 9/1/2012 to 9/17/2012. The dataset consists of 50,000 taxi trips taken in the Bay Area during that time period. For each trip we are given the departure time, arrival time, passenger fare, departure lat/lon coordinates, arrival lat/lon coordinates, departure taz and arrival taz. "
   ]
  },
  {
   "cell_type": "code",
   "execution_count": 1,
   "metadata": {
    "collapsed": true
   },
   "outputs": [],
   "source": [
    "from datascience import *\n",
    "import datetime\n",
    "import matplotlib.pyplot as plt\n",
    "import numpy as np\n",
    "import warnings\n",
    "%matplotlib inline\n",
    "warnings.filterwarnings(\"ignore\")"
   ]
  },
  {
   "cell_type": "code",
   "execution_count": 2,
   "metadata": {
    "collapsed": false
   },
   "outputs": [
    {
     "data": {
      "text/html": [
       "<table border=\"1\" class=\"dataframe\">\n",
       "    <thead>\n",
       "        <tr>\n",
       "            <th>id</th> <th>departure time</th> <th>arrival time</th> <th>fare ($)</th> <th>num</th> <th>dep lon</th> <th>dep lat</th> <th>arr lon</th> <th>arr lat</th> <th>deptaz</th> <th>arrtaz</th> <th>dist (miles)</th>\n",
       "        </tr>\n",
       "    </thead>\n",
       "    <tbody>\n",
       "        <tr>\n",
       "            <td>0   </td> <td>9/1/12 0:11   </td> <td>9/1/12 0:20 </td> <td>13.2    </td> <td>1   </td> <td>-122.414</td> <td>37.8027</td> <td>-122.421</td> <td>37.7854</td> <td>38    </td> <td>30    </td> <td>1.98084     </td>\n",
       "        </tr>\n",
       "    </tbody>\n",
       "        <tr>\n",
       "            <td>1   </td> <td>9/1/12 0:23   </td> <td>9/1/12 0:31 </td> <td>10.65   </td> <td>1   </td> <td>-122.42 </td> <td>37.7861</td> <td>-122.435</td> <td>37.7622</td> <td>30    </td> <td>94    </td> <td>2.40224     </td>\n",
       "        </tr>\n",
       "    </tbody>\n",
       "        <tr>\n",
       "            <td>2   </td> <td>9/1/12 0:45   </td> <td>9/1/12 0:49 </td> <td>9       </td> <td>1   </td> <td>-122.415</td> <td>37.7747</td> <td>-122.408</td> <td>37.7826</td> <td>10    </td> <td>11    </td> <td>0.479348    </td>\n",
       "        </tr>\n",
       "    </tbody>\n",
       "        <tr>\n",
       "            <td>3   </td> <td>9/1/12 0:41   </td> <td>9/1/12 0:54 </td> <td>13.95   </td> <td>2   </td> <td>-122.419</td> <td>37.8066</td> <td>-122.415</td> <td>37.7781</td> <td>40    </td> <td>10    </td> <td>2.12241     </td>\n",
       "        </tr>\n",
       "    </tbody>\n",
       "        <tr>\n",
       "            <td>4   </td> <td>9/1/12 1:09   </td> <td>9/1/12 1:13 </td> <td>7.35    </td> <td>1   </td> <td>-122.43 </td> <td>37.7978</td> <td>-122.418</td> <td>37.789 </td> <td>45    </td> <td>32    </td> <td>1.03807     </td>\n",
       "        </tr>\n",
       "    </tbody>\n",
       "        <tr>\n",
       "            <td>5   </td> <td>9/1/12 1:40   </td> <td>9/1/12 1:52 </td> <td>11.75   </td> <td>1   </td> <td>-122.433</td> <td>37.7841</td> <td>-122.411</td> <td>37.787 </td> <td>77    </td> <td>7     </td> <td>0.960851    </td>\n",
       "        </tr>\n",
       "    </tbody>\n",
       "        <tr>\n",
       "            <td>6   </td> <td>9/1/12 2:49   </td> <td>9/1/12 2:51 </td> <td>5.15    </td> <td>1   </td> <td>-122.409</td> <td>37.7856</td> <td>-122.412</td> <td>37.791 </td> <td>7     </td> <td>29    </td> <td>0.414315    </td>\n",
       "        </tr>\n",
       "    </tbody>\n",
       "        <tr>\n",
       "            <td>7   </td> <td>9/1/12 3:29   </td> <td>9/1/12 3:47 </td> <td>43.65   </td> <td>1   </td> <td>-122.403</td> <td>37.7927</td> <td>-122.386</td> <td>37.6181</td> <td>2     </td> <td>239   </td> <td>14.5105     </td>\n",
       "        </tr>\n",
       "    </tbody>\n",
       "        <tr>\n",
       "            <td>8   </td> <td>9/1/12 0:33   </td> <td>9/1/12 0:57 </td> <td>46.75   </td> <td>1   </td> <td>-122.387</td> <td>37.6174</td> <td>-122.407</td> <td>37.7889</td> <td>239   </td> <td>5     </td> <td>14.2747     </td>\n",
       "        </tr>\n",
       "    </tbody>\n",
       "        <tr>\n",
       "            <td>9   </td> <td>9/1/12 4:39   </td> <td>9/1/12 4:43 </td> <td>6.25    </td> <td>1   </td> <td>-122.422</td> <td>37.7977</td> <td>-122.418</td> <td>37.789 </td> <td>34    </td> <td>31    </td> <td>0.685312    </td>\n",
       "        </tr>\n",
       "    </tbody>\n",
       "</table>\n",
       "<p>... (49991 rows omitted)</p"
      ],
      "text/plain": [
       "id   | departure time | arrival time | fare ($) | num  | dep lon  | dep lat | arr lon  | arr lat | deptaz | arrtaz | dist (miles)\n",
       "0    | 9/1/12 0:11    | 9/1/12 0:20  | 13.2     | 1    | -122.414 | 37.8027 | -122.421 | 37.7854 | 38     | 30     | 1.98084\n",
       "1    | 9/1/12 0:23    | 9/1/12 0:31  | 10.65    | 1    | -122.42  | 37.7861 | -122.435 | 37.7622 | 30     | 94     | 2.40224\n",
       "2    | 9/1/12 0:45    | 9/1/12 0:49  | 9        | 1    | -122.415 | 37.7747 | -122.408 | 37.7826 | 10     | 11     | 0.479348\n",
       "3    | 9/1/12 0:41    | 9/1/12 0:54  | 13.95    | 2    | -122.419 | 37.8066 | -122.415 | 37.7781 | 40     | 10     | 2.12241\n",
       "4    | 9/1/12 1:09    | 9/1/12 1:13  | 7.35     | 1    | -122.43  | 37.7978 | -122.418 | 37.789  | 45     | 32     | 1.03807\n",
       "5    | 9/1/12 1:40    | 9/1/12 1:52  | 11.75    | 1    | -122.433 | 37.7841 | -122.411 | 37.787  | 77     | 7      | 0.960851\n",
       "6    | 9/1/12 2:49    | 9/1/12 2:51  | 5.15     | 1    | -122.409 | 37.7856 | -122.412 | 37.791  | 7      | 29     | 0.414315\n",
       "7    | 9/1/12 3:29    | 9/1/12 3:47  | 43.65    | 1    | -122.403 | 37.7927 | -122.386 | 37.6181 | 2      | 239    | 14.5105\n",
       "8    | 9/1/12 0:33    | 9/1/12 0:57  | 46.75    | 1    | -122.387 | 37.6174 | -122.407 | 37.7889 | 239    | 5      | 14.2747\n",
       "9    | 9/1/12 4:39    | 9/1/12 4:43  | 6.25     | 1    | -122.422 | 37.7977 | -122.418 | 37.789  | 34     | 31     | 0.685312\n",
       "... (49991 rows omitted)"
      ]
     },
     "execution_count": 2,
     "metadata": {},
     "output_type": "execute_result"
    }
   ],
   "source": [
    "sf_taxi = Table.read_table('SF_taxi_data.csv')\n",
    "sf_taxi"
   ]
  },
  {
   "cell_type": "markdown",
   "metadata": {},
   "source": [
    "## Step one - Adding meaningful columns to our data table\n",
    "The data table is rich, but the inputs are not as useful as they could be. For example we have date/time strings for arrival and departure. We may like to have information on trip duration, rather than a list of start and end times."
   ]
  },
  {
   "cell_type": "markdown",
   "metadata": {},
   "source": [
    "### Computing Trip Duration\n",
    "We can write our own methods to help process the data. For example we can create a method to compute trip duration. First we have to convert the departure time and arrival time into a timestamp, then we can compute the difference. Finally we convert it to minutes. I have written the get_dur() function below.\n",
    "\n",
    "**Task 1** Use the [.apply](http://data8.org/datascience/_autosummary/datascience.tables.Table.apply.html#datascience.tables.Table.apply) method to create a 'duration (min)' column, a trip 'start hour' column, a trip 'date' column, and a trip 'day of week' column in the sf_taxi table.\n"
   ]
  },
  {
   "cell_type": "code",
   "execution_count": 3,
   "metadata": {
    "collapsed": true
   },
   "outputs": [],
   "source": [
    "def get_hour(s): \n",
    "    return datetime.datetime.strptime(s, \"%m/%d/%y %H:%M\").hour\n",
    "\n",
    "def get_date(s): \n",
    "    return datetime.datetime.strptime(s, \"%m/%d/%y %H:%M\").date()\n",
    "\n",
    "def get_weekday(s): # 0 = Monday - 6= Sunday\n",
    "    return datetime.datetime.strptime(s, \"%m/%d/%y %H:%M\").date().weekday()\n",
    "\n",
    "def get_dur(start,finish): \n",
    "    start_time = datetime.datetime.strptime(start, \"%m/%d/%y %H:%M\")\n",
    "    end_time = datetime.datetime.strptime(finish, \"%m/%d/%y %H:%M\")\n",
    "    return (end_time-start_time).seconds/60."
   ]
  },
  {
   "cell_type": "code",
   "execution_count": 4,
   "metadata": {
    "collapsed": true
   },
   "outputs": [],
   "source": [
    "# Your code here\n"
   ]
  },
  {
   "cell_type": "markdown",
   "metadata": {},
   "source": [
    "## Trip fares exploration\n",
    "SFMTA fare calculation table states that the fare for a trip of x miles will be at least 3.5 + 0.55 * (5x-1). Let us first explore the fare variable by plotting a histogram, and let's create a function to compute this base fare."
   ]
  },
  {
   "cell_type": "code",
   "execution_count": 5,
   "metadata": {
    "collapsed": false
   },
   "outputs": [
    {
     "data": {
      "image/png": "[encoded data removed]",
      "text/plain": [
       "<matplotlib.figure.Figure at 0x7f1a36f7c2b0>"
      ]
     },
     "metadata": {},
     "output_type": "display_data"
    }
   ],
   "source": [
    "def base_fare(d):\n",
    "    # 3.5 + 0.55*(5*d - 1), considering only completed 1/5-th miles (hence np.modf()[1])\n",
    "    return ( 3.5 + 0.55* (np.modf(5*d)[1] - 1) )\n",
    "\n",
    "# the histogram of trip fares\n",
    "sf_taxi.select('fare ($)').hist(bins=np.arange(0,10,0.275))"
   ]
  },
  {
   "cell_type": "markdown",
   "metadata": {},
   "source": [
    "### Most popular taxi trips\n",
    "Turns out the TAZ that contains SFO is the TAZ that generates the most trips. \n",
    "\n",
    "**Task 2** In the cell below, find the most popular \"deptaz\" from the sf_taxi data - save the taz id as sfo_taz. The data science [group](http://data8.org/datascience/_autosummary/datascience.tables.Table.group.html?highlight=group) funtion might be helpful for this taks."
   ]
  },
  {
   "cell_type": "code",
   "execution_count": null,
   "metadata": {
    "collapsed": false
   },
   "outputs": [],
   "source": [
    "# Your code here:\n"
   ]
  },
  {
   "cell_type": "markdown",
   "metadata": {},
   "source": [
    "### Visualize fares data\n",
    "We are going to explore the dependence between the fare variable for the single-pax trips and the distance travelled. We will see how the actual fare paid relate to the base fare computed with a formula. Finally, we will highlight the trips from/to SFO with a different color. \n",
    "\n",
    "* **Task 3** Get trips where the number of passengers == 1 and remove fares <3.5, since base fare=3.5, these are likely to be errors. Save the result as sf_taxi. i.e. save over the previous table.\n",
    "* ** Task 4** Create a table called sfo where the deptaz or arrtaz is equal to the sfo_taz\n",
    "* ** Task 5** On the same scatter plot that has all trips, plot fares for trips from SFO in blue."
   ]
  },
  {
   "cell_type": "code",
   "execution_count": 6,
   "metadata": {
    "collapsed": false
   },
   "outputs": [
    {
     "data": {
      "text/plain": [
       "<matplotlib.legend.Legend at 0x7f1a36e61860>"
      ]
     },
     "execution_count": 6,
     "metadata": {},
     "output_type": "execute_result"
    },
    {
     "data": {
      "image/png": "[encoded data removed]",
      "text/plain": [
       "<matplotlib.figure.Figure at 0x7f1a36f4b710>"
      ]
     },
     "metadata": {},
     "output_type": "display_data"
    }
   ],
   "source": [
    "# Task 3 - your code here:\n",
    "\n",
    "\n",
    "\n",
    "\n",
    "#Create a scatter plot of the results:\n",
    "plt.figure(figsize = (12,8))\n",
    "\n",
    "# plot fares for all trips\n",
    "x, y=  sf_taxi.column(\"dist (miles)\"), sf_taxi.column(\"fare ($)\")\n",
    "plt.scatter(x,y,color='grey', alpha =.5, label='All trips')\n",
    "\n",
    "\n",
    "# Task 4 - your code here:\n",
    "\n",
    "\n",
    "\n",
    "# Task 5 - your code here:\n",
    "\n",
    "\n",
    "\n",
    "# plot the lower bound of the fare, i.e. the official formula\n",
    "plt.plot([0, 40], [base_fare(0), base_fare(40)], 'red', label='Base fare')\n",
    "\n",
    "plt.title('Fare vs. distance')\n",
    "plt.xlabel('Distance, miles')\n",
    "plt.ylabel('Fare, $')\n",
    "plt.ylim([0,200])\n",
    "plt.xlim([0,40])\n",
    "plt.legend()"
   ]
  },
  {
   "cell_type": "markdown",
   "metadata": {},
   "source": [
    "## Non-SFO trips within 15 miles\n",
    "\n",
    "Let us narrow it down to the non-SFO trips of 0.1<d<15 miles.\n",
    "* **Task 6** Create a table called nsfo_taxi that contains all trips where \"deptaz\" and \"arrtaz\" are not equal to sfo_taz. Keep only the rows where 0.01<\"dist (miles)\"<15"
   ]
  },
  {
   "cell_type": "code",
   "execution_count": null,
   "metadata": {
    "collapsed": true
   },
   "outputs": [],
   "source": [
    "# Your code here:\n"
   ]
  },
  {
   "cell_type": "markdown",
   "metadata": {},
   "source": [
    "## Extra fare\n",
    "In most trips, the actual fare was way higher than the base one. The reason for the extra fare paid by pax is traffic delays (and also drivers taking longer trips than necessary, sometimes due to congestion). Let's see if this extra surcharge is related to the length and duration of the trip. This will help us predict it before a trip started."
   ]
  },
  {
   "cell_type": "code",
   "execution_count": null,
   "metadata": {
    "collapsed": false
   },
   "outputs": [],
   "source": [
    "# Compute an extra fare paid by passengers\n",
    "nsfo_taxi[\"extra\"] = nsfo_taxi[\"fare ($)\"] - base_fare(nsfo_taxi[\"dist (miles)\"])\n"
   ]
  },
  {
   "cell_type": "markdown",
   "metadata": {},
   "source": [
    "## Linear regression:\n",
    "The functions below are introduced in data8 'the regression line'. See examples in http://data8.org/fa16/lectures/lec29.pdf"
   ]
  },
  {
   "cell_type": "code",
   "execution_count": null,
   "metadata": {
    "collapsed": true
   },
   "outputs": [],
   "source": [
    "def standard_units(any_numbers):\n",
    "    \"Convert any array of numbers to standard units.\"\n",
    "    return (any_numbers - np.mean(any_numbers))/np.std(any_numbers)  \n",
    "\n",
    "def correlation(t, x, y):\n",
    "    \"Compute r.\"\n",
    "    return np.mean(standard_units(t.column(x))*standard_units(t.column(y)))\n",
    "\n",
    "def slope(table, x, y):\n",
    "    r = correlation(table, x, y)\n",
    "    return r * np.std(table.column(y))/np.std(table.column(x))\n",
    "\n",
    "def intercept(table, x, y):\n",
    "    a = slope(table, x, y)\n",
    "    return np.mean(table.column(y)) - a * np.mean(table.column(x))\n",
    "\n",
    "def predict(x, slope, intercept):\n",
    "    y = x*slope+intercept\n",
    "    return y"
   ]
  },
  {
   "cell_type": "markdown",
   "metadata": {},
   "source": [
    "## Using the linear regression equations\n",
    "In the cell below: \n",
    "\n",
    "**Task 7**\n",
    "* Find the slope of regression line that correspond to the \"extra\" cost (y) as a function of \"dist (miles)\", (x).\n",
    "* Find the intercept of regression line that relates the \"extra\" cost (y) as a function of \"dist (miles)\", (x).\n",
    "* Predict the 'extra' cost (above the base fare) for a 5 mile trip"
   ]
  },
  {
   "cell_type": "code",
   "execution_count": null,
   "metadata": {
    "collapsed": false
   },
   "outputs": [],
   "source": [
    "# Your code here:\n",
    "\n"
   ]
  },
  {
   "cell_type": "markdown",
   "metadata": {},
   "source": [
    "### Extra Fare vs Trip Length\n",
    "In the cell below, we construct a scatter plot of the travel distance vs. extra cost (above the base fare). We overlay the best-fit regression line on the plot."
   ]
  },
  {
   "cell_type": "code",
   "execution_count": null,
   "metadata": {
    "collapsed": false
   },
   "outputs": [],
   "source": [
    "# for convenience, create x, extra variables\n",
    "x, extra = nsfo_taxi.column(\"dist (miles)\"), nsfo_taxi.column(\"extra\")\n",
    "\n",
    "plt.figure(figsize = (8,6))\n",
    "plt.scatter(x, extra, color='blue', alpha = .02, label='Distance surcharge')\n",
    "\n",
    "dist_slope = slope(nsfo_taxi,'dist (miles)','extra')\n",
    "dist_intercept = intercept(nsfo_taxi,'dist (miles)','extra')\n",
    "plt.plot(x, predict(x,dist_slope,dist_intercept), color='red',\n",
    "         label='Extra = %.2f * dist + %.2f'%(dist_slope, dist_intercept))\n",
    "\n",
    "plt.ylim([-5,15])\n",
    "plt.xlim([0,10])\n",
    "plt.xlabel(\"Trip distance (miles)\")\n",
    "plt.ylabel(\"Extra fare ($)\")\n",
    "plt.legend()"
   ]
  },
  {
   "cell_type": "markdown",
   "metadata": {},
   "source": [
    "## Extra Fare vs Trip Duration\n",
    "In the cell below, we construct a scatter plot of the travel time vs. extra cost (above the base fare). We overlay the best-fit regression line on the plot."
   ]
  },
  {
   "cell_type": "code",
   "execution_count": null,
   "metadata": {
    "collapsed": false
   },
   "outputs": [],
   "source": [
    "# for convenience, create x, t, extra variables\n",
    "t, extra = nsfo_taxi.column(\"duration (min)\"), nsfo_taxi.column(\"extra\")\n",
    "\n",
    "plt.figure(figsize = (8,6))\n",
    "plt.scatter(t, extra, color='blue', alpha = .02, label='Delay surcharge')\n",
    "\n",
    "time_slope = slope(nsfo_taxi,'duration (min)','extra')\n",
    "time_intercept = intercept(nsfo_taxi,'duration (min)','extra')\n",
    "\n",
    "plt.plot(t, predict(t,time_slope,time_intercept), color='red',\n",
    "        label='Extra = %.2f * duration + (%.2f)'%(time_slope, time_intercept))\n",
    "plt.ylim([-5,30])\n",
    "plt.xlim([0,30])\n",
    "plt.xlabel(\"Trip duration (min)\")\n",
    "plt.ylabel(\"Extra fare ($)\")\n",
    "plt.legend()"
   ]
  },
  {
   "cell_type": "markdown",
   "metadata": {},
   "source": [
    "## Trip Length or Trip Duration ?\n",
    "Both length and duration of a trip seem to have an association with extra fares. Longer trips are more expensive. We can characterize this with a correlation coefficient. \n",
    "* **Question 1** From looking at the scatter plots which measure seems to be more indicative of the expected extra cost of a trip?"
   ]
  },
  {
   "cell_type": "code",
   "execution_count": null,
   "metadata": {
    "collapsed": true
   },
   "outputs": [],
   "source": [
    "# Your answer here:\n"
   ]
  },
  {
   "cell_type": "markdown",
   "metadata": {},
   "source": [
    "We will use the correation function to compare two variables. In the cell below find \n",
    "\n",
    "**Task 8**\n",
    "* the correlation between the \"dist (miles)\" and \"extra\".\n",
    "* the correlation between the \"duration (min)\" and \"extra\"\n",
    "\n",
    "**Question 2** Based on these results, does trip length or duration seem to be a better predictor of the extra travel fare?"
   ]
  },
  {
   "cell_type": "code",
   "execution_count": null,
   "metadata": {
    "collapsed": false
   },
   "outputs": [],
   "source": [
    "# Your code here:\n"
   ]
  },
  {
   "cell_type": "code",
   "execution_count": null,
   "metadata": {
    "collapsed": true
   },
   "outputs": [],
   "source": [
    "#Your answer here:\n"
   ]
  }
 ],
 "metadata": {
  "kernelspec": {
   "display_name": "Python 3",
   "language": "python",
   "name": "python3"
  },
  "language_info": {
   "codemirror_mode": {
    "name": "ipython",
    "version": 3
   },
   "file_extension": ".py",
   "mimetype": "text/x-python",
   "name": "python",
   "nbconvert_exporter": "python",
   "pygments_lexer": "ipython3",
   "version": "3.5.2"
  }
 },
 "nbformat": 4,
 "nbformat_minor": 0
}
