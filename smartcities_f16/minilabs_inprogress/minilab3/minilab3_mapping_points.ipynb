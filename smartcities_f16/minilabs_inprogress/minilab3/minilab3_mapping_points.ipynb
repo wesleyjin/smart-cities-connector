{
 "cells": [
  {
   "cell_type": "markdown",
   "metadata": {
    "collapsed": true
   },
   "source": [
    "# Mini-lab 3 - Geocoding, Maps, and Markers"
   ]
  },
  {
   "cell_type": "code",
   "execution_count": 1,
   "metadata": {
    "collapsed": false
   },
   "outputs": [],
   "source": [
    "from datascience import *\n",
    "import numpy as np\n",
    "from geopy.geocoders import Nominatim"
   ]
  },
  {
   "cell_type": "markdown",
   "metadata": {},
   "source": [
    "### Geocoding\n",
    "Geocoding is the process of converting locations (such as address or points of interest) into geographic coordinates (such as lat, lon coordinates). The geopy.geocoders package gives us access to several geolocation API's (like google maps, Nominatim - open street maps API, bing maps API, etc.). The documentations for the geocoding package can be found here: https://geopy.readthedocs.io/en/1.10.0/. \n",
    "\n",
    "\n",
    "#### Geocoding example\n",
    "Below is an example of how the geocoding service works:"
   ]
  },
  {
   "cell_type": "code",
   "execution_count": null,
   "metadata": {
    "collapsed": false
   },
   "outputs": [],
   "source": [
    "geolocator = Nominatim()\n",
    "location = geolocator.geocode(\"175 5th Avenue NYC\")\n",
    "location\n"
   ]
  },
  {
   "cell_type": "markdown",
   "metadata": {},
   "source": [
    "#### location properties\n",
    "The geolocator.geocode() returns a Location object. The location objects have the following properites:"
   ]
  },
  {
   "cell_type": "code",
   "execution_count": null,
   "metadata": {
    "collapsed": false
   },
   "outputs": [],
   "source": [
    "print (location.latitude)\n",
    "print (location.longitude)\n",
    "print (location.altitude) \n",
    "print (location.address)"
   ]
  },
  {
   "cell_type": "markdown",
   "metadata": {},
   "source": [
    "#### Use the geolocater to find the lat, lon coordinates for the Statue of Liberty"
   ]
  },
  {
   "cell_type": "code",
   "execution_count": null,
   "metadata": {
    "collapsed": false
   },
   "outputs": [],
   "source": [
    "# Your code here\n"
   ]
  },
  {
   "cell_type": "markdown",
   "metadata": {},
   "source": [
    "# Creating maps\n",
    "If we generate a table with columns 'latitude', 'longitude', 'popup', and 'color', then we can generate maps with  markers from the table using the maps.Marker.map_table() method. See the example below. Click on the marker and the popup text should appear. "
   ]
  },
  {
   "cell_type": "code",
   "execution_count": null,
   "metadata": {
    "collapsed": false
   },
   "outputs": [],
   "source": [
    "location = geolocator.geocode(\"175 5th Avenue NYC\")\n",
    "table = Table().with_columns(['latitude', [location.latitude], //\n",
    "                              'longitude', [location.longitude], //\n",
    "                              'popup', [location.address], //\n",
    "                              'color', ['red']])\n",
    "table"
   ]
  },
  {
   "cell_type": "code",
   "execution_count": null,
   "metadata": {
    "collapsed": false
   },
   "outputs": [],
   "source": [
    "maps.Marker.map_table(table)"
   ]
  },
  {
   "cell_type": "markdown",
   "metadata": {},
   "source": [
    "### Add a row to the map table for the Statue of Liberty. Make the color 'green'.\n",
    "The [Table.append()](http://data8.org/datascience/_autosummary/datascience.tables.Table.append.html?highlight=append#datascience.tables.Table.append) method may come in handy for adding a row."
   ]
  },
  {
   "cell_type": "code",
   "execution_count": null,
   "metadata": {
    "collapsed": false
   },
   "outputs": [],
   "source": [
    "# Your code here\n",
    "\n"
   ]
  },
  {
   "cell_type": "code",
   "execution_count": null,
   "metadata": {
    "collapsed": false,
    "scrolled": false
   },
   "outputs": [],
   "source": [
    "# after you have added the row, use the following to map the table\n",
    "maps.Marker.map_table(table)"
   ]
  },
  {
   "cell_type": "markdown",
   "metadata": {},
   "source": [
    "### Variations in map style:\n",
    "If we add a radius column to our table, we can use circle markers instead of info markers. See the example below"
   ]
  },
  {
   "cell_type": "code",
   "execution_count": null,
   "metadata": {
    "collapsed": false,
    "scrolled": true
   },
   "outputs": [],
   "source": [
    "table['radius'] = 200\n",
    "maps.Circle.map_table(table)"
   ]
  },
  {
   "cell_type": "markdown",
   "metadata": {},
   "source": [
    "### Mapping utilities and services in San Francisco\n",
    "Mapping can be an important tool for visualizing spatial data. In the rest of this lab we will become more familiar with the mapping tools.\n",
    "\n",
    "#### Firestations in SF\n",
    "'firestations.csv' contains a list of addresses of firestations in San Francisco. "
   ]
  },
  {
   "cell_type": "code",
   "execution_count": 2,
   "metadata": {
    "collapsed": false
   },
   "outputs": [
    {
     "data": {
      "text/html": [
       "<table border=\"1\" class=\"dataframe\">\n",
       "    <thead>\n",
       "        <tr>\n",
       "            <th>Station #</th> <th>Address</th>\n",
       "        </tr>\n",
       "    </thead>\n",
       "    <tbody>\n",
       "        <tr>\n",
       "            <td> Station 1</td> <td>935 Folsom Street      </td>\n",
       "        </tr>\n",
       "    </tbody>\n",
       "        <tr>\n",
       "            <td>Station 2 </td> <td>1340 Powell Street     </td>\n",
       "        </tr>\n",
       "    </tbody>\n",
       "        <tr>\n",
       "            <td>Station 3 </td> <td>1067 Post Street       </td>\n",
       "        </tr>\n",
       "    </tbody>\n",
       "        <tr>\n",
       "            <td> Station 4</td> <td>449 Mission Rock Street</td>\n",
       "        </tr>\n",
       "    </tbody>\n",
       "        <tr>\n",
       "            <td> Station 5</td> <td>1301 Turk Street       </td>\n",
       "        </tr>\n",
       "    </tbody>\n",
       "        <tr>\n",
       "            <td> Station 6</td> <td>135 Sanchez Street     </td>\n",
       "        </tr>\n",
       "    </tbody>\n",
       "        <tr>\n",
       "            <td> Station 7</td> <td>2300 Folsom Street     </td>\n",
       "        </tr>\n",
       "    </tbody>\n",
       "        <tr>\n",
       "            <td> Station 8</td> <td>36 Bluxome Street      </td>\n",
       "        </tr>\n",
       "    </tbody>\n",
       "        <tr>\n",
       "            <td>Station 9 </td> <td>2245 Jerrold Avenue    </td>\n",
       "        </tr>\n",
       "    </tbody>\n",
       "        <tr>\n",
       "            <td>Station 10</td> <td>655 Presidio Avenue    </td>\n",
       "        </tr>\n",
       "    </tbody>\n",
       "</table>\n",
       "<p>... (34 rows omitted)</p"
      ],
      "text/plain": [
       "Station #  | Address\n",
       " Station 1 | 935 Folsom Street\n",
       "Station 2  | 1340 Powell Street\n",
       "Station 3  | 1067 Post Street\n",
       " Station 4 | 449 Mission Rock Street\n",
       " Station 5 | 1301 Turk Street\n",
       " Station 6 | 135 Sanchez Street\n",
       " Station 7 | 2300 Folsom Street\n",
       " Station 8 | 36 Bluxome Street\n",
       "Station 9  | 2245 Jerrold Avenue\n",
       "Station 10 | 655 Presidio Avenue\n",
       "... (34 rows omitted)"
      ]
     },
     "execution_count": 2,
     "metadata": {},
     "output_type": "execute_result"
    }
   ],
   "source": [
    "firestations = Table.read_table('firestations.csv')\n",
    "firestations"
   ]
  },
  {
   "cell_type": "code",
   "execution_count": 10,
   "metadata": {
    "collapsed": false
   },
   "outputs": [
    {
     "data": {
      "text/plain": [
       "['935 Folsom Street, San Francisco, CA',\n",
       " '1340 Powell Street, San Francisco, CA',\n",
       " '1067 Post Street , San Francisco, CA',\n",
       " '449 Mission Rock Street, San Francisco, CA',\n",
       " '1301 Turk Street, San Francisco, CA',\n",
       " '135 Sanchez Street, San Francisco, CA',\n",
       " '2300 Folsom Street, San Francisco, CA',\n",
       " '36 Bluxome Street, San Francisco, CA',\n",
       " '2245 Jerrold Avenue, San Francisco, CA',\n",
       " '655 Presidio Avenue, San Francisco, CA',\n",
       " '3880 26th Street, San Francisco, CA',\n",
       " '1145 Stanyan Street, San Francisco, CA',\n",
       " '530 Sansome Street, San Francisco, CA',\n",
       " '551 26th Avenue, San Francisco, CA',\n",
       " '1000 Ocean Avenue, San Francisco, CA',\n",
       " '2251 Greenwich Street, San Francisco, CA',\n",
       " '1295 Shafter Avenue, San Francisco, CA',\n",
       " '1935 32nd Avenue, San Francisco, CA',\n",
       " '390 Buckingham Way, San Francisco, CA',\n",
       " '285 Olympia Way, San Francisco, CA',\n",
       " '1443 Grove Street, San Francisco, CA',\n",
       " '1290 16th Avenue, San Francisco, CA',\n",
       " '1348 45th Avenue, San Francisco, CA',\n",
       " '100 Hoffman Avenue, San Francisco, CA',\n",
       " '3305 3rd Street, San Francisco, CA',\n",
       " '80 Digby Street, San Francisco, CA',\n",
       " '1814 Stockton Street, San Francisco, CA',\n",
       " '299 Vermont Street, San Francisco, CA',\n",
       " '441 12th Avenue, San Francisco, CA',\n",
       " '194 Park Street, San Francisco, CA',\n",
       " '8 Capitol Avenue, San Francisco, CA',\n",
       " '499 41st Avenue, San Francisco, CA',\n",
       " 'Pier 22 1/2, San Francisco, CA',\n",
       " '109 Oak Street, San Francisco, CA',\n",
       " '798 Wisconsin Street, San Francisco, CA',\n",
       " '2150 California Street, San Francisco, CA',\n",
       " '1091 Portola Drive, San Francisco, CA',\n",
       " '2155 18th Avenue, San Francisco, CA',\n",
       " '1325 Leavenworth Street, San Francisco, CA',\n",
       " '2430 San Bruno Avenue, San Francisco, CA',\n",
       " '720 Moscow Street, San Francisco, CA',\n",
       " '1298 Girard Street, San Francisco, CA',\n",
       " '1415 Evans Avenue, San Francisco, CA',\n",
       " '218 Lincoln Blvd, San Francisco, CA']"
      ]
     },
     "execution_count": 10,
     "metadata": {},
     "output_type": "execute_result"
    }
   ],
   "source": [
    "col = firestations[\"Address\"]\n",
    "def append_sf(col):\n",
    "    #create an empty list\n",
    "    new_col = []\n",
    "    for x in col:\n",
    "        #append x +\", San Francisco, CA\" to the new_col list:\n",
    "        new_col.append(x + \", San Francisco, CA\")\n",
    "    return new_col\n",
    "\n",
    "rv = append_sf(col)\n",
    "rv"
   ]
  },
  {
   "cell_type": "markdown",
   "metadata": {},
   "source": [
    "**Your tasks:** \n",
    "1. Get the first address from the firestation table. Add \", San Francisco, CA\" to this address.\n",
    "1. Use the geolocater to find the lat, lon coordinates of this address.\n"
   ]
  },
  {
   "cell_type": "code",
   "execution_count": null,
   "metadata": {
    "collapsed": true
   },
   "outputs": [],
   "source": [
    "# Your code here\n",
    "\n"
   ]
  },
  {
   "cell_type": "markdown",
   "metadata": {},
   "source": [
    "### Mapping all firestations\n",
    "1. Use a **for loop** to iterate through all addresses in the dataframe. Add \", San Francisco, CA\" to each address, then use the geolocater to find the lat, lon coordinates of the address,  \n",
    "1. Append the latitude and longitude info to the firestations_map_table. Set the popup text = the Station # (from the firestation table), make the color \"black\" and the radius 200. \n",
    "1. Map the firestation_map_table using \"maps.Circle.map_table()\" method\n"
   ]
  },
  {
   "cell_type": "code",
   "execution_count": null,
   "metadata": {
    "collapsed": false
   },
   "outputs": [],
   "source": [
    "#Your code here\n",
    "fire_stations_map_table = Table(['latitude', 'longitude', 'popup', 'color', 'radius'])\n",
    "fire_stations_map_table\n"
   ]
  },
  {
   "cell_type": "markdown",
   "metadata": {},
   "source": [
    "### Bonus problem: There's a fire at City Hall!\n",
    "If you want an extra challenge:\n",
    "\n",
    "There's a fire at City Hall! We need to send firetrucks from the closest 3 firestations ASAP! Find City Hall, then find the 3 closest firestations and update your map by coloring these firestations red.\n",
    "1. Add a large blue marker to the firestaion_map_table for the city hall.\n",
    "1. Locate the closest 3 firestations to SF city hall \n",
    "1. Change the color of these firestation to red in your firestations_map_table."
   ]
  },
  {
   "cell_type": "code",
   "execution_count": null,
   "metadata": {
    "collapsed": true
   },
   "outputs": [],
   "source": [
    "# Your code here\n"
   ]
  }
 ],
 "metadata": {
  "kernelspec": {
   "display_name": "Python 3",
   "language": "python",
   "name": "python3"
  },
  "language_info": {
   "codemirror_mode": {
    "name": "ipython",
    "version": 3
   },
   "file_extension": ".py",
   "mimetype": "text/x-python",
   "name": "python",
   "nbconvert_exporter": "python",
   "pygments_lexer": "ipython3",
   "version": "3.5.2"
  }
 },
 "nbformat": 4,
 "nbformat_minor": 0
}
