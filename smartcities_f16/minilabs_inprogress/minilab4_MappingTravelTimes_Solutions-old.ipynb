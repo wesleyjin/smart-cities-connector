{
 "cells": [
  {
   "cell_type": "markdown",
   "metadata": {},
   "source": [
    "# Mini-lab 4 - Mapping TAZ travel times\n",
    "\n",
    "In this lab we will play with some data from the Metropolitan Transportation Commission on travel time from one Traffic Analysis Zone (TAZ) to another. We will use a mapping tool called folium to create a graphical representation of travel times throughout the area.\n"
   ]
  },
  {
   "cell_type": "code",
   "execution_count": 1,
   "metadata": {
    "collapsed": false
   },
   "outputs": [],
   "source": [
    "from datascience import *\n",
    "import numpy as np"
   ]
  },
  {
   "cell_type": "markdown",
   "metadata": {},
   "source": [
    "## The datasets\n",
    "### MTC travel skims\n",
    "The Metropolitan Transportation Co,mission (MTC) is the regional transportation planning organization for the Bay Area. They host a database with average travel time, cost, and distance from each traffic analysis zone (TAZ) to all other TAZs in the Bay Area. The files have data for driving alone, car pooling, walking to transit, driving to transit, walking, and biking. \n",
    "\n",
    "We have pre-processed the data from the morning commute to include only TAZs around San Francisco, Oakland and Berkeley. The files with inter-TAZ travel time, travel cost, and travel distance are saved with the following filepaths 'data/sf_oak_TimeSkims_AM.csv', 'data/sf_oak_CostSkims_AM.csv' and 'data/sf_oak_DistanceSkims_AM.csv'\n",
    "\n",
    "More info on the dataset can be found here - http://analytics.mtc.ca.gov/foswiki/Main/SimpleSkims. \n",
    "The descriptions of the columns in the data set are shown below:\n",
    "\n",
    "    orig\tOrigin transportation analysis zone\tShape file\n",
    "    dest\tDestination transportation analysis zone\tShape file\n",
    "    da\t    Door-to-door time for the drive alone travel mode (i.e. single occupant private automobile)\t \n",
    "    s2\t    Door-to-door time for the shared ride 2 travel mode (i.e. double occupant private automobile)\t \n",
    "    s3\t    Door-to-door time for the shared ride 3+ travel mode (i.e. three-or-more occupants traveling in a private vehicle)\t \n",
    "    walk\tDoor-to-door time for walking\t \n",
    "    bike\tDoor-to-door time for bicycling\t \n",
    "    wTrnW\tDoor-to-door time for walk to transit to walk paths\t \n",
    "    dTrnW\tDoor-to-door time for drive to transit to walk paths\t \n",
    "    wTrnD\tDoor-to-door time for walk to transit to drive paths (returning home on a park-and-ride tour)\n",
    "\n",
    "(The raw data with all bay area TAZs can be found at https://mtcdrive.app.box.com/2015-03-116)\n",
    "\n",
    "### Bay area TAZ geometry data\n",
    "GeoJSON is a format used for encoding a variety of geographic data structures. We have saved a GeoJSON file with the Traffic Analysis Zone (TAZ) polygons for the TAZs in the San Francisco, Oakland, and Berkeley region. We will use a mapping package called folium to map the TAZs.\n",
    "\n",
    "### Read the data\n",
    "First we read in the sf_oak_TimeSkims_AM.csv using the Table function"
   ]
  },
  {
   "cell_type": "code",
   "execution_count": 2,
   "metadata": {
    "collapsed": false
   },
   "outputs": [
    {
     "ename": "OSError",
     "evalue": "File b'data/sf_oak_traveltimes_bymode.csv' does not exist",
     "output_type": "error",
     "traceback": [
      "\u001b[1;31m\u001b[0m",
      "\u001b[1;31mOSError\u001b[0mTraceback (most recent call last)",
      "\u001b[1;32m<ipython-input-2-6309b37d67d9>\u001b[0m in \u001b[0;36m<module>\u001b[1;34m()\u001b[0m\n\u001b[0;32m      1\u001b[0m \u001b[1;31m# Read the timeskims datafile\u001b[0m\u001b[1;33m\u001b[0m\u001b[1;33m\u001b[0m\u001b[0m\n\u001b[1;32m----> 2\u001b[1;33m \u001b[0mtt_data\u001b[0m \u001b[1;33m=\u001b[0m \u001b[0mTable\u001b[0m\u001b[1;33m.\u001b[0m\u001b[0mread_table\u001b[0m\u001b[1;33m(\u001b[0m\u001b[1;34m'data/sf_oak_traveltimes_bymode.csv'\u001b[0m\u001b[1;33m)\u001b[0m\u001b[1;33m\u001b[0m\u001b[0m\n\u001b[0m\u001b[0;32m      3\u001b[0m \u001b[0mtt_data\u001b[0m\u001b[1;33m\u001b[0m\u001b[0m\n",
      "\u001b[1;32m/opt/conda/lib/python3.5/site-packages/datascience/tables.py\u001b[0m in \u001b[0;36mread_table\u001b[1;34m(cls, filepath_or_buffer, *args, **vargs)\u001b[0m\n\u001b[0;32m    130\u001b[0m         \u001b[1;32mexcept\u001b[0m \u001b[0mAttributeError\u001b[0m\u001b[1;33m:\u001b[0m\u001b[1;33m\u001b[0m\u001b[0m\n\u001b[0;32m    131\u001b[0m             \u001b[1;32mpass\u001b[0m\u001b[1;33m\u001b[0m\u001b[0m\n\u001b[1;32m--> 132\u001b[1;33m         \u001b[0mdf\u001b[0m \u001b[1;33m=\u001b[0m \u001b[0mpandas\u001b[0m\u001b[1;33m.\u001b[0m\u001b[0mread_table\u001b[0m\u001b[1;33m(\u001b[0m\u001b[0mfilepath_or_buffer\u001b[0m\u001b[1;33m,\u001b[0m \u001b[1;33m*\u001b[0m\u001b[0margs\u001b[0m\u001b[1;33m,\u001b[0m \u001b[1;33m**\u001b[0m\u001b[0mvargs\u001b[0m\u001b[1;33m)\u001b[0m\u001b[1;33m\u001b[0m\u001b[0m\n\u001b[0m\u001b[0;32m    133\u001b[0m         \u001b[1;32mreturn\u001b[0m \u001b[0mcls\u001b[0m\u001b[1;33m.\u001b[0m\u001b[0mfrom_df\u001b[0m\u001b[1;33m(\u001b[0m\u001b[0mdf\u001b[0m\u001b[1;33m)\u001b[0m\u001b[1;33m\u001b[0m\u001b[0m\n\u001b[0;32m    134\u001b[0m \u001b[1;33m\u001b[0m\u001b[0m\n",
      "\u001b[1;32m/opt/conda/lib/python3.5/site-packages/pandas/io/parsers.py\u001b[0m in \u001b[0;36mparser_f\u001b[1;34m(filepath_or_buffer, sep, delimiter, header, names, index_col, usecols, squeeze, prefix, mangle_dupe_cols, dtype, engine, converters, true_values, false_values, skipinitialspace, skiprows, skipfooter, nrows, na_values, keep_default_na, na_filter, verbose, skip_blank_lines, parse_dates, infer_datetime_format, keep_date_col, date_parser, dayfirst, iterator, chunksize, compression, thousands, decimal, lineterminator, quotechar, quoting, escapechar, comment, encoding, dialect, tupleize_cols, error_bad_lines, warn_bad_lines, skip_footer, doublequote, delim_whitespace, as_recarray, compact_ints, use_unsigned, low_memory, buffer_lines, memory_map, float_precision)\u001b[0m\n\u001b[0;32m    560\u001b[0m                     skip_blank_lines=skip_blank_lines)\n\u001b[0;32m    561\u001b[0m \u001b[1;33m\u001b[0m\u001b[0m\n\u001b[1;32m--> 562\u001b[1;33m         \u001b[1;32mreturn\u001b[0m \u001b[0m_read\u001b[0m\u001b[1;33m(\u001b[0m\u001b[0mfilepath_or_buffer\u001b[0m\u001b[1;33m,\u001b[0m \u001b[0mkwds\u001b[0m\u001b[1;33m)\u001b[0m\u001b[1;33m\u001b[0m\u001b[0m\n\u001b[0m\u001b[0;32m    563\u001b[0m \u001b[1;33m\u001b[0m\u001b[0m\n\u001b[0;32m    564\u001b[0m     \u001b[0mparser_f\u001b[0m\u001b[1;33m.\u001b[0m\u001b[0m__name__\u001b[0m \u001b[1;33m=\u001b[0m \u001b[0mname\u001b[0m\u001b[1;33m\u001b[0m\u001b[0m\n",
      "\u001b[1;32m/opt/conda/lib/python3.5/site-packages/pandas/io/parsers.py\u001b[0m in \u001b[0;36m_read\u001b[1;34m(filepath_or_buffer, kwds)\u001b[0m\n\u001b[0;32m    313\u001b[0m \u001b[1;33m\u001b[0m\u001b[0m\n\u001b[0;32m    314\u001b[0m     \u001b[1;31m# Create the parser.\u001b[0m\u001b[1;33m\u001b[0m\u001b[1;33m\u001b[0m\u001b[0m\n\u001b[1;32m--> 315\u001b[1;33m     \u001b[0mparser\u001b[0m \u001b[1;33m=\u001b[0m \u001b[0mTextFileReader\u001b[0m\u001b[1;33m(\u001b[0m\u001b[0mfilepath_or_buffer\u001b[0m\u001b[1;33m,\u001b[0m \u001b[1;33m**\u001b[0m\u001b[0mkwds\u001b[0m\u001b[1;33m)\u001b[0m\u001b[1;33m\u001b[0m\u001b[0m\n\u001b[0m\u001b[0;32m    316\u001b[0m \u001b[1;33m\u001b[0m\u001b[0m\n\u001b[0;32m    317\u001b[0m     \u001b[1;32mif\u001b[0m \u001b[1;33m(\u001b[0m\u001b[0mnrows\u001b[0m \u001b[1;32mis\u001b[0m \u001b[1;32mnot\u001b[0m \u001b[1;32mNone\u001b[0m\u001b[1;33m)\u001b[0m \u001b[1;32mand\u001b[0m \u001b[1;33m(\u001b[0m\u001b[0mchunksize\u001b[0m \u001b[1;32mis\u001b[0m \u001b[1;32mnot\u001b[0m \u001b[1;32mNone\u001b[0m\u001b[1;33m)\u001b[0m\u001b[1;33m:\u001b[0m\u001b[1;33m\u001b[0m\u001b[0m\n",
      "\u001b[1;32m/opt/conda/lib/python3.5/site-packages/pandas/io/parsers.py\u001b[0m in \u001b[0;36m__init__\u001b[1;34m(self, f, engine, **kwds)\u001b[0m\n\u001b[0;32m    643\u001b[0m             \u001b[0mself\u001b[0m\u001b[1;33m.\u001b[0m\u001b[0moptions\u001b[0m\u001b[1;33m[\u001b[0m\u001b[1;34m'has_index_names'\u001b[0m\u001b[1;33m]\u001b[0m \u001b[1;33m=\u001b[0m \u001b[0mkwds\u001b[0m\u001b[1;33m[\u001b[0m\u001b[1;34m'has_index_names'\u001b[0m\u001b[1;33m]\u001b[0m\u001b[1;33m\u001b[0m\u001b[0m\n\u001b[0;32m    644\u001b[0m \u001b[1;33m\u001b[0m\u001b[0m\n\u001b[1;32m--> 645\u001b[1;33m         \u001b[0mself\u001b[0m\u001b[1;33m.\u001b[0m\u001b[0m_make_engine\u001b[0m\u001b[1;33m(\u001b[0m\u001b[0mself\u001b[0m\u001b[1;33m.\u001b[0m\u001b[0mengine\u001b[0m\u001b[1;33m)\u001b[0m\u001b[1;33m\u001b[0m\u001b[0m\n\u001b[0m\u001b[0;32m    646\u001b[0m \u001b[1;33m\u001b[0m\u001b[0m\n\u001b[0;32m    647\u001b[0m     \u001b[1;32mdef\u001b[0m \u001b[0mclose\u001b[0m\u001b[1;33m(\u001b[0m\u001b[0mself\u001b[0m\u001b[1;33m)\u001b[0m\u001b[1;33m:\u001b[0m\u001b[1;33m\u001b[0m\u001b[0m\n",
      "\u001b[1;32m/opt/conda/lib/python3.5/site-packages/pandas/io/parsers.py\u001b[0m in \u001b[0;36m_make_engine\u001b[1;34m(self, engine)\u001b[0m\n\u001b[0;32m    797\u001b[0m     \u001b[1;32mdef\u001b[0m \u001b[0m_make_engine\u001b[0m\u001b[1;33m(\u001b[0m\u001b[0mself\u001b[0m\u001b[1;33m,\u001b[0m \u001b[0mengine\u001b[0m\u001b[1;33m=\u001b[0m\u001b[1;34m'c'\u001b[0m\u001b[1;33m)\u001b[0m\u001b[1;33m:\u001b[0m\u001b[1;33m\u001b[0m\u001b[0m\n\u001b[0;32m    798\u001b[0m         \u001b[1;32mif\u001b[0m \u001b[0mengine\u001b[0m \u001b[1;33m==\u001b[0m \u001b[1;34m'c'\u001b[0m\u001b[1;33m:\u001b[0m\u001b[1;33m\u001b[0m\u001b[0m\n\u001b[1;32m--> 799\u001b[1;33m             \u001b[0mself\u001b[0m\u001b[1;33m.\u001b[0m\u001b[0m_engine\u001b[0m \u001b[1;33m=\u001b[0m \u001b[0mCParserWrapper\u001b[0m\u001b[1;33m(\u001b[0m\u001b[0mself\u001b[0m\u001b[1;33m.\u001b[0m\u001b[0mf\u001b[0m\u001b[1;33m,\u001b[0m \u001b[1;33m**\u001b[0m\u001b[0mself\u001b[0m\u001b[1;33m.\u001b[0m\u001b[0moptions\u001b[0m\u001b[1;33m)\u001b[0m\u001b[1;33m\u001b[0m\u001b[0m\n\u001b[0m\u001b[0;32m    800\u001b[0m         \u001b[1;32melse\u001b[0m\u001b[1;33m:\u001b[0m\u001b[1;33m\u001b[0m\u001b[0m\n\u001b[0;32m    801\u001b[0m             \u001b[1;32mif\u001b[0m \u001b[0mengine\u001b[0m \u001b[1;33m==\u001b[0m \u001b[1;34m'python'\u001b[0m\u001b[1;33m:\u001b[0m\u001b[1;33m\u001b[0m\u001b[0m\n",
      "\u001b[1;32m/opt/conda/lib/python3.5/site-packages/pandas/io/parsers.py\u001b[0m in \u001b[0;36m__init__\u001b[1;34m(self, src, **kwds)\u001b[0m\n\u001b[0;32m   1211\u001b[0m         \u001b[0mkwds\u001b[0m\u001b[1;33m[\u001b[0m\u001b[1;34m'allow_leading_cols'\u001b[0m\u001b[1;33m]\u001b[0m \u001b[1;33m=\u001b[0m \u001b[0mself\u001b[0m\u001b[1;33m.\u001b[0m\u001b[0mindex_col\u001b[0m \u001b[1;32mis\u001b[0m \u001b[1;32mnot\u001b[0m \u001b[1;32mFalse\u001b[0m\u001b[1;33m\u001b[0m\u001b[0m\n\u001b[0;32m   1212\u001b[0m \u001b[1;33m\u001b[0m\u001b[0m\n\u001b[1;32m-> 1213\u001b[1;33m         \u001b[0mself\u001b[0m\u001b[1;33m.\u001b[0m\u001b[0m_reader\u001b[0m \u001b[1;33m=\u001b[0m \u001b[0m_parser\u001b[0m\u001b[1;33m.\u001b[0m\u001b[0mTextReader\u001b[0m\u001b[1;33m(\u001b[0m\u001b[0msrc\u001b[0m\u001b[1;33m,\u001b[0m \u001b[1;33m**\u001b[0m\u001b[0mkwds\u001b[0m\u001b[1;33m)\u001b[0m\u001b[1;33m\u001b[0m\u001b[0m\n\u001b[0m\u001b[0;32m   1214\u001b[0m \u001b[1;33m\u001b[0m\u001b[0m\n\u001b[0;32m   1215\u001b[0m         \u001b[1;31m# XXX\u001b[0m\u001b[1;33m\u001b[0m\u001b[1;33m\u001b[0m\u001b[0m\n",
      "\u001b[1;32mpandas/parser.pyx\u001b[0m in \u001b[0;36mpandas.parser.TextReader.__cinit__ (pandas/parser.c:3427)\u001b[1;34m()\u001b[0m\n",
      "\u001b[1;32mpandas/parser.pyx\u001b[0m in \u001b[0;36mpandas.parser.TextReader._setup_parser_source (pandas/parser.c:6861)\u001b[1;34m()\u001b[0m\n",
      "\u001b[1;31mOSError\u001b[0m: File b'data/sf_oak_traveltimes_bymode.csv' does not exist"
     ]
    }
   ],
   "source": [
    "# Read the timeskims datafile\n",
    "tt_data = Table.read_table('data/sf_oak_traveltimes_bymode.csv')\n",
    "tt_data"
   ]
  },
  {
   "cell_type": "code",
   "execution_count": null,
   "metadata": {
    "collapsed": false
   },
   "outputs": [],
   "source": [
    "# Question: what is the drive alone travel time from origin TAZ 10 (in downtown SF) to destination TAZ \n",
    "# 1019 (the TAZ at UC Berkeley) according to this dataset. Hint: use a where() statement to find the answer.\n",
    "\n",
    "#Answer key:\n",
    "tt_data.where('origin', 10).where('destination', 1019)['drive alone']"
   ]
  },
  {
   "cell_type": "markdown",
   "metadata": {
    "collapsed": true
   },
   "source": [
    "# Use the datascience map tool to map the TAZs\n",
    "As mentioned above, geojson is a standard format for encoding geographic data. 'SF_Oak_TAZs.geojson' is a geojson file that contains the TAZ geometry for TAZs in the San Francisco and Oakland area. We can use the datascience Map tool to map the polygons in the geojson file."
   ]
  },
  {
   "cell_type": "code",
   "execution_count": null,
   "metadata": {
    "collapsed": false
   },
   "outputs": [],
   "source": [
    "base_taz_map = Map.read_geojson('../../demos/data/SF_Oak_TAZs.geojson')\n",
    "base_taz_map"
   ]
  },
  {
   "cell_type": "markdown",
   "metadata": {},
   "source": [
    "# Create a Table of the map features\n",
    "The geojson contains a few hundred unique polygon features, one for each TAZ. In the cell below we can use the Map objects .map_features property to get a list of the polygon features. Then we can use the Table.from_records() method to convert this to a table.\n",
    "\n",
    "The corresponding table has 5 total columns, 3 corresponding to the properties in the geojson feature:\n",
    "* County_FIP = An id for the county a TAZ is contained in\n",
    "* TAZ1454 = A numeric TAZ id.'TAZ1454' refers to the fact that in total there are 1454 TAZs in the bay area, and they are assigned ids from 1 to 1454. Only about 300 are shown in the map above.\n",
    "* UrbanTAZac = TODO fill this in.\n",
    "\n",
    "The remaining columns includs a feature column containing info on the polygon itself (it is displayed as a map in the table) and an id column, where the id is a newly assigned Table id, with values from 0 to the length of the table - 1."
   ]
  },
  {
   "cell_type": "code",
   "execution_count": null,
   "metadata": {
    "collapsed": false
   },
   "outputs": [],
   "source": [
    "taz_table = Table.from_records(base_taz_map.features)\n",
    "\n",
    "# Note - DO NOT use the Table.show() method here - it will likely make your notebook crash!\n",
    "taz_table"
   ]
  },
  {
   "cell_type": "markdown",
   "metadata": {},
   "source": [
    "# Using maps to convey information\n",
    "## Color TAZs based on TAZ id\n",
    "First, we might want to know the general location of the various TAZ ids. We can use the Map color() method to color the map based on the value in a table. To do this we:\n",
    "\n",
    "1. Create a 2-column table, column 1 should contain the feature ids and column 2 should contain the information used to color the table.\n",
    "2. Use the map.color(values, ids=(), key_on='feature.id', palette='YlOrBr') method to color the map. The inputs to this method are:\n",
    " * values = the 2-column table feature descibed in #1, \n",
    " * key_on = to the name of the map property to be matched to the ids in the table, in this case 'feature.properties.TAZ1454'. \n",
    " * Optional \n",
    "    * color palette: 'BuGn', 'BuPu', 'GnBu', 'OrRd', 'PuBu', 'PuBuGn', 'PuRd', 'RdPu','YlGn', 'YlGnBu', 'YlOrBr', and 'YlOrRd'\n",
    "    * fill_opacity: 1 for totally opaque, 0 for totally transparent\n",
    "    * threshold_scale (where the color breaks are)."
   ]
  },
  {
   "cell_type": "code",
   "execution_count": null,
   "metadata": {
    "collapsed": false
   },
   "outputs": [],
   "source": [
    "# 1. Create a 2-column table with columns \"ids\" and \"values\". Since we want to color based on \n",
    "# the value of the id, in this case both the value and id column are set to the TAZ1454 values. \n",
    "\n",
    "tocolor_table = Table().with_columns(['ids', taz_table.column('TAZ1454'), \n",
    "                                      'values', taz_table.column('TAZ1454')])\n",
    "tocolor_table"
   ]
  },
  {
   "cell_type": "code",
   "execution_count": null,
   "metadata": {
    "collapsed": false
   },
   "outputs": [],
   "source": [
    "base_taz_map.color(values=tocolor_table,key_on='feature.properties.TAZ1454', \n",
    "              threshold_scale=[100,200,400,1000,1200],palette='YlOrRd',fill_opacity=1.)"
   ]
  },
  {
   "cell_type": "code",
   "execution_count": null,
   "metadata": {
    "collapsed": true
   },
   "outputs": [],
   "source": [
    "# Question: From the map above, what city would you guess the TAZ with TAZ1454=150 \n",
    "# is located in?\n",
    "\n"
   ]
  },
  {
   "cell_type": "markdown",
   "metadata": {},
   "source": [
    "# Conveying more interesting information\n",
    "\n",
    "## Color the map based on the 'bike' travel time from one origin TAZ to all other TAZs."
   ]
  },
  {
   "cell_type": "code",
   "execution_count": null,
   "metadata": {
    "collapsed": false
   },
   "outputs": [],
   "source": [
    "origin_taz_id = 10\n",
    "mode = 'bike'\n",
    "\n",
    "threshold_scale = [0,5,10,15,20,25] #sets where the color transitions are\n",
    "\n",
    "#Answer key:\n",
    "tt_from_orig = tt_data.where(tt_data['origin']==origin_taz_id)\n",
    "tt_from_orig = tt_from_orig.select(['destination',mode])\n",
    "\n",
    "taz_map = base_taz_map.color(tt_from_orig, key_on='feature.properties.TAZ1454', palette='YlOrRd',\n",
    "                        threshold_scale=threshold_scale, fill_opacity=.8)\n",
    "taz_map"
   ]
  },
  {
   "cell_type": "code",
   "execution_count": null,
   "metadata": {
    "collapsed": false
   },
   "outputs": [],
   "source": [
    "tt_from_orig"
   ]
  },
  {
   "cell_type": "markdown",
   "metadata": {},
   "source": [
    "# Use the overlay method to color the origin TAZ blue"
   ]
  },
  {
   "cell_type": "code",
   "execution_count": null,
   "metadata": {
    "collapsed": false,
    "scrolled": false
   },
   "outputs": [],
   "source": [
    "origin_taz_id = 10\n",
    "\n",
    "def overlay(feature, ds_map, color='Blue', opacity=.6):\n",
    "    '''\n",
    "    feature can be a table of map features, a list of map features,\n",
    "    a Map, a Region, or a circle marker map tables. The feautres will\n",
    "    be drawn on the existing ds_map. \n",
    "    '''   \n",
    "    if type(feature) == Table:\n",
    "        # if table of features e.g. Table.from_records(taz_map.features)\n",
    "        if 'feature' in feature:\n",
    "            feature = feature['feature']\n",
    "            \n",
    "        # if marker table e.g. table with columns: latitudes,longitudes,popup,color,radius\n",
    "        elif 'radius' in feature:\n",
    "            feature = Circle.map_table(feature)\n",
    "        else:\n",
    "            #can't overlay marker maps, so will force to be circle markers\n",
    "            print ('ERROR - can only overlay cirle marker maps or regions.')\n",
    "\n",
    "    if type(feature) in [list, np.ndarray]:\n",
    "        for f in feature:\n",
    "            f._attrs['fill_color'] = color\n",
    "            f._attrs['fill_opacity'] = opacity\n",
    "            f.draw_on(ds_map._folium_map)\n",
    "    \n",
    "    elif type(feature) == Map:\n",
    "        for i in range(len(feature._features)):\n",
    "            f = feature._features[i]\n",
    "            f._attrs['fill_color'] = color\n",
    "            f._attrs['fill_opacity'] = opacity\n",
    "            f.draw_on(ds_map._folium_map)\n",
    "    elif type(feature) == Region:\n",
    "        feature._attrs['fill_color'] = color\n",
    "        feature._attrs['fill_opacity'] = opacity\n",
    "        feature.draw_on(ds_map._folium_map)\n",
    "    return ds_map\n",
    "\n",
    "\n",
    "# find the taz with TAZ1454 id = origin_taz_od by using the .where() method on the taz_table\n",
    "features = taz_table.where(taz_table['TAZ1454']==origin_taz_id)['feature']\n",
    "\n",
    "#use the overlay method to color the feature blue\n",
    "overlay(features, taz_map, 'Blue', .9)"
   ]
  },
  {
   "cell_type": "markdown",
   "metadata": {},
   "source": [
    "# Color unreachale TAZs Grey\n",
    "For the datasets provided, MTC follows a convention of setting travel time = '-999' in the data table if they have determined that a mode is not feasible to get from an origin TAZ to a destination TAZ. For example, a bike trip from San Francisco to Oakland is not possible because bikes are not allowed accross the Bay Bridge. Similarly some walk distances are determined to be too far to make a trip on foot.\n",
    "Color all TAZs with a travel time of -999 grey. Hint - use a procedure similar to the procedure used to color the origin blue."
   ]
  },
  {
   "cell_type": "code",
   "execution_count": null,
   "metadata": {
    "collapsed": false
   },
   "outputs": [],
   "source": [
    "#color unreachable grey:\n",
    "\n",
    "# Tazs that are unreachable by the selected mode have a travel time of -999\n",
    "# Your task: use the .where() method on the tt_from_orig table to create a list of unreachable TAZs \n",
    "\n",
    "\n",
    "# answer key:\n",
    "unreachable = tt_from_orig.where(1,-999)['destination']\n",
    "\n",
    "# Now we need to select only the features from the taz_table that have TAZ1454 in the\n",
    "# unreachable list. Use the .where function to select these features. You may want to \n",
    "# use the np.in1d() method that returns True if an element is in a list. Once we have a \n",
    "# list of features, use the overlay method to add them to our taz_map\n",
    "\n",
    "# np.in1d example:\n",
    "# np.in1d([3,5,2], [1,2,3])\n",
    "\n",
    "\n",
    "features = taz_table.where(np.in1d(taz_table['TAZ1454'], unreachable))['feature']\n",
    "overlay(features, taz_map, 'Grey', .8)"
   ]
  },
  {
   "cell_type": "markdown",
   "metadata": {},
   "source": [
    "# Put it all in one method\n",
    "\n",
    "Create a method that produces a travel time map. You have all of the components above, "
   ]
  },
  {
   "cell_type": "code",
   "execution_count": null,
   "metadata": {
    "collapsed": true
   },
   "outputs": [],
   "source": [
    "def create_tt_map(data, taz_map, origin_taz_id=1, mode='da', color_palette='YlOrRd', \n",
    "                  threshold_scale=[5,10,15,20,25]):\n",
    "\n",
    "    #1. create the map\n",
    "    tt_from_orig = data.where(data['origin']==origin_taz_id)\n",
    "    tt_from_orig = tt_from_orig.select(['destination',mode])\n",
    "\n",
    "    taz_map = taz_map.color(tt_from_orig, key_on='feature.properties.TAZ1454', palette=color_palette,\n",
    "                            threshold_scale=threshold_scale, fill_opacity=0.8)\n",
    "    \n",
    "    #2. create the taz_table from the map\n",
    "    taz_table = Table.from_records(taz_map.features)\n",
    "    \n",
    "    \n",
    "    #3. color the unreachable tazs grey:\n",
    "    # YOUR TASK - fill this in\n",
    "    unreachable = tt_from_orig.where(1,-999)['dest']\n",
    "    features = taz_table.where(np.in1d(taz_table['TAZ1454'], unreachable))['feature']\n",
    "    overlay(features, taz_map, 'Grey', .9)\n",
    "    \n",
    "    #4. color the origin blue\n",
    "    # YOUR TASK  - fill this in\n",
    "    features = taz_table.where(taz_table['TAZ1454']==origin_taz_id)['feature']\n",
    "    overlay(features, taz_map, 'Blue', .9)\n",
    "    \n",
    "    return taz_map"
   ]
  },
  {
   "cell_type": "code",
   "execution_count": null,
   "metadata": {
    "collapsed": false
   },
   "outputs": [],
   "source": [
    "overlay(taz_table.where(taz_table['TAZ1454']==origin_taz_id), taz_map)\n",
    "# taz_table.where(taz_table['TAZ1454']==origin_taz_id)"
   ]
  },
  {
   "cell_type": "markdown",
   "metadata": {},
   "source": [
    "# Test your method\n",
    "By running the following code. "
   ]
  },
  {
   "cell_type": "code",
   "execution_count": null,
   "metadata": {
    "collapsed": false
   },
   "outputs": [],
   "source": [
    "create_tt_map(tt_data, taz_map, origin_taz_id = 917, mode='bike')"
   ]
  },
  {
   "cell_type": "markdown",
   "metadata": {},
   "source": [
    "# Explore travel times for other travel modes:\n",
    "Use the method you created to plot the walk transit walk ('wTrnW') travel times from TAZ 5. Try a differeny color palette and modify the threshold_scale so the color transitions occur at appropriate levels"
   ]
  },
  {
   "cell_type": "code",
   "execution_count": null,
   "metadata": {
    "collapsed": false
   },
   "outputs": [],
   "source": [
    "create_tt_map(tt_data, taz_map, origin_taz_id = 5, mode='wTrnW', color_palette='PuBu', \n",
    "              threshold_scale=[15,30,45,60,75])"
   ]
  },
  {
   "cell_type": "markdown",
   "metadata": {},
   "source": [
    "# The relationship between spatial proximity and travel time\n",
    "For each of the following modes: drive, walk to transit, drive to transit, bike, and walk, do you think a straightline distance from one TAZ to another is a good indicator of travel time? Explain why or why not.\n",
    "\n"
   ]
  },
  {
   "cell_type": "code",
   "execution_count": null,
   "metadata": {
    "collapsed": true
   },
   "outputs": [],
   "source": [
    "# Your answer here:\n",
    "\n"
   ]
  },
  {
   "cell_type": "markdown",
   "metadata": {},
   "source": [
    "# Extra material - adding Circle marker labels to the map"
   ]
  },
  {
   "cell_type": "code",
   "execution_count": null,
   "metadata": {
    "collapsed": false
   },
   "outputs": [],
   "source": [
    "from shapely import geometry\n",
    "import json\n",
    "\n",
    "#create marker table with location = centroid of a TAZ and color and radius specified\n",
    "features = taz_table['feature']\n",
    "lats, lons, labels = [], [], []\n",
    "for i in range(len(taz_table.column('id'))):\n",
    "    ct = geometry.shape(features[i].geojson(0)['geometry']).centroid\n",
    "    lats.append(ct.xy[1][0])\n",
    "    lons.append(ct.xy[0][0])\n",
    "    labels.append('TAZ '+str(taz_table['TAZ1454'][i]))\n",
    "\n",
    "markers=Table().with_columns(['latitudes',lats, 'longitudes', lons, 'popup', labels])\n",
    "markers['color']='blue'\n",
    "markers['radius']=200\n",
    "markers"
   ]
  },
  {
   "cell_type": "code",
   "execution_count": null,
   "metadata": {
    "collapsed": false
   },
   "outputs": [],
   "source": [
    "\n",
    "overlay(markers,taz_map, opacity=0.7)\n"
   ]
  },
  {
   "cell_type": "code",
   "execution_count": null,
   "metadata": {
    "collapsed": true
   },
   "outputs": [],
   "source": [
    "# Answer here"
   ]
  },
  {
   "cell_type": "markdown",
   "metadata": {},
   "source": [
    "# Optional: Modify your code to map travel cost rather than travel time. \n",
    "Note that travel cost from one TAZ to another is saved in the file SF_OAK_CostSkims.csv.\n"
   ]
  },
  {
   "cell_type": "code",
   "execution_count": null,
   "metadata": {
    "collapsed": true
   },
   "outputs": [],
   "source": []
  }
 ],
 "metadata": {
  "kernelspec": {
   "display_name": "Python 3",
   "language": "python",
   "name": "python3"
  },
  "language_info": {
   "codemirror_mode": {
    "name": "ipython",
    "version": 3
   },
   "file_extension": ".py",
   "mimetype": "text/x-python",
   "name": "python",
   "nbconvert_exporter": "python",
   "pygments_lexer": "ipython3",
   "version": "3.5.2"
  }
 },
 "nbformat": 4,
 "nbformat_minor": 0
}
