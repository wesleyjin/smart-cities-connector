{
 "cells": [
  {
   "cell_type": "markdown",
   "metadata": {},
   "source": [
    "# Mini-lab 5: Exploring TAZ Data\n",
    "In this lab you will further explore the Traffic Analysis Zone (TAZ) data that we began to explore in minilab 4. In part 1 of this lab we will look at some of the population data stored in 'data/taz_data.csv' including employment, age, and income data.\n",
    "\n",
    "In part 2 you will use the Tables join() function to join the populations taz_data with the travel time data that we looked at in minilab 4. You will calculate the effect that a large event in San Francisco (e.g. a Giants Game) can have on the transportation network."
   ]
  },
  {
   "cell_type": "code",
   "execution_count": 1,
   "metadata": {
    "collapsed": true
   },
   "outputs": [],
   "source": [
    "from datascience import *\n",
    "import numpy as np\n",
    "%matplotlib inline"
   ]
  },
  {
   "cell_type": "markdown",
   "metadata": {},
   "source": [
    "##  Part 1 - exploring TAZ population data"
   ]
  },
  {
   "cell_type": "code",
   "execution_count": 2,
   "metadata": {
    "collapsed": false
   },
   "outputs": [
    {
     "data": {
      "text/html": [
       "<table border=\"1\" class=\"dataframe\">\n",
       "    <thead>\n",
       "        <tr>\n",
       "            <th>ZONE</th> <th>DISTRICT</th> <th>SD</th> <th>COUNTY</th> <th>TOTHH</th> <th>HHPOP</th> <th>TOTPOP</th> <th>EMPRES</th> <th>SFDU</th> <th>MFDU</th> <th>HHINCQ1</th> <th>HHINCQ2</th> <th>HHINCQ3</th> <th>HHINCQ4</th> <th>TOTACRE</th> <th>RESACRE</th> <th>CIACRE</th> <th>SHPOP62P</th> <th>TOTEMP</th> <th>AGE0004</th> <th>AGE0519</th> <th>AGE2044</th> <th>AGE4564</th> <th>AGE65P</th> <th>RETEMPN</th> <th>FPSEMPN</th> <th>HEREMPN</th> <th>OTHEMPN</th> <th>AGREMPN</th> <th>MWTEMPN</th> <th>PRKCST</th> <th>OPRKCST</th> <th>AREATYPE</th> <th>HSENROLL</th> <th>COLLFTE</th> <th>COLLPTE</th> <th>TOPOLOGY</th> <th>TERMINAL</th> <th>ZERO</th> <th>hhlds</th> <th>sftaz</th> <th>gqpop</th>\n",
       "        </tr>\n",
       "    </thead>\n",
       "    <tbody>\n",
       "        <tr>\n",
       "            <td>1   </td> <td>1       </td> <td>1   </td> <td>1     </td> <td>47   </td> <td>74   </td> <td>82    </td> <td>36    </td> <td>1   </td> <td>46  </td> <td>32     </td> <td>9      </td> <td>4      </td> <td>2      </td> <td>20.3   </td> <td>1      </td> <td>15    </td> <td>0.25    </td> <td>16750 </td> <td>3      </td> <td>6      </td> <td>27     </td> <td>29     </td> <td>17    </td> <td>1163   </td> <td>9855   </td> <td>2502   </td> <td>2655   </td> <td>2      </td> <td>573    </td> <td>218    </td> <td>716    </td> <td>0       </td> <td>0       </td> <td>0      </td> <td>0      </td> <td>3       </td> <td>5.57022 </td> <td>0   </td> <td>47   </td> <td>1    </td> <td>8    </td>\n",
       "        </tr>\n",
       "    </tbody>\n",
       "        <tr>\n",
       "            <td>2   </td> <td>1       </td> <td>1   </td> <td>1     </td> <td>152  </td> <td>240  </td> <td>266   </td> <td>116   </td> <td>3   </td> <td>149 </td> <td>104    </td> <td>28     </td> <td>12     </td> <td>8      </td> <td>31.1   </td> <td>1      </td> <td>24    </td> <td>0.25    </td> <td>26305 </td> <td>9      </td> <td>20     </td> <td>88     </td> <td>93     </td> <td>56    </td> <td>1826   </td> <td>15478  </td> <td>3930   </td> <td>4169   </td> <td>3      </td> <td>899    </td> <td>218    </td> <td>716    </td> <td>0       </td> <td>0       </td> <td>0      </td> <td>0      </td> <td>1       </td> <td>5.55782 </td> <td>0   </td> <td>152  </td> <td>2    </td> <td>26   </td>\n",
       "        </tr>\n",
       "    </tbody>\n",
       "        <tr>\n",
       "            <td>3   </td> <td>1       </td> <td>1   </td> <td>1     </td> <td>276  </td> <td>437  </td> <td>485   </td> <td>210   </td> <td>6   </td> <td>270 </td> <td>190    </td> <td>50     </td> <td>22     </td> <td>14     </td> <td>14.7   </td> <td>1      </td> <td>2     </td> <td>0.25    </td> <td>2100  </td> <td>17     </td> <td>37     </td> <td>159    </td> <td>169    </td> <td>103   </td> <td>146    </td> <td>1235   </td> <td>314    </td> <td>333    </td> <td>0      </td> <td>72     </td> <td>218.083</td> <td>716.273</td> <td>0       </td> <td>0       </td> <td>0      </td> <td>0      </td> <td>1       </td> <td>5.52928 </td> <td>0   </td> <td>276  </td> <td>3    </td> <td>48   </td>\n",
       "        </tr>\n",
       "    </tbody>\n",
       "        <tr>\n",
       "            <td>4   </td> <td>1       </td> <td>1   </td> <td>1     </td> <td>78   </td> <td>125  </td> <td>138   </td> <td>60    </td> <td>2   </td> <td>76  </td> <td>54     </td> <td>14     </td> <td>6      </td> <td>4      </td> <td>19.3   </td> <td>1      </td> <td>18    </td> <td>0.25    </td> <td>20187 </td> <td>5      </td> <td>10     </td> <td>46     </td> <td>48     </td> <td>29    </td> <td>1401   </td> <td>11878  </td> <td>3016   </td> <td>3200   </td> <td>2      </td> <td>690    </td> <td>191    </td> <td>314    </td> <td>0       </td> <td>0       </td> <td>0      </td> <td>0      </td> <td>2       </td> <td>5.5731  </td> <td>0   </td> <td>78   </td> <td>4    </td> <td>13   </td>\n",
       "        </tr>\n",
       "    </tbody>\n",
       "        <tr>\n",
       "            <td>5   </td> <td>1       </td> <td>1   </td> <td>1     </td> <td>532  </td> <td>843  </td> <td>937   </td> <td>406   </td> <td>12  </td> <td>520 </td> <td>366    </td> <td>97     </td> <td>42     </td> <td>27     </td> <td>52.7   </td> <td>1      </td> <td>15    </td> <td>0.25    </td> <td>17547 </td> <td>33     </td> <td>71     </td> <td>308    </td> <td>327    </td> <td>198   </td> <td>1218   </td> <td>10325  </td> <td>2621   </td> <td>2781   </td> <td>2      </td> <td>600    </td> <td>191.009</td> <td>314.014</td> <td>0       </td> <td>0       </td> <td>62.0356</td> <td>0      </td> <td>1       </td> <td>5.60114 </td> <td>0   </td> <td>532  </td> <td>5    </td> <td>94   </td>\n",
       "        </tr>\n",
       "    </tbody>\n",
       "        <tr>\n",
       "            <td>6   </td> <td>1       </td> <td>1   </td> <td>1     </td> <td>2319 </td> <td>3408 </td> <td>4043  </td> <td>2110  </td> <td>14  </td> <td>2305</td> <td>1239   </td> <td>687    </td> <td>258    </td> <td>135    </td> <td>29     </td> <td>7      </td> <td>8     </td> <td>0.16    </td> <td>2821  </td> <td>85     </td> <td>227    </td> <td>2183   </td> <td>1039   </td> <td>509   </td> <td>178    </td> <td>389    </td> <td>1914   </td> <td>281    </td> <td>0      </td> <td>59     </td> <td>150    </td> <td>546    </td> <td>0       </td> <td>0       </td> <td>0      </td> <td>0      </td> <td>1       </td> <td>4.80412 </td> <td>0   </td> <td>2319 </td> <td>6    </td> <td>635  </td>\n",
       "        </tr>\n",
       "    </tbody>\n",
       "        <tr>\n",
       "            <td>7   </td> <td>1       </td> <td>1   </td> <td>1     </td> <td>3872 </td> <td>5688 </td> <td>6147  </td> <td>3415  </td> <td>7   </td> <td>3865</td> <td>2731   </td> <td>752    </td> <td>294    </td> <td>95     </td> <td>45     </td> <td>13     </td> <td>14    </td> <td>0.2     </td> <td>5947  </td> <td>185    </td> <td>412    </td> <td>2474   </td> <td>2052   </td> <td>1024  </td> <td>403    </td> <td>708    </td> <td>4271   </td> <td>430    </td> <td>0      </td> <td>135    </td> <td>205    </td> <td>600    </td> <td>0       </td> <td>0       </td> <td>0      </td> <td>0      </td> <td>1       </td> <td>4.92774 </td> <td>0   </td> <td>3872 </td> <td>7    </td> <td>459  </td>\n",
       "        </tr>\n",
       "    </tbody>\n",
       "        <tr>\n",
       "            <td>8   </td> <td>1       </td> <td>1   </td> <td>1     </td> <td>4506 </td> <td>7393 </td> <td>9472  </td> <td>2654  </td> <td>18  </td> <td>4488</td> <td>3937   </td> <td>362    </td> <td>176    </td> <td>31     </td> <td>50     </td> <td>8      </td> <td>16    </td> <td>0.26    </td> <td>3251  </td> <td>383    </td> <td>784    </td> <td>2660   </td> <td>3562   </td> <td>2083  </td> <td>98     </td> <td>657    </td> <td>1629   </td> <td>751    </td> <td>1      </td> <td>115    </td> <td>116    </td> <td>443    </td> <td>0       </td> <td>0       </td> <td>0      </td> <td>0      </td> <td>2       </td> <td>4.4385  </td> <td>0   </td> <td>4506 </td> <td>8    </td> <td>2079 </td>\n",
       "        </tr>\n",
       "    </tbody>\n",
       "        <tr>\n",
       "            <td>9   </td> <td>1       </td> <td>1   </td> <td>1     </td> <td>5256 </td> <td>8936 </td> <td>9597  </td> <td>4067  </td> <td>32  </td> <td>5224</td> <td>3933   </td> <td>841    </td> <td>427    </td> <td>55     </td> <td>112    </td> <td>9      </td> <td>48    </td> <td>0.18    </td> <td>14886 </td> <td>413    </td> <td>944    </td> <td>4180   </td> <td>2677   </td> <td>1383  </td> <td>175    </td> <td>3288   </td> <td>3558   </td> <td>7632   </td> <td>0      </td> <td>233    </td> <td>95     </td> <td>157    </td> <td>0       </td> <td>24.0406 </td> <td>1750.3 </td> <td>17.7206</td> <td>2       </td> <td>4.71888 </td> <td>0   </td> <td>5256 </td> <td>9    </td> <td>661  </td>\n",
       "        </tr>\n",
       "    </tbody>\n",
       "        <tr>\n",
       "            <td>10  </td> <td>1       </td> <td>1   </td> <td>1     </td> <td>1742 </td> <td>2981 </td> <td>3080  </td> <td>1204  </td> <td>40  </td> <td>1702</td> <td>1106   </td> <td>307    </td> <td>227    </td> <td>102    </td> <td>73.5   </td> <td>8      </td> <td>35    </td> <td>0.16    </td> <td>9363  </td> <td>93     </td> <td>261    </td> <td>1216   </td> <td>1152   </td> <td>358   </td> <td>667    </td> <td>1926   </td> <td>1919   </td> <td>4247   </td> <td>6      </td> <td>598    </td> <td>89     </td> <td>273    </td> <td>0       </td> <td>0       </td> <td>593.77 </td> <td>0      </td> <td>3       </td> <td>4.62082 </td> <td>0   </td> <td>1742 </td> <td>10   </td> <td>99   </td>\n",
       "        </tr>\n",
       "    </tbody>\n",
       "</table>\n",
       "<p>... (1444 rows omitted)</p"
      ],
      "text/plain": [
       "ZONE | DISTRICT | SD   | COUNTY | TOTHH | HHPOP | TOTPOP | EMPRES | SFDU | MFDU | HHINCQ1 | HHINCQ2 | HHINCQ3 | HHINCQ4 | TOTACRE | RESACRE | CIACRE | SHPOP62P | TOTEMP | AGE0004 | AGE0519 | AGE2044 | AGE4564 | AGE65P | RETEMPN | FPSEMPN | HEREMPN | OTHEMPN | AGREMPN | MWTEMPN | PRKCST  | OPRKCST | AREATYPE | HSENROLL | COLLFTE | COLLPTE | TOPOLOGY | TERMINAL | ZERO | hhlds | sftaz | gqpop\n",
       "1    | 1        | 1    | 1      | 47    | 74    | 82     | 36     | 1    | 46   | 32      | 9       | 4       | 2       | 20.3    | 1       | 15     | 0.25     | 16750  | 3       | 6       | 27      | 29      | 17     | 1163    | 9855    | 2502    | 2655    | 2       | 573     | 218     | 716     | 0        | 0        | 0       | 0       | 3        | 5.57022  | 0    | 47    | 1     | 8\n",
       "2    | 1        | 1    | 1      | 152   | 240   | 266    | 116    | 3    | 149  | 104     | 28      | 12      | 8       | 31.1    | 1       | 24     | 0.25     | 26305  | 9       | 20      | 88      | 93      | 56     | 1826    | 15478   | 3930    | 4169    | 3       | 899     | 218     | 716     | 0        | 0        | 0       | 0       | 1        | 5.55782  | 0    | 152   | 2     | 26\n",
       "3    | 1        | 1    | 1      | 276   | 437   | 485    | 210    | 6    | 270  | 190     | 50      | 22      | 14      | 14.7    | 1       | 2      | 0.25     | 2100   | 17      | 37      | 159     | 169     | 103    | 146     | 1235    | 314     | 333     | 0       | 72      | 218.083 | 716.273 | 0        | 0        | 0       | 0       | 1        | 5.52928  | 0    | 276   | 3     | 48\n",
       "4    | 1        | 1    | 1      | 78    | 125   | 138    | 60     | 2    | 76   | 54      | 14      | 6       | 4       | 19.3    | 1       | 18     | 0.25     | 20187  | 5       | 10      | 46      | 48      | 29     | 1401    | 11878   | 3016    | 3200    | 2       | 690     | 191     | 314     | 0        | 0        | 0       | 0       | 2        | 5.5731   | 0    | 78    | 4     | 13\n",
       "5    | 1        | 1    | 1      | 532   | 843   | 937    | 406    | 12   | 520  | 366     | 97      | 42      | 27      | 52.7    | 1       | 15     | 0.25     | 17547  | 33      | 71      | 308     | 327     | 198    | 1218    | 10325   | 2621    | 2781    | 2       | 600     | 191.009 | 314.014 | 0        | 0        | 62.0356 | 0       | 1        | 5.60114  | 0    | 532   | 5     | 94\n",
       "6    | 1        | 1    | 1      | 2319  | 3408  | 4043   | 2110   | 14   | 2305 | 1239    | 687     | 258     | 135     | 29      | 7       | 8      | 0.16     | 2821   | 85      | 227     | 2183    | 1039    | 509    | 178     | 389     | 1914    | 281     | 0       | 59      | 150     | 546     | 0        | 0        | 0       | 0       | 1        | 4.80412  | 0    | 2319  | 6     | 635\n",
       "7    | 1        | 1    | 1      | 3872  | 5688  | 6147   | 3415   | 7    | 3865 | 2731    | 752     | 294     | 95      | 45      | 13      | 14     | 0.2      | 5947   | 185     | 412     | 2474    | 2052    | 1024   | 403     | 708     | 4271    | 430     | 0       | 135     | 205     | 600     | 0        | 0        | 0       | 0       | 1        | 4.92774  | 0    | 3872  | 7     | 459\n",
       "8    | 1        | 1    | 1      | 4506  | 7393  | 9472   | 2654   | 18   | 4488 | 3937    | 362     | 176     | 31      | 50      | 8       | 16     | 0.26     | 3251   | 383     | 784     | 2660    | 3562    | 2083   | 98      | 657     | 1629    | 751     | 1       | 115     | 116     | 443     | 0        | 0        | 0       | 0       | 2        | 4.4385   | 0    | 4506  | 8     | 2079\n",
       "9    | 1        | 1    | 1      | 5256  | 8936  | 9597   | 4067   | 32   | 5224 | 3933    | 841     | 427     | 55      | 112     | 9       | 48     | 0.18     | 14886  | 413     | 944     | 4180    | 2677    | 1383   | 175     | 3288    | 3558    | 7632    | 0       | 233     | 95      | 157     | 0        | 24.0406  | 1750.3  | 17.7206 | 2        | 4.71888  | 0    | 5256  | 9     | 661\n",
       "10   | 1        | 1    | 1      | 1742  | 2981  | 3080   | 1204   | 40   | 1702 | 1106    | 307     | 227     | 102     | 73.5    | 8       | 35     | 0.16     | 9363   | 93      | 261     | 1216    | 1152    | 358    | 667     | 1926    | 1919    | 4247    | 6       | 598     | 89      | 273     | 0        | 0        | 593.77  | 0       | 3        | 4.62082  | 0    | 1742  | 10    | 99\n",
       "... (1444 rows omitted)"
      ]
     },
     "execution_count": 2,
     "metadata": {},
     "output_type": "execute_result"
    }
   ],
   "source": [
    "taz_data = Table.read_table('tazData.csv')\n",
    "taz_data"
   ]
  },
  {
   "cell_type": "markdown",
   "metadata": {},
   "source": [
    "Below is the taz_data dictionary. It contains information on the meaning of each of the column headers. This information comes from http://analytics.mtc.ca.gov/foswiki/Main/taz_data\n",
    "\n",
    "    ZONE\t    Transportation analysis zone\tInteger, 1 to 1454\tOrigins, destinations, shape file\n",
    "    DISTRICT\tSuperdistrict geographic designation\tInteger, 1 to 34\tShape file\n",
    "    SD\t        Superdistrict geographic designation (duplicate)\tInteger, 1 to 34\t \n",
    "    COUNTY\t    County\tInteger, 1 to 9\t\n",
    "                                 1 - San Francisco;\n",
    "                                 2 - San Mateo;\n",
    "                                 3 - Santa Clara;\n",
    "                                 4 - Alameda;\n",
    "                                 5 - Contra Costa;\n",
    "                                 6 - Solano;\n",
    "                                 7 - Napa;\n",
    "                                 8 - Sonoma;\n",
    "                                 9 - Marin\n",
    "    TOTHH\t    Total households\tInteger, 0 and up\t \n",
    "    HHPOP\t    Population living in households (as opposed to group quarters)\tInteger, 0 and up\t \n",
    "    TOTPOP\t    Total population\tInteger, 0 and up\t \n",
    "    EMPRES\t    Employed residents\tInteger, 0 and up\t \n",
    "    SFDU\t    Number of occupied single-family dwelling units\tInteger, 0 and up\t \n",
    "    MFDU\t    Number of occupied multi-family dwelling units\tInteger, 0 and up\t \n",
    "    HHINCQ1\t    Households in the lowest income quartile (less than $25,000 annually in 1989 dollars)\tInteger, 0 and up\t \n",
    "    HHINCQ2\t    Households in the second lowest income quartile (between $25,000 and $45,000 in 1989 dollars)\tInteger, 0 and up\t \n",
    "    HHINCQ3\t    Households in the second highest income quartile (between $45,000 and $75,000 in 1989 dollars)\tInteger, 0 and up\t \n",
    "    HHINCQ4\t    Households in the highest income quartile (more than $75,000 in 1989 dollars)\tInteger, 0 and up\t \n",
    "    TOTACRE\t    Total acres\tFloat, 0.0 and up\t \n",
    "    RESACRE\t    Acres occupied by residential development\tInteger, 0 and up\t \n",
    "    CIACRE\t    Acres occupied by commercial or industrial development\tInteger, 0 and up\t \n",
    "    SHPOP62P\tShare of the population age 62 or older\tFloat, 0.0 to 1.00\t \n",
    "    TOTEMP\t    Total employment\tInteger, 0 and up\t \n",
    "    AGE0004\t    Persons age 0 to 4\tInteger, 0 and up\t \n",
    "    AGE0519\t    Persons age 5 to 19\tInteger, 0 and up\t \n",
    "    AGE2044\t    Persons age 20 to 44\tInteger, 0 and up\t \n",
    "    AGE4564\t    Persons age 45 to 64\tInteger, 0 and up\t \n",
    "    AGE65P\t    Persons age 65 and older\tInteger, 0 and up\t \n",
    "    RETEMPN\t    Retail trade employment (NAICS-based)\tInteger, 0 and up\t \n",
    "    FPSEMPN\t    Financial and professional services employment (NAICS-based)\tInteger, 0 and up\t \n",
    "    HEREEMPN\tHealth, educational and recreational service employment (NAICS-based)\tInteger, 0 and up\t \n",
    "    AGREMPN\t    Agricultural and natural resources employment (NAICS-based)\tInteger, 0 and up\t \n",
    "    MWTEMPN\t    Manufacturing, wholesale trade and transportation employment (NAICS-based)\tInteger, 0 and up\t \n",
    "    OTHEMPN\t    Other employment (NAICS-based)\tInteger, 0 and up\t \n",
    "    PRKCST\t    Hourly parking rate paid by long-term (8-hours) parkers (year 2000 cents)\tFloat, 0.0 and up\t \n",
    "    OPRKCST\t    Hourly parking rate paid by short-term parkers (year 2000 cents)\tFloat, 0.0 and up\t \n",
    "    AREATYPE\tArea type designation\tInteger, 0 - regional core, 1 - central business district, 2 - urban business, 3 - urban, 4 - suburban, 5 - rural\t \n",
    "    HSENROLL\tHigh school students enrolled at schools in this TAZ\tFloat, 0.0 and up\t \n",
    "    COLLFTE\t    College students enrolled full-time at colleges in this TAZ\tFloat, 0.0 and up\t \n",
    "    COLLPTE\t    College students enrolled part-time at colleges in this TAZ\tFloat, 0.0 and up\t \n",
    "    TERMINAL\tAverage time to travel from automobile storage location to origin/destination\tFloat, 0.0 and up\t \n",
    "    TOPOLOGY\tTopology (steepness) indicator\tInteger, 1 - flat, 2 - in between, 3 - steep\t \n",
    "    ZERO\t    Placeholder (always zero)\tInteger, 0\t \n",
    "    HHLDS\t    Repeat of the TOTHH variable with a different name for software compatibility\tInteger, 0 and up\t \n",
    "    SFTAZ\t    Repeat of the ZONE variable with a different name for software compatibility\tInteger, 1 to 1454\t \n",
    "    GQPOP\t    Population living in group quarters rather than households\tInteger, 0 and up\t "
   ]
  },
  {
   "cell_type": "markdown",
   "metadata": {},
   "source": [
    "## Normalizing the data\n",
    "Because the populations vary significantly by TAZ, first we propbably want to <a = href = \"https://en.wikipedia.org/wiki/Normalization_(statistics)\">normalize</a> the data. For example, rather looking at the *count* of people in each income bracket, we may care more about the *percent* of people who fall into each income bracket. Say we wanted to get the percent of population that is employed per TAZ, we divide the number of employed residents by the total population for each TAZ.\n",
    "\n",
    "If we take a close look at the data, we notice that some TAZs do not have any residents. As we know, we get an error if we try to divide by zero, so first let's select only the TAZs where the total population is greater than 0. We create a new table called taz_data_new."
   ]
  },
  {
   "cell_type": "code",
   "execution_count": 3,
   "metadata": {
    "collapsed": false
   },
   "outputs": [],
   "source": [
    "taz_data_new = taz_data.where(taz_data.column('TOTPOP') != 0)"
   ]
  },
  {
   "cell_type": "markdown",
   "metadata": {},
   "source": [
    "## Create a table for normalized data\n",
    "Let's create a new table called taz_data_norm, where we store the normalized values"
   ]
  },
  {
   "cell_type": "code",
   "execution_count": 4,
   "metadata": {
    "collapsed": true
   },
   "outputs": [],
   "source": [
    "taz_data_norm = Table()"
   ]
  },
  {
   "cell_type": "markdown",
   "metadata": {},
   "source": [
    "## Adding percent employed to taz_data_norm\n",
    "taz_data_norm['PCTEMP']  = taz_data_new['EMPRES']/taz_data_new['TOTPOP']\n",
    "creates a column called 'PCTEMP' in the taz_data_norm Table if it does not already exist and assigns it the values taz_data_new['EMPRES']/taz_data_new['TOTPOP']. \n",
    "\n",
    "taz_data_norm.hist(overlay=False) creates a histogram of the data"
   ]
  },
  {
   "cell_type": "code",
   "execution_count": 6,
   "metadata": {
    "collapsed": false
   },
   "outputs": [
    {
     "data": {
      "image/png": "[encoded data removed]",
      "text/plain": [
       "<matplotlib.figure.Figure at 0x7f1fdbb4b160>"
      ]
     },
     "metadata": {},
     "output_type": "display_data"
    }
   ],
   "source": [
    "taz_data_norm['PCTEMP']=taz_data_new['EMPRES']/taz_data_new['TOTPOP']\n",
    "taz_data_norm.select('PCTEMP').hist(bins = [0,.1,.2,.3,.4,.5,.6,.7,.8,.9,1.], overlay=False, normed=True)"
   ]
  },
  {
   "cell_type": "markdown",
   "metadata": {
    "collapsed": false
   },
   "source": [
    "## Adding other normalized variable\n",
    "**Task - ** Add the following normalized columns to the table. \n",
    "\n",
    "Income: (Note for income, we want to normalize by number of households rather than total population.)\n",
    "* PCTHHINCQ1\n",
    "* PCTHHINCQ2\n",
    "* PCTHHINCQ3 \n",
    "* PCTHHINCQ4\n",
    "\n",
    "Age:\n",
    "* PCTAGE0004\n",
    "* PCTAGE0519\n",
    "* PCTAGE2044\n",
    "* PCTAGE4564\n",
    "* PCTAGE65P"
   ]
  },
  {
   "cell_type": "code",
   "execution_count": null,
   "metadata": {
    "collapsed": false
   },
   "outputs": [],
   "source": [
    "# Your code here\n",
    "\n",
    "#Answer key:\n"
   ]
  },
  {
   "cell_type": "markdown",
   "metadata": {},
   "source": [
    "## Create histograms of the normalized data, from the histograms find the following:\n",
    "**Task - ** Create taz_data_norm histograms and use them to answer the following questions:\n",
    "* About how many TAZs have more than 20% of the population over 65 years old?\n",
    "* About how many TAZs have a median income less than \\$25k in $1989 dollars?\n",
    "* About how many TAZs have a median income greater than \\$75k in 1989 dollars?\n",
    "* About how many TAZ's have more than 50% employment?\n",
    "\n"
   ]
  },
  {
   "cell_type": "code",
   "execution_count": null,
   "metadata": {
    "collapsed": false
   },
   "outputs": [],
   "source": [
    "#Your code here\n"
   ]
  },
  {
   "cell_type": "code",
   "execution_count": null,
   "metadata": {
    "collapsed": false,
    "scrolled": false
   },
   "outputs": [],
   "source": [
    "#Type your answers here\n",
    "\n",
    "#  About how many TAZs have more than 20% of the population over 65 years old?\n",
    "\n",
    "#  About how many TAZs have a median income less than $25k in 1989 dollars?\n",
    "\n",
    "#  About how many TAZs have a median income greater than $75k in 1989 dollars?\n",
    "\n",
    "# About how many TAZ's have more than 50% employment?\n"
   ]
  },
  {
   "cell_type": "markdown",
   "metadata": {
    "collapsed": true
   },
   "source": [
    "## Part 2 - Giants Game Impact\n",
    "### Joining datatables & calculating VHT\n",
    "Imagine that 5% of the total population of the SF, Oakland, Berkeley, and Mairin area travels to AT&T park (homogeneously, assuming 5% from each TAZ). Compute the **total vehicle hours traveled (VHT)**, assuming every traveller drives alone. You should use the data/sf_oak_traveltimes_bymode.csv from mini-lab 4 to get the expected travel times. \n",
    "\n",
    "You can use the Tables.join() function to [join](http://data8.org/datascience/_autosummary/datascience.tables.Table.join.html?highlight=join#datascience.tables.Table.join) the travel_time_data and taz_data tables.\n",
    "\n",
    "Note that the the Giants stadium is located in TAZ 110, we need to find the travel time from each TAZ to the TAZs with destination = 110."
   ]
  },
  {
   "cell_type": "code",
   "execution_count": null,
   "metadata": {
    "collapsed": false
   },
   "outputs": [],
   "source": [
    "travel_time_data = Table.read_table('../minilab4/sf_oak_traveltimes_bymode.csv')\n",
    "\n",
    "#your code here\n"
   ]
  },
  {
   "cell_type": "code",
   "execution_count": null,
   "metadata": {
    "collapsed": false
   },
   "outputs": [],
   "source": [
    "#Your answer here:\n",
    "# Total VHT = \n"
   ]
  },
  {
   "cell_type": "markdown",
   "metadata": {},
   "source": [
    "### Joining datatables & calculating VMT\n",
    "With the same scenario as above (5% of the total population of the SF, Oakland, Berkeley, and Mairin area travels to AT&T park (homogeneously, assuming 5% from each TAZ)). Compute the **total vehicle miles traveled (VMT)**, to get to AT&T park assuming every traveler drives alone. The file 'sf_oak_traveldists_bymode.csv' contains the drive alone, shared ride, walk, and bike travel distances from each TAZ in the SF, Oakland, Berkeley, Mairin area to every other TAZ in the area."
   ]
  },
  {
   "cell_type": "code",
   "execution_count": null,
   "metadata": {
    "collapsed": false
   },
   "outputs": [],
   "source": [
    "travel_dist_data = Table.read_table('sf_oak_traveldists_bymode.csv')\n",
    "\n",
    "#your code here\n"
   ]
  },
  {
   "cell_type": "code",
   "execution_count": null,
   "metadata": {
    "collapsed": false
   },
   "outputs": [],
   "source": [
    "#Your answer here:\n",
    "\n",
    "# Total VMT = \n"
   ]
  }
 ],
 "metadata": {
  "kernelspec": {
   "display_name": "Python 3",
   "language": "python",
   "name": "python3"
  },
  "language_info": {
   "codemirror_mode": {
    "name": "ipython",
    "version": 3
   },
   "file_extension": ".py",
   "mimetype": "text/x-python",
   "name": "python",
   "nbconvert_exporter": "python",
   "pygments_lexer": "ipython3",
   "version": "3.5.2"
  }
 },
 "nbformat": 4,
 "nbformat_minor": 0
}
