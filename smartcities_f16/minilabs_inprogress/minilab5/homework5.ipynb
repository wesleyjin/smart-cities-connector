{
 "cells": [
  {
   "cell_type": "markdown",
   "metadata": {},
   "source": [
    "# Homework 5"
   ]
  },
  {
   "cell_type": "code",
   "execution_count": 1,
   "metadata": {
    "collapsed": true
   },
   "outputs": [],
   "source": [
    "from datascience import *\n",
    "import numpy as np\n",
    "%matplotlib inline"
   ]
  },
  {
   "cell_type": "code",
   "execution_count": 2,
   "metadata": {
    "collapsed": false
   },
   "outputs": [
    {
     "data": {
      "text/html": [
       "<table border=\"1\" class=\"dataframe\">\n",
       "    <thead>\n",
       "        <tr>\n",
       "            <th>ZONE</th> <th>DISTRICT</th> <th>SD</th> <th>COUNTY</th> <th>TOTHH</th> <th>HHPOP</th> <th>TOTPOP</th> <th>EMPRES</th> <th>SFDU</th> <th>MFDU</th> <th>HHINCQ1</th> <th>HHINCQ2</th> <th>HHINCQ3</th> <th>HHINCQ4</th> <th>TOTACRE</th> <th>RESACRE</th> <th>CIACRE</th> <th>SHPOP62P</th> <th>TOTEMP</th> <th>AGE0004</th> <th>AGE0519</th> <th>AGE2044</th> <th>AGE4564</th> <th>AGE65P</th> <th>RETEMPN</th> <th>FPSEMPN</th> <th>HEREMPN</th> <th>OTHEMPN</th> <th>AGREMPN</th> <th>MWTEMPN</th> <th>PRKCST</th> <th>OPRKCST</th> <th>AREATYPE</th> <th>HSENROLL</th> <th>COLLFTE</th> <th>COLLPTE</th> <th>TOPOLOGY</th> <th>TERMINAL</th> <th>ZERO</th> <th>hhlds</th> <th>sftaz</th> <th>gqpop</th>\n",
       "        </tr>\n",
       "    </thead>\n",
       "    <tbody>\n",
       "        <tr>\n",
       "            <td>1   </td> <td>1       </td> <td>1   </td> <td>1     </td> <td>47   </td> <td>74   </td> <td>82    </td> <td>36    </td> <td>1   </td> <td>46  </td> <td>32     </td> <td>9      </td> <td>4      </td> <td>2      </td> <td>20.3   </td> <td>1      </td> <td>15    </td> <td>0.25    </td> <td>16750 </td> <td>3      </td> <td>6      </td> <td>27     </td> <td>29     </td> <td>17    </td> <td>1163   </td> <td>9855   </td> <td>2502   </td> <td>2655   </td> <td>2      </td> <td>573    </td> <td>218    </td> <td>716    </td> <td>0       </td> <td>0       </td> <td>0      </td> <td>0      </td> <td>3       </td> <td>5.57022 </td> <td>0   </td> <td>47   </td> <td>1    </td> <td>8    </td>\n",
       "        </tr>\n",
       "    </tbody>\n",
       "        <tr>\n",
       "            <td>2   </td> <td>1       </td> <td>1   </td> <td>1     </td> <td>152  </td> <td>240  </td> <td>266   </td> <td>116   </td> <td>3   </td> <td>149 </td> <td>104    </td> <td>28     </td> <td>12     </td> <td>8      </td> <td>31.1   </td> <td>1      </td> <td>24    </td> <td>0.25    </td> <td>26305 </td> <td>9      </td> <td>20     </td> <td>88     </td> <td>93     </td> <td>56    </td> <td>1826   </td> <td>15478  </td> <td>3930   </td> <td>4169   </td> <td>3      </td> <td>899    </td> <td>218    </td> <td>716    </td> <td>0       </td> <td>0       </td> <td>0      </td> <td>0      </td> <td>1       </td> <td>5.55782 </td> <td>0   </td> <td>152  </td> <td>2    </td> <td>26   </td>\n",
       "        </tr>\n",
       "    </tbody>\n",
       "        <tr>\n",
       "            <td>3   </td> <td>1       </td> <td>1   </td> <td>1     </td> <td>276  </td> <td>437  </td> <td>485   </td> <td>210   </td> <td>6   </td> <td>270 </td> <td>190    </td> <td>50     </td> <td>22     </td> <td>14     </td> <td>14.7   </td> <td>1      </td> <td>2     </td> <td>0.25    </td> <td>2100  </td> <td>17     </td> <td>37     </td> <td>159    </td> <td>169    </td> <td>103   </td> <td>146    </td> <td>1235   </td> <td>314    </td> <td>333    </td> <td>0      </td> <td>72     </td> <td>218.083</td> <td>716.273</td> <td>0       </td> <td>0       </td> <td>0      </td> <td>0      </td> <td>1       </td> <td>5.52928 </td> <td>0   </td> <td>276  </td> <td>3    </td> <td>48   </td>\n",
       "        </tr>\n",
       "    </tbody>\n",
       "        <tr>\n",
       "            <td>4   </td> <td>1       </td> <td>1   </td> <td>1     </td> <td>78   </td> <td>125  </td> <td>138   </td> <td>60    </td> <td>2   </td> <td>76  </td> <td>54     </td> <td>14     </td> <td>6      </td> <td>4      </td> <td>19.3   </td> <td>1      </td> <td>18    </td> <td>0.25    </td> <td>20187 </td> <td>5      </td> <td>10     </td> <td>46     </td> <td>48     </td> <td>29    </td> <td>1401   </td> <td>11878  </td> <td>3016   </td> <td>3200   </td> <td>2      </td> <td>690    </td> <td>191    </td> <td>314    </td> <td>0       </td> <td>0       </td> <td>0      </td> <td>0      </td> <td>2       </td> <td>5.5731  </td> <td>0   </td> <td>78   </td> <td>4    </td> <td>13   </td>\n",
       "        </tr>\n",
       "    </tbody>\n",
       "        <tr>\n",
       "            <td>5   </td> <td>1       </td> <td>1   </td> <td>1     </td> <td>532  </td> <td>843  </td> <td>937   </td> <td>406   </td> <td>12  </td> <td>520 </td> <td>366    </td> <td>97     </td> <td>42     </td> <td>27     </td> <td>52.7   </td> <td>1      </td> <td>15    </td> <td>0.25    </td> <td>17547 </td> <td>33     </td> <td>71     </td> <td>308    </td> <td>327    </td> <td>198   </td> <td>1218   </td> <td>10325  </td> <td>2621   </td> <td>2781   </td> <td>2      </td> <td>600    </td> <td>191.009</td> <td>314.014</td> <td>0       </td> <td>0       </td> <td>62.0356</td> <td>0      </td> <td>1       </td> <td>5.60114 </td> <td>0   </td> <td>532  </td> <td>5    </td> <td>94   </td>\n",
       "        </tr>\n",
       "    </tbody>\n",
       "        <tr>\n",
       "            <td>6   </td> <td>1       </td> <td>1   </td> <td>1     </td> <td>2319 </td> <td>3408 </td> <td>4043  </td> <td>2110  </td> <td>14  </td> <td>2305</td> <td>1239   </td> <td>687    </td> <td>258    </td> <td>135    </td> <td>29     </td> <td>7      </td> <td>8     </td> <td>0.16    </td> <td>2821  </td> <td>85     </td> <td>227    </td> <td>2183   </td> <td>1039   </td> <td>509   </td> <td>178    </td> <td>389    </td> <td>1914   </td> <td>281    </td> <td>0      </td> <td>59     </td> <td>150    </td> <td>546    </td> <td>0       </td> <td>0       </td> <td>0      </td> <td>0      </td> <td>1       </td> <td>4.80412 </td> <td>0   </td> <td>2319 </td> <td>6    </td> <td>635  </td>\n",
       "        </tr>\n",
       "    </tbody>\n",
       "        <tr>\n",
       "            <td>7   </td> <td>1       </td> <td>1   </td> <td>1     </td> <td>3872 </td> <td>5688 </td> <td>6147  </td> <td>3415  </td> <td>7   </td> <td>3865</td> <td>2731   </td> <td>752    </td> <td>294    </td> <td>95     </td> <td>45     </td> <td>13     </td> <td>14    </td> <td>0.2     </td> <td>5947  </td> <td>185    </td> <td>412    </td> <td>2474   </td> <td>2052   </td> <td>1024  </td> <td>403    </td> <td>708    </td> <td>4271   </td> <td>430    </td> <td>0      </td> <td>135    </td> <td>205    </td> <td>600    </td> <td>0       </td> <td>0       </td> <td>0      </td> <td>0      </td> <td>1       </td> <td>4.92774 </td> <td>0   </td> <td>3872 </td> <td>7    </td> <td>459  </td>\n",
       "        </tr>\n",
       "    </tbody>\n",
       "        <tr>\n",
       "            <td>8   </td> <td>1       </td> <td>1   </td> <td>1     </td> <td>4506 </td> <td>7393 </td> <td>9472  </td> <td>2654  </td> <td>18  </td> <td>4488</td> <td>3937   </td> <td>362    </td> <td>176    </td> <td>31     </td> <td>50     </td> <td>8      </td> <td>16    </td> <td>0.26    </td> <td>3251  </td> <td>383    </td> <td>784    </td> <td>2660   </td> <td>3562   </td> <td>2083  </td> <td>98     </td> <td>657    </td> <td>1629   </td> <td>751    </td> <td>1      </td> <td>115    </td> <td>116    </td> <td>443    </td> <td>0       </td> <td>0       </td> <td>0      </td> <td>0      </td> <td>2       </td> <td>4.4385  </td> <td>0   </td> <td>4506 </td> <td>8    </td> <td>2079 </td>\n",
       "        </tr>\n",
       "    </tbody>\n",
       "        <tr>\n",
       "            <td>9   </td> <td>1       </td> <td>1   </td> <td>1     </td> <td>5256 </td> <td>8936 </td> <td>9597  </td> <td>4067  </td> <td>32  </td> <td>5224</td> <td>3933   </td> <td>841    </td> <td>427    </td> <td>55     </td> <td>112    </td> <td>9      </td> <td>48    </td> <td>0.18    </td> <td>14886 </td> <td>413    </td> <td>944    </td> <td>4180   </td> <td>2677   </td> <td>1383  </td> <td>175    </td> <td>3288   </td> <td>3558   </td> <td>7632   </td> <td>0      </td> <td>233    </td> <td>95     </td> <td>157    </td> <td>0       </td> <td>24.0406 </td> <td>1750.3 </td> <td>17.7206</td> <td>2       </td> <td>4.71888 </td> <td>0   </td> <td>5256 </td> <td>9    </td> <td>661  </td>\n",
       "        </tr>\n",
       "    </tbody>\n",
       "        <tr>\n",
       "            <td>10  </td> <td>1       </td> <td>1   </td> <td>1     </td> <td>1742 </td> <td>2981 </td> <td>3080  </td> <td>1204  </td> <td>40  </td> <td>1702</td> <td>1106   </td> <td>307    </td> <td>227    </td> <td>102    </td> <td>73.5   </td> <td>8      </td> <td>35    </td> <td>0.16    </td> <td>9363  </td> <td>93     </td> <td>261    </td> <td>1216   </td> <td>1152   </td> <td>358   </td> <td>667    </td> <td>1926   </td> <td>1919   </td> <td>4247   </td> <td>6      </td> <td>598    </td> <td>89     </td> <td>273    </td> <td>0       </td> <td>0       </td> <td>593.77 </td> <td>0      </td> <td>3       </td> <td>4.62082 </td> <td>0   </td> <td>1742 </td> <td>10   </td> <td>99   </td>\n",
       "        </tr>\n",
       "    </tbody>\n",
       "</table>\n",
       "<p>... (1444 rows omitted)</p"
      ],
      "text/plain": [
       "ZONE | DISTRICT | SD   | COUNTY | TOTHH | HHPOP | TOTPOP | EMPRES | SFDU | MFDU | HHINCQ1 | HHINCQ2 | HHINCQ3 | HHINCQ4 | TOTACRE | RESACRE | CIACRE | SHPOP62P | TOTEMP | AGE0004 | AGE0519 | AGE2044 | AGE4564 | AGE65P | RETEMPN | FPSEMPN | HEREMPN | OTHEMPN | AGREMPN | MWTEMPN | PRKCST  | OPRKCST | AREATYPE | HSENROLL | COLLFTE | COLLPTE | TOPOLOGY | TERMINAL | ZERO | hhlds | sftaz | gqpop\n",
       "1    | 1        | 1    | 1      | 47    | 74    | 82     | 36     | 1    | 46   | 32      | 9       | 4       | 2       | 20.3    | 1       | 15     | 0.25     | 16750  | 3       | 6       | 27      | 29      | 17     | 1163    | 9855    | 2502    | 2655    | 2       | 573     | 218     | 716     | 0        | 0        | 0       | 0       | 3        | 5.57022  | 0    | 47    | 1     | 8\n",
       "2    | 1        | 1    | 1      | 152   | 240   | 266    | 116    | 3    | 149  | 104     | 28      | 12      | 8       | 31.1    | 1       | 24     | 0.25     | 26305  | 9       | 20      | 88      | 93      | 56     | 1826    | 15478   | 3930    | 4169    | 3       | 899     | 218     | 716     | 0        | 0        | 0       | 0       | 1        | 5.55782  | 0    | 152   | 2     | 26\n",
       "3    | 1        | 1    | 1      | 276   | 437   | 485    | 210    | 6    | 270  | 190     | 50      | 22      | 14      | 14.7    | 1       | 2      | 0.25     | 2100   | 17      | 37      | 159     | 169     | 103    | 146     | 1235    | 314     | 333     | 0       | 72      | 218.083 | 716.273 | 0        | 0        | 0       | 0       | 1        | 5.52928  | 0    | 276   | 3     | 48\n",
       "4    | 1        | 1    | 1      | 78    | 125   | 138    | 60     | 2    | 76   | 54      | 14      | 6       | 4       | 19.3    | 1       | 18     | 0.25     | 20187  | 5       | 10      | 46      | 48      | 29     | 1401    | 11878   | 3016    | 3200    | 2       | 690     | 191     | 314     | 0        | 0        | 0       | 0       | 2        | 5.5731   | 0    | 78    | 4     | 13\n",
       "5    | 1        | 1    | 1      | 532   | 843   | 937    | 406    | 12   | 520  | 366     | 97      | 42      | 27      | 52.7    | 1       | 15     | 0.25     | 17547  | 33      | 71      | 308     | 327     | 198    | 1218    | 10325   | 2621    | 2781    | 2       | 600     | 191.009 | 314.014 | 0        | 0        | 62.0356 | 0       | 1        | 5.60114  | 0    | 532   | 5     | 94\n",
       "6    | 1        | 1    | 1      | 2319  | 3408  | 4043   | 2110   | 14   | 2305 | 1239    | 687     | 258     | 135     | 29      | 7       | 8      | 0.16     | 2821   | 85      | 227     | 2183    | 1039    | 509    | 178     | 389     | 1914    | 281     | 0       | 59      | 150     | 546     | 0        | 0        | 0       | 0       | 1        | 4.80412  | 0    | 2319  | 6     | 635\n",
       "7    | 1        | 1    | 1      | 3872  | 5688  | 6147   | 3415   | 7    | 3865 | 2731    | 752     | 294     | 95      | 45      | 13      | 14     | 0.2      | 5947   | 185     | 412     | 2474    | 2052    | 1024   | 403     | 708     | 4271    | 430     | 0       | 135     | 205     | 600     | 0        | 0        | 0       | 0       | 1        | 4.92774  | 0    | 3872  | 7     | 459\n",
       "8    | 1        | 1    | 1      | 4506  | 7393  | 9472   | 2654   | 18   | 4488 | 3937    | 362     | 176     | 31      | 50      | 8       | 16     | 0.26     | 3251   | 383     | 784     | 2660    | 3562    | 2083   | 98      | 657     | 1629    | 751     | 1       | 115     | 116     | 443     | 0        | 0        | 0       | 0       | 2        | 4.4385   | 0    | 4506  | 8     | 2079\n",
       "9    | 1        | 1    | 1      | 5256  | 8936  | 9597   | 4067   | 32   | 5224 | 3933    | 841     | 427     | 55      | 112     | 9       | 48     | 0.18     | 14886  | 413     | 944     | 4180    | 2677    | 1383   | 175     | 3288    | 3558    | 7632    | 0       | 233     | 95      | 157     | 0        | 24.0406  | 1750.3  | 17.7206 | 2        | 4.71888  | 0    | 5256  | 9     | 661\n",
       "10   | 1        | 1    | 1      | 1742  | 2981  | 3080   | 1204   | 40   | 1702 | 1106    | 307     | 227     | 102     | 73.5    | 8       | 35     | 0.16     | 9363   | 93      | 261     | 1216    | 1152    | 358    | 667     | 1926    | 1919    | 4247    | 6       | 598     | 89      | 273     | 0        | 0        | 593.77  | 0       | 3        | 4.62082  | 0    | 1742  | 10    | 99\n",
       "... (1444 rows omitted)"
      ]
     },
     "execution_count": 2,
     "metadata": {},
     "output_type": "execute_result"
    }
   ],
   "source": [
    "taz_data = Table.read_table('tazData.csv')\n",
    "taz_data"
   ]
  },
  {
   "cell_type": "markdown",
   "metadata": {},
   "source": [
    "Below is the taz_data dictionary. It contains information on the meaning of each of the column headers. This information comes from http://analytics.mtc.ca.gov/foswiki/Main/taz_data\n",
    "\n",
    "    ZONE\t    Transportation analysis zone\tInteger, 1 to 1454\tOrigins, destinations, shape file\n",
    "    DISTRICT\tSuperdistrict geographic designation\tInteger, 1 to 34\tShape file\n",
    "    SD\t        Superdistrict geographic designation (duplicate)\tInteger, 1 to 34\t \n",
    "    COUNTY\t    County\tInteger, 1 to 9\t\n",
    "                                 1 - San Francisco;\n",
    "                                 2 - San Mateo;\n",
    "                                 3 - Santa Clara;\n",
    "                                 4 - Alameda;\n",
    "                                 5 - Contra Costa;\n",
    "                                 6 - Solano;\n",
    "                                 7 - Napa;\n",
    "                                 8 - Sonoma;\n",
    "                                 9 - Marin\n",
    "    TOTHH\t    Total households\tInteger, 0 and up\t \n",
    "    HHPOP\t    Population living in households (as opposed to group quarters)\tInteger, 0 and up\t \n",
    "    TOTPOP\t    Total population\tInteger, 0 and up\t \n",
    "    EMPRES\t    Employed residents\tInteger, 0 and up\t \n",
    "    SFDU\t    Number of occupied single-family dwelling units\tInteger, 0 and up\t \n",
    "    MFDU\t    Number of occupied multi-family dwelling units\tInteger, 0 and up\t \n",
    "    HHINCQ1\t    Households in the lowest income quartile (less than $25,000 annually in $1989)\tInteger, 0 and up\t \n",
    "    HHINCQ2\t    Households in the second lowest income quartile (between $25,000 and $45,000 in $1989)\tInteger, 0 and up\t \n",
    "    HHINCQ3\t    Households in the second highest income quartile (between $45,000 and $75,000 in $1989)\tInteger, 0 and up\t \n",
    "    HHINCQ4\t    Households in the highest income quartile (more than $75,000 in $1989)\tInteger, 0 and up\t \n",
    "    TOTACRE\t    Total acres\tFloat, 0.0 and up\t \n",
    "    RESACRE\t    Acres occupied by residential development\tInteger, 0 and up\t \n",
    "    CIACRE\t    Acres occupied by commercial or industrial development\tInteger, 0 and up\t \n",
    "    SHPOP62P\tShare of the population age 62 or older\tFloat, 0.0 to 1.00\t \n",
    "    TOTEMP\t    Total employment\tInteger, 0 and up\t \n",
    "    AGE0004\t    Persons age 0 to 4\tInteger, 0 and up\t \n",
    "    AGE0519\t    Persons age 5 to 19\tInteger, 0 and up\t \n",
    "    AGE2044\t    Persons age 20 to 44\tInteger, 0 and up\t \n",
    "    AGE4564\t    Persons age 45 to 64\tInteger, 0 and up\t \n",
    "    AGE65P\t    Persons age 65 and older\tInteger, 0 and up\t \n",
    "    RETEMPN\t    Retail trade employment (NAICS-based)\tInteger, 0 and up\t \n",
    "    FPSEMPN\t    Financial and professional services employment (NAICS-based)\tInteger, 0 and up\t \n",
    "    HEREEMPN\tHealth, educational and recreational service employment (NAICS-based)\tInteger, 0 and up\t \n",
    "    AGREMPN\t    Agricultural and natural resources employment (NAICS-based)\tInteger, 0 and up\t \n",
    "    MWTEMPN\t    Manufacturing, wholesale trade and transportation employment (NAICS-based)\tInteger, 0 and up\t \n",
    "    OTHEMPN\t    Other employment (NAICS-based)\tInteger, 0 and up\t \n",
    "    PRKCST\t    Hourly parking rate paid by long-term (8-hours) parkers (year 2000 cents)\tFloat, 0.0 and up\t \n",
    "    OPRKCST\t    Hourly parking rate paid by short-term parkers (year 2000 cents)\tFloat, 0.0 and up\t \n",
    "    AREATYPE\tArea type designation\tInteger, 0 - regional core, 1 - central business district, 2 - urban business, 3 - urban, 4 - suburban, 5 - rural\t \n",
    "    HSENROLL\tHigh school students enrolled at schools in this TAZ\tFloat, 0.0 and up\t \n",
    "    COLLFTE\t    College students enrolled full-time at colleges in this TAZ\tFloat, 0.0 and up\t \n",
    "    COLLPTE\t    College students enrolled part-time at colleges in this TAZ\tFloat, 0.0 and up\t \n",
    "    TERMINAL\tAverage time to travel from automobile storage location to origin/destination\tFloat, 0.0 and up\t \n",
    "    TOPOLOGY\tTopology (steepness) indicator\tInteger, 1 - flat, 2 - in between, 3 - steep\t \n",
    "    ZERO\t    Placeholder (always zero)\tInteger, 0\t \n",
    "    HHLDS\t    Repeat of the TOTHH variable with a different name for software compatibility\tInteger, 0 and up\t \n",
    "    SFTAZ\t    Repeat of the ZONE variable with a different name for software compatibility\tInteger, 1 to 1454\t \n",
    "    GQPOP\t    Population living in group quarters rather than households\tInteger, 0 and up\t "
   ]
  },
  {
   "cell_type": "code",
   "execution_count": 3,
   "metadata": {
    "collapsed": false
   },
   "outputs": [],
   "source": [
    "taz_data_new = taz_data.where(taz_data.column('TOTPOP') != 0)"
   ]
  },
  {
   "cell_type": "markdown",
   "metadata": {
    "collapsed": true
   },
   "source": [
    "## Concert Impact\n",
    "\n",
    "In  this  homework,  you  will  explore  environmental \n",
    "impact of a typical event held at AT&T Park stadium, \n",
    "such as the recent Metallica concert on Saturday Feb \n",
    "6th 2016, the  Super  Bowl  weekend.  You  are  to  use \n",
    "the  data  sources  from  the Mini-labs 4 and 5,  under \n",
    "the simplifying assumptions described below.\n",
    "\n",
    "Given the significant flow of people to the \n",
    "venue, we will assume that traffic conditions and travel times are similar to AM peak \n",
    "traffic. All Lyft/Uber/Taxi drivers are old Metallica fans and are taking a day off. No \n",
    "other modes besides driving and regular walk-to-transit are available  to reach  the \n",
    "venue.  Those  who  prefer  driving  to  the  venue  carpool with  a  neighbor,  and  the \n",
    "average  vehicle occupancy is 2 persons (therefore use  the ‘shared  ride  (2 people)’\n",
    "travel times). Regarding driving vs. transit, all the factors except travel time (such as \n",
    "parking fees, transit fares, crowdedness, etc.) are balancing out so that travel time\n",
    "can be considered as the only factor in travel mode choice. As parking at the venue\n",
    "is  limited, it  is  known  that  queuing  at  the  lot  or  searching  for  parking  in  the \n",
    "neighborhood adds  extra  25 minutes of  travel  to  the  driving  time. Assume  that \n",
    "decisions are deterministic: people always choose  the mode  that provides shortest\n",
    "travel time. If you have completed HW4 by now, you know the modal split and are \n",
    "good to go!\n",
    "\n",
    "Ticket sales show that 20 out of every 1000 people age 20-44 and 5 out \n",
    "of  every  1000  people  age 45-64 have  tickets  to  the  event. There  is  no  reason  to \n",
    "believe  that  the  distribution  of  home  locations  of  attendees  is  any  different  from \n",
    "that  of  the  general  population  (distance  decay  effect  is  negligible  within  the  Bay \n",
    "Area, and fans do not tend to settle nearby other fans), nor that income levels have a \n",
    "significant impact  on  ticket  sales (experience is  priceless  for true  fans). Following \n",
    "the Mini-labs, you can only consider SF, Oakland, Berkeley, and Marin areas in your \n",
    "estimates below.\n",
    "\n",
    "\n",
    "Note that the the AT&T park is located in TAZ 110, we need to find the travel time from each TAZ to the TAZs with destination = 110."
   ]
  },
  {
   "cell_type": "code",
   "execution_count": 4,
   "metadata": {
    "collapsed": false
   },
   "outputs": [
    {
     "data": {
      "text/html": [
       "<table border=\"1\" class=\"dataframe\">\n",
       "    <thead>\n",
       "        <tr>\n",
       "            <th>ZONE</th> <th>DISTRICT</th> <th>SD</th> <th>COUNTY</th> <th>TOTHH</th> <th>HHPOP</th> <th>TOTPOP</th> <th>EMPRES</th> <th>SFDU</th> <th>MFDU</th> <th>HHINCQ1</th> <th>HHINCQ2</th> <th>HHINCQ3</th> <th>HHINCQ4</th> <th>TOTACRE</th> <th>RESACRE</th> <th>CIACRE</th> <th>SHPOP62P</th> <th>TOTEMP</th> <th>AGE0004</th> <th>AGE0519</th> <th>AGE2044</th> <th>AGE4564</th> <th>AGE65P</th> <th>RETEMPN</th> <th>FPSEMPN</th> <th>HEREMPN</th> <th>OTHEMPN</th> <th>AGREMPN</th> <th>MWTEMPN</th> <th>PRKCST</th> <th>OPRKCST</th> <th>AREATYPE</th> <th>HSENROLL</th> <th>COLLFTE</th> <th>COLLPTE</th> <th>TOPOLOGY</th> <th>TERMINAL</th> <th>ZERO</th> <th>hhlds</th> <th>sftaz</th> <th>gqpop</th> <th>destination</th> <th>drive alone</th> <th>shared ride (2 people)</th> <th>shared ride (3 people)</th> <th>walk</th> <th>bike</th> <th>walk-transit-walk</th> <th>drive-transit-walk</th> <th>walk-transit-drive</th>\n",
       "        </tr>\n",
       "    </thead>\n",
       "    <tbody>\n",
       "        <tr>\n",
       "            <td>1   </td> <td>1       </td> <td>1   </td> <td>1     </td> <td>47   </td> <td>74   </td> <td>82    </td> <td>36    </td> <td>1   </td> <td>46  </td> <td>32     </td> <td>9      </td> <td>4      </td> <td>2      </td> <td>20.3   </td> <td>1      </td> <td>15    </td> <td>0.25    </td> <td>16750 </td> <td>3      </td> <td>6      </td> <td>27     </td> <td>29     </td> <td>17    </td> <td>1163   </td> <td>9855   </td> <td>2502   </td> <td>2655   </td> <td>2      </td> <td>573    </td> <td>218    </td> <td>716    </td> <td>0       </td> <td>0       </td> <td>0      </td> <td>0      </td> <td>3       </td> <td>5.57022 </td> <td>0   </td> <td>47   </td> <td>1    </td> <td>8    </td> <td>110        </td> <td>8.56       </td> <td>8.56                  </td> <td>8.56                  </td> <td>40.2</td> <td>10.05</td> <td>24.5             </td> <td>21.05             </td> <td>18.02             </td>\n",
       "        </tr>\n",
       "    </tbody>\n",
       "        <tr>\n",
       "            <td>2   </td> <td>1       </td> <td>1   </td> <td>1     </td> <td>152  </td> <td>240  </td> <td>266   </td> <td>116   </td> <td>3   </td> <td>149 </td> <td>104    </td> <td>28     </td> <td>12     </td> <td>8      </td> <td>31.1   </td> <td>1      </td> <td>24    </td> <td>0.25    </td> <td>26305 </td> <td>9      </td> <td>20     </td> <td>88     </td> <td>93     </td> <td>56    </td> <td>1826   </td> <td>15478  </td> <td>3930   </td> <td>4169   </td> <td>3      </td> <td>899    </td> <td>218    </td> <td>716    </td> <td>0       </td> <td>0       </td> <td>0      </td> <td>0      </td> <td>1       </td> <td>5.55782 </td> <td>0   </td> <td>152  </td> <td>2    </td> <td>26   </td> <td>110        </td> <td>8.51       </td> <td>8.51                  </td> <td>8.51                  </td> <td>40  </td> <td>10   </td> <td>27.5             </td> <td>18.1              </td> <td>16.44             </td>\n",
       "        </tr>\n",
       "    </tbody>\n",
       "        <tr>\n",
       "            <td>3   </td> <td>1       </td> <td>1   </td> <td>1     </td> <td>276  </td> <td>437  </td> <td>485   </td> <td>210   </td> <td>6   </td> <td>270 </td> <td>190    </td> <td>50     </td> <td>22     </td> <td>14     </td> <td>14.7   </td> <td>1      </td> <td>2     </td> <td>0.25    </td> <td>2100  </td> <td>17     </td> <td>37     </td> <td>159    </td> <td>169    </td> <td>103   </td> <td>146    </td> <td>1235   </td> <td>314    </td> <td>333    </td> <td>0      </td> <td>72     </td> <td>218.083</td> <td>716.273</td> <td>0       </td> <td>0       </td> <td>0      </td> <td>0      </td> <td>1       </td> <td>5.52928 </td> <td>0   </td> <td>276  </td> <td>3    </td> <td>48   </td> <td>110        </td> <td>8.96       </td> <td>8.96                  </td> <td>8.96                  </td> <td>40.8</td> <td>10.2 </td> <td>21.88            </td> <td>18.07             </td> <td>13.04             </td>\n",
       "        </tr>\n",
       "    </tbody>\n",
       "        <tr>\n",
       "            <td>4   </td> <td>1       </td> <td>1   </td> <td>1     </td> <td>78   </td> <td>125  </td> <td>138   </td> <td>60    </td> <td>2   </td> <td>76  </td> <td>54     </td> <td>14     </td> <td>6      </td> <td>4      </td> <td>19.3   </td> <td>1      </td> <td>18    </td> <td>0.25    </td> <td>20187 </td> <td>5      </td> <td>10     </td> <td>46     </td> <td>48     </td> <td>29    </td> <td>1401   </td> <td>11878  </td> <td>3016   </td> <td>3200   </td> <td>2      </td> <td>690    </td> <td>191    </td> <td>314    </td> <td>0       </td> <td>0       </td> <td>0      </td> <td>0      </td> <td>2       </td> <td>5.5731  </td> <td>0   </td> <td>78   </td> <td>4    </td> <td>13   </td> <td>110        </td> <td>7.94       </td> <td>7.94                  </td> <td>7.94                  </td> <td>35.2</td> <td>8.8  </td> <td>25.8             </td> <td>17.59             </td> <td>19.32             </td>\n",
       "        </tr>\n",
       "    </tbody>\n",
       "        <tr>\n",
       "            <td>5   </td> <td>1       </td> <td>1   </td> <td>1     </td> <td>532  </td> <td>843  </td> <td>937   </td> <td>406   </td> <td>12  </td> <td>520 </td> <td>366    </td> <td>97     </td> <td>42     </td> <td>27     </td> <td>52.7   </td> <td>1      </td> <td>15    </td> <td>0.25    </td> <td>17547 </td> <td>33     </td> <td>71     </td> <td>308    </td> <td>327    </td> <td>198   </td> <td>1218   </td> <td>10325  </td> <td>2621   </td> <td>2781   </td> <td>2      </td> <td>600    </td> <td>191.009</td> <td>314.014</td> <td>0       </td> <td>0       </td> <td>62.0356</td> <td>0      </td> <td>1       </td> <td>5.60114 </td> <td>0   </td> <td>532  </td> <td>5    </td> <td>94   </td> <td>110        </td> <td>7.6        </td> <td>7.6                   </td> <td>7.6                   </td> <td>33  </td> <td>8.25 </td> <td>19.27            </td> <td>17.06             </td> <td>10.43             </td>\n",
       "        </tr>\n",
       "    </tbody>\n",
       "        <tr>\n",
       "            <td>6   </td> <td>1       </td> <td>1   </td> <td>1     </td> <td>2319 </td> <td>3408 </td> <td>4043  </td> <td>2110  </td> <td>14  </td> <td>2305</td> <td>1239   </td> <td>687    </td> <td>258    </td> <td>135    </td> <td>29     </td> <td>7      </td> <td>8     </td> <td>0.16    </td> <td>2821  </td> <td>85     </td> <td>227    </td> <td>2183   </td> <td>1039   </td> <td>509   </td> <td>178    </td> <td>389    </td> <td>1914   </td> <td>281    </td> <td>0      </td> <td>59     </td> <td>150    </td> <td>546    </td> <td>0       </td> <td>0       </td> <td>0      </td> <td>0      </td> <td>1       </td> <td>4.80412 </td> <td>0   </td> <td>2319 </td> <td>6    </td> <td>635  </td> <td>110        </td> <td>8.51       </td> <td>8.51                  </td> <td>8.51                  </td> <td>40.4</td> <td>10.1 </td> <td>24.73            </td> <td>18.01             </td> <td>18.69             </td>\n",
       "        </tr>\n",
       "    </tbody>\n",
       "        <tr>\n",
       "            <td>7   </td> <td>1       </td> <td>1   </td> <td>1     </td> <td>3872 </td> <td>5688 </td> <td>6147  </td> <td>3415  </td> <td>7   </td> <td>3865</td> <td>2731   </td> <td>752    </td> <td>294    </td> <td>95     </td> <td>45     </td> <td>13     </td> <td>14    </td> <td>0.2     </td> <td>5947  </td> <td>185    </td> <td>412    </td> <td>2474   </td> <td>2052   </td> <td>1024  </td> <td>403    </td> <td>708    </td> <td>4271   </td> <td>430    </td> <td>0      </td> <td>135    </td> <td>205    </td> <td>600    </td> <td>0       </td> <td>0       </td> <td>0      </td> <td>0      </td> <td>1       </td> <td>4.92774 </td> <td>0   </td> <td>3872 </td> <td>7    </td> <td>459  </td> <td>110        </td> <td>8.02       </td> <td>8.02                  </td> <td>8.02                  </td> <td>37  </td> <td>9.25 </td> <td>21.99            </td> <td>17.5              </td> <td>15.29             </td>\n",
       "        </tr>\n",
       "    </tbody>\n",
       "        <tr>\n",
       "            <td>8   </td> <td>1       </td> <td>1   </td> <td>1     </td> <td>4506 </td> <td>7393 </td> <td>9472  </td> <td>2654  </td> <td>18  </td> <td>4488</td> <td>3937   </td> <td>362    </td> <td>176    </td> <td>31     </td> <td>50     </td> <td>8      </td> <td>16    </td> <td>0.26    </td> <td>3251  </td> <td>383    </td> <td>784    </td> <td>2660   </td> <td>3562   </td> <td>2083  </td> <td>98     </td> <td>657    </td> <td>1629   </td> <td>751    </td> <td>1      </td> <td>115    </td> <td>116    </td> <td>443    </td> <td>0       </td> <td>0       </td> <td>0      </td> <td>0      </td> <td>2       </td> <td>4.4385  </td> <td>0   </td> <td>4506 </td> <td>8    </td> <td>2079 </td> <td>110        </td> <td>8.36       </td> <td>8.36                  </td> <td>8.36                  </td> <td>36  </td> <td>9    </td> <td>21.56            </td> <td>17.38             </td> <td>14.49             </td>\n",
       "        </tr>\n",
       "    </tbody>\n",
       "        <tr>\n",
       "            <td>9   </td> <td>1       </td> <td>1   </td> <td>1     </td> <td>5256 </td> <td>8936 </td> <td>9597  </td> <td>4067  </td> <td>32  </td> <td>5224</td> <td>3933   </td> <td>841    </td> <td>427    </td> <td>55     </td> <td>112    </td> <td>9      </td> <td>48    </td> <td>0.18    </td> <td>14886 </td> <td>413    </td> <td>944    </td> <td>4180   </td> <td>2677   </td> <td>1383  </td> <td>175    </td> <td>3288   </td> <td>3558   </td> <td>7632   </td> <td>0      </td> <td>233    </td> <td>95     </td> <td>157    </td> <td>0       </td> <td>24.0406 </td> <td>1750.3 </td> <td>17.7206</td> <td>2       </td> <td>4.71888 </td> <td>0   </td> <td>5256 </td> <td>9    </td> <td>661  </td> <td>110        </td> <td>8.94       </td> <td>8.94                  </td> <td>8.94                  </td> <td>44  </td> <td>11   </td> <td>31.8             </td> <td>26.2              </td> <td>25.32             </td>\n",
       "        </tr>\n",
       "    </tbody>\n",
       "        <tr>\n",
       "            <td>10  </td> <td>1       </td> <td>1   </td> <td>1     </td> <td>1742 </td> <td>2981 </td> <td>3080  </td> <td>1204  </td> <td>40  </td> <td>1702</td> <td>1106   </td> <td>307    </td> <td>227    </td> <td>102    </td> <td>73.5   </td> <td>8      </td> <td>35    </td> <td>0.16    </td> <td>9363  </td> <td>93     </td> <td>261    </td> <td>1216   </td> <td>1152   </td> <td>358   </td> <td>667    </td> <td>1926   </td> <td>1919   </td> <td>4247   </td> <td>6      </td> <td>598    </td> <td>89     </td> <td>273    </td> <td>0       </td> <td>0       </td> <td>593.77 </td> <td>0      </td> <td>3       </td> <td>4.62082 </td> <td>0   </td> <td>1742 </td> <td>10   </td> <td>99   </td> <td>110        </td> <td>8.67       </td> <td>8.67                  </td> <td>8.67                  </td> <td>41.2</td> <td>10.3 </td> <td>23.83            </td> <td>26.14             </td> <td>25.92             </td>\n",
       "        </tr>\n",
       "    </tbody>\n",
       "</table>\n",
       "<p>... (361 rows omitted)</p"
      ],
      "text/plain": [
       "ZONE | DISTRICT | SD   | COUNTY | TOTHH | HHPOP | TOTPOP | EMPRES | SFDU | MFDU | HHINCQ1 | HHINCQ2 | HHINCQ3 | HHINCQ4 | TOTACRE | RESACRE | CIACRE | SHPOP62P | TOTEMP | AGE0004 | AGE0519 | AGE2044 | AGE4564 | AGE65P | RETEMPN | FPSEMPN | HEREMPN | OTHEMPN | AGREMPN | MWTEMPN | PRKCST  | OPRKCST | AREATYPE | HSENROLL | COLLFTE | COLLPTE | TOPOLOGY | TERMINAL | ZERO | hhlds | sftaz | gqpop | destination | drive alone | shared ride (2 people) | shared ride (3 people) | walk | bike  | walk-transit-walk | drive-transit-walk | walk-transit-drive\n",
       "1    | 1        | 1    | 1      | 47    | 74    | 82     | 36     | 1    | 46   | 32      | 9       | 4       | 2       | 20.3    | 1       | 15     | 0.25     | 16750  | 3       | 6       | 27      | 29      | 17     | 1163    | 9855    | 2502    | 2655    | 2       | 573     | 218     | 716     | 0        | 0        | 0       | 0       | 3        | 5.57022  | 0    | 47    | 1     | 8     | 110         | 8.56        | 8.56                   | 8.56                   | 40.2 | 10.05 | 24.5              | 21.05              | 18.02\n",
       "2    | 1        | 1    | 1      | 152   | 240   | 266    | 116    | 3    | 149  | 104     | 28      | 12      | 8       | 31.1    | 1       | 24     | 0.25     | 26305  | 9       | 20      | 88      | 93      | 56     | 1826    | 15478   | 3930    | 4169    | 3       | 899     | 218     | 716     | 0        | 0        | 0       | 0       | 1        | 5.55782  | 0    | 152   | 2     | 26    | 110         | 8.51        | 8.51                   | 8.51                   | 40   | 10    | 27.5              | 18.1               | 16.44\n",
       "3    | 1        | 1    | 1      | 276   | 437   | 485    | 210    | 6    | 270  | 190     | 50      | 22      | 14      | 14.7    | 1       | 2      | 0.25     | 2100   | 17      | 37      | 159     | 169     | 103    | 146     | 1235    | 314     | 333     | 0       | 72      | 218.083 | 716.273 | 0        | 0        | 0       | 0       | 1        | 5.52928  | 0    | 276   | 3     | 48    | 110         | 8.96        | 8.96                   | 8.96                   | 40.8 | 10.2  | 21.88             | 18.07              | 13.04\n",
       "4    | 1        | 1    | 1      | 78    | 125   | 138    | 60     | 2    | 76   | 54      | 14      | 6       | 4       | 19.3    | 1       | 18     | 0.25     | 20187  | 5       | 10      | 46      | 48      | 29     | 1401    | 11878   | 3016    | 3200    | 2       | 690     | 191     | 314     | 0        | 0        | 0       | 0       | 2        | 5.5731   | 0    | 78    | 4     | 13    | 110         | 7.94        | 7.94                   | 7.94                   | 35.2 | 8.8   | 25.8              | 17.59              | 19.32\n",
       "5    | 1        | 1    | 1      | 532   | 843   | 937    | 406    | 12   | 520  | 366     | 97      | 42      | 27      | 52.7    | 1       | 15     | 0.25     | 17547  | 33      | 71      | 308     | 327     | 198    | 1218    | 10325   | 2621    | 2781    | 2       | 600     | 191.009 | 314.014 | 0        | 0        | 62.0356 | 0       | 1        | 5.60114  | 0    | 532   | 5     | 94    | 110         | 7.6         | 7.6                    | 7.6                    | 33   | 8.25  | 19.27             | 17.06              | 10.43\n",
       "6    | 1        | 1    | 1      | 2319  | 3408  | 4043   | 2110   | 14   | 2305 | 1239    | 687     | 258     | 135     | 29      | 7       | 8      | 0.16     | 2821   | 85      | 227     | 2183    | 1039    | 509    | 178     | 389     | 1914    | 281     | 0       | 59      | 150     | 546     | 0        | 0        | 0       | 0       | 1        | 4.80412  | 0    | 2319  | 6     | 635   | 110         | 8.51        | 8.51                   | 8.51                   | 40.4 | 10.1  | 24.73             | 18.01              | 18.69\n",
       "7    | 1        | 1    | 1      | 3872  | 5688  | 6147   | 3415   | 7    | 3865 | 2731    | 752     | 294     | 95      | 45      | 13      | 14     | 0.2      | 5947   | 185     | 412     | 2474    | 2052    | 1024   | 403     | 708     | 4271    | 430     | 0       | 135     | 205     | 600     | 0        | 0        | 0       | 0       | 1        | 4.92774  | 0    | 3872  | 7     | 459   | 110         | 8.02        | 8.02                   | 8.02                   | 37   | 9.25  | 21.99             | 17.5               | 15.29\n",
       "8    | 1        | 1    | 1      | 4506  | 7393  | 9472   | 2654   | 18   | 4488 | 3937    | 362     | 176     | 31      | 50      | 8       | 16     | 0.26     | 3251   | 383     | 784     | 2660    | 3562    | 2083   | 98      | 657     | 1629    | 751     | 1       | 115     | 116     | 443     | 0        | 0        | 0       | 0       | 2        | 4.4385   | 0    | 4506  | 8     | 2079  | 110         | 8.36        | 8.36                   | 8.36                   | 36   | 9     | 21.56             | 17.38              | 14.49\n",
       "9    | 1        | 1    | 1      | 5256  | 8936  | 9597   | 4067   | 32   | 5224 | 3933    | 841     | 427     | 55      | 112     | 9       | 48     | 0.18     | 14886  | 413     | 944     | 4180    | 2677    | 1383   | 175     | 3288    | 3558    | 7632    | 0       | 233     | 95      | 157     | 0        | 24.0406  | 1750.3  | 17.7206 | 2        | 4.71888  | 0    | 5256  | 9     | 661   | 110         | 8.94        | 8.94                   | 8.94                   | 44   | 11    | 31.8              | 26.2               | 25.32\n",
       "10   | 1        | 1    | 1      | 1742  | 2981  | 3080   | 1204   | 40   | 1702 | 1106    | 307     | 227     | 102     | 73.5    | 8       | 35     | 0.16     | 9363   | 93      | 261     | 1216    | 1152    | 358    | 667     | 1926    | 1919    | 4247    | 6       | 598     | 89      | 273     | 0        | 0        | 593.77  | 0       | 3        | 4.62082  | 0    | 1742  | 10    | 99    | 110         | 8.67        | 8.67                   | 8.67                   | 41.2 | 10.3  | 23.83             | 26.14              | 25.92\n",
       "... (361 rows omitted)"
      ]
     },
     "execution_count": 4,
     "metadata": {},
     "output_type": "execute_result"
    }
   ],
   "source": [
    "# We want to consider only the TAZs from minilab4 so we will use the Tables.join() filter out other rows:\n",
    "travel_time_data = Table.read_table('../minilab4/sf_oak_traveltimes_bymode.csv')\n",
    "#your code here\n",
    "\n",
    "tt_110 = travel_time_data.where('destination',110)\n",
    "\n",
    "joined_tt = taz_data.join('ZONE', tt_110, 'origin')\n",
    "joined_tt"
   ]
  },
  {
   "cell_type": "markdown",
   "metadata": {},
   "source": [
    "### Number of concert attendees"
   ]
  },
  {
   "cell_type": "code",
   "execution_count": 8,
   "metadata": {
    "collapsed": false
   },
   "outputs": [
    {
     "data": {
      "text/plain": [
       "13956.730000000001"
      ]
     },
     "execution_count": 8,
     "metadata": {},
     "output_type": "execute_result"
    }
   ],
   "source": [
    "num_attendees = np.sum(.02 * joined_tt['AGE2044']+ .005 * joined_tt['AGE4564'])\n",
    "num_attendees"
   ]
  },
  {
   "cell_type": "markdown",
   "metadata": {},
   "source": [
    "### VMT"
   ]
  },
  {
   "cell_type": "code",
   "execution_count": 13,
   "metadata": {
    "collapsed": false
   },
   "outputs": [
    {
     "data": {
      "text/html": [
       "<table border=\"1\" class=\"dataframe\">\n",
       "    <thead>\n",
       "        <tr>\n",
       "            <th>ZONE</th> <th>DISTRICT</th> <th>SD</th> <th>COUNTY</th> <th>TOTHH</th> <th>HHPOP</th> <th>TOTPOP</th> <th>EMPRES</th> <th>SFDU</th> <th>MFDU</th> <th>HHINCQ1</th> <th>HHINCQ2</th> <th>HHINCQ3</th> <th>HHINCQ4</th> <th>TOTACRE</th> <th>RESACRE</th> <th>CIACRE</th> <th>SHPOP62P</th> <th>TOTEMP</th> <th>AGE0004</th> <th>AGE0519</th> <th>AGE2044</th> <th>AGE4564</th> <th>AGE65P</th> <th>RETEMPN</th> <th>FPSEMPN</th> <th>HEREMPN</th> <th>OTHEMPN</th> <th>AGREMPN</th> <th>MWTEMPN</th> <th>PRKCST</th> <th>OPRKCST</th> <th>AREATYPE</th> <th>HSENROLL</th> <th>COLLFTE</th> <th>COLLPTE</th> <th>TOPOLOGY</th> <th>TERMINAL</th> <th>ZERO</th> <th>hhlds</th> <th>sftaz</th> <th>gqpop</th> <th>destination</th> <th>drive alone</th> <th>shared ride (2 people)</th> <th>shared ride (3 people)</th> <th>walk</th> <th>bike</th>\n",
       "        </tr>\n",
       "    </thead>\n",
       "    <tbody>\n",
       "        <tr>\n",
       "            <td>42  </td> <td>1       </td> <td>1   </td> <td>1     </td> <td>1835 </td> <td>6234 </td> <td>6955  </td> <td>3391  </td> <td>430 </td> <td>1405</td> <td>353    </td> <td>340    </td> <td>464    </td> <td>678    </td> <td>628    </td> <td>100    </td> <td>484   </td> <td>0.02    </td> <td>801   </td> <td>296    </td> <td>1006   </td> <td>4774   </td> <td>827    </td> <td>52    </td> <td>136    </td> <td>101    </td> <td>299    </td> <td>249    </td> <td>0      </td> <td>16     </td> <td>0     </td> <td>0      </td> <td>3       </td> <td>0       </td> <td>0      </td> <td>0      </td> <td>2       </td> <td>1.16079 </td> <td>0   </td> <td>1835 </td> <td>42   </td> <td>721  </td> <td>110        </td> <td>5.39       </td> <td>5.39                  </td> <td>5.39                  </td> <td>-999</td> <td>-999</td>\n",
       "        </tr>\n",
       "    </tbody>\n",
       "        <tr>\n",
       "            <td>43  </td> <td>2       </td> <td>2   </td> <td>1     </td> <td>3246 </td> <td>5275 </td> <td>5292  </td> <td>3536  </td> <td>399 </td> <td>2847</td> <td>664    </td> <td>539    </td> <td>669    </td> <td>1374   </td> <td>199    </td> <td>56     </td> <td>5     </td> <td>0.2     </td> <td>2049  </td> <td>212    </td> <td>154    </td> <td>2754   </td> <td>1262   </td> <td>910   </td> <td>430    </td> <td>645    </td> <td>663    </td> <td>241    </td> <td>15     </td> <td>55     </td> <td>0     </td> <td>0      </td> <td>2       </td> <td>0       </td> <td>0      </td> <td>0      </td> <td>3       </td> <td>3.82905 </td> <td>0   </td> <td>3246 </td> <td>43   </td> <td>17   </td> <td>110        </td> <td>5.5        </td> <td>4.42                  </td> <td>4.42                  </td> <td>4.19</td> <td>4.19</td>\n",
       "        </tr>\n",
       "    </tbody>\n",
       "        <tr>\n",
       "            <td>49  </td> <td>2       </td> <td>2   </td> <td>1     </td> <td>2278 </td> <td>4176 </td> <td>4204  </td> <td>2698  </td> <td>536 </td> <td>1742</td> <td>186    </td> <td>235    </td> <td>335    </td> <td>1522   </td> <td>135    </td> <td>76     </td> <td>6     </td> <td>0.2     </td> <td>1841  </td> <td>235    </td> <td>322    </td> <td>1531   </td> <td>1451   </td> <td>665   </td> <td>50     </td> <td>567    </td> <td>981    </td> <td>215    </td> <td>0      </td> <td>28     </td> <td>0     </td> <td>139.35 </td> <td>2       </td> <td>245.198 </td> <td>0      </td> <td>0      </td> <td>1       </td> <td>2.74154 </td> <td>0   </td> <td>2278 </td> <td>49   </td> <td>28   </td> <td>110        </td> <td>4.94       </td> <td>3.86                  </td> <td>3.86                  </td> <td>3.84</td> <td>3.84</td>\n",
       "        </tr>\n",
       "    </tbody>\n",
       "        <tr>\n",
       "            <td>50  </td> <td>2       </td> <td>2   </td> <td>1     </td> <td>2382 </td> <td>4146 </td> <td>4147  </td> <td>2954  </td> <td>406 </td> <td>1976</td> <td>383    </td> <td>409    </td> <td>401    </td> <td>1189   </td> <td>121    </td> <td>59     </td> <td>12    </td> <td>0.21    </td> <td>2275  </td> <td>201    </td> <td>222    </td> <td>1841   </td> <td>1161   </td> <td>722   </td> <td>260    </td> <td>728    </td> <td>1107   </td> <td>137    </td> <td>0      </td> <td>43     </td> <td>0     </td> <td>0      </td> <td>2       </td> <td>0       </td> <td>0      </td> <td>0      </td> <td>1       </td> <td>3.27587 </td> <td>0   </td> <td>2382 </td> <td>50   </td> <td>1    </td> <td>110        </td> <td>5.44       </td> <td>4.42                  </td> <td>4.42                  </td> <td>4.37</td> <td>4.37</td>\n",
       "        </tr>\n",
       "    </tbody>\n",
       "        <tr>\n",
       "            <td>51  </td> <td>2       </td> <td>2   </td> <td>1     </td> <td>2115 </td> <td>3518 </td> <td>3527  </td> <td>2408  </td> <td>314 </td> <td>1801</td> <td>357    </td> <td>346    </td> <td>474    </td> <td>938    </td> <td>107    </td> <td>46     </td> <td>17    </td> <td>0.19    </td> <td>1049  </td> <td>185    </td> <td>118    </td> <td>1787   </td> <td>858    </td> <td>579   </td> <td>35     </td> <td>388    </td> <td>504    </td> <td>117    </td> <td>0      </td> <td>5      </td> <td>0     </td> <td>0      </td> <td>2       </td> <td>0       </td> <td>0      </td> <td>0      </td> <td>3       </td> <td>2.57352 </td> <td>0   </td> <td>2115 </td> <td>51   </td> <td>9    </td> <td>110        </td> <td>5.96       </td> <td>4.89                  </td> <td>4.89                  </td> <td>4.77</td> <td>4.77</td>\n",
       "        </tr>\n",
       "    </tbody>\n",
       "        <tr>\n",
       "            <td>52  </td> <td>2       </td> <td>2   </td> <td>1     </td> <td>1119 </td> <td>3259 </td> <td>3267  </td> <td>1801  </td> <td>296 </td> <td>823 </td> <td>211    </td> <td>253    </td> <td>323    </td> <td>332    </td> <td>1491   </td> <td>57     </td> <td>280   </td> <td>0.03    </td> <td>1106  </td> <td>305    </td> <td>395    </td> <td>2117   </td> <td>415    </td> <td>35    </td> <td>23     </td> <td>254    </td> <td>402    </td> <td>315    </td> <td>0      </td> <td>112    </td> <td>0     </td> <td>0      </td> <td>3       </td> <td>0       </td> <td>0      </td> <td>0      </td> <td>1       </td> <td>1.20476 </td> <td>0   </td> <td>1119 </td> <td>52   </td> <td>8    </td> <td>110        </td> <td>7.06       </td> <td>5.69                  </td> <td>5.69                  </td> <td>5.66</td> <td>5.66</td>\n",
       "        </tr>\n",
       "    </tbody>\n",
       "        <tr>\n",
       "            <td>53  </td> <td>2       </td> <td>2   </td> <td>1     </td> <td>35   </td> <td>45   </td> <td>175   </td> <td>59    </td> <td>0   </td> <td>35  </td> <td>25     </td> <td>4      </td> <td>6      </td> <td>0      </td> <td>1098   </td> <td>5      </td> <td>13    </td> <td>0.05    </td> <td>961   </td> <td>2      </td> <td>4      </td> <td>117    </td> <td>50     </td> <td>2     </td> <td>53     </td> <td>72     </td> <td>656    </td> <td>165    </td> <td>0      </td> <td>15     </td> <td>0     </td> <td>0      </td> <td>3       </td> <td>0       </td> <td>0      </td> <td>0      </td> <td>2       </td> <td>3.35624 </td> <td>0   </td> <td>35   </td> <td>53   </td> <td>130  </td> <td>110        </td> <td>5.91       </td> <td>5.91                  </td> <td>5.81                  </td> <td>5.59</td> <td>5.59</td>\n",
       "        </tr>\n",
       "    </tbody>\n",
       "        <tr>\n",
       "            <td>54  </td> <td>2       </td> <td>2   </td> <td>1     </td> <td>2691 </td> <td>6386 </td> <td>6455  </td> <td>3814  </td> <td>1217</td> <td>1474</td> <td>674    </td> <td>594    </td> <td>824    </td> <td>599    </td> <td>257    </td> <td>104    </td> <td>4     </td> <td>0.24    </td> <td>849   </td> <td>270    </td> <td>705    </td> <td>2147   </td> <td>2022   </td> <td>1311  </td> <td>168    </td> <td>250    </td> <td>307    </td> <td>103    </td> <td>0      </td> <td>21     </td> <td>0     </td> <td>0      </td> <td>3       </td> <td>0       </td> <td>0      </td> <td>0      </td> <td>1       </td> <td>2.26117 </td> <td>0   </td> <td>2691 </td> <td>54   </td> <td>69   </td> <td>110        </td> <td>7.85       </td> <td>7.67                  </td> <td>7.67                  </td> <td>7.45</td> <td>7.45</td>\n",
       "        </tr>\n",
       "    </tbody>\n",
       "        <tr>\n",
       "            <td>55  </td> <td>2       </td> <td>2   </td> <td>1     </td> <td>1520 </td> <td>3571 </td> <td>3571  </td> <td>1919  </td> <td>758 </td> <td>762 </td> <td>373    </td> <td>387    </td> <td>407    </td> <td>353    </td> <td>97     </td> <td>58     </td> <td>1     </td> <td>0.23    </td> <td>322   </td> <td>182    </td> <td>395    </td> <td>1147   </td> <td>1166   </td> <td>681   </td> <td>27     </td> <td>190    </td> <td>83     </td> <td>10     </td> <td>0      </td> <td>12     </td> <td>0     </td> <td>0      </td> <td>3       </td> <td>0       </td> <td>0      </td> <td>0      </td> <td>1       </td> <td>2.17099 </td> <td>0   </td> <td>1520 </td> <td>55   </td> <td>0    </td> <td>110        </td> <td>8.17       </td> <td>7.03                  </td> <td>7.03                  </td> <td>7.03</td> <td>7.03</td>\n",
       "        </tr>\n",
       "    </tbody>\n",
       "        <tr>\n",
       "            <td>56  </td> <td>2       </td> <td>2   </td> <td>1     </td> <td>62   </td> <td>130  </td> <td>129   </td> <td>196   </td> <td>13  </td> <td>49  </td> <td>15     </td> <td>13     </td> <td>5      </td> <td>29     </td> <td>250    </td> <td>2      </td> <td>157   </td> <td>0.47    </td> <td>2126  </td> <td>2      </td> <td>7      </td> <td>24     </td> <td>40     </td> <td>56    </td> <td>0      </td> <td>329    </td> <td>1552   </td> <td>233    </td> <td>0      </td> <td>12     </td> <td>0     </td> <td>0      </td> <td>3       </td> <td>0       </td> <td>0      </td> <td>0      </td> <td>1       </td> <td>1.48534 </td> <td>0   </td> <td>62   </td> <td>56   </td> <td>-1   </td> <td>110        </td> <td>8.2        </td> <td>7.07                  </td> <td>7.07                  </td> <td>7.04</td> <td>7.04</td>\n",
       "        </tr>\n",
       "    </tbody>\n",
       "</table>\n",
       "<p>... (130 rows omitted)</p"
      ],
      "text/plain": [
       "ZONE | DISTRICT | SD   | COUNTY | TOTHH | HHPOP | TOTPOP | EMPRES | SFDU | MFDU | HHINCQ1 | HHINCQ2 | HHINCQ3 | HHINCQ4 | TOTACRE | RESACRE | CIACRE | SHPOP62P | TOTEMP | AGE0004 | AGE0519 | AGE2044 | AGE4564 | AGE65P | RETEMPN | FPSEMPN | HEREMPN | OTHEMPN | AGREMPN | MWTEMPN | PRKCST | OPRKCST | AREATYPE | HSENROLL | COLLFTE | COLLPTE | TOPOLOGY | TERMINAL | ZERO | hhlds | sftaz | gqpop | destination | drive alone | shared ride (2 people) | shared ride (3 people) | walk | bike\n",
       "42   | 1        | 1    | 1      | 1835  | 6234  | 6955   | 3391   | 430  | 1405 | 353     | 340     | 464     | 678     | 628     | 100     | 484    | 0.02     | 801    | 296     | 1006    | 4774    | 827     | 52     | 136     | 101     | 299     | 249     | 0       | 16      | 0      | 0       | 3        | 0        | 0       | 0       | 2        | 1.16079  | 0    | 1835  | 42    | 721   | 110         | 5.39        | 5.39                   | 5.39                   | -999 | -999\n",
       "43   | 2        | 2    | 1      | 3246  | 5275  | 5292   | 3536   | 399  | 2847 | 664     | 539     | 669     | 1374    | 199     | 56      | 5      | 0.2      | 2049   | 212     | 154     | 2754    | 1262    | 910    | 430     | 645     | 663     | 241     | 15      | 55      | 0      | 0       | 2        | 0        | 0       | 0       | 3        | 3.82905  | 0    | 3246  | 43    | 17    | 110         | 5.5         | 4.42                   | 4.42                   | 4.19 | 4.19\n",
       "49   | 2        | 2    | 1      | 2278  | 4176  | 4204   | 2698   | 536  | 1742 | 186     | 235     | 335     | 1522    | 135     | 76      | 6      | 0.2      | 1841   | 235     | 322     | 1531    | 1451    | 665    | 50      | 567     | 981     | 215     | 0       | 28      | 0      | 139.35  | 2        | 245.198  | 0       | 0       | 1        | 2.74154  | 0    | 2278  | 49    | 28    | 110         | 4.94        | 3.86                   | 3.86                   | 3.84 | 3.84\n",
       "50   | 2        | 2    | 1      | 2382  | 4146  | 4147   | 2954   | 406  | 1976 | 383     | 409     | 401     | 1189    | 121     | 59      | 12     | 0.21     | 2275   | 201     | 222     | 1841    | 1161    | 722    | 260     | 728     | 1107    | 137     | 0       | 43      | 0      | 0       | 2        | 0        | 0       | 0       | 1        | 3.27587  | 0    | 2382  | 50    | 1     | 110         | 5.44        | 4.42                   | 4.42                   | 4.37 | 4.37\n",
       "51   | 2        | 2    | 1      | 2115  | 3518  | 3527   | 2408   | 314  | 1801 | 357     | 346     | 474     | 938     | 107     | 46      | 17     | 0.19     | 1049   | 185     | 118     | 1787    | 858     | 579    | 35      | 388     | 504     | 117     | 0       | 5       | 0      | 0       | 2        | 0        | 0       | 0       | 3        | 2.57352  | 0    | 2115  | 51    | 9     | 110         | 5.96        | 4.89                   | 4.89                   | 4.77 | 4.77\n",
       "52   | 2        | 2    | 1      | 1119  | 3259  | 3267   | 1801   | 296  | 823  | 211     | 253     | 323     | 332     | 1491    | 57      | 280    | 0.03     | 1106   | 305     | 395     | 2117    | 415     | 35     | 23      | 254     | 402     | 315     | 0       | 112     | 0      | 0       | 3        | 0        | 0       | 0       | 1        | 1.20476  | 0    | 1119  | 52    | 8     | 110         | 7.06        | 5.69                   | 5.69                   | 5.66 | 5.66\n",
       "53   | 2        | 2    | 1      | 35    | 45    | 175    | 59     | 0    | 35   | 25      | 4       | 6       | 0       | 1098    | 5       | 13     | 0.05     | 961    | 2       | 4       | 117     | 50      | 2      | 53      | 72      | 656     | 165     | 0       | 15      | 0      | 0       | 3        | 0        | 0       | 0       | 2        | 3.35624  | 0    | 35    | 53    | 130   | 110         | 5.91        | 5.91                   | 5.81                   | 5.59 | 5.59\n",
       "54   | 2        | 2    | 1      | 2691  | 6386  | 6455   | 3814   | 1217 | 1474 | 674     | 594     | 824     | 599     | 257     | 104     | 4      | 0.24     | 849    | 270     | 705     | 2147    | 2022    | 1311   | 168     | 250     | 307     | 103     | 0       | 21      | 0      | 0       | 3        | 0        | 0       | 0       | 1        | 2.26117  | 0    | 2691  | 54    | 69    | 110         | 7.85        | 7.67                   | 7.67                   | 7.45 | 7.45\n",
       "55   | 2        | 2    | 1      | 1520  | 3571  | 3571   | 1919   | 758  | 762  | 373     | 387     | 407     | 353     | 97      | 58      | 1      | 0.23     | 322    | 182     | 395     | 1147    | 1166    | 681    | 27      | 190     | 83      | 10      | 0       | 12      | 0      | 0       | 3        | 0        | 0       | 0       | 1        | 2.17099  | 0    | 1520  | 55    | 0     | 110         | 8.17        | 7.03                   | 7.03                   | 7.03 | 7.03\n",
       "56   | 2        | 2    | 1      | 62    | 130   | 129    | 196    | 13   | 49   | 15      | 13      | 5       | 29      | 250     | 2       | 157    | 0.47     | 2126   | 2       | 7       | 24      | 40      | 56     | 0       | 329     | 1552    | 233     | 0       | 12      | 0      | 0       | 3        | 0        | 0       | 0       | 1        | 1.48534  | 0    | 62    | 56    | -1    | 110         | 8.2         | 7.07                   | 7.07                   | 7.04 | 7.04\n",
       "... (130 rows omitted)"
      ]
     },
     "execution_count": 13,
     "metadata": {},
     "output_type": "execute_result"
    }
   ],
   "source": [
    "# from HW4:\n",
    "# get the rows where shared ride +25 < transit time, and rows where transit is not available\n",
    "drive_inds = ((tt_110['shared ride (2 people)']+25<tt_110['walk-transit-walk'])|(tt_110['walk-transit-walk'] == -999))\n",
    "drive_rows = tt_110.where(drive_inds)\n",
    "tazs_that_drive = drive_rows['origin']\n",
    "\n",
    "# calculate VMT - join with travel distance table\n",
    "travel_dist_data = Table.read_table('sf_oak_traveldists_bymode.csv')\n",
    "td_110 = travel_dist_data.where('destination',110)\n",
    "joined_td = taz_data.join('ZONE', td_110, 'origin')\n",
    "\n",
    "# take only the tazs that drive:\n",
    "joined_td_drive = joined_td.where(np.in1d(joined_td['ZONE'], tazs_that_drive))\n",
    "joined_td_drive"
   ]
  },
  {
   "cell_type": "code",
   "execution_count": 19,
   "metadata": {
    "collapsed": false
   },
   "outputs": [
    {
     "name": "stdout",
     "output_type": "stream",
     "text": [
      "VMT caused by the concert: 26905.506675 miles\n"
     ]
    }
   ],
   "source": [
    "# concert_vmt = # sum(# people that share a ride from a taz * distance driven)/2 because they share a ride\n",
    "num_people_drove = joined_td_drive['AGE2044']*.02+joined_td_drive['AGE4564']*.005\n",
    "num_miles = joined_td_drive['drive alone']\n",
    "\n",
    "concert_vmt = (np.sum(num_people_drove*num_miles)/2)\n",
    "print ('VMT caused by the concert: %f miles' %np.round(concert_vmt))"
   ]
  }
 ],
 "metadata": {
  "kernelspec": {
   "display_name": "Python 3",
   "language": "python",
   "name": "python3"
  },
  "language_info": {
   "codemirror_mode": {
    "name": "ipython",
    "version": 3
   },
   "file_extension": ".py",
   "mimetype": "text/x-python",
   "name": "python",
   "nbconvert_exporter": "python",
   "pygments_lexer": "ipython3",
   "version": "3.5.2"
  }
 },
 "nbformat": 4,
 "nbformat_minor": 0
}
