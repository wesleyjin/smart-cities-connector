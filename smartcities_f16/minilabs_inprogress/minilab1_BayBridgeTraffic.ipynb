{
 "cells": [
  {
   "cell_type": "markdown",
   "metadata": {},
   "source": [
    "# Mini Lab 1 - Bay Bridge Traffic Counts\n",
    "\n",
    "This notebook contains traffic counts going westbound over the Bay Bridge. The data comes from http://pems.dot.ca.gov/. This data can be useful for planning purposes and for incident detection.\n",
    "\n",
    "\n",
    "First we need to import a few packages to process the data. Click in the box below and press \"Shift\"+\"Enter\" to run the code."
   ]
  },
  {
   "cell_type": "code",
   "execution_count": 1,
   "metadata": {
    "collapsed": false
   },
   "outputs": [],
   "source": [
    "from datascience import *\n",
    "%matplotlib inline\n",
    "\n",
    "import numpy as np\n",
    "import matplotlib.pyplot as plots\n",
    "import matplotlib.dates as mdates\n",
    "import pandas as pd"
   ]
  },
  {
   "cell_type": "markdown",
   "metadata": {},
   "source": [
    "## Reading the data\n",
    "Next, we read in a  file called pems_output.csv that has traffic counts by hour for each lane of the Bay Bridge for one week from 1/14/2016 to 1/21/2016. We will save the text from pems_output.csv into a table called data. Press \"Shift\"+\"Enter\" in the box below to run the code and see what the data table looks like."
   ]
  },
  {
   "cell_type": "code",
   "execution_count": 2,
   "metadata": {
    "collapsed": false
   },
   "outputs": [
    {
     "data": {
      "text/html": [
       "<table border=\"1\" class=\"dataframe\">\n",
       "    <thead>\n",
       "        <tr>\n",
       "            <th>Hour</th> <th>Lane 1 Flow (Veh/Hour)</th> <th>Lane 2 Flow (Veh/Hour)</th> <th>Lane 3 Flow (Veh/Hour)</th> <th>Lane 4 Flow (Veh/Hour)</th> <th>Lane 5 Flow (Veh/Hour)</th> <th>Flow (Veh/Hour)</th> <th># Lane Points</th> <th>% Observed</th>\n",
       "        </tr>\n",
       "    </thead>\n",
       "    <tbody>\n",
       "        <tr>\n",
       "            <td>1/14/2016 0:00</td> <td>34                    </td> <td>347                   </td> <td>372                   </td> <td>291                   </td> <td>119                   </td> <td>1163           </td> <td>60           </td> <td>100       </td>\n",
       "        </tr>\n",
       "    </tbody>\n",
       "        <tr>\n",
       "            <td>1/14/2016 1:00</td> <td>20                    </td> <td>199                   </td> <td>295                   </td> <td>230                   </td> <td>74                    </td> <td>818            </td> <td>60           </td> <td>100       </td>\n",
       "        </tr>\n",
       "    </tbody>\n",
       "        <tr>\n",
       "            <td>1/14/2016 2:00</td> <td>17                    </td> <td>248                   </td> <td>342                   </td> <td>267                   </td> <td>114                   </td> <td>988            </td> <td>60           </td> <td>100       </td>\n",
       "        </tr>\n",
       "    </tbody>\n",
       "        <tr>\n",
       "            <td>1/14/2016 3:00</td> <td>158                   </td> <td>427                   </td> <td>433                   </td> <td>347                   </td> <td>164                   </td> <td>1529           </td> <td>60           </td> <td>100       </td>\n",
       "        </tr>\n",
       "    </tbody>\n",
       "        <tr>\n",
       "            <td>1/14/2016 4:00</td> <td>883                   </td> <td>1033                  </td> <td>912                   </td> <td>737                   </td> <td>543                   </td> <td>4108           </td> <td>60           </td> <td>100       </td>\n",
       "        </tr>\n",
       "    </tbody>\n",
       "        <tr>\n",
       "            <td>1/14/2016 5:00</td> <td>2037                  </td> <td>1944                  </td> <td>1734                  </td> <td>1617                  </td> <td>1594                  </td> <td>8926           </td> <td>60           </td> <td>100       </td>\n",
       "        </tr>\n",
       "    </tbody>\n",
       "        <tr>\n",
       "            <td>1/14/2016 6:00</td> <td>1838                  </td> <td>1844                  </td> <td>1709                  </td> <td>1715                  </td> <td>1626                  </td> <td>8732           </td> <td>60           </td> <td>100       </td>\n",
       "        </tr>\n",
       "    </tbody>\n",
       "        <tr>\n",
       "            <td>1/14/2016 7:00</td> <td>1790                  </td> <td>1883                  </td> <td>1760                  </td> <td>1720                  </td> <td>1627                  </td> <td>8780           </td> <td>60           </td> <td>100       </td>\n",
       "        </tr>\n",
       "    </tbody>\n",
       "        <tr>\n",
       "            <td>1/14/2016 8:00</td> <td>1739                  </td> <td>1820                  </td> <td>1686                  </td> <td>1621                  </td> <td>1617                  </td> <td>8483           </td> <td>60           </td> <td>100       </td>\n",
       "        </tr>\n",
       "    </tbody>\n",
       "        <tr>\n",
       "            <td>1/14/2016 9:00</td> <td>1709                  </td> <td>1705                  </td> <td>1681                  </td> <td>1591                  </td> <td>1631                  </td> <td>8317           </td> <td>60           </td> <td>100       </td>\n",
       "        </tr>\n",
       "    </tbody>\n",
       "</table>\n",
       "<p>... (160 rows omitted)</p"
      ],
      "text/plain": [
       "Hour           | Lane 1 Flow (Veh/Hour) | Lane 2 Flow (Veh/Hour) | Lane 3 Flow (Veh/Hour) | Lane 4 Flow (Veh/Hour) | Lane 5 Flow (Veh/Hour) | Flow (Veh/Hour) | # Lane Points | % Observed\n",
       "1/14/2016 0:00 | 34                     | 347                    | 372                    | 291                    | 119                    | 1163            | 60            | 100\n",
       "1/14/2016 1:00 | 20                     | 199                    | 295                    | 230                    | 74                     | 818             | 60            | 100\n",
       "1/14/2016 2:00 | 17                     | 248                    | 342                    | 267                    | 114                    | 988             | 60            | 100\n",
       "1/14/2016 3:00 | 158                    | 427                    | 433                    | 347                    | 164                    | 1529            | 60            | 100\n",
       "1/14/2016 4:00 | 883                    | 1033                   | 912                    | 737                    | 543                    | 4108            | 60            | 100\n",
       "1/14/2016 5:00 | 2037                   | 1944                   | 1734                   | 1617                   | 1594                   | 8926            | 60            | 100\n",
       "1/14/2016 6:00 | 1838                   | 1844                   | 1709                   | 1715                   | 1626                   | 8732            | 60            | 100\n",
       "1/14/2016 7:00 | 1790                   | 1883                   | 1760                   | 1720                   | 1627                   | 8780            | 60            | 100\n",
       "1/14/2016 8:00 | 1739                   | 1820                   | 1686                   | 1621                   | 1617                   | 8483            | 60            | 100\n",
       "1/14/2016 9:00 | 1709                   | 1705                   | 1681                   | 1591                   | 1631                   | 8317            | 60            | 100\n",
       "... (160 rows omitted)"
      ]
     },
     "execution_count": 2,
     "metadata": {},
     "output_type": "execute_result"
    }
   ],
   "source": [
    "data = Table.read_table('data/pems_output.csv')\n",
    "\n",
    "data"
   ]
  },
  {
   "cell_type": "markdown",
   "metadata": {},
   "source": [
    "## Plotting the data\n",
    "If we want to plot the total traffic volume (on all lanes) over this week we would run the following. \n",
    "### First using the datascience plot function:"
   ]
  },
  {
   "cell_type": "code",
   "execution_count": null,
   "metadata": {
    "collapsed": false
   },
   "outputs": [],
   "source": [
    "# Reminder the '#' indicates that this line is a comment.\n",
    "# First, the column titled 'Hour' above needs to be interpreted \n",
    "# as a datetime object.\n",
    "data['date'] = pd.to_datetime(data['Hour'])\n",
    "\n",
    "# the datascience package has a built in plot function - we can \n",
    "# use this the data.select() function to choose the columns we \n",
    "# want to plot. Then use the .plot() function to plot the data\n",
    "data.select(['date','Flow (Veh/Hour)']).plot('date')\n"
   ]
  },
  {
   "cell_type": "markdown",
   "metadata": {},
   "source": [
    "### Next using matplotlib - a python package that helps make custom plots\n",
    "While the built-in data-science plot function is convenient, by default the date column prints in units of seconds, rather than printing 'mm/dd/yyyy'. We need to do a little bit of manipulation to process the date field correctly. The code below includes a little bit of custom code to clean up the x-axis"
   ]
  },
  {
   "cell_type": "code",
   "execution_count": null,
   "metadata": {
    "collapsed": false
   },
   "outputs": [],
   "source": [
    "plots.gca().xaxis.set_major_formatter(mdates.DateFormatter('%m/%d/%Y'))\n",
    "plots.gcf().autofmt_xdate()\n",
    "\n",
    "plots.plot(data['date'],data['Flow (Veh/Hour)'])\n",
    "plots.ylabel('Flow (Veh/Hour)')"
   ]
  },
  {
   "cell_type": "markdown",
   "metadata": {},
   "source": [
    "## Seeing patterns\n",
    "\n",
    "What patterns do you see in the traffic flow data above. Why do you think these patterns occur?\n",
    "\n",
    "Can you recognize a difference between weekend days and weekdays? Note that a holiday (MLK day) also falls in this time period. "
   ]
  },
  {
   "cell_type": "code",
   "execution_count": null,
   "metadata": {
    "collapsed": true
   },
   "outputs": [],
   "source": [
    "# write a response to the above questions here:\n",
    "\n",
    "\n"
   ]
  },
  {
   "cell_type": "markdown",
   "metadata": {},
   "source": [
    "## Comparing the counts in different lanes\n",
    "We can also compare traffic volumes in different lanes. Running the code below will show the traffic volumes in lane 1 and lane 2. Modify the code below to plot the traffic in each lane 1-5?\n",
    "\n",
    "Which lanes have the highest traffic volumes. Which have the lowest traffic volumes?\n"
   ]
  },
  {
   "cell_type": "code",
   "execution_count": null,
   "metadata": {
    "collapsed": false
   },
   "outputs": [],
   "source": [
    "plots.gca().xaxis.set_major_formatter(mdates.DateFormatter('%m/%d/%Y'))\n",
    "plots.gcf().autofmt_xdate()\n",
    "plots.plot(data['date'],data['Lane 1 Flow (Veh/Hour)'],label='Lane 1')\n",
    "plots.plot(data['date'],data['Lane 2 Flow (Veh/Hour)'],label='Lane 2')\n",
    "# To add lane 3, copy and paste the above line. Change 'Lane 2 Flow (Veh/Hour)' \n",
    "# to 'Lane 3 Flow (Veh/Hour)'. Also change the label!\n",
    "\n",
    "\n",
    "\n",
    "plots.ylabel('Flow (Veh/Hour)')\n",
    "plots.legend(bbox_to_anchor=(0., 1.02, 1., .102), loc=3, ncol=2)\n"
   ]
  },
  {
   "cell_type": "code",
   "execution_count": null,
   "metadata": {
    "collapsed": true
   },
   "outputs": [],
   "source": [
    "# Comment here on which lanes have the highest and lowest traffic volumes. Why do you think this might be?\n"
   ]
  },
  {
   "cell_type": "markdown",
   "metadata": {},
   "source": [
    "## Visualizing the data in multiple ways.\n",
    "\n",
    "We can choose different ways to display the data, for example we may want to look at the spread of traffic flows vs. hour of the day. In this case a scatter plot may be more helpful. Run the code below to see a scatter plot of veh/hour vs. time of day"
   ]
  },
  {
   "cell_type": "code",
   "execution_count": null,
   "metadata": {
    "collapsed": false
   },
   "outputs": [],
   "source": [
    "data['Hour of the day'] = pd.to_datetime(data['Hour']).hour\n",
    "data.select(['Hour of the day','Flow (Veh/Hour)']).scatter('Hour of the day')\n"
   ]
  },
  {
   "cell_type": "markdown",
   "metadata": {},
   "source": [
    "## Incident detection\n",
    "\n",
    "Notice that there seems to be a bit of an outlier at 4pm on the scatter plot above. The same outlier can also be seen as the mysterious dip in traffic volume on January 18th in the plots above. What might cause a dip like this? \n",
    "\n",
    "\n"
   ]
  },
  {
   "cell_type": "code",
   "execution_count": null,
   "metadata": {
    "collapsed": true
   },
   "outputs": [],
   "source": [
    "# Comment here on what might cause a dip in traffic like we see on 1/18\n",
    "\n"
   ]
  },
  {
   "cell_type": "markdown",
   "metadata": {},
   "source": [
    "Why don't we do a little research and see if there is any news about incindents that occurred on 1/18 at about 4:00 that might limit traffic volumes on the bay bridge. After doing some research, do you now have a better idea of what cause the 1/18 dip in traffic volumes?"
   ]
  },
  {
   "cell_type": "code",
   "execution_count": null,
   "metadata": {
    "collapsed": true
   },
   "outputs": [],
   "source": [
    "# Answer here"
   ]
  },
  {
   "cell_type": "markdown",
   "metadata": {},
   "source": [
    "Given what you discovered above, do you think that a local D.O.T. (department of transportation) could use traffic realtime traffic counts to identify traffic incidents?"
   ]
  },
  {
   "cell_type": "code",
   "execution_count": null,
   "metadata": {
    "collapsed": true
   },
   "outputs": [],
   "source": [
    "# Answer here"
   ]
  },
  {
   "cell_type": "markdown",
   "metadata": {},
   "source": [
    "## Submitting this lab\n",
    "On the top of this notebook click \"File\" --> \"download as\" --> \"PDF via LaTeZ\". This will download a pdf of this file on your computer. Submit this lab on bcourses. This lab will not be graded, but it will help you to become familiar with the submission process for this course. The lab will also help you with this week's homework!"
   ]
  }
 ],
 "metadata": {
  "kernelspec": {
   "display_name": "Python 3",
   "language": "python",
   "name": "python3"
  },
  "language_info": {
   "codemirror_mode": {
    "name": "ipython",
    "version": 3
   },
   "file_extension": ".py",
   "mimetype": "text/x-python",
   "name": "python",
   "nbconvert_exporter": "python",
   "pygments_lexer": "ipython3",
   "version": "3.5.2"
  }
 },
 "nbformat": 4,
 "nbformat_minor": 0
}
