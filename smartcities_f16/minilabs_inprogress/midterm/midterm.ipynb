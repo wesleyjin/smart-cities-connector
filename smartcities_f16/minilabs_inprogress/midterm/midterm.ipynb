{
 "cells": [
  {
   "cell_type": "code",
   "execution_count": 1,
   "metadata": {
    "collapsed": true
   },
   "outputs": [],
   "source": [
    "import numpy as np\n",
    "from datascience import *"
   ]
  },
  {
   "cell_type": "code",
   "execution_count": 2,
   "metadata": {
    "collapsed": false
   },
   "outputs": [
    {
     "data": {
      "text/html": [
       "<table border=\"1\" class=\"dataframe\">\n",
       "    <thead>\n",
       "        <tr>\n",
       "            <th>observation_id</th> <th>choice</th> <th>availability_drive_alone</th> <th>availability_shared_ride_2</th> <th>availability_shared_ride_3+</th> <th>availability_walk_transit_walk</th> <th>availability_drive_transit_walk</th> <th>availability_walk_transit_drive</th> <th>availability_walk</th> <th>availability_bicycle</th> <th>household_id</th> <th>person_id</th> <th>tour_id</th> <th>tour_origin_taz</th> <th>primary_dest_taz</th> <th>age</th> <th>household_size</th> <th>household_income</th> <th>household_income_values</th> <th>transit_subsidy</th> <th>transit_subsidy_amount</th> <th>cross_bay</th> <th>total_travel_time_drive_alone</th> <th>total_travel_time_shared_ride_2</th> <th>total_travel_time_shared_ride_3+</th> <th>total_travel_time_walk_transit_walk</th> <th>total_travel_time_drive_transit_walk</th> <th>total_travel_time_walk_transit_drive</th> <th>total_travel_time_walk</th> <th>total_travel_time_bicycle</th> <th>total_travel_distance_drive_alone</th> <th>total_travel_distance_shared_ride_2</th> <th>total_travel_distance_shared_ride_3+</th> <th>total_travel_distance_walk</th> <th>total_travel_distance_bicycle</th> <th>total_travel_cost_drive_alone</th> <th>total_travel_cost_shared_ride_2</th> <th>total_travel_cost_shared_ride_3+</th> <th>total_travel_cost_walk_transit_walk</th> <th>total_travel_cost_drive_transit_walk</th> <th>total_travel_cost_walk_transit_drive</th> <th>age_ctgry</th>\n",
       "        </tr>\n",
       "    </thead>\n",
       "    <tbody>\n",
       "        <tr>\n",
       "            <td>1             </td> <td>drive_alone      </td> <td>1                       </td> <td>1                         </td> <td>1                          </td> <td>1                             </td> <td>1                              </td> <td>1                              </td> <td>1                </td> <td>1                   </td> <td>1043613     </td> <td>1        </td> <td>0      </td> <td>1004           </td> <td>969             </td> <td>53  </td> <td>2             </td> <td>6               </td> <td>87500                  </td> <td>0              </td> <td>-1                    </td> <td>0        </td> <td>20.97                        </td> <td>20.97                          </td> <td>20.97                           </td> <td>83.56                              </td> <td>63.05                               </td> <td>67.29                               </td> <td>167.6                 </td> <td>41.9                     </td> <td>9.1                              </td> <td>9.1                                </td> <td>9.1                                 </td> <td>8.38                      </td> <td>8.38                         </td> <td>1.6817                       </td> <td>0.9609                         </td> <td>0.6726                          </td> <td>5.84                               </td> <td>3.22                                </td> <td>3.02                                </td> <td>45-64    </td>\n",
       "        </tr>\n",
       "    </tbody>\n",
       "        <tr>\n",
       "            <td>2             </td> <td>drive_alone      </td> <td>1                       </td> <td>1                         </td> <td>1                          </td> <td>1                             </td> <td>1                              </td> <td>1                              </td> <td>1                </td> <td>1                   </td> <td>1043613     </td> <td>1        </td> <td>1      </td> <td>1004           </td> <td>969             </td> <td>53  </td> <td>2             </td> <td>6               </td> <td>87500                  </td> <td>0              </td> <td>-1                    </td> <td>0        </td> <td>22.16                        </td> <td>22.16                          </td> <td>22.16                           </td> <td>87.38                              </td> <td>77.79                               </td> <td>58.01                               </td> <td>167.6                 </td> <td>41.9                     </td> <td>9.1                              </td> <td>9.1                                </td> <td>9.1                                 </td> <td>8.38                      </td> <td>8.38                         </td> <td>1.6817                       </td> <td>0.9609                         </td> <td>0.6726                          </td> <td>4.83                               </td> <td>3.22                                </td> <td>3.22                                </td> <td>45-64    </td>\n",
       "        </tr>\n",
       "    </tbody>\n",
       "        <tr>\n",
       "            <td>3             </td> <td>shared_ride_2    </td> <td>1                       </td> <td>1                         </td> <td>1                          </td> <td>1                             </td> <td>1                              </td> <td>1                              </td> <td>0                </td> <td>0                   </td> <td>1045607     </td> <td>1        </td> <td>0      </td> <td>908            </td> <td>116             </td> <td>57  </td> <td>1             </td> <td>4               </td> <td>42500                  </td> <td>0              </td> <td>-1                    </td> <td>1        </td> <td>47.98                        </td> <td>47.98                          </td> <td>47.98                           </td> <td>140.63                             </td> <td>131.49                              </td> <td>137.39                              </td> <td>nan                   </td> <td>nan                      </td> <td>31.94                            </td> <td>31.94                              </td> <td>31.94                               </td> <td>nan                       </td> <td>nan                          </td> <td>9.1125                       </td> <td>5.2071                         </td> <td>3.645                           </td> <td>6.95                               </td> <td>7.75                                </td> <td>5.98                                </td> <td>45-64    </td>\n",
       "        </tr>\n",
       "    </tbody>\n",
       "        <tr>\n",
       "            <td>4             </td> <td>bike             </td> <td>0                       </td> <td>1                         </td> <td>1                          </td> <td>1                             </td> <td>0                              </td> <td>1                              </td> <td>1                </td> <td>1                   </td> <td>1049908     </td> <td>1        </td> <td>0      </td> <td>30             </td> <td>12              </td> <td>50  </td> <td>1             </td> <td>2               </td> <td>17500                  </td> <td>0              </td> <td>-1                    </td> <td>0        </td> <td>nan                          </td> <td>15.05                          </td> <td>15.05                           </td> <td>26.46                              </td> <td>nan                                 </td> <td>16.77                               </td> <td>42.8                  </td> <td>10.7                     </td> <td>nan                              </td> <td>2.23                               </td> <td>2.23                                </td> <td>2.14                      </td> <td>2.14                         </td> <td>nan                          </td> <td>0.2355                         </td> <td>0.1649                          </td> <td>3.22                               </td> <td>nan                                 </td> <td>3.22                                </td> <td>45-64    </td>\n",
       "        </tr>\n",
       "    </tbody>\n",
       "        <tr>\n",
       "            <td>5             </td> <td>walk             </td> <td>0                       </td> <td>1                         </td> <td>1                          </td> <td>1                             </td> <td>0                              </td> <td>1                              </td> <td>1                </td> <td>1                   </td> <td>1049908     </td> <td>1        </td> <td>1      </td> <td>30             </td> <td>9               </td> <td>50  </td> <td>1             </td> <td>2               </td> <td>17500                  </td> <td>0              </td> <td>-1                    </td> <td>0        </td> <td>nan                          </td> <td>11.72                          </td> <td>11.72                           </td> <td>43.86                              </td> <td>nan                                 </td> <td>28.89                               </td> <td>19.2                  </td> <td>4.8                      </td> <td>nan                              </td> <td>0.96                               </td> <td>0.96                                </td> <td>0.96                      </td> <td>0.96                         </td> <td>nan                          </td> <td>0.1014                         </td> <td>0.071                           </td> <td>3.22                               </td> <td>nan                                 </td> <td>3.22                                </td> <td>45-64    </td>\n",
       "        </tr>\n",
       "    </tbody>\n",
       "        <tr>\n",
       "            <td>6             </td> <td>shared_ride_2    </td> <td>1                       </td> <td>1                         </td> <td>1                          </td> <td>1                             </td> <td>1                              </td> <td>1                              </td> <td>1                </td> <td>1                   </td> <td>1051388     </td> <td>2        </td> <td>0      </td> <td>89             </td> <td>4               </td> <td>48  </td> <td>3             </td> <td>7               </td> <td>125000                 </td> <td>0              </td> <td>-1                    </td> <td>0        </td> <td>26.32                        </td> <td>26.32                          </td> <td>26.32                           </td> <td>42.1                               </td> <td>55.48                               </td> <td>58.48                               </td> <td>143.2                 </td> <td>35.8                     </td> <td>7.4                              </td> <td>7.4                                </td> <td>7.4                                 </td> <td>7.16                      </td> <td>7.16                         </td> <td>1.3675                       </td> <td>0.7815                         </td> <td>0.547                           </td> <td>3.22                               </td> <td>3.98                                </td> <td>3.22                                </td> <td>45-64    </td>\n",
       "        </tr>\n",
       "    </tbody>\n",
       "        <tr>\n",
       "            <td>7             </td> <td>drive_alone      </td> <td>1                       </td> <td>1                         </td> <td>1                          </td> <td>1                             </td> <td>1                              </td> <td>1                              </td> <td>1                </td> <td>1                   </td> <td>1051388     </td> <td>2        </td> <td>1      </td> <td>89             </td> <td>23              </td> <td>48  </td> <td>3             </td> <td>7               </td> <td>125000                 </td> <td>0              </td> <td>-1                    </td> <td>0        </td> <td>32.07                        </td> <td>32.07                          </td> <td>32.07                           </td> <td>86.89                              </td> <td>91.7                                </td> <td>83.35                               </td> <td>184.8                 </td> <td>46.2                     </td> <td>9.47                             </td> <td>9.47                               </td> <td>9.47                                </td> <td>9.24                      </td> <td>9.24                         </td> <td>1.7501                       </td> <td>1                              </td> <td>0.7                             </td> <td>3.22                               </td> <td>3.22                                </td> <td>3.22                                </td> <td>45-64    </td>\n",
       "        </tr>\n",
       "    </tbody>\n",
       "        <tr>\n",
       "            <td>8             </td> <td>shared_ride_3    </td> <td>1                       </td> <td>1                         </td> <td>1                          </td> <td>1                             </td> <td>1                              </td> <td>1                              </td> <td>1                </td> <td>1                   </td> <td>1051388     </td> <td>3        </td> <td>0      </td> <td>89             </td> <td>71              </td> <td>10  </td> <td>3             </td> <td>7               </td> <td>125000                 </td> <td>0              </td> <td>-1                    </td> <td>0        </td> <td>16.58                        </td> <td>16.58                          </td> <td>16.58                           </td> <td>53.32                              </td> <td>46.76                               </td> <td>46.77                               </td> <td>94                    </td> <td>23.5                     </td> <td>4.7                              </td> <td>4.7                                </td> <td>4.7                                 </td> <td>4.7                       </td> <td>4.7                          </td> <td>0.8686                       </td> <td>0.4964                         </td> <td>0.3474                          </td> <td>3.22                               </td> <td>3.22                                </td> <td>3.22                                </td> <td>05-19    </td>\n",
       "        </tr>\n",
       "    </tbody>\n",
       "        <tr>\n",
       "            <td>9             </td> <td>walk_transit_walk</td> <td>1                       </td> <td>1                         </td> <td>1                          </td> <td>1                             </td> <td>1                              </td> <td>1                              </td> <td>1                </td> <td>0                   </td> <td>1069723     </td> <td>1        </td> <td>0      </td> <td>86             </td> <td>12              </td> <td>50  </td> <td>2             </td> <td>5               </td> <td>62500                  </td> <td>0              </td> <td>-1                    </td> <td>0        </td> <td>21.93                        </td> <td>21.93                          </td> <td>21.93                           </td> <td>54.13                              </td> <td>42.72                               </td> <td>44.78                               </td> <td>95.6                  </td> <td>nan                      </td> <td>4.87                             </td> <td>4.87                               </td> <td>4.87                                </td> <td>4.78                      </td> <td>nan                          </td> <td>0.9                          </td> <td>0.5143                         </td> <td>0.36                            </td> <td>3.22                               </td> <td>3.22                                </td> <td>3.22                                </td> <td>45-64    </td>\n",
       "        </tr>\n",
       "    </tbody>\n",
       "        <tr>\n",
       "            <td>10            </td> <td>walk             </td> <td>1                       </td> <td>1                         </td> <td>1                          </td> <td>1                             </td> <td>1                              </td> <td>1                              </td> <td>1                </td> <td>1                   </td> <td>1093539     </td> <td>1        </td> <td>0      </td> <td>90             </td> <td>111             </td> <td>56  </td> <td>3             </td> <td>8               </td> <td>175000                 </td> <td>1              </td> <td>999998                </td> <td>0        </td> <td>33.13                        </td> <td>33.13                          </td> <td>33.13                           </td> <td>100.65                             </td> <td>100.39                              </td> <td>100.39                              </td> <td>192.4                 </td> <td>48.1                     </td> <td>9.86                             </td> <td>9.86                               </td> <td>9.86                                </td> <td>9.62                      </td> <td>9.62                         </td> <td>1.8222                       </td> <td>1.0412                         </td> <td>0.7288                          </td> <td>3.22                               </td> <td>3.22                                </td> <td>3.22                                </td> <td>45-64    </td>\n",
       "        </tr>\n",
       "    </tbody>\n",
       "</table>\n",
       "<p>... (1005 rows omitted)</p"
      ],
      "text/plain": [
       "observation_id | choice            | availability_drive_alone | availability_shared_ride_2 | availability_shared_ride_3+ | availability_walk_transit_walk | availability_drive_transit_walk | availability_walk_transit_drive | availability_walk | availability_bicycle | household_id | person_id | tour_id | tour_origin_taz | primary_dest_taz | age  | household_size | household_income | household_income_values | transit_subsidy | transit_subsidy_amount | cross_bay | total_travel_time_drive_alone | total_travel_time_shared_ride_2 | total_travel_time_shared_ride_3+ | total_travel_time_walk_transit_walk | total_travel_time_drive_transit_walk | total_travel_time_walk_transit_drive | total_travel_time_walk | total_travel_time_bicycle | total_travel_distance_drive_alone | total_travel_distance_shared_ride_2 | total_travel_distance_shared_ride_3+ | total_travel_distance_walk | total_travel_distance_bicycle | total_travel_cost_drive_alone | total_travel_cost_shared_ride_2 | total_travel_cost_shared_ride_3+ | total_travel_cost_walk_transit_walk | total_travel_cost_drive_transit_walk | total_travel_cost_walk_transit_drive | age_ctgry\n",
       "1              | drive_alone       | 1                        | 1                          | 1                           | 1                              | 1                               | 1                               | 1                 | 1                    | 1043613      | 1         | 0       | 1004            | 969              | 53   | 2              | 6                | 87500                   | 0               | -1                     | 0         | 20.97                         | 20.97                           | 20.97                            | 83.56                               | 63.05                                | 67.29                                | 167.6                  | 41.9                      | 9.1                               | 9.1                                 | 9.1                                  | 8.38                       | 8.38                          | 1.6817                        | 0.9609                          | 0.6726                           | 5.84                                | 3.22                                 | 3.02                                 | 45-64\n",
       "2              | drive_alone       | 1                        | 1                          | 1                           | 1                              | 1                               | 1                               | 1                 | 1                    | 1043613      | 1         | 1       | 1004            | 969              | 53   | 2              | 6                | 87500                   | 0               | -1                     | 0         | 22.16                         | 22.16                           | 22.16                            | 87.38                               | 77.79                                | 58.01                                | 167.6                  | 41.9                      | 9.1                               | 9.1                                 | 9.1                                  | 8.38                       | 8.38                          | 1.6817                        | 0.9609                          | 0.6726                           | 4.83                                | 3.22                                 | 3.22                                 | 45-64\n",
       "3              | shared_ride_2     | 1                        | 1                          | 1                           | 1                              | 1                               | 1                               | 0                 | 0                    | 1045607      | 1         | 0       | 908             | 116              | 57   | 1              | 4                | 42500                   | 0               | -1                     | 1         | 47.98                         | 47.98                           | 47.98                            | 140.63                              | 131.49                               | 137.39                               | nan                    | nan                       | 31.94                             | 31.94                               | 31.94                                | nan                        | nan                           | 9.1125                        | 5.2071                          | 3.645                            | 6.95                                | 7.75                                 | 5.98                                 | 45-64\n",
       "4              | bike              | 0                        | 1                          | 1                           | 1                              | 0                               | 1                               | 1                 | 1                    | 1049908      | 1         | 0       | 30              | 12               | 50   | 1              | 2                | 17500                   | 0               | -1                     | 0         | nan                           | 15.05                           | 15.05                            | 26.46                               | nan                                  | 16.77                                | 42.8                   | 10.7                      | nan                               | 2.23                                | 2.23                                 | 2.14                       | 2.14                          | nan                           | 0.2355                          | 0.1649                           | 3.22                                | nan                                  | 3.22                                 | 45-64\n",
       "5              | walk              | 0                        | 1                          | 1                           | 1                              | 0                               | 1                               | 1                 | 1                    | 1049908      | 1         | 1       | 30              | 9                | 50   | 1              | 2                | 17500                   | 0               | -1                     | 0         | nan                           | 11.72                           | 11.72                            | 43.86                               | nan                                  | 28.89                                | 19.2                   | 4.8                       | nan                               | 0.96                                | 0.96                                 | 0.96                       | 0.96                          | nan                           | 0.1014                          | 0.071                            | 3.22                                | nan                                  | 3.22                                 | 45-64\n",
       "6              | shared_ride_2     | 1                        | 1                          | 1                           | 1                              | 1                               | 1                               | 1                 | 1                    | 1051388      | 2         | 0       | 89              | 4                | 48   | 3              | 7                | 125000                  | 0               | -1                     | 0         | 26.32                         | 26.32                           | 26.32                            | 42.1                                | 55.48                                | 58.48                                | 143.2                  | 35.8                      | 7.4                               | 7.4                                 | 7.4                                  | 7.16                       | 7.16                          | 1.3675                        | 0.7815                          | 0.547                            | 3.22                                | 3.98                                 | 3.22                                 | 45-64\n",
       "7              | drive_alone       | 1                        | 1                          | 1                           | 1                              | 1                               | 1                               | 1                 | 1                    | 1051388      | 2         | 1       | 89              | 23               | 48   | 3              | 7                | 125000                  | 0               | -1                     | 0         | 32.07                         | 32.07                           | 32.07                            | 86.89                               | 91.7                                 | 83.35                                | 184.8                  | 46.2                      | 9.47                              | 9.47                                | 9.47                                 | 9.24                       | 9.24                          | 1.7501                        | 1                               | 0.7                              | 3.22                                | 3.22                                 | 3.22                                 | 45-64\n",
       "8              | shared_ride_3     | 1                        | 1                          | 1                           | 1                              | 1                               | 1                               | 1                 | 1                    | 1051388      | 3         | 0       | 89              | 71               | 10   | 3              | 7                | 125000                  | 0               | -1                     | 0         | 16.58                         | 16.58                           | 16.58                            | 53.32                               | 46.76                                | 46.77                                | 94                     | 23.5                      | 4.7                               | 4.7                                 | 4.7                                  | 4.7                        | 4.7                           | 0.8686                        | 0.4964                          | 0.3474                           | 3.22                                | 3.22                                 | 3.22                                 | 05-19\n",
       "9              | walk_transit_walk | 1                        | 1                          | 1                           | 1                              | 1                               | 1                               | 1                 | 0                    | 1069723      | 1         | 0       | 86              | 12               | 50   | 2              | 5                | 62500                   | 0               | -1                     | 0         | 21.93                         | 21.93                           | 21.93                            | 54.13                               | 42.72                                | 44.78                                | 95.6                   | nan                       | 4.87                              | 4.87                                | 4.87                                 | 4.78                       | nan                           | 0.9                           | 0.5143                          | 0.36                             | 3.22                                | 3.22                                 | 3.22                                 | 45-64\n",
       "10             | walk              | 1                        | 1                          | 1                           | 1                              | 1                               | 1                               | 1                 | 1                    | 1093539      | 1         | 0       | 90              | 111              | 56   | 3              | 8                | 175000                  | 1               | 999998                 | 0         | 33.13                         | 33.13                           | 33.13                            | 100.65                              | 100.39                               | 100.39                               | 192.4                  | 48.1                      | 9.86                              | 9.86                                | 9.86                                 | 9.62                       | 9.62                          | 1.8222                        | 1.0412                          | 0.7288                           | 3.22                                | 3.22                                 | 3.22                                 | 45-64\n",
       "... (1005 rows omitted)"
      ]
     },
     "execution_count": 2,
     "metadata": {},
     "output_type": "execute_result"
    }
   ],
   "source": [
    "# load data\n",
    "mc = Table().read_table('../minilab6/modechoice.csv')\n",
    "mc"
   ]
  },
  {
   "cell_type": "code",
   "execution_count": 3,
   "metadata": {
    "collapsed": false
   },
   "outputs": [
    {
     "name": "stdout",
     "output_type": "stream",
     "text": [
      "Total drive_alone VMT = 2092.150000\n"
     ]
    }
   ],
   "source": [
    "# get appropriate rows:\n",
    "drive_transit_av = mc.where('availability_drive_alone',1).where('availability_walk_transit_walk',1)\n",
    "drive_or_transit = drive_transit_av.where(np.in1d(drive_transit_av['choice'],['drive_alone','walk_transit_walk']))\n",
    "\n",
    "#calculate VMT:\n",
    "vmt = np.sum(drive_or_transit.where('choice','drive_alone').column('total_travel_distance_drive_alone'))\n",
    "print ('Total drive_alone VMT = %f'%vmt)"
   ]
  },
  {
   "cell_type": "code",
   "execution_count": 4,
   "metadata": {
    "collapsed": true
   },
   "outputs": [],
   "source": [
    "# kNN\n",
    "def distance(x, y):\n",
    "    return np.sqrt(np.sum((x-y)**2,1))\n",
    "\n",
    "class KNearestNeighbors():\n",
    "    def __init__ (self, n_neighbors=5):\n",
    "        '''\n",
    "        n_neighbors: number of neighbors\n",
    "        '''\n",
    "        self.n_neighbors = n_neighbors\n",
    "    \n",
    "    def fit(self, input_data, response):\n",
    "        '''\n",
    "        input_data: a table, the values of this table will be used to \n",
    "            compute the distance to the neighbors\n",
    "        response: a table with one column, the values in this column \n",
    "            represent the category of the thing we are trying to predict \n",
    "        '''\n",
    "        self.input_data = input_data.values\n",
    "        self.response = response.values.flatten()\n",
    "    \n",
    "    def predict(self, to_predict, return_kneighbor_inds=True):\n",
    "        '''\n",
    "        to_predict: A single input data point. It should contain one value \n",
    "           for each of the columns in the input_data table.\n",
    "        return_kneighbor_inds: boolean. If True, return the indices of the\n",
    "            nearest neighbors from the input table, otherwise, only the \n",
    "            majority category of the k-nearest neighbors is returned.\n",
    "        '''\n",
    "         #get distance input_data to predict\"\n",
    "        dists = distance(to_predict, self.input_data)\n",
    "\n",
    "        #get indices of k nearest points\n",
    "        inds = np.argsort(dists)[0:self.n_neighbors]\n",
    "\n",
    "        #return the most common response among the neighbors\n",
    "        most_common_response = (np.argmax(np.bincount(self.response[inds])))\n",
    "        if return_kneighbor_inds:\n",
    "            return most_common_response, inds\n",
    "        return most_common_response\n",
    "            "
   ]
  },
  {
   "cell_type": "code",
   "execution_count": 5,
   "metadata": {
    "collapsed": false
   },
   "outputs": [],
   "source": [
    "#create kNN input:\n",
    "tt_delta = (drive_or_transit.column('total_travel_time_walk_transit_walk')-\n",
    "            drive_or_transit.column('total_travel_time_drive_alone'))\n",
    "\n",
    "cost_delta = (drive_or_transit.column('total_travel_cost_walk_transit_walk')-\n",
    "              drive_or_transit.column('total_travel_cost_drive_alone'))\n",
    "\n",
    "choice_drive = np.where(drive_or_transit['choice']=='drive_alone',1,0)\n",
    "\n",
    "\n",
    "input_table = Table().with_columns(['tt_delta', tt_delta,\n",
    "                                    'cost_delta', cost_delta,\n",
    "                                    'choice=drive',choice_drive])\n"
   ]
  },
  {
   "cell_type": "code",
   "execution_count": 6,
   "metadata": {
    "collapsed": false
   },
   "outputs": [
    {
     "data": {
      "text/html": [
       "<table border=\"1\" class=\"dataframe\">\n",
       "    <thead>\n",
       "        <tr>\n",
       "            <th>tt_delta</th> <th>cost_delta</th> <th>choice=drive</th> <th>tt_delta_$</th>\n",
       "        </tr>\n",
       "    </thead>\n",
       "    <tbody>\n",
       "        <tr>\n",
       "            <td>62.59   </td> <td>4.1583    </td> <td>1           </td> <td>20.8633   </td>\n",
       "        </tr>\n",
       "    </tbody>\n",
       "        <tr>\n",
       "            <td>65.22   </td> <td>3.1483    </td> <td>1           </td> <td>21.74     </td>\n",
       "        </tr>\n",
       "    </tbody>\n",
       "        <tr>\n",
       "            <td>54.82   </td> <td>1.4699    </td> <td>1           </td> <td>18.2733   </td>\n",
       "        </tr>\n",
       "    </tbody>\n",
       "        <tr>\n",
       "            <td>32.2    </td> <td>2.32      </td> <td>0           </td> <td>10.7333   </td>\n",
       "        </tr>\n",
       "    </tbody>\n",
       "        <tr>\n",
       "            <td>26.79   </td> <td>2.3866    </td> <td>1           </td> <td>8.93      </td>\n",
       "        </tr>\n",
       "    </tbody>\n",
       "        <tr>\n",
       "            <td>36.39   </td> <td>2.4956    </td> <td>0           </td> <td>12.13     </td>\n",
       "        </tr>\n",
       "    </tbody>\n",
       "        <tr>\n",
       "            <td>36.39   </td> <td>2.4956    </td> <td>0           </td> <td>12.13     </td>\n",
       "        </tr>\n",
       "    </tbody>\n",
       "        <tr>\n",
       "            <td>43.86   </td> <td>1.7601    </td> <td>0           </td> <td>14.62     </td>\n",
       "        </tr>\n",
       "    </tbody>\n",
       "        <tr>\n",
       "            <td>43.09   </td> <td>2.1759    </td> <td>0           </td> <td>14.3633   </td>\n",
       "        </tr>\n",
       "    </tbody>\n",
       "        <tr>\n",
       "            <td>136.98  </td> <td>1.3738    </td> <td>0           </td> <td>45.66     </td>\n",
       "        </tr>\n",
       "    </tbody>\n",
       "</table>\n",
       "<p>... (392 rows omitted)</p"
      ],
      "text/plain": [
       "tt_delta | cost_delta | choice=drive | tt_delta_$\n",
       "62.59    | 4.1583     | 1            | 20.8633\n",
       "65.22    | 3.1483     | 1            | 21.74\n",
       "54.82    | 1.4699     | 1            | 18.2733\n",
       "32.2     | 2.32       | 0            | 10.7333\n",
       "26.79    | 2.3866     | 1            | 8.93\n",
       "36.39    | 2.4956     | 0            | 12.13\n",
       "36.39    | 2.4956     | 0            | 12.13\n",
       "43.86    | 1.7601     | 0            | 14.62\n",
       "43.09    | 2.1759     | 0            | 14.3633\n",
       "136.98   | 1.3738     | 0            | 45.66\n",
       "... (392 rows omitted)"
      ]
     },
     "execution_count": 6,
     "metadata": {},
     "output_type": "execute_result"
    }
   ],
   "source": [
    "#scale travel time to put in $:\n",
    "input_table['tt_delta_$'] = 20*(input_table['tt_delta']/60.)\n",
    "input_table"
   ]
  },
  {
   "cell_type": "code",
   "execution_count": 7,
   "metadata": {
    "collapsed": false
   },
   "outputs": [],
   "source": [
    "#Run kNN with subsidy:\n",
    "subsidy = 1\n",
    "input_data = input_table.select(['tt_delta_$','cost_delta'])\n",
    "\n",
    "# Your task: Use the input_table.select() method to select the column with the response variable\n",
    "#answer key:\n",
    "response = input_table.select(['choice=drive'])\n",
    "\n",
    "# Your task: Create an instance of the KNearestNeighbors class, let's set n_neighbors to 5.\n",
    "#answer key:\n",
    "kNN = KNearestNeighbors(10)\n",
    "\n",
    "# Your task: Load in the nearest neighbor candidates using the fit method:\n",
    "kNN.fit(input_data, response)\n",
    "\n",
    "drive = []\n",
    "for row in input_data.rows:\n",
    "    to_predict = [row[0],row[1]-subsidy]\n",
    "    prediction, nn_inds = kNN.predict(to_predict, True)\n",
    "    drive.append(prediction)\n",
    "    predicted_travel_mode = 'drive' if prediction ==1 else 'take transit'\n",
    "#     print ('Based on the k nearest neighbors, the predicted travel mode is %s' %predicted_travel_mode)"
   ]
  },
  {
   "cell_type": "code",
   "execution_count": 8,
   "metadata": {
    "collapsed": false
   },
   "outputs": [
    {
     "name": "stdout",
     "output_type": "stream",
     "text": [
      "The updated VMT after a $1.00 subsidy is 1638.230000\n"
     ]
    }
   ],
   "source": [
    "#calculate new VMT\n",
    "print('The updated VMT after a $%.2f subsidy is %f' \n",
    "      %(subsidy, np.sum(drive_or_transit.where(drive)['total_travel_distance_drive_alone'])))"
   ]
  },
  {
   "cell_type": "code",
   "execution_count": null,
   "metadata": {
    "collapsed": true
   },
   "outputs": [],
   "source": []
  }
 ],
 "metadata": {
  "kernelspec": {
   "display_name": "Python 3",
   "language": "python",
   "name": "python3"
  },
  "language_info": {
   "codemirror_mode": {
    "name": "ipython",
    "version": 3
   },
   "file_extension": ".py",
   "mimetype": "text/x-python",
   "name": "python",
   "nbconvert_exporter": "python",
   "pygments_lexer": "ipython3",
   "version": "3.5.2"
  }
 },
 "nbformat": 4,
 "nbformat_minor": 0
}
