{
 "cells": [
  {
   "cell_type": "code",
   "execution_count": 1,
   "metadata": {
    "collapsed": true
   },
   "outputs": [],
   "source": [
    "%matplotlib inline\n",
    "from datascience import *\n",
    "import numpy as np\n",
    "from scipy import stats  \n",
    "import matplotlib.pyplot as plt"
   ]
  },
  {
   "cell_type": "code",
   "execution_count": 2,
   "metadata": {
    "collapsed": true
   },
   "outputs": [],
   "source": [
    "building_energy = Table.read_table('data/building_energy.csv')"
   ]
  },
  {
   "cell_type": "code",
   "execution_count": 3,
   "metadata": {
    "collapsed": false
   },
   "outputs": [
    {
     "data": {
      "text/html": [
       "<table border=\"1\" class=\"dataframe\">\n",
       "    <thead>\n",
       "        <tr>\n",
       "            <th>State</th> <th>Count</th> <th>Mean</th> <th>Standard Deviation</th> <th>0 Percentile</th> <th>25th Percentile</th> <th>50th Percentile</th> <th>75th Percentile</th> <th>100th Percentile</th>\n",
       "        </tr>\n",
       "    </thead>\n",
       "    <tbody>\n",
       "        <tr>\n",
       "            <td>Summary</td> <td>84211</td> <td>276.998</td> <td>279.419           </td> <td>1.4         </td> <td>116.358        </td> <td>184.491        </td> <td>311.909        </td> <td>3138.79         </td>\n",
       "        </tr>\n",
       "    </tbody>\n",
       "        <tr>\n",
       "            <td>AK     </td> <td>94   </td> <td>264.859</td> <td>186.863           </td> <td>43.488      </td> <td>144.939        </td> <td>218.643        </td> <td>293.993        </td> <td>886.298         </td>\n",
       "        </tr>\n",
       "    </tbody>\n",
       "        <tr>\n",
       "            <td>AL     </td> <td>815  </td> <td>355.021</td> <td>368.845           </td> <td>10.58       </td> <td>132.554        </td> <td>244.419        </td> <td>356.429        </td> <td>2440.14         </td>\n",
       "        </tr>\n",
       "    </tbody>\n",
       "        <tr>\n",
       "            <td>AR     </td> <td>457  </td> <td>341.971</td> <td>291.714           </td> <td>7.06        </td> <td>143.44         </td> <td>282.64         </td> <td>389.101        </td> <td>2442.54         </td>\n",
       "        </tr>\n",
       "    </tbody>\n",
       "        <tr>\n",
       "            <td>AZ     </td> <td>1376 </td> <td>246.609</td> <td>193.929           </td> <td>5.443       </td> <td>125.648        </td> <td>186.585        </td> <td>330.157        </td> <td>2317.32         </td>\n",
       "        </tr>\n",
       "    </tbody>\n",
       "        <tr>\n",
       "            <td>CA     </td> <td>12175</td> <td>297.294</td> <td>362.892           </td> <td>1.871       </td> <td>88.864         </td> <td>149.47         </td> <td>305.454        </td> <td>3118.29         </td>\n",
       "        </tr>\n",
       "    </tbody>\n",
       "        <tr>\n",
       "            <td>CO     </td> <td>2423 </td> <td>240.483</td> <td>246.625           </td> <td>2.57        </td> <td>98.892         </td> <td>154.615        </td> <td>267.864        </td> <td>2518.52         </td>\n",
       "        </tr>\n",
       "    </tbody>\n",
       "        <tr>\n",
       "            <td>CT     </td> <td>562  </td> <td>269.092</td> <td>249.136           </td> <td>15.7        </td> <td>118.11         </td> <td>169.197        </td> <td>306.663        </td> <td>1974.03         </td>\n",
       "        </tr>\n",
       "    </tbody>\n",
       "        <tr>\n",
       "            <td>DC     </td> <td>1498 </td> <td>210.315</td> <td>134.479           </td> <td>5.231       </td> <td>150.454        </td> <td>190.224        </td> <td>234.09         </td> <td>2058.77         </td>\n",
       "        </tr>\n",
       "    </tbody>\n",
       "        <tr>\n",
       "            <td>DE     </td> <td>486  </td> <td>227.511</td> <td>177.719           </td> <td>5.197       </td> <td>121.605        </td> <td>181.631        </td> <td>283.097        </td> <td>1736.27         </td>\n",
       "        </tr>\n",
       "    </tbody>\n",
       "</table>\n",
       "<p>... (46 rows omitted)</p"
      ],
      "text/plain": [
       "State   | Count | Mean    | Standard Deviation | 0 Percentile | 25th Percentile | 50th Percentile | 75th Percentile | 100th Percentile\n",
       "Summary | 84211 | 276.998 | 279.419            | 1.4          | 116.358         | 184.491         | 311.909         | 3138.79\n",
       "AK      | 94    | 264.859 | 186.863            | 43.488       | 144.939         | 218.643         | 293.993         | 886.298\n",
       "AL      | 815   | 355.021 | 368.845            | 10.58        | 132.554         | 244.419         | 356.429         | 2440.14\n",
       "AR      | 457   | 341.971 | 291.714            | 7.06         | 143.44          | 282.64          | 389.101         | 2442.54\n",
       "AZ      | 1376  | 246.609 | 193.929            | 5.443        | 125.648         | 186.585         | 330.157         | 2317.32\n",
       "CA      | 12175 | 297.294 | 362.892            | 1.871        | 88.864          | 149.47          | 305.454         | 3118.29\n",
       "CO      | 2423  | 240.483 | 246.625            | 2.57         | 98.892          | 154.615         | 267.864         | 2518.52\n",
       "CT      | 562   | 269.092 | 249.136            | 15.7         | 118.11          | 169.197         | 306.663         | 1974.03\n",
       "DC      | 1498  | 210.315 | 134.479            | 5.231        | 150.454         | 190.224         | 234.09          | 2058.77\n",
       "DE      | 486   | 227.511 | 177.719            | 5.197        | 121.605         | 181.631         | 283.097         | 1736.27\n",
       "... (46 rows omitted)"
      ]
     },
     "execution_count": 3,
     "metadata": {},
     "output_type": "execute_result"
    }
   ],
   "source": [
    "building_energy"
   ]
  },
  {
   "cell_type": "code",
   "execution_count": 4,
   "metadata": {
    "collapsed": false
   },
   "outputs": [],
   "source": [
    "def conf_interval(s_std, n, s_mean, alpha=0.05):\n",
    "    #works if population size is much larger than the sample size\n",
    "    tstar = stats.t.ppf(1-alpha/2, n-1)\n",
    "    std_error = s_std/np.sqrt(n)\n",
    "    lower = s_mean-std_error\n",
    "    upper = s_mean+std_error\n",
    "#     return lower, upper\n",
    "    return std_error\n",
    "\n",
    "building_energy['SE']=building_energy.apply(lambda std, n, mu: conf_interval(std, n, mu), \n",
    "                      ['Standard Deviation', 'Count', 'Mean'])"
   ]
  },
  {
   "cell_type": "code",
   "execution_count": 5,
   "metadata": {
    "collapsed": false
   },
   "outputs": [
    {
     "data": {
      "text/html": [
       "<table border=\"1\" class=\"dataframe\">\n",
       "    <thead>\n",
       "        <tr>\n",
       "            <th>State</th> <th>Count</th> <th>Mean</th> <th>Standard Deviation</th> <th>0 Percentile</th> <th>25th Percentile</th> <th>50th Percentile</th> <th>75th Percentile</th> <th>100th Percentile</th> <th>SE</th>\n",
       "        </tr>\n",
       "    </thead>\n",
       "    <tbody>\n",
       "        <tr>\n",
       "            <td>Summary</td> <td>84211</td> <td>276.998</td> <td>279.419           </td> <td>1.4         </td> <td>116.358        </td> <td>184.491        </td> <td>311.909        </td> <td>3138.79         </td> <td>0.962879</td>\n",
       "        </tr>\n",
       "    </tbody>\n",
       "        <tr>\n",
       "            <td>AK     </td> <td>94   </td> <td>264.859</td> <td>186.863           </td> <td>43.488      </td> <td>144.939        </td> <td>218.643        </td> <td>293.993        </td> <td>886.298         </td> <td>19.2734 </td>\n",
       "        </tr>\n",
       "    </tbody>\n",
       "        <tr>\n",
       "            <td>AL     </td> <td>815  </td> <td>355.021</td> <td>368.845           </td> <td>10.58       </td> <td>132.554        </td> <td>244.419        </td> <td>356.429        </td> <td>2440.14         </td> <td>12.9201 </td>\n",
       "        </tr>\n",
       "    </tbody>\n",
       "        <tr>\n",
       "            <td>AR     </td> <td>457  </td> <td>341.971</td> <td>291.714           </td> <td>7.06        </td> <td>143.44         </td> <td>282.64         </td> <td>389.101        </td> <td>2442.54         </td> <td>13.6458 </td>\n",
       "        </tr>\n",
       "    </tbody>\n",
       "        <tr>\n",
       "            <td>AZ     </td> <td>1376 </td> <td>246.609</td> <td>193.929           </td> <td>5.443       </td> <td>125.648        </td> <td>186.585        </td> <td>330.157        </td> <td>2317.32         </td> <td>5.22798 </td>\n",
       "        </tr>\n",
       "    </tbody>\n",
       "        <tr>\n",
       "            <td>CA     </td> <td>12175</td> <td>297.294</td> <td>362.892           </td> <td>1.871       </td> <td>88.864         </td> <td>149.47         </td> <td>305.454        </td> <td>3118.29         </td> <td>3.28884 </td>\n",
       "        </tr>\n",
       "    </tbody>\n",
       "        <tr>\n",
       "            <td>CO     </td> <td>2423 </td> <td>240.483</td> <td>246.625           </td> <td>2.57        </td> <td>98.892         </td> <td>154.615        </td> <td>267.864        </td> <td>2518.52         </td> <td>5.01026 </td>\n",
       "        </tr>\n",
       "    </tbody>\n",
       "        <tr>\n",
       "            <td>CT     </td> <td>562  </td> <td>269.092</td> <td>249.136           </td> <td>15.7        </td> <td>118.11         </td> <td>169.197        </td> <td>306.663        </td> <td>1974.03         </td> <td>10.5092 </td>\n",
       "        </tr>\n",
       "    </tbody>\n",
       "        <tr>\n",
       "            <td>DC     </td> <td>1498 </td> <td>210.315</td> <td>134.479           </td> <td>5.231       </td> <td>150.454        </td> <td>190.224        </td> <td>234.09         </td> <td>2058.77         </td> <td>3.47455 </td>\n",
       "        </tr>\n",
       "    </tbody>\n",
       "        <tr>\n",
       "            <td>DE     </td> <td>486  </td> <td>227.511</td> <td>177.719           </td> <td>5.197       </td> <td>121.605        </td> <td>181.631        </td> <td>283.097        </td> <td>1736.27         </td> <td>8.0615  </td>\n",
       "        </tr>\n",
       "    </tbody>\n",
       "</table>\n",
       "<p>... (46 rows omitted)</p"
      ],
      "text/plain": [
       "State   | Count | Mean    | Standard Deviation | 0 Percentile | 25th Percentile | 50th Percentile | 75th Percentile | 100th Percentile | SE\n",
       "Summary | 84211 | 276.998 | 279.419            | 1.4          | 116.358         | 184.491         | 311.909         | 3138.79          | 0.962879\n",
       "AK      | 94    | 264.859 | 186.863            | 43.488       | 144.939         | 218.643         | 293.993         | 886.298          | 19.2734\n",
       "AL      | 815   | 355.021 | 368.845            | 10.58        | 132.554         | 244.419         | 356.429         | 2440.14          | 12.9201\n",
       "AR      | 457   | 341.971 | 291.714            | 7.06         | 143.44          | 282.64          | 389.101         | 2442.54          | 13.6458\n",
       "AZ      | 1376  | 246.609 | 193.929            | 5.443        | 125.648         | 186.585         | 330.157         | 2317.32          | 5.22798\n",
       "CA      | 12175 | 297.294 | 362.892            | 1.871        | 88.864          | 149.47          | 305.454         | 3118.29          | 3.28884\n",
       "CO      | 2423  | 240.483 | 246.625            | 2.57         | 98.892          | 154.615         | 267.864         | 2518.52          | 5.01026\n",
       "CT      | 562   | 269.092 | 249.136            | 15.7         | 118.11          | 169.197         | 306.663         | 1974.03          | 10.5092\n",
       "DC      | 1498  | 210.315 | 134.479            | 5.231        | 150.454         | 190.224         | 234.09          | 2058.77          | 3.47455\n",
       "DE      | 486   | 227.511 | 177.719            | 5.197        | 121.605         | 181.631         | 283.097         | 1736.27          | 8.0615\n",
       "... (46 rows omitted)"
      ]
     },
     "execution_count": 5,
     "metadata": {},
     "output_type": "execute_result"
    }
   ],
   "source": [
    "building_energy"
   ]
  },
  {
   "cell_type": "code",
   "execution_count": 6,
   "metadata": {
    "collapsed": false
   },
   "outputs": [
    {
     "data": {
      "text/plain": [
       "[<matplotlib.text.Text at 0x7f59ec844358>,\n",
       " <matplotlib.text.Text at 0x7f59ec831588>,\n",
       " <matplotlib.text.Text at 0x7f59ec806ef0>,\n",
       " <matplotlib.text.Text at 0x7f59ec80f940>,\n",
       " <matplotlib.text.Text at 0x7f59ec812390>,\n",
       " <matplotlib.text.Text at 0x7f59ec812da0>,\n",
       " <matplotlib.text.Text at 0x7f59ec8167f0>,\n",
       " <matplotlib.text.Text at 0x7f59ec819240>,\n",
       " <matplotlib.text.Text at 0x7f59ec819c50>,\n",
       " <matplotlib.text.Text at 0x7f59ec81e6a0>,\n",
       " <matplotlib.text.Text at 0x7f59ec7a20f0>,\n",
       " <matplotlib.text.Text at 0x7f59ec7a2b00>,\n",
       " <matplotlib.text.Text at 0x7f59ec7a5550>,\n",
       " <matplotlib.text.Text at 0x7f59ec7a5f60>,\n",
       " <matplotlib.text.Text at 0x7f59ec7a99b0>,\n",
       " <matplotlib.text.Text at 0x7f59ec7ac400>,\n",
       " <matplotlib.text.Text at 0x7f59ec7ace10>,\n",
       " <matplotlib.text.Text at 0x7f59ec7b3860>,\n",
       " <matplotlib.text.Text at 0x7f59ec7b52b0>,\n",
       " <matplotlib.text.Text at 0x7f59ec7b5cc0>,\n",
       " <matplotlib.text.Text at 0x7f59ec7ba710>,\n",
       " <matplotlib.text.Text at 0x7f59ec7be160>,\n",
       " <matplotlib.text.Text at 0x7f59ec7beb70>,\n",
       " <matplotlib.text.Text at 0x7f59ec7c15c0>,\n",
       " <matplotlib.text.Text at 0x7f59ec7c1fd0>,\n",
       " <matplotlib.text.Text at 0x7f59ec7c6a20>,\n",
       " <matplotlib.text.Text at 0x7f59ec7ca470>,\n",
       " <matplotlib.text.Text at 0x7f59ec7cae80>,\n",
       " <matplotlib.text.Text at 0x7f59ec7ce8d0>,\n",
       " <matplotlib.text.Text at 0x7f59ec7d2320>,\n",
       " <matplotlib.text.Text at 0x7f59ec7d2d30>,\n",
       " <matplotlib.text.Text at 0x7f59ec7d5780>,\n",
       " <matplotlib.text.Text at 0x7f59ec7da1d0>,\n",
       " <matplotlib.text.Text at 0x7f59ec7dabe0>,\n",
       " <matplotlib.text.Text at 0x7f59ec7de630>,\n",
       " <matplotlib.text.Text at 0x7f59ec762080>,\n",
       " <matplotlib.text.Text at 0x7f59ec762a90>,\n",
       " <matplotlib.text.Text at 0x7f59ec7644e0>,\n",
       " <matplotlib.text.Text at 0x7f59ec764ef0>,\n",
       " <matplotlib.text.Text at 0x7f59ec769940>,\n",
       " <matplotlib.text.Text at 0x7f59ec76e390>,\n",
       " <matplotlib.text.Text at 0x7f59ec76eda0>,\n",
       " <matplotlib.text.Text at 0x7f59ec7737f0>,\n",
       " <matplotlib.text.Text at 0x7f59ec777240>,\n",
       " <matplotlib.text.Text at 0x7f59ec777c50>,\n",
       " <matplotlib.text.Text at 0x7f59ec7796a0>,\n",
       " <matplotlib.text.Text at 0x7f59ec77f0f0>,\n",
       " <matplotlib.text.Text at 0x7f59ec77fb00>,\n",
       " <matplotlib.text.Text at 0x7f59ec783550>,\n",
       " <matplotlib.text.Text at 0x7f59ec783f60>,\n",
       " <matplotlib.text.Text at 0x7f59ec7859b0>,\n",
       " <matplotlib.text.Text at 0x7f59ec78b400>,\n",
       " <matplotlib.text.Text at 0x7f59ec78be10>,\n",
       " <matplotlib.text.Text at 0x7f59ec78e860>,\n",
       " <matplotlib.text.Text at 0x7f59ec7912b0>,\n",
       " <matplotlib.text.Text at 0x7f59ec791cc0>]"
      ]
     },
     "execution_count": 6,
     "metadata": {},
     "output_type": "execute_result"
    },
    {
     "name": "stderr",
     "output_type": "stream",
     "text": [
      "/opt/conda/lib/python3.4/site-packages/matplotlib/collections.py:590: FutureWarning: elementwise comparison failed; returning scalar instead, but in the future will perform elementwise comparison\n",
      "  if self._edgecolors == str('face'):\n"
     ]
    },
    {
     "data": {
      "image/png": "[encoded data removed]",
      "text/plain": [
       "<matplotlib.figure.Figure at 0x7f59f124db00>"
      ]
     },
     "metadata": {},
     "output_type": "display_data"
    }
   ],
   "source": [
    "# plt.plot(building_energy['Mean'], '.')\n",
    "\n",
    "fig, ax = plt.subplots()\n",
    "fig.set_size_inches(12,8)\n",
    "ax.errorbar(range(len(building_energy['State'])),building_energy['Mean'], \n",
    "             yerr = building_energy['SE'], fmt='o')\n",
    "\n",
    "# plt.plot(building_energy['Mean'], '.', yerr = building_energy['SE'])\n",
    "\n",
    "ax.set_xticks(range(len(building_energy['State'])))\n",
    "ax.set_xticklabels(building_energy['State'])\n",
    "\n"
   ]
  },
  {
   "cell_type": "code",
   "execution_count": null,
   "metadata": {
    "collapsed": true
   },
   "outputs": [],
   "source": []
  },
  {
   "cell_type": "code",
   "execution_count": null,
   "metadata": {
    "collapsed": true
   },
   "outputs": [],
   "source": []
  }
 ],
 "metadata": {
  "kernelspec": {
   "display_name": "Python 3",
   "language": "python",
   "name": "python3"
  },
  "language_info": {
   "codemirror_mode": {
    "name": "ipython",
    "version": 3
   },
   "file_extension": ".py",
   "mimetype": "text/x-python",
   "name": "python",
   "nbconvert_exporter": "python",
   "pygments_lexer": "ipython3",
   "version": "3.5.2"
  }
 },
 "nbformat": 4,
 "nbformat_minor": 0
}
