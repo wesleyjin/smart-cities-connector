{
 "cells": [
  {
   "cell_type": "markdown",
   "metadata": {},
   "source": [
    "# Transportation forecasting - looking at mode choice\n",
    "In homework 4 we looked at forecasting the number of people who would commute to an event by mode assuming that travel time is the only factor in making a travel decision. \n",
    "\n",
    "**Question 1:** List some of the other factors (besides travel time) that affect travel mode choice."
   ]
  },
  {
   "cell_type": "code",
   "execution_count": 1,
   "metadata": {
    "collapsed": true
   },
   "outputs": [],
   "source": [
    "%matplotlib inline\n",
    "# Answer here\n"
   ]
  },
  {
   "cell_type": "markdown",
   "metadata": {},
   "source": [
    "\"The California Department of Transportation (Caltrans) conducts the California Household Travel Survey (CHTS) every ten years to obtain detailed information about the socioeconomic characteristics and travel behavior of households statewide.\" -[Caltrans website](http://www.dot.ca.gov/hq/tpp/offices/omsp/statewide_travel_analysis/chts.html)\n",
    "\n",
    "\n",
    "The modechoice.csv file contains data from the CHTS on trips that people living in the bay area actually took. The dataset contains demographic info on the traveler as well as trip origin taz and destination taz. We have combined this data with the travelSkims that we used in minilabs 3 and 4 to add  trip cost, time, and distance information for all available travel modes.\n",
    "\n",
    "Note that some modes are not available for some trips for some people - for example some people do not have a drivers license or do not have access to a car. Sometimes biking is infeasible due to bike ownership, trip distance or restrictions on biking across bridges. \n",
    "\n",
    "The data in modechoice.csv is as follows:\n",
    "<table>\n",
    "    <tr>\n",
    "        <td>'observation_id'</td>   <td>int id</td>\n",
    "    </tr><tr>\n",
    "        <td>'choice'        </td>   <td>  string mode chosen <li>'da' - drive alone,<li>'s2' - 2 person shared ride,<li>'s3' - 3 person shared ride,<li>'wTrnW' - walk tranit walk,<li>'dTrnW' - drive transit walk,<li>'wTrnD' - walk transit drive,<li>'walk' - walk,<li>'bike' - bike </td>\n",
    "    </tr><tr>\n",
    "    <td> 'availability_drive_alone'</td>   <td>1 if available else 0</td>\n",
    "    </tr><tr>\n",
    "    <td> 'availability_shared_ride_2'</td>   <td>1 if available else 0</td>\n",
    "    </tr><tr>\n",
    "    <td> 'availability_shared_ride_3+'</td>   <td>1 if available else 0</td>\n",
    "    </tr><tr>\n",
    "    <td> 'availability_walk_transit_walk'</td>   <td>1 if available else 0</td>\n",
    "    </tr><tr>\n",
    "    <td> 'availability_drive_transit_walk'</td>   <td>1 if available else 0</td>\n",
    "    </tr><tr>\n",
    "    <td> 'availability_walk_transit_drive'</td>   <td>1 if available else 0</td>\n",
    "    </tr><tr>\n",
    "    <td> 'availability_walk'</td>   <td>1 if available else 0</td>\n",
    "    </tr><tr>\n",
    "    <td> 'availability_bicycle'</td>   <td>1 if available else 0</td>\n",
    "    </tr><tr>\n",
    "    <td> 'household_id'</td>   <td>      int\n",
    "    </tr><tr>\n",
    "    <td> 'person_id'</td>   <td>              int\n",
    "    </tr><tr>\n",
    "    <td> 'tour_id'</td>   <td>                 int\n",
    "    </tr><tr>\n",
    "    <td> 'tour_origin_taz'</td>   <td>                   int taz id\n",
    "    </tr><tr>\n",
    "    <td> 'primary_dest_taz'</td>   <td>    int taz id\n",
    "    </tr><tr>\n",
    "    <td> 'age'</td>   <td>          int age in years\n",
    "    </tr><tr>\n",
    "    <td> 'household_size'</td>   <td>                       int, number of people\n",
    "    </tr><tr>\n",
    "    <td> 'household_income'</td>   <td>    int 1-8, 1 = lowest income bracket, 8=highest\n",
    "    </tr><tr>\n",
    "    <td> 'household_income_values'</td>   <td>         int dollar value household income\n",
    "    </tr><tr>\n",
    "    <td> 'transit_subsidy'</td>   <td>   1 if has subsidy, else 0\n",
    "    </tr><tr>\n",
    "    <td> 'transit_subsidy_amount'</td>   <td>           subsidy dollar amount\n",
    "    </tr><tr>\n",
    "    <td> 'cross_bay'</td>   <td>    1 if trip crosses bay, else 0\n",
    "    </tr><tr>\n",
    "    <td> 'total_travel_time_drive_alone'</td>   <td>    door to door travel time in minutes\n",
    "    </tr><tr>\n",
    "    <td> 'total_travel_time_shared_ride_2'</td>   <td> \n",
    "    </tr><tr>\n",
    "    <td> 'total_travel_time_shared_ride_3+'</td>   <td> \n",
    "    </tr><tr>\n",
    "    <td> 'total_travel_time_walk_transit_walk'</td>   <td> \n",
    "    </tr><tr>\n",
    "    <td> 'total_travel_time_drive_transit_walk'</td>   <td> \n",
    "    </tr><tr>\n",
    "    <td> 'total_travel_time_walk_transit_drive'</td>   <td> \n",
    "    </tr><tr>\n",
    "    <td> 'total_travel_time_walk'</td>   <td> \n",
    "    </tr><tr>\n",
    "    <td> 'total_travel_time_bicycle'</td>   <td> \n",
    "    </tr><tr>\n",
    "    <td> 'total_travel_distance_drive_alone' </td>   <td> travel distance in miles\n",
    "    </tr><tr>\n",
    "    <td> 'total_travel_distance_shared_ride_2'</td>   <td> \n",
    "    </tr><tr>\n",
    "    <td> 'total_travel_distance_shared_ride_3+'</td>   <td> \n",
    "    </tr><tr>\n",
    "    <td> 'total_travel_distance_walk'     </td>   <td> \n",
    "    </tr><tr>\n",
    "    <td> 'total_travel_distance_bicycle'</td>   <td> \n",
    "    </tr><tr>\n",
    "    <td> 'total_travel_cost_drive_alone'</td>   <td> travel cost in dollars\n",
    "    </tr><tr>\n",
    "    <td> 'total_travel_cost_shared_ride_2'</td>   <td> Note driving costs include fixed per mile rate divided evenly among passengers, and tolls. Does not include parking and other car ownership related costs\n",
    "    </tr><tr>\n",
    "    <td> 'total_travel_cost_shared_ride_3+'</td>   <td> \n",
    "    </tr><tr>\n",
    "    <td> 'total_travel_cost_walk_transit_walk'</td>   <td> \n",
    "    </tr><tr>\n",
    "    <td> 'total_travel_cost_drive_transit_walk'</td>   <td> \n",
    "    </tr><tr>\n",
    "    <td> 'total_travel_cost_walk_transit_drive'</td>   <td> \n",
    "    </tr><tr>\n",
    "    <td> 'age_ctgry'         <td>  str age category:\n",
    "                                       <li>'0-04' = 0-4 years old,\n",
    "                                       <li>'05-19' = 5-19 years old, \n",
    "                                       <li>'20-44' = 20-44 years old, \n",
    "                                       <li>'45-64' = 45-64 years old, \n",
    "                                       <li>'65+' = 65+ years old, \n",
    "\n",
    "\n"
   ]
  },
  {
   "cell_type": "code",
   "execution_count": 2,
   "metadata": {
    "collapsed": true
   },
   "outputs": [],
   "source": [
    "from datascience import *\n",
    "import numpy as np\n",
    "import matplotlib.pyplot as plt\n",
    "import warnings\n",
    "warnings.filterwarnings(\"ignore\")"
   ]
  },
  {
   "cell_type": "code",
   "execution_count": 4,
   "metadata": {
    "collapsed": false
   },
   "outputs": [
    {
     "data": {
      "text/html": [
       "<table border=\"1\" class=\"dataframe\">\n",
       "    <thead>\n",
       "        <tr>\n",
       "            <th>observation_id</th> <th>choice</th> <th>availability_drive_alone</th> <th>availability_shared_ride_2</th> <th>availability_shared_ride_3+</th> <th>availability_walk_transit_walk</th> <th>availability_drive_transit_walk</th> <th>availability_walk_transit_drive</th> <th>availability_walk</th> <th>availability_bicycle</th> <th>household_id</th> <th>person_id</th> <th>tour_id</th> <th>tour_origin_taz</th> <th>primary_dest_taz</th> <th>age</th> <th>household_size</th> <th>household_income</th> <th>household_income_values</th> <th>transit_subsidy</th> <th>transit_subsidy_amount</th> <th>cross_bay</th> <th>total_travel_time_drive_alone</th> <th>total_travel_time_shared_ride_2</th> <th>total_travel_time_shared_ride_3+</th> <th>total_travel_time_walk_transit_walk</th> <th>total_travel_time_drive_transit_walk</th> <th>total_travel_time_walk_transit_drive</th> <th>total_travel_time_walk</th> <th>total_travel_time_bicycle</th> <th>total_travel_distance_drive_alone</th> <th>total_travel_distance_shared_ride_2</th> <th>total_travel_distance_shared_ride_3+</th> <th>total_travel_distance_walk</th> <th>total_travel_distance_bicycle</th> <th>total_travel_cost_drive_alone</th> <th>total_travel_cost_shared_ride_2</th> <th>total_travel_cost_shared_ride_3+</th> <th>total_travel_cost_walk_transit_walk</th> <th>total_travel_cost_drive_transit_walk</th> <th>total_travel_cost_walk_transit_drive</th> <th>age_ctgry</th>\n",
       "        </tr>\n",
       "    </thead>\n",
       "    <tbody>\n",
       "        <tr>\n",
       "            <td>1             </td> <td>da    </td> <td>1                       </td> <td>1                         </td> <td>1                          </td> <td>1                             </td> <td>1                              </td> <td>1                              </td> <td>1                </td> <td>1                   </td> <td>1043613     </td> <td>1        </td> <td>0      </td> <td>1004           </td> <td>969             </td> <td>53  </td> <td>2             </td> <td>6               </td> <td>87500                  </td> <td>0              </td> <td>-1                    </td> <td>0        </td> <td>20.97                        </td> <td>20.97                          </td> <td>20.97                           </td> <td>83.56                              </td> <td>63.05                               </td> <td>67.29                               </td> <td>167.6                 </td> <td>41.9                     </td> <td>9.1                              </td> <td>9.1                                </td> <td>9.1                                 </td> <td>8.38                      </td> <td>8.38                         </td> <td>1.6817                       </td> <td>0.9609                         </td> <td>0.6726                          </td> <td>5.84                               </td> <td>3.22                                </td> <td>3.02                                </td> <td>45-64    </td>\n",
       "        </tr>\n",
       "    </tbody>\n",
       "        <tr>\n",
       "            <td>2             </td> <td>da    </td> <td>1                       </td> <td>1                         </td> <td>1                          </td> <td>1                             </td> <td>1                              </td> <td>1                              </td> <td>1                </td> <td>1                   </td> <td>1043613     </td> <td>1        </td> <td>1      </td> <td>1004           </td> <td>969             </td> <td>53  </td> <td>2             </td> <td>6               </td> <td>87500                  </td> <td>0              </td> <td>-1                    </td> <td>0        </td> <td>22.16                        </td> <td>22.16                          </td> <td>22.16                           </td> <td>87.38                              </td> <td>77.79                               </td> <td>58.01                               </td> <td>167.6                 </td> <td>41.9                     </td> <td>9.1                              </td> <td>9.1                                </td> <td>9.1                                 </td> <td>8.38                      </td> <td>8.38                         </td> <td>1.6817                       </td> <td>0.9609                         </td> <td>0.6726                          </td> <td>4.83                               </td> <td>3.22                                </td> <td>3.22                                </td> <td>45-64    </td>\n",
       "        </tr>\n",
       "    </tbody>\n",
       "        <tr>\n",
       "            <td>3             </td> <td>s2    </td> <td>1                       </td> <td>1                         </td> <td>1                          </td> <td>1                             </td> <td>1                              </td> <td>1                              </td> <td>0                </td> <td>0                   </td> <td>1045607     </td> <td>1        </td> <td>0      </td> <td>908            </td> <td>116             </td> <td>57  </td> <td>1             </td> <td>4               </td> <td>42500                  </td> <td>0              </td> <td>-1                    </td> <td>1        </td> <td>47.98                        </td> <td>47.98                          </td> <td>47.98                           </td> <td>140.63                             </td> <td>131.49                              </td> <td>137.39                              </td> <td>nan                   </td> <td>nan                      </td> <td>31.94                            </td> <td>31.94                              </td> <td>31.94                               </td> <td>nan                       </td> <td>nan                          </td> <td>9.1125                       </td> <td>5.2071                         </td> <td>3.645                           </td> <td>6.95                               </td> <td>7.75                                </td> <td>5.98                                </td> <td>45-64    </td>\n",
       "        </tr>\n",
       "    </tbody>\n",
       "        <tr>\n",
       "            <td>4             </td> <td>bike  </td> <td>0                       </td> <td>1                         </td> <td>1                          </td> <td>1                             </td> <td>0                              </td> <td>1                              </td> <td>1                </td> <td>1                   </td> <td>1049908     </td> <td>1        </td> <td>0      </td> <td>30             </td> <td>12              </td> <td>50  </td> <td>1             </td> <td>2               </td> <td>17500                  </td> <td>0              </td> <td>-1                    </td> <td>0        </td> <td>nan                          </td> <td>15.05                          </td> <td>15.05                           </td> <td>26.46                              </td> <td>nan                                 </td> <td>16.77                               </td> <td>42.8                  </td> <td>10.7                     </td> <td>nan                              </td> <td>2.23                               </td> <td>2.23                                </td> <td>2.14                      </td> <td>2.14                         </td> <td>nan                          </td> <td>0.2355                         </td> <td>0.1649                          </td> <td>3.22                               </td> <td>nan                                 </td> <td>3.22                                </td> <td>45-64    </td>\n",
       "        </tr>\n",
       "    </tbody>\n",
       "        <tr>\n",
       "            <td>5             </td> <td>walk  </td> <td>0                       </td> <td>1                         </td> <td>1                          </td> <td>1                             </td> <td>0                              </td> <td>1                              </td> <td>1                </td> <td>1                   </td> <td>1049908     </td> <td>1        </td> <td>1      </td> <td>30             </td> <td>9               </td> <td>50  </td> <td>1             </td> <td>2               </td> <td>17500                  </td> <td>0              </td> <td>-1                    </td> <td>0        </td> <td>nan                          </td> <td>11.72                          </td> <td>11.72                           </td> <td>43.86                              </td> <td>nan                                 </td> <td>28.89                               </td> <td>19.2                  </td> <td>4.8                      </td> <td>nan                              </td> <td>0.96                               </td> <td>0.96                                </td> <td>0.96                      </td> <td>0.96                         </td> <td>nan                          </td> <td>0.1014                         </td> <td>0.071                           </td> <td>3.22                               </td> <td>nan                                 </td> <td>3.22                                </td> <td>45-64    </td>\n",
       "        </tr>\n",
       "    </tbody>\n",
       "        <tr>\n",
       "            <td>6             </td> <td>s2    </td> <td>1                       </td> <td>1                         </td> <td>1                          </td> <td>1                             </td> <td>1                              </td> <td>1                              </td> <td>1                </td> <td>1                   </td> <td>1051388     </td> <td>2        </td> <td>0      </td> <td>89             </td> <td>4               </td> <td>48  </td> <td>3             </td> <td>7               </td> <td>125000                 </td> <td>0              </td> <td>-1                    </td> <td>0        </td> <td>26.32                        </td> <td>26.32                          </td> <td>26.32                           </td> <td>42.1                               </td> <td>55.48                               </td> <td>58.48                               </td> <td>143.2                 </td> <td>35.8                     </td> <td>7.4                              </td> <td>7.4                                </td> <td>7.4                                 </td> <td>7.16                      </td> <td>7.16                         </td> <td>1.3675                       </td> <td>0.7815                         </td> <td>0.547                           </td> <td>3.22                               </td> <td>3.98                                </td> <td>3.22                                </td> <td>45-64    </td>\n",
       "        </tr>\n",
       "    </tbody>\n",
       "        <tr>\n",
       "            <td>7             </td> <td>da    </td> <td>1                       </td> <td>1                         </td> <td>1                          </td> <td>1                             </td> <td>1                              </td> <td>1                              </td> <td>1                </td> <td>1                   </td> <td>1051388     </td> <td>2        </td> <td>1      </td> <td>89             </td> <td>23              </td> <td>48  </td> <td>3             </td> <td>7               </td> <td>125000                 </td> <td>0              </td> <td>-1                    </td> <td>0        </td> <td>32.07                        </td> <td>32.07                          </td> <td>32.07                           </td> <td>86.89                              </td> <td>91.7                                </td> <td>83.35                               </td> <td>184.8                 </td> <td>46.2                     </td> <td>9.47                             </td> <td>9.47                               </td> <td>9.47                                </td> <td>9.24                      </td> <td>9.24                         </td> <td>1.7501                       </td> <td>1                              </td> <td>0.7                             </td> <td>3.22                               </td> <td>3.22                                </td> <td>3.22                                </td> <td>45-64    </td>\n",
       "        </tr>\n",
       "    </tbody>\n",
       "        <tr>\n",
       "            <td>8             </td> <td>s3    </td> <td>1                       </td> <td>1                         </td> <td>1                          </td> <td>1                             </td> <td>1                              </td> <td>1                              </td> <td>1                </td> <td>1                   </td> <td>1051388     </td> <td>3        </td> <td>0      </td> <td>89             </td> <td>71              </td> <td>10  </td> <td>3             </td> <td>7               </td> <td>125000                 </td> <td>0              </td> <td>-1                    </td> <td>0        </td> <td>16.58                        </td> <td>16.58                          </td> <td>16.58                           </td> <td>53.32                              </td> <td>46.76                               </td> <td>46.77                               </td> <td>94                    </td> <td>23.5                     </td> <td>4.7                              </td> <td>4.7                                </td> <td>4.7                                 </td> <td>4.7                       </td> <td>4.7                          </td> <td>0.8686                       </td> <td>0.4964                         </td> <td>0.3474                          </td> <td>3.22                               </td> <td>3.22                                </td> <td>3.22                                </td> <td>05-19    </td>\n",
       "        </tr>\n",
       "    </tbody>\n",
       "        <tr>\n",
       "            <td>9             </td> <td>wTrnW </td> <td>1                       </td> <td>1                         </td> <td>1                          </td> <td>1                             </td> <td>1                              </td> <td>1                              </td> <td>1                </td> <td>0                   </td> <td>1069723     </td> <td>1        </td> <td>0      </td> <td>86             </td> <td>12              </td> <td>50  </td> <td>2             </td> <td>5               </td> <td>62500                  </td> <td>0              </td> <td>-1                    </td> <td>0        </td> <td>21.93                        </td> <td>21.93                          </td> <td>21.93                           </td> <td>54.13                              </td> <td>42.72                               </td> <td>44.78                               </td> <td>95.6                  </td> <td>nan                      </td> <td>4.87                             </td> <td>4.87                               </td> <td>4.87                                </td> <td>4.78                      </td> <td>nan                          </td> <td>0.9                          </td> <td>0.5143                         </td> <td>0.36                            </td> <td>3.22                               </td> <td>3.22                                </td> <td>3.22                                </td> <td>45-64    </td>\n",
       "        </tr>\n",
       "    </tbody>\n",
       "        <tr>\n",
       "            <td>10            </td> <td>walk  </td> <td>1                       </td> <td>1                         </td> <td>1                          </td> <td>1                             </td> <td>1                              </td> <td>1                              </td> <td>1                </td> <td>1                   </td> <td>1093539     </td> <td>1        </td> <td>0      </td> <td>90             </td> <td>111             </td> <td>56  </td> <td>3             </td> <td>8               </td> <td>175000                 </td> <td>1              </td> <td>999998                </td> <td>0        </td> <td>33.13                        </td> <td>33.13                          </td> <td>33.13                           </td> <td>100.65                             </td> <td>100.39                              </td> <td>100.39                              </td> <td>192.4                 </td> <td>48.1                     </td> <td>9.86                             </td> <td>9.86                               </td> <td>9.86                                </td> <td>9.62                      </td> <td>9.62                         </td> <td>1.8222                       </td> <td>1.0412                         </td> <td>0.7288                          </td> <td>3.22                               </td> <td>3.22                                </td> <td>3.22                                </td> <td>45-64    </td>\n",
       "        </tr>\n",
       "    </tbody>\n",
       "</table>\n",
       "<p>... (1005 rows omitted)</p"
      ],
      "text/plain": [
       "observation_id | choice | availability_drive_alone | availability_shared_ride_2 | availability_shared_ride_3+ | availability_walk_transit_walk | availability_drive_transit_walk | availability_walk_transit_drive | availability_walk | availability_bicycle | household_id | person_id | tour_id | tour_origin_taz | primary_dest_taz | age  | household_size | household_income | household_income_values | transit_subsidy | transit_subsidy_amount | cross_bay | total_travel_time_drive_alone | total_travel_time_shared_ride_2 | total_travel_time_shared_ride_3+ | total_travel_time_walk_transit_walk | total_travel_time_drive_transit_walk | total_travel_time_walk_transit_drive | total_travel_time_walk | total_travel_time_bicycle | total_travel_distance_drive_alone | total_travel_distance_shared_ride_2 | total_travel_distance_shared_ride_3+ | total_travel_distance_walk | total_travel_distance_bicycle | total_travel_cost_drive_alone | total_travel_cost_shared_ride_2 | total_travel_cost_shared_ride_3+ | total_travel_cost_walk_transit_walk | total_travel_cost_drive_transit_walk | total_travel_cost_walk_transit_drive | age_ctgry\n",
       "1              | da     | 1                        | 1                          | 1                           | 1                              | 1                               | 1                               | 1                 | 1                    | 1043613      | 1         | 0       | 1004            | 969              | 53   | 2              | 6                | 87500                   | 0               | -1                     | 0         | 20.97                         | 20.97                           | 20.97                            | 83.56                               | 63.05                                | 67.29                                | 167.6                  | 41.9                      | 9.1                               | 9.1                                 | 9.1                                  | 8.38                       | 8.38                          | 1.6817                        | 0.9609                          | 0.6726                           | 5.84                                | 3.22                                 | 3.02                                 | 45-64\n",
       "2              | da     | 1                        | 1                          | 1                           | 1                              | 1                               | 1                               | 1                 | 1                    | 1043613      | 1         | 1       | 1004            | 969              | 53   | 2              | 6                | 87500                   | 0               | -1                     | 0         | 22.16                         | 22.16                           | 22.16                            | 87.38                               | 77.79                                | 58.01                                | 167.6                  | 41.9                      | 9.1                               | 9.1                                 | 9.1                                  | 8.38                       | 8.38                          | 1.6817                        | 0.9609                          | 0.6726                           | 4.83                                | 3.22                                 | 3.22                                 | 45-64\n",
       "3              | s2     | 1                        | 1                          | 1                           | 1                              | 1                               | 1                               | 0                 | 0                    | 1045607      | 1         | 0       | 908             | 116              | 57   | 1              | 4                | 42500                   | 0               | -1                     | 1         | 47.98                         | 47.98                           | 47.98                            | 140.63                              | 131.49                               | 137.39                               | nan                    | nan                       | 31.94                             | 31.94                               | 31.94                                | nan                        | nan                           | 9.1125                        | 5.2071                          | 3.645                            | 6.95                                | 7.75                                 | 5.98                                 | 45-64\n",
       "4              | bike   | 0                        | 1                          | 1                           | 1                              | 0                               | 1                               | 1                 | 1                    | 1049908      | 1         | 0       | 30              | 12               | 50   | 1              | 2                | 17500                   | 0               | -1                     | 0         | nan                           | 15.05                           | 15.05                            | 26.46                               | nan                                  | 16.77                                | 42.8                   | 10.7                      | nan                               | 2.23                                | 2.23                                 | 2.14                       | 2.14                          | nan                           | 0.2355                          | 0.1649                           | 3.22                                | nan                                  | 3.22                                 | 45-64\n",
       "5              | walk   | 0                        | 1                          | 1                           | 1                              | 0                               | 1                               | 1                 | 1                    | 1049908      | 1         | 1       | 30              | 9                | 50   | 1              | 2                | 17500                   | 0               | -1                     | 0         | nan                           | 11.72                           | 11.72                            | 43.86                               | nan                                  | 28.89                                | 19.2                   | 4.8                       | nan                               | 0.96                                | 0.96                                 | 0.96                       | 0.96                          | nan                           | 0.1014                          | 0.071                            | 3.22                                | nan                                  | 3.22                                 | 45-64\n",
       "6              | s2     | 1                        | 1                          | 1                           | 1                              | 1                               | 1                               | 1                 | 1                    | 1051388      | 2         | 0       | 89              | 4                | 48   | 3              | 7                | 125000                  | 0               | -1                     | 0         | 26.32                         | 26.32                           | 26.32                            | 42.1                                | 55.48                                | 58.48                                | 143.2                  | 35.8                      | 7.4                               | 7.4                                 | 7.4                                  | 7.16                       | 7.16                          | 1.3675                        | 0.7815                          | 0.547                            | 3.22                                | 3.98                                 | 3.22                                 | 45-64\n",
       "7              | da     | 1                        | 1                          | 1                           | 1                              | 1                               | 1                               | 1                 | 1                    | 1051388      | 2         | 1       | 89              | 23               | 48   | 3              | 7                | 125000                  | 0               | -1                     | 0         | 32.07                         | 32.07                           | 32.07                            | 86.89                               | 91.7                                 | 83.35                                | 184.8                  | 46.2                      | 9.47                              | 9.47                                | 9.47                                 | 9.24                       | 9.24                          | 1.7501                        | 1                               | 0.7                              | 3.22                                | 3.22                                 | 3.22                                 | 45-64\n",
       "8              | s3     | 1                        | 1                          | 1                           | 1                              | 1                               | 1                               | 1                 | 1                    | 1051388      | 3         | 0       | 89              | 71               | 10   | 3              | 7                | 125000                  | 0               | -1                     | 0         | 16.58                         | 16.58                           | 16.58                            | 53.32                               | 46.76                                | 46.77                                | 94                     | 23.5                      | 4.7                               | 4.7                                 | 4.7                                  | 4.7                        | 4.7                           | 0.8686                        | 0.4964                          | 0.3474                           | 3.22                                | 3.22                                 | 3.22                                 | 05-19\n",
       "9              | wTrnW  | 1                        | 1                          | 1                           | 1                              | 1                               | 1                               | 1                 | 0                    | 1069723      | 1         | 0       | 86              | 12               | 50   | 2              | 5                | 62500                   | 0               | -1                     | 0         | 21.93                         | 21.93                           | 21.93                            | 54.13                               | 42.72                                | 44.78                                | 95.6                   | nan                       | 4.87                              | 4.87                                | 4.87                                 | 4.78                       | nan                           | 0.9                           | 0.5143                          | 0.36                             | 3.22                                | 3.22                                 | 3.22                                 | 45-64\n",
       "10             | walk   | 1                        | 1                          | 1                           | 1                              | 1                               | 1                               | 1                 | 1                    | 1093539      | 1         | 0       | 90              | 111              | 56   | 3              | 8                | 175000                  | 1               | 999998                 | 0         | 33.13                         | 33.13                           | 33.13                            | 100.65                              | 100.39                               | 100.39                               | 192.4                  | 48.1                      | 9.86                              | 9.86                                | 9.86                                 | 9.62                       | 9.62                          | 1.8222                        | 1.0412                          | 0.7288                           | 3.22                                | 3.22                                 | 3.22                                 | 45-64\n",
       "... (1005 rows omitted)"
      ]
     },
     "execution_count": 4,
     "metadata": {},
     "output_type": "execute_result"
    }
   ],
   "source": [
    "mc = Table.read_table('smart-cities-connector/demos/data/modechoice.csv')\n",
    "mc"
   ]
  },
  {
   "cell_type": "markdown",
   "metadata": {},
   "source": [
    "## Drive vs. transit travel time comparison\n",
    "\n",
    "As mentioned in HW4, travel time is an important factor in choosing travel mode. Often the  driving travel time is shorter than the travel time to take public transit, yet many people still choose to take public transit. If the travel times are pretty similar people may be inclined to take transit rather than deal with the hassle of driving and parking, etc. \n",
    "\n",
    "Below we have plotted a histogram of the delta in travel time between walk to transit and drive alone for trips taken on transit. \n",
    "<ol><li>We identified rows where both drive and walk to transit are available modes <li>Of these travelers with both modes available, we store rows for travelers who took transit in a table <li>We compute *delta travel time* (transit travel time - drive alone travel time) for each group <li>We created a histogram of the results\n",
    "\n"
   ]
  },
  {
   "cell_type": "markdown",
   "metadata": {},
   "source": [
    "**Task 1** Create a histogram of *delta travel times* for people who chose to **drive** rather than take transit and overlay it on the histogram of *delta travel times* for people who chose to take transit.\n",
    "\n",
    "\n",
    "**Question 2:** Comment on the differences in the two histograms. <li> What is the approximate median delta travel time for people who drove? <li>What is the approximate median delta travel time for people who chose to take transit? <li>Which median is higher? Why do you think this is?"
   ]
  },
  {
   "cell_type": "code",
   "execution_count": 5,
   "metadata": {
    "collapsed": false
   },
   "outputs": [
    {
     "data": {
      "text/plain": [
       "<matplotlib.text.Text at 0x7fa1a9d2dc18>"
      ]
     },
     "execution_count": 5,
     "metadata": {},
     "output_type": "execute_result"
    },
    {
     "data": {
      "image/png": "[encoded data removed]",
      "text/plain": [
       "<matplotlib.figure.Figure at 0x7fa1e37bcdd8>"
      ]
     },
     "metadata": {},
     "output_type": "display_data"
    }
   ],
   "source": [
    "# Get rows where both drive and walk to transit are available\n",
    "transit_drive_avail = mc.where('availability_drive_alone',1).where('availability_walk_transit_walk',1)\n",
    "\n",
    "\n",
    "# Store the rows for trips taken in transit in a table called took_transit\n",
    "took_transit = transit_drive_avail.where('choice','wTrnW')\n",
    "\n",
    "# Your task: Create a table called drove and store the rows for where choice = 'da'\n",
    "\n",
    "\n",
    "\n",
    "# Compute the difference in travel time for people who took transit\n",
    "chose_wtw_tt_delta = (took_transit.column('total_travel_time_walk_transit_walk')-\n",
    "                      took_transit.column('total_travel_time_drive_alone'))\n",
    "# Your task: Compute the difference in travel time for people who drove\n",
    "\n",
    "\n",
    "\n",
    "# Create histograms of the differences:\n",
    "my_bins = np.linspace(0,160,16)\n",
    "plt.hist(chose_wtw_tt_delta, alpha=.7, bins=my_bins, label = 'took transit')\n",
    "\n",
    "# Your task: Add the chose_drive_tt_delta histogram here. \n",
    "# Make sure to label it appropriately and use the same bins as transit\n",
    "\n",
    "\n",
    "\n",
    "plt.legend()\n",
    "plt.xlabel('delta travel time (min)')\n"
   ]
  },
  {
   "cell_type": "code",
   "execution_count": null,
   "metadata": {
    "collapsed": true
   },
   "outputs": [],
   "source": [
    "# your answers here"
   ]
  },
  {
   "cell_type": "markdown",
   "metadata": {},
   "source": [
    "## Comparing travel time and cost\n",
    "People are likely not only considering travel time when they select a travel mode, they are probably also considering the cost of each mode. People are more likely to drive if driving is  cheaper than transit or the travel time is significantly lower than public transit. Note driving costs include fixed per mile rate divided evenly among passengers, and tolls. It does not include parking and other car ownership related costs.\n",
    "\n",
    "Below is a scatter plot showing delta travel time (drive time-transit time) on the x-axis vs. delta travel cost (drive cost-transit cost) on the y-axis for people who chose to take transit. \n",
    "\n",
    "**Task 2:** Create a scatter plot of delta travel time vs. delta travel cost for **people who chose to drive**. Make this scatter plot **red** and overlay it on the scatter plot of delta travel time vs. delta travel cost for people who took tranist. \n",
    "\n",
    "**Question 3:** A traveler wants to make a trip from point A to B in SF. The delta travel time is 25 minutes. The delta cost is \\$1.50. Do you think this scatter plot is useful for predicting their travel mode? Why or why not? If you had to choose, based on the scatter plot, what mode would you guess they would take?"
   ]
  },
  {
   "cell_type": "code",
   "execution_count": 6,
   "metadata": {
    "collapsed": false
   },
   "outputs": [
    {
     "data": {
      "text/plain": [
       "<matplotlib.legend.Legend at 0x7fa1a77b9d30>"
      ]
     },
     "execution_count": 6,
     "metadata": {},
     "output_type": "execute_result"
    },
    {
     "data": {
      "image/png": "[encoded data removed]",
      "text/plain": [
       "<matplotlib.figure.Figure at 0x7fa1a77b9cf8>"
      ]
     },
     "metadata": {},
     "output_type": "display_data"
    }
   ],
   "source": [
    "# Compute the cost delta for transit cost vs. drive alone cost for people who took tranist\n",
    "chose_wtw_cost_delta = (took_transit.column('total_travel_cost_walk_transit_walk')\n",
    "                        -took_transit.column('total_travel_cost_drive_alone'))\n",
    "\n",
    "# Your task: Compute the cost delta for transit cost vs. drive alone cost for people who drove\n",
    "\n",
    "\n",
    "\n",
    "# Create a scatter plot of travel time delta vs. travel cost delta \n",
    "# for people who chose to drive.\n",
    "plt.scatter(chose_wtw_tt_delta, chose_wtw_cost_delta, color='blue', alpha=.5, label = 'took transit')\n",
    "\n",
    "# Your task: Create a scatter plot of travel time delta vs. travel cost delta \n",
    "# for people who chose to drive. Label it 'drove' and color it red\n",
    "\n",
    "\n",
    "\n",
    "plt.xlabel('delta travel time (min)')\n",
    "plt.ylabel('delta travel cost ($)')\n",
    "plt.legend(shadow=True)"
   ]
  },
  {
   "cell_type": "markdown",
   "metadata": {},
   "source": [
    "## Bike vs transit travel time comparison\n",
    "If both bicycling and transit are feasible travel options, a traveler may consider the travel time of each mode when making a travel mode decision\n",
    "\n",
    "**Task 3:** Similar to what we did in the drive vs. transit travel time comparison above, compare delta travel time histograms for users who chose bike and users who chose walk to transit. Follow the steps below:\n",
    "<ol><li>Find rows where both bike and walk to transit are available modes <li>Store rows for travelers who biked in one table, and for those who took transit in another <li>Compute delta travel time (transit travel time - bike travel time) for each group <li>Create two overlayed histograms with a legend and appropriate axis labels"
   ]
  },
  {
   "cell_type": "code",
   "execution_count": null,
   "metadata": {
    "collapsed": false
   },
   "outputs": [],
   "source": [
    "# Your code here:\n",
    "\n"
   ]
  },
  {
   "cell_type": "markdown",
   "metadata": {},
   "source": [
    "## Adding demographic data:\n",
    "Different demographics may have different mode preferences. For example people in the 20-44 may be more likely to bike then people over 65. \n",
    "\n",
    "**Task 4:** Create a [pivot](http://data8.org/datascience/_autosummary/datascience.tables.Table.pivot.html?highlight=pivot#datascience.tables.Table.pivot) table where we count the number of people who choose each mode per age_ctgry. Create a [barh](http://data8.org/datascience/_autosummary/datascience.tables.Table.barh.html#datascience.tables.Table.barh) graph to visualize the results.\n",
    "\n",
    "**Question 4a:** Which age group is most likely to have a shared ride. Which age group shows the strongest preference for drive alone?\n",
    "\n",
    "**Question 4b:** If we knew that the traveler mentioned in question 3 was 53 years old, does your answer to question 3 change? Do you think the traveler is now more likely or less likely to drive than you previously predicted?"
   ]
  },
  {
   "cell_type": "code",
   "execution_count": null,
   "metadata": {
    "collapsed": false
   },
   "outputs": [],
   "source": [
    "# Your code here:\n",
    "\n"
   ]
  },
  {
   "cell_type": "code",
   "execution_count": null,
   "metadata": {
    "collapsed": true
   },
   "outputs": [],
   "source": [
    "# Your answers here"
   ]
  },
  {
   "cell_type": "code",
   "execution_count": null,
   "metadata": {
    "collapsed": true
   },
   "outputs": [],
   "source": []
  }
 ],
 "metadata": {
  "kernelspec": {
   "display_name": "Python 3",
   "language": "python",
   "name": "python3"
  },
  "language_info": {
   "codemirror_mode": {
    "name": "ipython",
    "version": 3
   },
   "file_extension": ".py",
   "mimetype": "text/x-python",
   "name": "python",
   "nbconvert_exporter": "python",
   "pygments_lexer": "ipython3",
   "version": "3.5.2"
  }
 },
 "nbformat": 4,
 "nbformat_minor": 0
}
